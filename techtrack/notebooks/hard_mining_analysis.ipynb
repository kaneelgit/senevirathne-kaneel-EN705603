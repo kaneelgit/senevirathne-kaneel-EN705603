{
 "cells": [
  {
   "cell_type": "code",
   "execution_count": 1,
   "metadata": {},
   "outputs": [],
   "source": [
    "import cv2\n",
    "import numpy as np\n",
    "import  matplotlib.pyplot as plt\n",
    "import os, sys\n",
    "import time\n",
    "import pandas as pd\n",
    "# Add the parent directory (one level up) to the Python path\n",
    "parent_dir = os.path.abspath(os.path.join(os.getcwd(), os.pardir))\n",
    "sys.path.insert(0, parent_dir)\n",
    "\n",
    "import warnings\n",
    "warnings.filterwarnings(\"ignore\")\n",
    "\n",
    "from modules.rectification.hard_negative_mining import calculate_iou"
   ]
  },
  {
   "cell_type": "code",
   "execution_count": 5,
   "metadata": {},
   "outputs": [],
   "source": [
    "#open the predictions \n",
    "annotation_dir = '../storage/dataset'\n",
    "prediction_dir = '../storage/data/dataset_predictions'"
   ]
  },
  {
   "cell_type": "code",
   "execution_count": 18,
   "metadata": {},
   "outputs": [],
   "source": [
    "#prediction\n",
    "prediction_paths = os.listdir(prediction_dir)\n",
    "prediction_paths = [os.path.join(prediction_dir, p) for p in prediction_paths]\n",
    "annotation_paths = [p.replace('_pred.txt', '.txt').replace('dataset_predictions', 'dataset') for p in prediction_paths]\n"
   ]
  },
  {
   "cell_type": "code",
   "execution_count": 34,
   "metadata": {},
   "outputs": [],
   "source": [
    "#load the corresponding ground truth bounding box path\n",
    "def load_annotation(annotation_dir):\n",
    "    with open(annotation_dir, 'r') as f:\n",
    "        bboxes = f.readlines()\n",
    "\n",
    "    #list to capture data\n",
    "    ground_truth_boxes = []\n",
    "    classes = []\n",
    "\n",
    "    #processes the boundary box data\n",
    "    for bbox in bboxes:\n",
    "        bbox_split = bbox.split(' ')\n",
    "        classes.append(int(bbox_split[0]))\n",
    "        bbox_float = [float(x) for x in bbox_split[1:]]        \n",
    "        ground_truth_boxes.append(bbox_float)\n",
    "    \n",
    "    return ground_truth_boxes, classes\n",
    "\n",
    "\n",
    "def load_predictions(prediction_dir):\n",
    "\n",
    "    with open(prediction_dir, 'r') as f:\n",
    "        bboxes = f.readlines()\n",
    "\n",
    "    #list to capture data\n",
    "    ground_truth_boxes = []\n",
    "    classes = []\n",
    "    scores = []\n",
    "\n",
    "    #processes the boundary box data\n",
    "    for bbox in bboxes:\n",
    "        bbox_split = bbox.split(' ')\n",
    "        classes.append(int(bbox_split[0]))\n",
    "        bbox_float = [float(x) for x in bbox_split[1:5]]        \n",
    "        ground_truth_boxes.append(bbox_float)\n",
    "        scores.append(float(bbox_split[-1]))\n",
    "    \n",
    "    return ground_truth_boxes, classes, scores\n",
    "\n",
    "boxes, classes, scores = load_predictions(prediction_paths[0])"
   ]
  },
  {
   "cell_type": "code",
   "execution_count": 38,
   "metadata": {},
   "outputs": [
    {
     "data": {
      "text/plain": [
       "[0.9393454194068909,\n",
       " 0.8389950394630432,\n",
       " 0.788791835308075,\n",
       " 0.739926815032959,\n",
       " 0.6686578989028931,\n",
       " 0.5838875770568848,\n",
       " 0.5070889592170715,\n",
       " 0.5001888275146484]"
      ]
     },
     "execution_count": 38,
     "metadata": {},
     "output_type": "execute_result"
    }
   ],
   "source": [
    "scores"
   ]
  },
  {
   "cell_type": "code",
   "execution_count": null,
   "metadata": {},
   "outputs": [],
   "source": [
    "def compute_loss(prediction: list, annotation: list):\n",
    "    pass\n",
    "\n",
    "\n",
    "def sample_hard_negatives(prediction_dir: str, annotation_dir: str, num_samples: int):\n",
    "    pass"
   ]
  }
 ],
 "metadata": {
  "kernelspec": {
   "display_name": "Python 3",
   "language": "python",
   "name": "python3"
  },
  "language_info": {
   "codemirror_mode": {
    "name": "ipython",
    "version": 3
   },
   "file_extension": ".py",
   "mimetype": "text/x-python",
   "name": "python",
   "nbconvert_exporter": "python",
   "pygments_lexer": "ipython3",
   "version": "3.8.10"
  }
 },
 "nbformat": 4,
 "nbformat_minor": 2
}
