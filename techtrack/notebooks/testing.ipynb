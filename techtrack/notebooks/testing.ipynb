{
 "cells": [
  {
   "cell_type": "code",
   "execution_count": 57,
   "metadata": {},
   "outputs": [],
   "source": [
    "import cv2\n",
    "import numpy as np\n",
    "import matplotlib.pyplot as plt\n",
    "import time\n",
    "import os, sys\n",
    "# Add the parent directory (one level up) to the Python path\n",
    "parent_dir = os.path.abspath(os.path.join(os.getcwd(), os.pardir))\n",
    "sys.path.insert(0, parent_dir)\n",
    "\n",
    "import warnings\n",
    "warnings.filterwarnings(\"ignore\")\n",
    "\n",
    "from modules.inference import preprocessing, object_detection, nms"
   ]
  },
  {
   "cell_type": "code",
   "execution_count": 58,
   "metadata": {},
   "outputs": [],
   "source": [
    "#predict using model\n",
    "def yolo_predict(model, image, score_threshold = 0.5, nms_iou_threshold = 0.5):\n",
    "\n",
    "    #predict from model\n",
    "    predicted_outputs = model.predict(image)\n",
    "    bounding_boxes, class_categories, scores = model.post_process(predicted_outputs, score_threshold = score_threshold)\n",
    "       \n",
    "    #nms\n",
    "    indices = nms.filter(bounding_boxes, scores, score_threshold=0.0, nms_iou_threshold=nms_iou_threshold)\n",
    "\n",
    "    filtered_boxes = [bounding_boxes[x] for x in indices]\n",
    "    filtered_scores = [scores[x] for x in indices]\n",
    "    filtered_categories = [class_categories[x] for x in indices]    \n",
    "\n",
    "\n",
    "    return filtered_boxes, filtered_categories, filtered_scores"
   ]
  },
  {
   "cell_type": "code",
   "execution_count": 59,
   "metadata": {},
   "outputs": [],
   "source": [
    "#load model 1 and model 2\n",
    "yolo_model1 = object_detection.Model()\n",
    "yolo_model2 = object_detection.Model('../storage/models/yolo_model_2/yolov4-tiny-logistics_size_416_2.weights', \n",
    "                               '../storage/models/yolo_model_2/yolov4-tiny-logistics_size_416_2.cfg',\n",
    "                               '../storage/models/yolo_model_2/logistics.names')"
   ]
  },
  {
   "cell_type": "code",
   "execution_count": 60,
   "metadata": {},
   "outputs": [],
   "source": [
    "destination_dir = '../storage/data/dataset_predictions'\n",
    "data_dir = '../storage/data/dataset'\n",
    "data_paths = os.listdir(data_dir)\n",
    "image_paths = [os.path.join(data_dir, x) for x in data_paths if x.endswith('.jpg')]"
   ]
  },
  {
   "cell_type": "code",
   "execution_count": 61,
   "metadata": {},
   "outputs": [],
   "source": [
    "#laod image\n",
    "image = cv2.imread(image_paths[0])\n",
    "\n",
    "#preprocess image using the same pipeline used before\n",
    "image_processed = cv2.dnn.blobFromImage(image,\n",
    "                    scalefactor = 1/255.,\n",
    "                    size = (416, 416),\n",
    "                    mean = (0, 0, 0),\n",
    "                    swapRB = True,\n",
    "                    crop = False\n",
    ")\n",
    "\n",
    "#get yolo 1 to predict\n",
    "filtered_boxes2, filtered_categories2, filtered_scores2 = yolo_predict(yolo_model2, image_processed)"
   ]
  },
  {
   "cell_type": "code",
   "execution_count": 62,
   "metadata": {},
   "outputs": [],
   "source": [
    "filtered_boxes2_list = [list(X) for X in filtered_boxes2]"
   ]
  },
  {
   "cell_type": "code",
   "execution_count": 46,
   "metadata": {},
   "outputs": [],
   "source": [
    "def save_predictions(filename, filtered_boxes, filtered_categories, filtered_scores):\n",
    "    \n",
    "    filename = filename\n",
    "    with open(filename, 'w') as file:\n",
    "        for i, id in enumerate(filtered_categories):\n",
    "                file.write(f\"{id}\")\n",
    "\n",
    "                for box in filtered_boxes[i]:\n",
    "                     file.write(f\" {box}\")\n",
    "                file.write(f\" {filtered_scores[i]}\")\n",
    "                file.write(f\"\\n\")\n",
    "\n",
    "\n"
   ]
  },
  {
   "cell_type": "code",
   "execution_count": 64,
   "metadata": {},
   "outputs": [],
   "source": [
    "#save scores for the first 1000 image sin the techtrack dataset\n",
    "for image_path in image_paths[:1000]:\n",
    "\n",
    "    #laod image\n",
    "    image = cv2.imread(image_path)\n",
    "\n",
    "    #preprocess image using the same pipeline used before\n",
    "    image_processed = cv2.dnn.blobFromImage(image,\n",
    "                        scalefactor = 1/255.,\n",
    "                        size = (416, 416),\n",
    "                        mean = (0, 0, 0),\n",
    "                        swapRB = True,\n",
    "                        crop = False\n",
    "    )\n",
    "\n",
    "    #get yolo 1 to predict\n",
    "    filtered_boxes2, filtered_categories2, filtered_scores2 = yolo_predict(yolo_model2, image_processed)\n",
    "\n",
    "    #filenmae\n",
    "    file_name = image_path.split('/')[-1].replace('.jpg', '_pred.txt')\n",
    "    dest_path = os.path.join(destination_dir, file_name)\n",
    "    save_predictions(dest_path, filtered_boxes2, filtered_categories2, filtered_scores2)"
   ]
  },
  {
   "cell_type": "code",
   "execution_count": null,
   "metadata": {},
   "outputs": [],
   "source": []
  }
 ],
 "metadata": {
  "kernelspec": {
   "display_name": "Python 3",
   "language": "python",
   "name": "python3"
  },
  "language_info": {
   "codemirror_mode": {
    "name": "ipython",
    "version": 3
   },
   "file_extension": ".py",
   "mimetype": "text/x-python",
   "name": "python",
   "nbconvert_exporter": "python",
   "pygments_lexer": "ipython3",
   "version": "3.8.10"
  }
 },
 "nbformat": 4,
 "nbformat_minor": 2
}
