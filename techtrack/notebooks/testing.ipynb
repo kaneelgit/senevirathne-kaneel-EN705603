{
 "cells": [
  {
   "cell_type": "code",
   "execution_count": 38,
   "metadata": {},
   "outputs": [],
   "source": [
    "import cv2\n",
    "import numpy as np\n",
    "import matplotlib.pyplot as plt"
   ]
  },
  {
   "cell_type": "code",
   "execution_count": 39,
   "metadata": {},
   "outputs": [
    {
     "name": "stdout",
     "output_type": "stream",
     "text": [
      "['barcode', 'car', 'cardboard box', 'fire', 'forklift', 'freight container', 'gloves', 'helmet', 'ladder', 'license plate', 'person', 'qr code', 'road sign', 'safety vest', 'smoke', 'traffic cone', 'traffic light', 'truck', 'van', 'wood pallet']\n"
     ]
    }
   ],
   "source": [
    "net = cv2.dnn.readNet('../storage/models/yolo_model_1/yolov4-tiny-logistics_size_416_1.weights', \n",
    "                      '../storage/models/yolo_model_1/yolov4-tiny-logistics_size_416_1.cfg')\n",
    "\n",
    "layer_names = net.getLayerNames()\n",
    "output_layers = [layer_names[i - 1] for i in net.getUnconnectedOutLayers()]\n",
    "\n",
    "with open(\"../storage/models/yolo_model_1/logistics.names\", \"r\") as f:\n",
    "    classes = [line.strip() for line in f.readlines()]\n",
    "\n",
    "print(classes)"
   ]
  },
  {
   "cell_type": "code",
   "execution_count": 40,
   "metadata": {},
   "outputs": [],
   "source": [
    "#sample image\n",
    "image_path = \"../storage/data/dataset/-0B43DB53-2377-4D6D-B5B8-60CBBAB90F88-png_jpg.rf.c86dd7b63fec7f38702d138dfcbad987.jpg\"\n",
    "image = cv2.imread(image_path)\n",
    "\n",
    "blob = cv2.dnn.blobFromImage(image,\n",
    "                              scalefactor = 1/255.,\n",
    "                              size = (416, 416),\n",
    "                              mean = (0, 0, 0),\n",
    "                              swapRB = True,\n",
    "                              crop = False\n",
    ")\n",
    "\n",
    "net.setInput(blob)\n",
    "outputs = net.forward(output_layers)"
   ]
  },
  {
   "cell_type": "code",
   "execution_count": 62,
   "metadata": {},
   "outputs": [],
   "source": [
    "objects = []\n",
    "scores = []\n",
    "\n",
    "for feature_map in outputs:\n",
    "    for detection in feature_map:\n",
    "        boxes = detection[:4]\n",
    "        score = detection[4]\n",
    "        class_score = detection[5:]\n",
    "\n",
    "        if score > 0.5:\n",
    "            objects.append(detection)\n",
    "            scores.append(np.argmax(class_score))"
   ]
  },
  {
   "cell_type": "code",
   "execution_count": 2,
   "metadata": {},
   "outputs": [],
   "source": [
    "import os, sys\n",
    "import numpy as np\n",
    "import matplotlib.pyplot as plt\n",
    "# Add the parent directory (one level up) to the Python path\n",
    "parent_dir = os.path.abspath(os.path.join(os.getcwd(), os.pardir))\n",
    "sys.path.insert(0, parent_dir)\n",
    "\n",
    "\n",
    "#testing the function\n",
    "from modules.inference import preprocessing, object_detection"
   ]
  },
  {
   "cell_type": "code",
   "execution_count": 3,
   "metadata": {},
   "outputs": [],
   "source": [
    "video_path = \"../storage/data/test_videos/Safety_Full_Hat_and_Vest.mp4\"\n",
    "\n",
    "data = []\n",
    "\n",
    "for frames in preprocessing.capture_video(video_path):\n",
    "    data.append(frames)"
   ]
  },
  {
   "cell_type": "code",
   "execution_count": 6,
   "metadata": {},
   "outputs": [
    {
     "ename": "error",
     "evalue": "OpenCV(4.10.0) /io/opencv/modules/dnn/src/darknet/darknet_importer.cpp:210: error: (-212:Parsing error) Failed to open NetParameter file: ../../storage/models/yolo_model_1/yolov4-tiny-logistics_size_416_1.cfg in function 'readNetFromDarknet'\n",
     "output_type": "error",
     "traceback": [
      "\u001b[0;31m---------------------------------------------------------------------------\u001b[0m",
      "\u001b[0;31merror\u001b[0m                                     Traceback (most recent call last)",
      "Input \u001b[0;32mIn [6]\u001b[0m, in \u001b[0;36m<cell line: 1>\u001b[0;34m()\u001b[0m\n\u001b[0;32m----> 1\u001b[0m model \u001b[38;5;241m=\u001b[39m \u001b[43mobject_detection\u001b[49m\u001b[38;5;241;43m.\u001b[39;49m\u001b[43mModel\u001b[49m\u001b[43m(\u001b[49m\u001b[43m)\u001b[49m\n",
      "File \u001b[0;32m/mnt/c/Users/wsenevi1/Desktop/Classes/AI MASTERS/senevirathne-kaneel/techtrack/modules/inference/object_detection.py:19\u001b[0m, in \u001b[0;36m__init__\u001b[0;34m(self, model_weights_path, model_config_path, names_path)\u001b[0m\n\u001b[1;32m     17\u001b[0m \"\"\" \n\u001b[1;32m     18\u001b[0m #load model\n\u001b[0;32m---> 19\u001b[0m self.net = cv2.dnn.readNet(model_weights_path, model_config_path)\n\u001b[1;32m     20\u001b[0m layer_names = self.net.getLayerNames()\n\u001b[1;32m     21\u001b[0m self.output_layers = [layer_names[i - 1] for i in self.net.getUnconnectedOutLayers()]\n",
      "\u001b[0;31merror\u001b[0m: OpenCV(4.10.0) /io/opencv/modules/dnn/src/darknet/darknet_importer.cpp:210: error: (-212:Parsing error) Failed to open NetParameter file: ../../storage/models/yolo_model_1/yolov4-tiny-logistics_size_416_1.cfg in function 'readNetFromDarknet'\n"
     ]
    }
   ],
   "source": [
    "model = object_detection.Model()"
   ]
  },
  {
   "cell_type": "code",
   "execution_count": 5,
   "metadata": {},
   "outputs": [
    {
     "name": "stdout",
     "output_type": "stream",
     "text": [
      "(3, 416, 416)\n",
      "(3, 416, 416)\n",
      "(3, 416, 416)\n",
      "(3, 416, 416)\n",
      "(3, 416, 416)\n",
      "(3, 416, 416)\n",
      "(3, 416, 416)\n",
      "(3, 416, 416)\n",
      "(3, 416, 416)\n",
      "(3, 416, 416)\n"
     ]
    }
   ],
   "source": [
    "for image in data[0]:\n",
    "    outputs = object_detection"
   ]
  },
  {
   "cell_type": "code",
   "execution_count": null,
   "metadata": {},
   "outputs": [],
   "source": []
  }
 ],
 "metadata": {
  "kernelspec": {
   "display_name": "Python 3",
   "language": "python",
   "name": "python3"
  },
  "language_info": {
   "codemirror_mode": {
    "name": "ipython",
    "version": 3
   },
   "file_extension": ".py",
   "mimetype": "text/x-python",
   "name": "python",
   "nbconvert_exporter": "python",
   "pygments_lexer": "ipython3",
   "version": "3.8.10"
  }
 },
 "nbformat": 4,
 "nbformat_minor": 2
}
