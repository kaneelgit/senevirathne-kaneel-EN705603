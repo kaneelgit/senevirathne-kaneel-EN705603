{
 "cells": [
  {
   "cell_type": "code",
   "execution_count": 1,
   "metadata": {},
   "outputs": [],
   "source": [
    "import os, sys\n",
    "\n",
    "parent_dir = os.path.abspath(os.path.join(os.getcwd(), os.pardir))\n",
    "sys.path.insert(0, parent_dir)\n",
    "\n",
    "from retrieval import index\n",
    "from retrieval import search\n",
    "import pipeline\n",
    "\n",
    "from PIL import Image"
   ]
  },
  {
   "cell_type": "markdown",
   "metadata": {},
   "source": [
    "## Calculate Mean Average Precision For the Two Models ##\n",
    "\n",
    "1. Casia-webface\n",
    "\n",
    "Load Casia-webface model (default) and performance check on different k values. Here we are using minkowski metric."
   ]
  },
  {
   "cell_type": "code",
   "execution_count": 2,
   "metadata": {},
   "outputs": [
    {
     "name": "stderr",
     "output_type": "stream",
     "text": [
      "/home/kaneel123/.local/lib/python3.8/site-packages/facenet_pytorch/models/inception_resnet_v1.py:329: FutureWarning: You are using `torch.load` with `weights_only=False` (the current default value), which uses the default pickle module implicitly. It is possible to construct malicious pickle data which will execute arbitrary code during unpickling (See https://github.com/pytorch/pytorch/blob/main/SECURITY.md#untrusted-models for more details). In a future release, the default value for `weights_only` will be flipped to `True`. This limits the functions that could be executed during unpickling. Arbitrary objects will no longer be allowed to be loaded via this mode unless they are explicitly allowlisted by the user via `torch.serialization.add_safe_globals`. We recommend you start setting `weights_only=True` for any use case where you don't have full control of the loaded file. Please open an issue on GitHub for any issues related to this experimental feature.\n",
      "  state_dict = torch.load(cached_file)\n"
     ]
    }
   ],
   "source": [
    "findex = index.FaissIndex(faiss_index_type='Flat',  metric='minkowski')\n",
    "# findex.load('../storage/catalog/faiss.index', '../storage/catalog/metadata.pkl')\n",
    "findex.load(faiss_path = '../storage/catalog/faiss.index', metadata_path = '../storage/catalog/metadata.pkl')\n",
    "\n",
    "pline = pipeline.Pipeline(image_size=160, model_device='cuda')\n",
    "pline.faiss_index = findex"
   ]
  },
  {
   "cell_type": "code",
   "execution_count": 3,
   "metadata": {},
   "outputs": [],
   "source": [
    "#get probe dirs\n",
    "probe_dir = '../simclr_resources/probe'\n",
    "\n",
    "#k vals \n",
    "ks = [5, 10, 20, 25, 50]\n",
    "results_casia = {}\n",
    "\n",
    "for k in ks:\n",
    "\n",
    "    #start a new mAP calculation for new k values\n",
    "    mAP_total = 0\n",
    "    total_probes = 0\n",
    "\n",
    "    for root, dirs, files in os.walk(probe_dir):\n",
    "\n",
    "        for file in files:\n",
    "\n",
    "            try:\n",
    "                if file.endswith(('.png', '.jpg', '.jpeg')):\n",
    "                    \n",
    "                    #get person name    \n",
    "                    person_name = os.path.basename(root)\n",
    "                    \n",
    "                    # Load image\n",
    "                    image_path = os.path.join(root, file)\n",
    "                    image_probe = Image.open(image_path)\n",
    "\n",
    "                    #predict using the model\n",
    "                    out = pline.search_gallery(image_probe, k = k)\n",
    "\n",
    "                    #predicted names \n",
    "                    out_names = [o['name'] for o in out]\n",
    "\n",
    "                    #calculate mean average precision\n",
    "                    count = 0\n",
    "                    ap = 0\n",
    "                    for i, o in enumerate(out_names):\n",
    "                        if person_name == o:\n",
    "                            count += 1\n",
    "                            prec = count/(i + 1)\n",
    "                            ap += prec\n",
    "\n",
    "                    \n",
    "                    if count > 0:\n",
    "                        ap /= count\n",
    "\n",
    "                    total_probes += 1\n",
    "                    mAP_total += ap                             \n",
    "\n",
    "            except:\n",
    "                pass\n",
    "\n",
    "    mAP = mAP_total / total_probes if total_probes > 0 else 0\n",
    "    results_casia[k] = mAP"
   ]
  },
  {
   "cell_type": "markdown",
   "metadata": {},
   "source": [
    "2. vggface2\n",
    "\n",
    "Test vggface2 model with different k values. The metric will be again be mikowski."
   ]
  },
  {
   "cell_type": "code",
   "execution_count": 4,
   "metadata": {},
   "outputs": [],
   "source": [
    "findexvgg = index.FaissIndex(faiss_index_type='Flat',  metric='minkowski')\n",
    "# findex.load('../storage/catalog/faiss.index', '../storage/catalog/metadata.pkl')\n",
    "findexvgg.load(faiss_path = '../storage/catalog_vgg/faiss.index', metadata_path = '../storage/catalog_vgg/metadata.pkl')\n",
    "\n",
    "pline2 = pipeline.Pipeline(image_size=160, model_device='cuda', pretrained='vggface2')\n",
    "pline2.faiss_index = findexvgg"
   ]
  },
  {
   "cell_type": "code",
   "execution_count": 5,
   "metadata": {},
   "outputs": [],
   "source": [
    "#get probe dirs\n",
    "probe_dir = '../simclr_resources/probe'\n",
    "\n",
    "#k vals \n",
    "ks = [5, 10, 20, 25, 50]\n",
    "results_vgg = {}\n",
    "\n",
    "for k in ks:\n",
    "\n",
    "    #start a new mAP calculation for new k values\n",
    "    mAP_total = 0\n",
    "    total_probes = 0\n",
    "\n",
    "    for root, dirs, files in os.walk(probe_dir):\n",
    "\n",
    "        for file in files:\n",
    "\n",
    "            try:\n",
    "                if file.endswith(('.png', '.jpg', '.jpeg')):\n",
    "                    \n",
    "                    #get person name    \n",
    "                    person_name = os.path.basename(root)\n",
    "                    \n",
    "                    # Load image\n",
    "                    image_path = os.path.join(root, file)\n",
    "                    image_probe = Image.open(image_path)\n",
    "\n",
    "                    #predict using the model\n",
    "                    out = pline2.search_gallery(image_probe, k = k)\n",
    "\n",
    "                    #predicted names \n",
    "                    out_names = [o['name'] for o in out]\n",
    "\n",
    "                    #calculate mean average precision\n",
    "                    count = 0\n",
    "                    ap = 0\n",
    "                    # relevant_count = sum(1 for name in out_names if name == person_name)\n",
    "                    for i, o in enumerate(out_names):\n",
    "                        if person_name == o:\n",
    "                            count += 1\n",
    "                            prec = count/(i + 1)\n",
    "                            ap += prec\n",
    "\n",
    "                    if count > 0:\n",
    "                        ap /= count\n",
    "                    \n",
    "                    total_probes += 1\n",
    "                    mAP_total += ap                      \n",
    "\n",
    "            except:\n",
    "                pass\n",
    "\n",
    "    mAP = mAP_total / total_probes if total_probes > 0 else 0\n",
    "    results_vgg[k] = mAP"
   ]
  },
  {
   "cell_type": "code",
   "execution_count": 6,
   "metadata": {},
   "outputs": [
    {
     "data": {
      "image/png": "[encoded data removed]",
      "text/plain": [
       "<Figure size 1080x360 with 1 Axes>"
      ]
     },
     "metadata": {
      "needs_background": "light"
     },
     "output_type": "display_data"
    }
   ],
   "source": [
    "import matplotlib.pyplot as plt\n",
    "#plot results\n",
    "plt.figure(figsize = (15, 5))\n",
    "plt.plot(list(results_casia.keys()), list(results_casia.values()), label = 'casia-webface')\n",
    "plt.scatter(list(results_casia.keys()), list(results_casia.values()))\n",
    "plt.plot(list(results_vgg.keys()), list(results_vgg.values()), label = 'vggface2')\n",
    "plt.scatter(list(results_vgg.keys()), list(results_vgg.values()))\n",
    "plt.legend()\n",
    "plt.title('Mean Average Precision (mAP)')\n",
    "plt.xlabel('No. retrievals (k)')\n",
    "plt.ylabel('Mean Average Precision (mAP)')\n",
    "plt.show()"
   ]
  },
  {
   "cell_type": "markdown",
   "metadata": {},
   "source": [
    "Lookng at the mean Average precision the winner is 'vggface2'. Looking at the 'vggface-2' results increasing the number of retrivals drags the mAP down. So using a k = 5 and a vggface2 model with 'minkowski' distance seems to be a the best choice. The 'casia-webface' model seems to have significantly low performance compared to vggface-2. The performance slightly increases when k = 10 and then decreases with more retrievals. "
   ]
  },
  {
   "cell_type": "markdown",
   "metadata": {},
   "source": [
    "## Check impact of brightness adjustments to each model ##\n",
    "\n",
    "Since one of the critical requirements is it's ability to work under difference brightness conditions, let's adjust the brightness of the best model above, to see its performance. We will use the PIL brigtness enhancer to adjust the brightness from 0 to 5 and see its impact towards the mAP."
   ]
  },
  {
   "cell_type": "code",
   "execution_count": 15,
   "metadata": {},
   "outputs": [],
   "source": [
    "from PIL import ImageEnhance\n",
    "\n",
    "#get probe dirs\n",
    "probe_dir = '../simclr_resources/probe'\n",
    "\n",
    "#k vals \n",
    "bs = [0.1, 0.5, 0.75, 1, 1.5, 2.5]\n",
    "results_vgg_badjust = {}\n",
    "\n",
    "for b in bs:\n",
    "\n",
    "    #start a new mAP calculation for new k values\n",
    "    mAP_total = 0\n",
    "    total_probes = 0\n",
    "\n",
    "    for root, dirs, files in os.walk(probe_dir):\n",
    "\n",
    "        for file in files:\n",
    "\n",
    "            try:\n",
    "                if file.endswith(('.png', '.jpg', '.jpeg')):\n",
    "                    \n",
    "                    #get person name    \n",
    "                    person_name = os.path.basename(root)\n",
    "                    \n",
    "                    # Load image\n",
    "                    image_path = os.path.join(root, file)\n",
    "                    image_probe = Image.open(image_path)\n",
    "\n",
    "                    # Create an enhancer object for brightness adjustment\n",
    "                    enhancer = ImageEnhance.Brightness(image_probe)\n",
    "                    bright_image = enhancer.enhance(b)\n",
    "\n",
    "                    #predict using the model\n",
    "                    out = pline2.search_gallery(bright_image, k = 5)\n",
    "                    \n",
    "                    #predicted names \n",
    "                    out_names = [o['name'] for o in out]\n",
    "\n",
    "                    #calculate mean average precision\n",
    "                    count = 0\n",
    "                    ap = 0\n",
    "                    # relevant_count = sum(1 for name in out_names if name == person_name)\n",
    "                    for i, o in enumerate(out_names):\n",
    "                        if person_name == o:\n",
    "                            count += 1\n",
    "                            prec = count/(i + 1)\n",
    "                            ap += prec\n",
    "\n",
    "                    if count > 0:\n",
    "                        ap /= count\n",
    "                    \n",
    "                    total_probes += 1\n",
    "                    mAP_total += ap                      \n",
    "\n",
    "            except:\n",
    "                pass\n",
    "\n",
    "    mAP = mAP_total / total_probes if total_probes > 0 else 0\n",
    "    results_vgg_badjust[b] = mAP"
   ]
  },
  {
   "cell_type": "code",
   "execution_count": 17,
   "metadata": {},
   "outputs": [
    {
     "data": {
      "image/png": "[encoded data removed]",
      "text/plain": [
       "<Figure size 1080x360 with 1 Axes>"
      ]
     },
     "metadata": {
      "needs_background": "light"
     },
     "output_type": "display_data"
    }
   ],
   "source": [
    "#plot results\n",
    "plt.figure(figsize = (15, 5))\n",
    "plt.plot(list(results_vgg_badjust.keys()), list( results_vgg_badjust.values()), label = 'vggface-2')\n",
    "plt.scatter(list(results_vgg_badjust.keys()), list(results_vgg_badjust.values()))\n",
    "plt.legend()\n",
    "plt.title('Mean Average Precision (mAP)')\n",
    "plt.xlabel('No. retrievals (k)')\n",
    "plt.ylabel('Mean Average Precision (mAP)')\n",
    "plt.show()"
   ]
  },
  {
   "cell_type": "markdown",
   "metadata": {},
   "source": [
    "The mean average precision for the 'vggface-2' model is at the highest when the brightness level is at 1. This is the point where the image brightness is not applied. When brightness is applied to the images, the map value tend to go down. WHen extreme brightness is applied the mAP reaches values 0.001 and 0.01 for a brightness factor of 0.1 and 2.5 respectively. So, it is clear that the best model face identification accuracy declines when the brightness is fluctuating. "
   ]
  },
  {
   "cell_type": "code",
   "execution_count": null,
   "metadata": {},
   "outputs": [],
   "source": []
  },
  {
   "cell_type": "code",
   "execution_count": null,
   "metadata": {},
   "outputs": [],
   "source": []
  }
 ],
 "metadata": {
  "kernelspec": {
   "display_name": "text_env",
   "language": "python",
   "name": "python3"
  },
  "language_info": {
   "codemirror_mode": {
    "name": "ipython",
    "version": 3
   },
   "file_extension": ".py",
   "mimetype": "text/x-python",
   "name": "python",
   "nbconvert_exporter": "python",
   "pygments_lexer": "ipython3",
   "version": "3.8.10"
  }
 },
 "nbformat": 4,
 "nbformat_minor": 2
}
