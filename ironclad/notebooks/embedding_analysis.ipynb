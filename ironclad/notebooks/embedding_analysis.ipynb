{
 "cells": [
  {
   "cell_type": "code",
   "execution_count": 6,
   "metadata": {},
   "outputs": [],
   "source": [
    "import os, sys\n",
    "\n",
    "parent_dir = os.path.abspath(os.path.join(os.getcwd(), os.pardir))\n",
    "sys.path.insert(0, parent_dir)\n",
    "\n",
    "from retrieval import index\n",
    "from retrieval import search\n",
    "import pipeline\n",
    "\n",
    "from PIL import Image"
   ]
  },
  {
   "cell_type": "markdown",
   "metadata": {},
   "source": [
    "## Calculate Mean Average Precision For the Two Models ##\n",
    "\n",
    "1. Casia-webface"
   ]
  },
  {
   "cell_type": "code",
   "execution_count": 15,
   "metadata": {},
   "outputs": [
    {
     "name": "stderr",
     "output_type": "stream",
     "text": [
      "/home/kaneel123/.local/lib/python3.8/site-packages/facenet_pytorch/models/inception_resnet_v1.py:329: FutureWarning: You are using `torch.load` with `weights_only=False` (the current default value), which uses the default pickle module implicitly. It is possible to construct malicious pickle data which will execute arbitrary code during unpickling (See https://github.com/pytorch/pytorch/blob/main/SECURITY.md#untrusted-models for more details). In a future release, the default value for `weights_only` will be flipped to `True`. This limits the functions that could be executed during unpickling. Arbitrary objects will no longer be allowed to be loaded via this mode unless they are explicitly allowlisted by the user via `torch.serialization.add_safe_globals`. We recommend you start setting `weights_only=True` for any use case where you don't have full control of the loaded file. Please open an issue on GitHub for any issues related to this experimental feature.\n",
      "  state_dict = torch.load(cached_file)\n"
     ]
    }
   ],
   "source": [
    "pline = pipeline.Pipeline(image_size=160, model_device='cuda', pretrained='casia-webface')\n",
    "pline._precompute()\n",
    "\n",
    "#get probe dirs\n",
    "probe_dir = '../simclr_resources/probe'\n",
    "\n",
    "for root, dirs, files in os.walk(probe_dir):\n",
    "\n",
    "    for file in files:\n",
    "        \n",
    "        if file.endswith(('.png', '.jpg', '.jpeg')):\n",
    "            \n",
    "            #get person name    \n",
    "            person_name = os.path.basename(root)\n",
    "            \n",
    "            # # Load image\n",
    "            # image_path = os.path.join(root, file)\n",
    "            # image = Image.open(image_path)\n",
    "                \n",
    "            #     # Compute embedding\n",
    "            #     embedding = self._encode(image)"
   ]
  },
  {
   "cell_type": "code",
   "execution_count": 22,
   "metadata": {},
   "outputs": [],
   "source": [
    "# Load image\n",
    "image_path = os.path.join(root, file)\n",
    "image = Image.open(image_path)\n",
    "    \n",
    "# pline.search_gallery(image)"
   ]
  },
  {
   "cell_type": "code",
   "execution_count": 28,
   "metadata": {},
   "outputs": [
    {
     "data": {
      "text/plain": [
       "<retrieval.index.FaissIndex at 0x7f36a63d7130>"
      ]
     },
     "execution_count": 28,
     "metadata": {},
     "output_type": "execute_result"
    }
   ],
   "source": [
    "pline.faiss_index"
   ]
  },
  {
   "cell_type": "code",
   "execution_count": null,
   "metadata": {},
   "outputs": [],
   "source": []
  }
 ],
 "metadata": {
  "kernelspec": {
   "display_name": "Python 3",
   "language": "python",
   "name": "python3"
  },
  "language_info": {
   "codemirror_mode": {
    "name": "ipython",
    "version": 3
   },
   "file_extension": ".py",
   "mimetype": "text/x-python",
   "name": "python",
   "nbconvert_exporter": "python",
   "pygments_lexer": "ipython3",
   "version": "3.8.10"
  }
 },
 "nbformat": 4,
 "nbformat_minor": 2
}
