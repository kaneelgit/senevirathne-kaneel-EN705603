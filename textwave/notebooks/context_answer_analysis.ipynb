{
 "cells": [
  {
   "cell_type": "code",
   "execution_count": 1,
   "metadata": {},
   "outputs": [
    {
     "name": "stderr",
     "output_type": "stream",
     "text": [
      "/mnt/c/Users/wsenevi1/Desktop/Classes/AI MASTERS/senevirathne-kaneel/textwave/text_env/lib/python3.8/site-packages/sentence_transformers/cross_encoder/CrossEncoder.py:13: TqdmWarning: IProgress not found. Please update jupyter and ipywidgets. See https://ipywidgets.readthedocs.io/en/stable/user_install.html\n",
      "  from tqdm.autonotebook import tqdm, trange\n"
     ]
    }
   ],
   "source": [
    "import os, sys\n",
    "\n",
    "parent_dir = os.path.abspath(os.path.join(os.getcwd(), os.pardir))\n",
    "sys.path.insert(0, parent_dir)\n",
    "\n",
    "from pipeline import Pipeline"
   ]
  },
  {
   "cell_type": "markdown",
   "metadata": {},
   "source": [
    "## Task 1 ##"
   ]
  },
  {
   "cell_type": "code",
   "execution_count": 2,
   "metadata": {},
   "outputs": [],
   "source": [
    "#intiate pipeline class\n",
    "pline = Pipeline()"
   ]
  },
  {
   "cell_type": "code",
   "execution_count": 17,
   "metadata": {},
   "outputs": [],
   "source": [
    "def print_results(query, k):\n",
    "    query_embedding = pline._encode(query)\n",
    "    print(print(f\"query embeddings: {query_embedding[:, :5]}\\n\"))\n",
    "    distances_ivf, metadata_ivf = pline.search_neighbors(query_embedding, k)\n",
    "    print(\"NEAREST NEIGHBORS RESULTS:\")\n",
    "    for i in range(k):\n",
    "        print(f\"Neighbor {i+1}: Distance {distances_ivf[0][i]}, Documents: {metadata_ivf[i]}\")"
   ]
  },
  {
   "cell_type": "code",
   "execution_count": 18,
   "metadata": {},
   "outputs": [
    {
     "name": "stdout",
     "output_type": "stream",
     "text": [
      "query embeddings: [[-0.05902293  0.05634832 -0.07364389  0.03047846 -0.03882773]]\n",
      "\n",
      "None\n",
      "NEAREST NEIGHBORS RESULTS:\n",
      "Neighbor 1: Distance 0.7003925442695618, Documents: Abraham Lincoln Abraham Lincoln (February 12, 1809 – April 15, 1865) was the sixteenth President of the United States, serving from March 4, 1861 until his assassination. As an outspoken opponent of the expansion of slavery in the United States, \"[I]n his short autobiography written for the 1860 presidential campaign, Lincoln would describe his protest in the Illinois legislature as one that 'briefly defined his position on the slavery question, and so far as it goes, it was then the same that it is now.\"\n",
      "Neighbor 2: Distance 0.7469339370727539, Documents: Lincoln is well known for ending slavery in the United States. In 1861 – 1862, however, he made it clear that the North was fighting the war to preserve the Union, not to abolish slavery.\n",
      "Neighbor 3: Distance 0.748150110244751, Documents: Lincoln, Illinois, is the only city to be named for Abraham Lincoln before he became President. Lincoln's name and image appear in numerous places.\n",
      "Neighbor 4: Distance 0.7934907078742981, Documents: Lincoln won the Republican Party nomination in 1860 and was elected president later that year. During his term, he helped preserve the United States by leading the defeat of the secessionist Confederate States of America in the American Civil War.\n",
      "Neighbor 5: Distance 0.7987322807312012, Documents: These focused first on the party platform, and second on Lincoln's life story, making the most of his boyhood poverty, his pioneer background, his native genius, and his rise from obscurity. His nicknames, \"Honest Abe\" and \"the Rail-Splitter,\" were exploited to the full.\n",
      "Neighbor 6: Distance 0.8043116331100464, Documents: Abraham Lincoln Online Retrieved on March 11, 2007 For several months, Lincoln ran a small store in New Salem, selling tea, coffee, sugar, salt, blue calico, brown muslin, straw hats and whiskey. Beveridge (1928) 1:127-8 Later, he found work as village postmaster and as a surveyor.\n",
      "Neighbor 7: Distance 0.8405684232711792, Documents: This finally happened in April 1861. Historian Allan Nevins argues that Lincoln made three miscalculations in believing that he could preserve the Union, hold government property, and still avoid war.\n",
      "Neighbor 8: Distance 0.8483757972717285, Documents: Entering the presidential nomination process as a distinct underdog, Lincoln was eventually chosen as the Republican candidate for the 1860 election for several reasons. His expressed views on slavery were seen as more moderate than those of rivals William H. Seward and Salmon P. Chase.\n",
      "Neighbor 9: Distance 0.8494197130203247, Documents: See Hofstadter, Richard, The United States: The History of a Republic, Prentice-Hall, 1967, p. 446. Lincoln had a star-crossed record as a military leader, possessing a keen understanding of strategic points (such as the Mississippi River and the fortress city of Vicksburg) and the importance of defeating the enemy's army, rather than simply capturing cities.\n",
      "Neighbor 10: Distance 0.8512561917304993, Documents: 7. In a speech against the act, on October 16 1854, delivered in Peoria, Lincoln first stood out among the other free soil orators of the day: Drawing on remnants of the old Whig, Free Soil, Liberty and Democratic parties, he was instrumental in forming the new Republican Party.\n",
      "Neighbor 11: Distance 0.8547608852386475, Documents: Lincoln, in top hat, with Allan Pinkerton and Gen. John Alexander McClernand at Antietam. Nevertheless, Republicans across the country feared that Lincoln would be defeated.\n",
      "Neighbor 12: Distance 0.8593782782554626, Documents: The goal was to emphasize the superior power of \"free labor,\" whereby a common farm boy could work his way to the top by his own efforts. Thomas (1952) p 216; Reinhard H. Luthin, The First Lincoln Campaign (1944); Nevins vol 4; On November 6, 1860, Lincoln was elected as the 16th President of the United States, beating Democrat Stephen A. Douglas, John C. Breckinridge of the Southern Democrats, and John Bell of the new Constitutional Union Party.\n",
      "Neighbor 13: Distance 0.8604308366775513, Documents: His assassination in 1865 was the first presidential assassination in U.S. history and made him a martyr for the ideal of national unity. Scholars now rank Lincoln among the top three U.S. Presidents, with the majority of those surveyed placing him first.\n",
      "Neighbor 14: Distance 0.8612226247787476, Documents: Robert Todd Lincoln was born in Springfield, Illinois on 1 August, 1843. Their only child to survive into adulthood, young Robert attended Phillips Exeter Academy and Harvard College.\n",
      "Neighbor 15: Distance 0.8618261814117432, Documents: Lincoln's first term. Thomas \"Tad\" Lincoln was born on 4 April, 1853, and died on July 16, 1871 in Chicago.\n"
     ]
    }
   ],
   "source": [
    "#try different queries\n",
    "query = \"Who was Abraham Lincoln?\"\n",
    "k = 15\n",
    "print_results(query, k)"
   ]
  },
  {
   "cell_type": "code",
   "execution_count": 19,
   "metadata": {},
   "outputs": [
    {
     "name": "stdout",
     "output_type": "stream",
     "text": [
      "query embeddings: [[-0.05400143  0.08334267 -0.03166865  0.01629506 -0.01593856]]\n",
      "\n",
      "None\n",
      "NEAREST NEIGHBORS RESULTS:\n",
      "Neighbor 1: Distance 0.9970371723175049, Documents: just to borrow one While his favorite book was The Life of George Washington, Lincoln mastered the Bible, Shakespeare, and English and American history, and developed a plain writing style that puzzled audiences more used to grandiose rhetoric. He was also a talented local wrestler and skilled with an ax; some rails he had allegedly split in his youth were exhibited at the 1860 Republican National Convention, as the party celebrated the poor-boy-made-good theme.\n",
      "Neighbor 2: Distance 1.0206469297409058, Documents: Abraham Lincoln Abraham Lincoln (February 12, 1809 – April 15, 1865) was the sixteenth President of the United States, serving from March 4, 1861 until his assassination. As an outspoken opponent of the expansion of slavery in the United States, \"[I]n his short autobiography written for the 1860 presidential campaign, Lincoln would describe his protest in the Illinois legislature as one that 'briefly defined his position on the slavery question, and so far as it goes, it was then the same that it is now.\"\n",
      "Neighbor 3: Distance 1.0222150087356567, Documents: These focused first on the party platform, and second on Lincoln's life story, making the most of his boyhood poverty, his pioneer background, his native genius, and his rise from obscurity. His nicknames, \"Honest Abe\" and \"the Rail-Splitter,\" were exploited to the full.\n",
      "Neighbor 4: Distance 1.051189661026001, Documents: All agree that he began \"Now he belongs to the...\" with some stating he said \"ages\" while others believe he said \"angels.\" After Lincoln's body was returned to the White House, his body was prepared for his lying in repose in the East Room.\n",
      "Neighbor 5: Distance 1.0546165704727173, Documents: Abraham Lincoln Online Retrieved on March 11, 2007 For several months, Lincoln ran a small store in New Salem, selling tea, coffee, sugar, salt, blue calico, brown muslin, straw hats and whiskey. Beveridge (1928) 1:127-8 Later, he found work as village postmaster and as a surveyor.\n",
      "Neighbor 6: Distance 1.0566380023956299, Documents: This was in reference to the anti-expansion sentiments he had then expressed. Doris Kearns Goodwin, Team of Rivals: The Political Genius of Abraham Lincoln (2005) p. 91.\n",
      "Neighbor 7: Distance 1.0712544918060303, Documents: In claiming that all men were created free, Lincoln and the Whigs argued that this freedom required economic advancement, expanded education, territory to grow, and the ability of the nation to absorb the growing immigrant population. Guelzo pg.194-195 It was the Declaration of Independence, rather than the Bible, that Lincoln most relied on in order to oppose any further territorial expansion of slavery.\n",
      "Neighbor 8: Distance 1.071446180343628, Documents: Robert Todd Lincoln was born in Springfield, Illinois on 1 August, 1843. Their only child to survive into adulthood, young Robert attended Phillips Exeter Academy and Harvard College.\n",
      "Neighbor 9: Distance 1.0742419958114624, Documents: Foner (1970) p. 215 says, \"Lincoln stressed the moral basis of republicanism.\" See also McPherson (1992) pp.61-64.\n",
      "Neighbor 10: Distance 1.080193042755127, Documents: 7. In a speech against the act, on October 16 1854, delivered in Peoria, Lincoln first stood out among the other free soil orators of the day: Drawing on remnants of the old Whig, Free Soil, Liberty and Democratic parties, he was instrumental in forming the new Republican Party.\n",
      "Neighbor 11: Distance 1.083974003791809, Documents: Soon afterwards, his father remarried to Sarah Bush Johnston. Sarah Lincoln raised young Lincoln like one of her own children.\n",
      "Neighbor 12: Distance 1.084749698638916, Documents: Guelzo pg. 18-19 There were few people who strongly or directly influenced Lincoln’s moral and intellectual development and perspectives.\n",
      "Neighbor 13: Distance 1.0891120433807373, Documents: The goal was to emphasize the superior power of \"free labor,\" whereby a common farm boy could work his way to the top by his own efforts. Thomas (1952) p 216; Reinhard H. Luthin, The First Lincoln Campaign (1944); Nevins vol 4; On November 6, 1860, Lincoln was elected as the 16th President of the United States, beating Democrat Stephen A. Douglas, John C. Breckinridge of the Southern Democrats, and John Bell of the new Constitutional Union Party.\n",
      "Neighbor 14: Distance 1.098164439201355, Documents: His assassination in 1865 was the first presidential assassination in U.S. history and made him a martyr for the ideal of national unity. Scholars now rank Lincoln among the top three U.S. Presidents, with the majority of those surveyed placing him first.\n",
      "Neighbor 15: Distance 1.100623607635498, Documents: The philosophical basis for Lincoln’s beliefs regarding slavery and other issues of the day require that Lincoln be examined \"seriously as a man of ideas.\" Lincoln was a strong supporter of the American Whig version of liberal capitalism who, more than most politicians of the time, was able to express his ideas within the context of Nineteenth Century religious beliefs.\n"
     ]
    }
   ],
   "source": [
    "#try different queries\n",
    "query = \"Who was Abraham Adams?\"\n",
    "k = 15\n",
    "print_results(query, k)"
   ]
  },
  {
   "cell_type": "code",
   "execution_count": 20,
   "metadata": {},
   "outputs": [
    {
     "name": "stdout",
     "output_type": "stream",
     "text": [
      "query embeddings: [[ 0.02739446  0.00171642 -0.08363354  0.01696337 -0.00477726]]\n",
      "\n",
      "None\n",
      "NEAREST NEIGHBORS RESULTS:\n",
      "Neighbor 1: Distance 0.7895370721817017, Documents: This area was at the time considered the \"frontier.\" The name \"Abraham\" was chosen to commemorate his grandfather, who was killed in an American Indian raid in 1786.\n"
     ]
    }
   ],
   "source": [
    "#try different queries\n",
    "query = \"Did Abraham Lincoln live in the Frontier?\"\n",
    "k = 1\n",
    "print_results(query, k)"
   ]
  },
  {
   "cell_type": "code",
   "execution_count": 21,
   "metadata": {},
   "outputs": [
    {
     "name": "stdout",
     "output_type": "stream",
     "text": [
      "query embeddings: [[ 0.02739446  0.00171642 -0.08363354  0.01696337 -0.00477726]]\n",
      "\n",
      "None\n",
      "NEAREST NEIGHBORS RESULTS:\n",
      "Neighbor 1: Distance 0.7895370721817017, Documents: This area was at the time considered the \"frontier.\" The name \"Abraham\" was chosen to commemorate his grandfather, who was killed in an American Indian raid in 1786.\n",
      "Neighbor 2: Distance 0.85639488697052, Documents: He later noted that this move was \"partly on account of slavery,\" and partly because of difficulties with land deeds in Kentucky: Unlike land in the Northwest Territory, Kentucky never had a proper U.S. survey, and farmers often had difficulties proving title to their property. Lincoln was only nine when his mother, then thirty-four years old, died of milk sickness.\n",
      "Neighbor 3: Distance 0.8833834528923035, Documents: Abraham Lincoln Online Retrieved on March 11, 2007 For several months, Lincoln ran a small store in New Salem, selling tea, coffee, sugar, salt, blue calico, brown muslin, straw hats and whiskey. Beveridge (1928) 1:127-8 Later, he found work as village postmaster and as a surveyor.\n",
      "Neighbor 4: Distance 0.8954282999038696, Documents: Lincoln believed in the Whig theory of the presidency, which left Congress to write the laws while he signed them, vetoing only those bills that threatened his war powers. Thus, he signed the Homestead Act in 1862, making millions of acres of government-held land in the West available for purchase at very low cost.\n",
      "Neighbor 5: Distance 0.9048429131507874, Documents: The family belonged to a Baptist church that had seceded from a larger church over the issue of slavery. Though Lincoln was exposed to his parents' anti-slavery sentiment from a very young age, he never joined their church, or any other church for that matter.\n",
      "Neighbor 6: Distance 0.9049128293991089, Documents: These focused first on the party platform, and second on Lincoln's life story, making the most of his boyhood poverty, his pioneer background, his native genius, and his rise from obscurity. His nicknames, \"Honest Abe\" and \"the Rail-Splitter,\" were exploited to the full.\n",
      "Neighbor 7: Distance 0.9053483605384827, Documents: For some time, Lincoln continued earlier plans to set up colonies for the newly freed slaves. He commented favorably on colonization in the Emancipation Proclamation, but all attempts at such a massive undertaking failed.\n",
      "Neighbor 8: Distance 0.905527651309967, Documents: All agree that he began \"Now he belongs to the...\" with some stating he said \"ages\" while others believe he said \"angels.\" After Lincoln's body was returned to the White House, his body was prepared for his lying in repose in the East Room.\n",
      "Neighbor 9: Distance 0.9167211055755615, Documents: This finally happened in April 1861. Historian Allan Nevins argues that Lincoln made three miscalculations in believing that he could preserve the Union, hold government property, and still avoid war.\n",
      "Neighbor 10: Distance 0.9224283695220947, Documents: Lincoln is well known for ending slavery in the United States. In 1861 – 1862, however, he made it clear that the North was fighting the war to preserve the Union, not to abolish slavery.\n"
     ]
    }
   ],
   "source": [
    "#try different queries\n",
    "query = \"Did Abraham Lincoln live in the Frontier?\"\n",
    "k = 10\n",
    "print_results(query, k)"
   ]
  },
  {
   "cell_type": "code",
   "execution_count": null,
   "metadata": {},
   "outputs": [],
   "source": []
  },
  {
   "cell_type": "code",
   "execution_count": null,
   "metadata": {},
   "outputs": [],
   "source": []
  }
 ],
 "metadata": {
  "kernelspec": {
   "display_name": "text_env",
   "language": "python",
   "name": "python3"
  },
  "language_info": {
   "codemirror_mode": {
    "name": "ipython",
    "version": 3
   },
   "file_extension": ".py",
   "mimetype": "text/x-python",
   "name": "python",
   "nbconvert_exporter": "python",
   "pygments_lexer": "ipython3",
   "version": "3.8.10"
  }
 },
 "nbformat": 4,
 "nbformat_minor": 2
}
