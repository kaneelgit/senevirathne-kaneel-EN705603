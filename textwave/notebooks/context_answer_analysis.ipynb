{
 "cells": [
  {
   "cell_type": "code",
   "execution_count": 1,
   "metadata": {},
   "outputs": [
    {
     "name": "stderr",
     "output_type": "stream",
     "text": [
      "/mnt/c/Users/wsenevi1/Desktop/Classes/AI MASTERS/senevirathne-kaneel/textwave/text_env/lib/python3.8/site-packages/sentence_transformers/cross_encoder/CrossEncoder.py:13: TqdmWarning: IProgress not found. Please update jupyter and ipywidgets. See https://ipywidgets.readthedocs.io/en/stable/user_install.html\n",
      "  from tqdm.autonotebook import tqdm, trange\n"
     ]
    }
   ],
   "source": [
    "import os, sys\n",
    "\n",
    "parent_dir = os.path.abspath(os.path.join(os.getcwd(), os.pardir))\n",
    "sys.path.insert(0, parent_dir)\n",
    "\n",
    "from pipeline import Pipeline"
   ]
  },
  {
   "cell_type": "markdown",
   "metadata": {},
   "source": [
    "## Task 1 ##"
   ]
  },
  {
   "cell_type": "code",
   "execution_count": 2,
   "metadata": {},
   "outputs": [],
   "source": [
    "#intiate pipeline class\n",
    "pline = Pipeline()"
   ]
  },
  {
   "cell_type": "code",
   "execution_count": 3,
   "metadata": {},
   "outputs": [],
   "source": [
    "def print_results(query, k):\n",
    "    query_embedding = pline._encode(query)\n",
    "    print(print(f\"query embeddings: {query_embedding[:, :5]}\\n\"))\n",
    "    distances_ivf, metadata_ivf = pline.search_neighbors(query_embedding, k)\n",
    "    print(\"NEAREST NEIGHBORS RESULTS:\")\n",
    "    for i in range(k):\n",
    "        print(f\"Neighbor {i+1}: Distance {distances_ivf[0][i]}, Documents: {metadata_ivf[i]}\")"
   ]
  },
  {
   "cell_type": "code",
   "execution_count": 4,
   "metadata": {},
   "outputs": [
    {
     "name": "stdout",
     "output_type": "stream",
     "text": [
      "query embeddings: [[-0.05902293  0.05634832 -0.07364389  0.03047846 -0.03882773]]\n",
      "\n",
      "None\n",
      "NEAREST NEIGHBORS RESULTS:\n",
      "Neighbor 1: Distance 0.7003925442695618, Documents: Abraham Lincoln Abraham Lincoln (February 12, 1809 – April 15, 1865) was the sixteenth President of the United States, serving from March 4, 1861 until his assassination. As an outspoken opponent of the expansion of slavery in the United States, \"[I]n his short autobiography written for the 1860 presidential campaign, Lincoln would describe his protest in the Illinois legislature as one that 'briefly defined his position on the slavery question, and so far as it goes, it was then the same that it is now.\"\n",
      "Neighbor 2: Distance 0.7469339370727539, Documents: Lincoln is well known for ending slavery in the United States. In 1861 – 1862, however, he made it clear that the North was fighting the war to preserve the Union, not to abolish slavery.\n",
      "Neighbor 3: Distance 0.748150110244751, Documents: Lincoln, Illinois, is the only city to be named for Abraham Lincoln before he became President. Lincoln's name and image appear in numerous places.\n",
      "Neighbor 4: Distance 0.7934907078742981, Documents: Lincoln won the Republican Party nomination in 1860 and was elected president later that year. During his term, he helped preserve the United States by leading the defeat of the secessionist Confederate States of America in the American Civil War.\n",
      "Neighbor 5: Distance 0.7987322807312012, Documents: These focused first on the party platform, and second on Lincoln's life story, making the most of his boyhood poverty, his pioneer background, his native genius, and his rise from obscurity. His nicknames, \"Honest Abe\" and \"the Rail-Splitter,\" were exploited to the full.\n",
      "Neighbor 6: Distance 0.8043116331100464, Documents: Abraham Lincoln Online Retrieved on March 11, 2007 For several months, Lincoln ran a small store in New Salem, selling tea, coffee, sugar, salt, blue calico, brown muslin, straw hats and whiskey. Beveridge (1928) 1:127-8 Later, he found work as village postmaster and as a surveyor.\n",
      "Neighbor 7: Distance 0.8405684232711792, Documents: This finally happened in April 1861. Historian Allan Nevins argues that Lincoln made three miscalculations in believing that he could preserve the Union, hold government property, and still avoid war.\n",
      "Neighbor 8: Distance 0.8483757972717285, Documents: Entering the presidential nomination process as a distinct underdog, Lincoln was eventually chosen as the Republican candidate for the 1860 election for several reasons. His expressed views on slavery were seen as more moderate than those of rivals William H. Seward and Salmon P. Chase.\n",
      "Neighbor 9: Distance 0.8494197130203247, Documents: See Hofstadter, Richard, The United States: The History of a Republic, Prentice-Hall, 1967, p. 446. Lincoln had a star-crossed record as a military leader, possessing a keen understanding of strategic points (such as the Mississippi River and the fortress city of Vicksburg) and the importance of defeating the enemy's army, rather than simply capturing cities.\n",
      "Neighbor 10: Distance 0.8512561917304993, Documents: 7. In a speech against the act, on October 16 1854, delivered in Peoria, Lincoln first stood out among the other free soil orators of the day: Drawing on remnants of the old Whig, Free Soil, Liberty and Democratic parties, he was instrumental in forming the new Republican Party.\n",
      "Neighbor 11: Distance 0.8547608852386475, Documents: Lincoln, in top hat, with Allan Pinkerton and Gen. John Alexander McClernand at Antietam. Nevertheless, Republicans across the country feared that Lincoln would be defeated.\n",
      "Neighbor 12: Distance 0.8593782782554626, Documents: The goal was to emphasize the superior power of \"free labor,\" whereby a common farm boy could work his way to the top by his own efforts. Thomas (1952) p 216; Reinhard H. Luthin, The First Lincoln Campaign (1944); Nevins vol 4; On November 6, 1860, Lincoln was elected as the 16th President of the United States, beating Democrat Stephen A. Douglas, John C. Breckinridge of the Southern Democrats, and John Bell of the new Constitutional Union Party.\n",
      "Neighbor 13: Distance 0.8604308366775513, Documents: His assassination in 1865 was the first presidential assassination in U.S. history and made him a martyr for the ideal of national unity. Scholars now rank Lincoln among the top three U.S. Presidents, with the majority of those surveyed placing him first.\n",
      "Neighbor 14: Distance 0.8612226247787476, Documents: Robert Todd Lincoln was born in Springfield, Illinois on 1 August, 1843. Their only child to survive into adulthood, young Robert attended Phillips Exeter Academy and Harvard College.\n",
      "Neighbor 15: Distance 0.8618261814117432, Documents: Lincoln's first term. Thomas \"Tad\" Lincoln was born on 4 April, 1853, and died on July 16, 1871 in Chicago.\n"
     ]
    }
   ],
   "source": [
    "#try different queries\n",
    "query = \"Who was Abraham Lincoln?\"\n",
    "k = 15\n",
    "print_results(query, k)"
   ]
  },
  {
   "cell_type": "code",
   "execution_count": 5,
   "metadata": {},
   "outputs": [
    {
     "name": "stdout",
     "output_type": "stream",
     "text": [
      "query embeddings: [[-0.05400143  0.08334267 -0.03166865  0.01629506 -0.01593856]]\n",
      "\n",
      "None\n",
      "NEAREST NEIGHBORS RESULTS:\n",
      "Neighbor 1: Distance 0.9970371723175049, Documents: just to borrow one While his favorite book was The Life of George Washington, Lincoln mastered the Bible, Shakespeare, and English and American history, and developed a plain writing style that puzzled audiences more used to grandiose rhetoric. He was also a talented local wrestler and skilled with an ax; some rails he had allegedly split in his youth were exhibited at the 1860 Republican National Convention, as the party celebrated the poor-boy-made-good theme.\n",
      "Neighbor 2: Distance 1.0206469297409058, Documents: Abraham Lincoln Abraham Lincoln (February 12, 1809 – April 15, 1865) was the sixteenth President of the United States, serving from March 4, 1861 until his assassination. As an outspoken opponent of the expansion of slavery in the United States, \"[I]n his short autobiography written for the 1860 presidential campaign, Lincoln would describe his protest in the Illinois legislature as one that 'briefly defined his position on the slavery question, and so far as it goes, it was then the same that it is now.\"\n",
      "Neighbor 3: Distance 1.0222150087356567, Documents: These focused first on the party platform, and second on Lincoln's life story, making the most of his boyhood poverty, his pioneer background, his native genius, and his rise from obscurity. His nicknames, \"Honest Abe\" and \"the Rail-Splitter,\" were exploited to the full.\n",
      "Neighbor 4: Distance 1.051189661026001, Documents: All agree that he began \"Now he belongs to the...\" with some stating he said \"ages\" while others believe he said \"angels.\" After Lincoln's body was returned to the White House, his body was prepared for his lying in repose in the East Room.\n",
      "Neighbor 5: Distance 1.0546165704727173, Documents: Abraham Lincoln Online Retrieved on March 11, 2007 For several months, Lincoln ran a small store in New Salem, selling tea, coffee, sugar, salt, blue calico, brown muslin, straw hats and whiskey. Beveridge (1928) 1:127-8 Later, he found work as village postmaster and as a surveyor.\n",
      "Neighbor 6: Distance 1.0566380023956299, Documents: This was in reference to the anti-expansion sentiments he had then expressed. Doris Kearns Goodwin, Team of Rivals: The Political Genius of Abraham Lincoln (2005) p. 91.\n",
      "Neighbor 7: Distance 1.0712544918060303, Documents: In claiming that all men were created free, Lincoln and the Whigs argued that this freedom required economic advancement, expanded education, territory to grow, and the ability of the nation to absorb the growing immigrant population. Guelzo pg.194-195 It was the Declaration of Independence, rather than the Bible, that Lincoln most relied on in order to oppose any further territorial expansion of slavery.\n",
      "Neighbor 8: Distance 1.071446180343628, Documents: Robert Todd Lincoln was born in Springfield, Illinois on 1 August, 1843. Their only child to survive into adulthood, young Robert attended Phillips Exeter Academy and Harvard College.\n",
      "Neighbor 9: Distance 1.0742419958114624, Documents: Foner (1970) p. 215 says, \"Lincoln stressed the moral basis of republicanism.\" See also McPherson (1992) pp.61-64.\n",
      "Neighbor 10: Distance 1.080193042755127, Documents: 7. In a speech against the act, on October 16 1854, delivered in Peoria, Lincoln first stood out among the other free soil orators of the day: Drawing on remnants of the old Whig, Free Soil, Liberty and Democratic parties, he was instrumental in forming the new Republican Party.\n",
      "Neighbor 11: Distance 1.083974003791809, Documents: Soon afterwards, his father remarried to Sarah Bush Johnston. Sarah Lincoln raised young Lincoln like one of her own children.\n",
      "Neighbor 12: Distance 1.084749698638916, Documents: Guelzo pg. 18-19 There were few people who strongly or directly influenced Lincoln’s moral and intellectual development and perspectives.\n",
      "Neighbor 13: Distance 1.0891120433807373, Documents: The goal was to emphasize the superior power of \"free labor,\" whereby a common farm boy could work his way to the top by his own efforts. Thomas (1952) p 216; Reinhard H. Luthin, The First Lincoln Campaign (1944); Nevins vol 4; On November 6, 1860, Lincoln was elected as the 16th President of the United States, beating Democrat Stephen A. Douglas, John C. Breckinridge of the Southern Democrats, and John Bell of the new Constitutional Union Party.\n",
      "Neighbor 14: Distance 1.098164439201355, Documents: His assassination in 1865 was the first presidential assassination in U.S. history and made him a martyr for the ideal of national unity. Scholars now rank Lincoln among the top three U.S. Presidents, with the majority of those surveyed placing him first.\n",
      "Neighbor 15: Distance 1.100623607635498, Documents: The philosophical basis for Lincoln’s beliefs regarding slavery and other issues of the day require that Lincoln be examined \"seriously as a man of ideas.\" Lincoln was a strong supporter of the American Whig version of liberal capitalism who, more than most politicians of the time, was able to express his ideas within the context of Nineteenth Century religious beliefs.\n"
     ]
    }
   ],
   "source": [
    "#try different queries\n",
    "query = \"Who was Abraham Adams?\"\n",
    "k = 15\n",
    "print_results(query, k)"
   ]
  },
  {
   "cell_type": "code",
   "execution_count": 6,
   "metadata": {},
   "outputs": [
    {
     "name": "stdout",
     "output_type": "stream",
     "text": [
      "query embeddings: [[ 0.02739446  0.00171642 -0.08363354  0.01696337 -0.00477726]]\n",
      "\n",
      "None\n",
      "NEAREST NEIGHBORS RESULTS:\n",
      "Neighbor 1: Distance 0.7895370721817017, Documents: This area was at the time considered the \"frontier.\" The name \"Abraham\" was chosen to commemorate his grandfather, who was killed in an American Indian raid in 1786.\n"
     ]
    }
   ],
   "source": [
    "#try different queries\n",
    "query = \"Did Abraham Lincoln live in the Frontier?\"\n",
    "k = 1\n",
    "print_results(query, k)"
   ]
  },
  {
   "cell_type": "code",
   "execution_count": 7,
   "metadata": {},
   "outputs": [
    {
     "name": "stdout",
     "output_type": "stream",
     "text": [
      "query embeddings: [[ 0.02739446  0.00171642 -0.08363354  0.01696337 -0.00477726]]\n",
      "\n",
      "None\n",
      "NEAREST NEIGHBORS RESULTS:\n",
      "Neighbor 1: Distance 0.7895370721817017, Documents: This area was at the time considered the \"frontier.\" The name \"Abraham\" was chosen to commemorate his grandfather, who was killed in an American Indian raid in 1786.\n",
      "Neighbor 2: Distance 0.85639488697052, Documents: He later noted that this move was \"partly on account of slavery,\" and partly because of difficulties with land deeds in Kentucky: Unlike land in the Northwest Territory, Kentucky never had a proper U.S. survey, and farmers often had difficulties proving title to their property. Lincoln was only nine when his mother, then thirty-four years old, died of milk sickness.\n",
      "Neighbor 3: Distance 0.8833834528923035, Documents: Abraham Lincoln Online Retrieved on March 11, 2007 For several months, Lincoln ran a small store in New Salem, selling tea, coffee, sugar, salt, blue calico, brown muslin, straw hats and whiskey. Beveridge (1928) 1:127-8 Later, he found work as village postmaster and as a surveyor.\n",
      "Neighbor 4: Distance 0.8954282999038696, Documents: Lincoln believed in the Whig theory of the presidency, which left Congress to write the laws while he signed them, vetoing only those bills that threatened his war powers. Thus, he signed the Homestead Act in 1862, making millions of acres of government-held land in the West available for purchase at very low cost.\n",
      "Neighbor 5: Distance 0.9048429131507874, Documents: The family belonged to a Baptist church that had seceded from a larger church over the issue of slavery. Though Lincoln was exposed to his parents' anti-slavery sentiment from a very young age, he never joined their church, or any other church for that matter.\n",
      "Neighbor 6: Distance 0.9049128293991089, Documents: These focused first on the party platform, and second on Lincoln's life story, making the most of his boyhood poverty, his pioneer background, his native genius, and his rise from obscurity. His nicknames, \"Honest Abe\" and \"the Rail-Splitter,\" were exploited to the full.\n",
      "Neighbor 7: Distance 0.9053483605384827, Documents: For some time, Lincoln continued earlier plans to set up colonies for the newly freed slaves. He commented favorably on colonization in the Emancipation Proclamation, but all attempts at such a massive undertaking failed.\n",
      "Neighbor 8: Distance 0.905527651309967, Documents: All agree that he began \"Now he belongs to the...\" with some stating he said \"ages\" while others believe he said \"angels.\" After Lincoln's body was returned to the White House, his body was prepared for his lying in repose in the East Room.\n",
      "Neighbor 9: Distance 0.9167211055755615, Documents: This finally happened in April 1861. Historian Allan Nevins argues that Lincoln made three miscalculations in believing that he could preserve the Union, hold government property, and still avoid war.\n",
      "Neighbor 10: Distance 0.9224283695220947, Documents: Lincoln is well known for ending slavery in the United States. In 1861 – 1862, however, he made it clear that the North was fighting the war to preserve the Union, not to abolish slavery.\n"
     ]
    }
   ],
   "source": [
    "#try different queries\n",
    "query = \"Did Abraham Lincoln live in the Frontier?\"\n",
    "k = 10\n",
    "print_results(query, k)"
   ]
  },
  {
   "cell_type": "code",
   "execution_count": 8,
   "metadata": {},
   "outputs": [
    {
     "name": "stdout",
     "output_type": "stream",
     "text": [
      "query embeddings: [[ 0.02739446  0.00171642 -0.08363354  0.01696337 -0.00477726]]\n",
      "\n",
      "None\n",
      "NEAREST NEIGHBORS RESULTS:\n",
      "Neighbor 1: Distance 0.7895370721817017, Documents: This area was at the time considered the \"frontier.\" The name \"Abraham\" was chosen to commemorate his grandfather, who was killed in an American Indian raid in 1786.\n",
      "Neighbor 2: Distance 0.85639488697052, Documents: He later noted that this move was \"partly on account of slavery,\" and partly because of difficulties with land deeds in Kentucky: Unlike land in the Northwest Territory, Kentucky never had a proper U.S. survey, and farmers often had difficulties proving title to their property. Lincoln was only nine when his mother, then thirty-four years old, died of milk sickness.\n",
      "Neighbor 3: Distance 0.8833834528923035, Documents: Abraham Lincoln Online Retrieved on March 11, 2007 For several months, Lincoln ran a small store in New Salem, selling tea, coffee, sugar, salt, blue calico, brown muslin, straw hats and whiskey. Beveridge (1928) 1:127-8 Later, he found work as village postmaster and as a surveyor.\n",
      "Neighbor 4: Distance 0.8954282999038696, Documents: Lincoln believed in the Whig theory of the presidency, which left Congress to write the laws while he signed them, vetoing only those bills that threatened his war powers. Thus, he signed the Homestead Act in 1862, making millions of acres of government-held land in the West available for purchase at very low cost.\n",
      "Neighbor 5: Distance 0.9048429131507874, Documents: The family belonged to a Baptist church that had seceded from a larger church over the issue of slavery. Though Lincoln was exposed to his parents' anti-slavery sentiment from a very young age, he never joined their church, or any other church for that matter.\n",
      "Neighbor 6: Distance 0.9049128293991089, Documents: These focused first on the party platform, and second on Lincoln's life story, making the most of his boyhood poverty, his pioneer background, his native genius, and his rise from obscurity. His nicknames, \"Honest Abe\" and \"the Rail-Splitter,\" were exploited to the full.\n",
      "Neighbor 7: Distance 0.9053483605384827, Documents: For some time, Lincoln continued earlier plans to set up colonies for the newly freed slaves. He commented favorably on colonization in the Emancipation Proclamation, but all attempts at such a massive undertaking failed.\n",
      "Neighbor 8: Distance 0.905527651309967, Documents: All agree that he began \"Now he belongs to the...\" with some stating he said \"ages\" while others believe he said \"angels.\" After Lincoln's body was returned to the White House, his body was prepared for his lying in repose in the East Room.\n",
      "Neighbor 9: Distance 0.9167211055755615, Documents: This finally happened in April 1861. Historian Allan Nevins argues that Lincoln made three miscalculations in believing that he could preserve the Union, hold government property, and still avoid war.\n",
      "Neighbor 10: Distance 0.9224283695220947, Documents: Lincoln is well known for ending slavery in the United States. In 1861 – 1862, however, he made it clear that the North was fighting the war to preserve the Union, not to abolish slavery.\n"
     ]
    }
   ],
   "source": [
    "query = \"Did Abraham Lincoln live in the Frontier?\"\n",
    "k = 10\n",
    "print_results(query, k)"
   ]
  },
  {
   "cell_type": "code",
   "execution_count": 9,
   "metadata": {},
   "outputs": [
    {
     "name": "stdout",
     "output_type": "stream",
     "text": [
      "query embeddings: [[ 0.02739446  0.00171642 -0.08363354  0.01696337 -0.00477726]]\n",
      "\n",
      "None\n",
      "NEAREST NEIGHBORS RESULTS:\n",
      "Neighbor 1: Distance 0.7895370721817017, Documents: This area was at the time considered the \"frontier.\" The name \"Abraham\" was chosen to commemorate his grandfather, who was killed in an American Indian raid in 1786.\n",
      "Neighbor 2: Distance 0.85639488697052, Documents: He later noted that this move was \"partly on account of slavery,\" and partly because of difficulties with land deeds in Kentucky: Unlike land in the Northwest Territory, Kentucky never had a proper U.S. survey, and farmers often had difficulties proving title to their property. Lincoln was only nine when his mother, then thirty-four years old, died of milk sickness.\n",
      "Neighbor 3: Distance 0.8833834528923035, Documents: Abraham Lincoln Online Retrieved on March 11, 2007 For several months, Lincoln ran a small store in New Salem, selling tea, coffee, sugar, salt, blue calico, brown muslin, straw hats and whiskey. Beveridge (1928) 1:127-8 Later, he found work as village postmaster and as a surveyor.\n",
      "Neighbor 4: Distance 0.8954282999038696, Documents: Lincoln believed in the Whig theory of the presidency, which left Congress to write the laws while he signed them, vetoing only those bills that threatened his war powers. Thus, he signed the Homestead Act in 1862, making millions of acres of government-held land in the West available for purchase at very low cost.\n",
      "Neighbor 5: Distance 0.9048429131507874, Documents: The family belonged to a Baptist church that had seceded from a larger church over the issue of slavery. Though Lincoln was exposed to his parents' anti-slavery sentiment from a very young age, he never joined their church, or any other church for that matter.\n",
      "Neighbor 6: Distance 0.9049128293991089, Documents: These focused first on the party platform, and second on Lincoln's life story, making the most of his boyhood poverty, his pioneer background, his native genius, and his rise from obscurity. His nicknames, \"Honest Abe\" and \"the Rail-Splitter,\" were exploited to the full.\n",
      "Neighbor 7: Distance 0.9053483605384827, Documents: For some time, Lincoln continued earlier plans to set up colonies for the newly freed slaves. He commented favorably on colonization in the Emancipation Proclamation, but all attempts at such a massive undertaking failed.\n",
      "Neighbor 8: Distance 0.905527651309967, Documents: All agree that he began \"Now he belongs to the...\" with some stating he said \"ages\" while others believe he said \"angels.\" After Lincoln's body was returned to the White House, his body was prepared for his lying in repose in the East Room.\n",
      "Neighbor 9: Distance 0.9167211055755615, Documents: This finally happened in April 1861. Historian Allan Nevins argues that Lincoln made three miscalculations in believing that he could preserve the Union, hold government property, and still avoid war.\n",
      "Neighbor 10: Distance 0.9224283695220947, Documents: Lincoln is well known for ending slavery in the United States. In 1861 – 1862, however, he made it clear that the North was fighting the war to preserve the Union, not to abolish slavery.\n",
      "Neighbor 11: Distance 0.9311044216156006, Documents: Soon afterwards, his father remarried to Sarah Bush Johnston. Sarah Lincoln raised young Lincoln like one of her own children.\n",
      "Neighbor 12: Distance 0.9459422826766968, Documents: Foner (1970) p. 215 says, \"Lincoln stressed the moral basis of republicanism.\" See also McPherson (1992) pp.61-64.\n",
      "Neighbor 13: Distance 0.9490825533866882, Documents: As a youth he had little use for religion. Life of Abraham Lincoln, Colonel Ward H. Lamon, 1872 - portions reprinted in Chapter VIII: Abraham Lincoln, Deist, and Admirer of Thomas Paine, From the book Religious Beliefs of Our Presidents by Franklin Steiner (1936) Lincoln was just seven years old when, in 1816, the family was forced to make a new start in Perry County (now in Spencer County), Indiana.\n",
      "Neighbor 14: Distance 0.9522109031677246, Documents: Lincoln, Illinois, is the only city to be named for Abraham Lincoln before he became President. Lincoln's name and image appear in numerous places.\n",
      "Neighbor 15: Distance 0.9679032564163208, Documents: In claiming that all men were created free, Lincoln and the Whigs argued that this freedom required economic advancement, expanded education, territory to grow, and the ability of the nation to absorb the growing immigrant population. Guelzo pg.194-195 It was the Declaration of Independence, rather than the Bible, that Lincoln most relied on in order to oppose any further territorial expansion of slavery.\n",
      "Neighbor 16: Distance 0.9697533845901489, Documents: The following winter was desolate and especially brutal, and the family considered moving back to Indiana. The following year, when his father relocated the family to a new homestead in Coles County, Illinois, twenty-two-year-old Lincoln struck out on his own, canoeing down the Sangamon River to the village of New Salem in Sangamon County.\n",
      "Neighbor 17: Distance 0.9843699336051941, Documents: just to borrow one While his favorite book was The Life of George Washington, Lincoln mastered the Bible, Shakespeare, and English and American history, and developed a plain writing style that puzzled audiences more used to grandiose rhetoric. He was also a talented local wrestler and skilled with an ax; some rails he had allegedly split in his youth were exhibited at the 1860 Republican National Convention, as the party celebrated the poor-boy-made-good theme.\n",
      "Neighbor 18: Distance 0.991500735282898, Documents: Lincoln avoided hunting and fishing because he did not like killing animals, even for food. Though he was unusually tall at , 4 inches and strong, Lincoln spent so much time reading that some neighbors suspected he must be doing it to avoid strenuous manual labor.\n",
      "Neighbor 19: Distance 0.9915258884429932, Documents: He was greeted at the city as a conquering hero by freed slaves, whose sentiments were epitomized by one admirer's quote, \"I know I am free for I have seen the face of Father Abraham and have felt him.\" When a general asked Lincoln how the defeated Confederates should be treated, Lincoln replied, \"Let 'em up easy.\"\n",
      "Neighbor 20: Distance 0.9920899868011475, Documents: Robert Todd Lincoln was born in Springfield, Illinois on 1 August, 1843. Their only child to survive into adulthood, young Robert attended Phillips Exeter Academy and Harvard College.\n"
     ]
    }
   ],
   "source": [
    "query = \"Did Abraham Lincoln live in the Frontier?\"\n",
    "k = 20\n",
    "print_results(query, k)"
   ]
  },
  {
   "cell_type": "code",
   "execution_count": 10,
   "metadata": {},
   "outputs": [
    {
     "name": "stdout",
     "output_type": "stream",
     "text": [
      "query embeddings: [[ 0.02739446  0.00171642 -0.08363354  0.01696337 -0.00477726]]\n",
      "\n",
      "None\n",
      "NEAREST NEIGHBORS RESULTS:\n",
      "Neighbor 1: Distance 0.7895370721817017, Documents: This area was at the time considered the \"frontier.\" The name \"Abraham\" was chosen to commemorate his grandfather, who was killed in an American Indian raid in 1786.\n",
      "Neighbor 2: Distance 0.85639488697052, Documents: He later noted that this move was \"partly on account of slavery,\" and partly because of difficulties with land deeds in Kentucky: Unlike land in the Northwest Territory, Kentucky never had a proper U.S. survey, and farmers often had difficulties proving title to their property. Lincoln was only nine when his mother, then thirty-four years old, died of milk sickness.\n",
      "Neighbor 3: Distance 0.8833834528923035, Documents: Abraham Lincoln Online Retrieved on March 11, 2007 For several months, Lincoln ran a small store in New Salem, selling tea, coffee, sugar, salt, blue calico, brown muslin, straw hats and whiskey. Beveridge (1928) 1:127-8 Later, he found work as village postmaster and as a surveyor.\n",
      "Neighbor 4: Distance 0.8954282999038696, Documents: Lincoln believed in the Whig theory of the presidency, which left Congress to write the laws while he signed them, vetoing only those bills that threatened his war powers. Thus, he signed the Homestead Act in 1862, making millions of acres of government-held land in the West available for purchase at very low cost.\n",
      "Neighbor 5: Distance 0.9048429131507874, Documents: The family belonged to a Baptist church that had seceded from a larger church over the issue of slavery. Though Lincoln was exposed to his parents' anti-slavery sentiment from a very young age, he never joined their church, or any other church for that matter.\n",
      "Neighbor 6: Distance 0.9049128293991089, Documents: These focused first on the party platform, and second on Lincoln's life story, making the most of his boyhood poverty, his pioneer background, his native genius, and his rise from obscurity. His nicknames, \"Honest Abe\" and \"the Rail-Splitter,\" were exploited to the full.\n",
      "Neighbor 7: Distance 0.9053483605384827, Documents: For some time, Lincoln continued earlier plans to set up colonies for the newly freed slaves. He commented favorably on colonization in the Emancipation Proclamation, but all attempts at such a massive undertaking failed.\n",
      "Neighbor 8: Distance 0.905527651309967, Documents: All agree that he began \"Now he belongs to the...\" with some stating he said \"ages\" while others believe he said \"angels.\" After Lincoln's body was returned to the White House, his body was prepared for his lying in repose in the East Room.\n",
      "Neighbor 9: Distance 0.9167211055755615, Documents: This finally happened in April 1861. Historian Allan Nevins argues that Lincoln made three miscalculations in believing that he could preserve the Union, hold government property, and still avoid war.\n",
      "Neighbor 10: Distance 0.9224283695220947, Documents: Lincoln is well known for ending slavery in the United States. In 1861 – 1862, however, he made it clear that the North was fighting the war to preserve the Union, not to abolish slavery.\n",
      "Neighbor 11: Distance 0.9311044216156006, Documents: Soon afterwards, his father remarried to Sarah Bush Johnston. Sarah Lincoln raised young Lincoln like one of her own children.\n",
      "Neighbor 12: Distance 0.9459422826766968, Documents: Foner (1970) p. 215 says, \"Lincoln stressed the moral basis of republicanism.\" See also McPherson (1992) pp.61-64.\n",
      "Neighbor 13: Distance 0.9490825533866882, Documents: As a youth he had little use for religion. Life of Abraham Lincoln, Colonel Ward H. Lamon, 1872 - portions reprinted in Chapter VIII: Abraham Lincoln, Deist, and Admirer of Thomas Paine, From the book Religious Beliefs of Our Presidents by Franklin Steiner (1936) Lincoln was just seven years old when, in 1816, the family was forced to make a new start in Perry County (now in Spencer County), Indiana.\n",
      "Neighbor 14: Distance 0.9522109031677246, Documents: Lincoln, Illinois, is the only city to be named for Abraham Lincoln before he became President. Lincoln's name and image appear in numerous places.\n",
      "Neighbor 15: Distance 0.9679032564163208, Documents: In claiming that all men were created free, Lincoln and the Whigs argued that this freedom required economic advancement, expanded education, territory to grow, and the ability of the nation to absorb the growing immigrant population. Guelzo pg.194-195 It was the Declaration of Independence, rather than the Bible, that Lincoln most relied on in order to oppose any further territorial expansion of slavery.\n",
      "Neighbor 16: Distance 0.9697533845901489, Documents: The following winter was desolate and especially brutal, and the family considered moving back to Indiana. The following year, when his father relocated the family to a new homestead in Coles County, Illinois, twenty-two-year-old Lincoln struck out on his own, canoeing down the Sangamon River to the village of New Salem in Sangamon County.\n",
      "Neighbor 17: Distance 0.9843699336051941, Documents: just to borrow one While his favorite book was The Life of George Washington, Lincoln mastered the Bible, Shakespeare, and English and American history, and developed a plain writing style that puzzled audiences more used to grandiose rhetoric. He was also a talented local wrestler and skilled with an ax; some rails he had allegedly split in his youth were exhibited at the 1860 Republican National Convention, as the party celebrated the poor-boy-made-good theme.\n",
      "Neighbor 18: Distance 0.991500735282898, Documents: Lincoln avoided hunting and fishing because he did not like killing animals, even for food. Though he was unusually tall at , 4 inches and strong, Lincoln spent so much time reading that some neighbors suspected he must be doing it to avoid strenuous manual labor.\n",
      "Neighbor 19: Distance 0.9915258884429932, Documents: He was greeted at the city as a conquering hero by freed slaves, whose sentiments were epitomized by one admirer's quote, \"I know I am free for I have seen the face of Father Abraham and have felt him.\" When a general asked Lincoln how the defeated Confederates should be treated, Lincoln replied, \"Let 'em up easy.\"\n",
      "Neighbor 20: Distance 0.9920899868011475, Documents: Robert Todd Lincoln was born in Springfield, Illinois on 1 August, 1843. Their only child to survive into adulthood, young Robert attended Phillips Exeter Academy and Harvard College.\n",
      "Neighbor 21: Distance 0.9963276386260986, Documents: Yet despite his Southern connections (his in-laws owned slaves), Lincoln misunderstood the depth of the revolution underway in the South and the emergence of Southern nationalism. Throughout the 1850s he denied that there would ever be a civil war, and his supporters repeatedly rejected claims that his election would incite secession.\n",
      "Neighbor 22: Distance 0.9986765384674072, Documents: While much of the nation mourned him as the savior of the United States, Copperheads celebrated the death of a man they considered an unconstitutional tyrant. The Lincoln Tomb in Oak Ridge Cemetery in Springfield, is 177 feet (54 m) tall and, by 1874, was surmounted with several bronze statues of Lincoln.\n",
      "Neighbor 23: Distance 1.000160574913025, Documents: Robert died on July 26, 1926, in Manchester, Vermont. The other Lincoln children were born in Springfield, Illinois, and died either during childhood or their teen years.\n",
      "Neighbor 24: Distance 1.0014276504516602, Documents: See Hofstadter, Richard, The United States: The History of a Republic, Prentice-Hall, 1967, p. 446. Lincoln had a star-crossed record as a military leader, possessing a keen understanding of strategic points (such as the Mississippi River and the fortress city of Vicksburg) and the importance of defeating the enemy's army, rather than simply capturing cities.\n",
      "Neighbor 25: Distance 1.0028388500213623, Documents: His \"Western\" origins also appealed to the newer states: other contenders, especially those with more governmental experience, had acquired enemies within the party and were weak in the critical western states, while Lincoln was perceived as a moderate who could win the West. Most Republicans agreed with Lincoln that the North was the aggrieved party as the Slave Power tightened its grasp on the national government.\n",
      "Neighbor 26: Distance 1.0042051076889038, Documents: He had purchased the Sinking Spring Farm in December of 1808 for $200 cash and assumption of a debt. The farm site is now preserved as part of Abraham Lincoln Birthplace National Historic Site.\n",
      "Neighbor 27: Distance 1.0062215328216553, Documents: In 1830, after more economic and land-title difficulties in Indiana, the family settled on public land /ref> in Macon County, Illinois. Some scholars believe that it was his father's repeated land-title difficulties and ensuing financial hardships that led young Lincoln to study law.\n",
      "Neighbor 28: Distance 1.006828784942627, Documents: Abraham Lincoln Abraham Lincoln (February 12, 1809 – April 15, 1865) was the sixteenth President of the United States, serving from March 4, 1861 until his assassination. As an outspoken opponent of the expansion of slavery in the United States, \"[I]n his short autobiography written for the 1860 presidential campaign, Lincoln would describe his protest in the Illinois legislature as one that 'briefly defined his position on the slavery question, and so far as it goes, it was then the same that it is now.\"\n",
      "Neighbor 29: Distance 1.0072827339172363, Documents: The Abraham Lincoln National Cemetery is located in Elwood, Illinois.\n",
      "Neighbor 30: Distance 1.010679841041565, Documents: Jaffa (2000) p. 399, stresses Lincoln's emphasis on the Declaration of Independence as what Lincoln called the \"sheet anchor\" of republicanism. See also McPherson (1992) pp.61-64.\n",
      "Neighbor 31: Distance 1.0111204385757446, Documents: 57-59 Lincoln’s reading and study of the Bible was an integral part of his intellectual roots. Lincoln did, even as a boy, largely reject organized religion, but the Calvinistic \"doctrine of necessity\" would remain a factor throughout his life.\n",
      "Neighbor 32: Distance 1.0124540328979492, Documents: He was the first Republican president, winning entirely on the strength of his support in the North: he was not even on the ballot in nine states in the South, and won only 2 of 996 counties in the other Southern states. Lincoln gained 1,865,908 votes (39.9% of the total), for 180 electoral votes; Douglas, 1,380,202 (29.5%) for 12 electoral votes; Breckenridge, 848,019 (18.1%) for 72 electoral votes; and Bell, 590,901 (12.5%) for 39 electoral votes.\n",
      "Neighbor 33: Distance 1.0148541927337646, Documents: The philosophical basis for Lincoln’s beliefs regarding slavery and other issues of the day require that Lincoln be examined \"seriously as a man of ideas.\" Lincoln was a strong supporter of the American Whig version of liberal capitalism who, more than most politicians of the time, was able to express his ideas within the context of Nineteenth Century religious beliefs.\n",
      "Neighbor 34: Distance 1.0214979648590088, Documents: The other rebel armies surrendered soon after, and there was no subsequent guerrilla warfare. Lincoln went to Richmond to make a public gesture of sitting at Jefferson Davis's own desk, symbolically saying to the nation that the President of the United States held authority over the entire land.\n",
      "Neighbor 35: Distance 1.021801471710205, Documents: With a reputation as a formidable adversary during cross-examinations and in his closing arguments, Lincoln became one of the most respected and successful lawyers in Illinois and grew steadily more prosperous. He served four successive terms in the Illinois House of Representatives as a representative from Sangamon County, and became a leader of the Illinois Whig party.\n",
      "Neighbor 36: Distance 1.0256755352020264, Documents: 7. In a speech against the act, on October 16 1854, delivered in Peoria, Lincoln first stood out among the other free soil orators of the day: Drawing on remnants of the old Whig, Free Soil, Liberty and Democratic parties, he was instrumental in forming the new Republican Party.\n",
      "Neighbor 37: Distance 1.030472755432129, Documents: There was no teacher, mentor, church leader, community leader, or peer that Lincoln would credit in later years as a strong influence on his intellectual development. Lacking a formal education, Lincoln’s personal philosophy was shaped by \"an amazingly retentive memory and a passion for reading and learning.\"\n",
      "Neighbor 38: Distance 1.0343135595321655, Documents: Lincoln's birthplace and family home are national historic memorials: the Abraham Lincoln Birthplace National Historic Site in Hodgenville, and the Lincoln Home National Historic Site in Springfield, Illinois. The Abraham Lincoln Presidential Library and Museum opened in Springfield in 2005; it is a major tourist attraction, with state-of-the-art exhibits.\n",
      "Neighbor 39: Distance 1.034597396850586, Documents: He was elected captain of an Illinois militia company drawn from New Salem during the Black Hawk War, and later wrote that he had not had \"any such success in life which gave him so much satisfaction.\" Thomas (1952) 32-34; Basler (1946) p. 551 Though he never saw combat, Lincoln did assist in burying the dead from the Battle of Stillman's Run the day after Major Isaiah Stillman's troops fled the field of battle.\n",
      "Neighbor 40: Distance 1.0476434230804443, Documents: Young Abraham Lincoln Lincoln began his political career in 1832, at age 23, with an unsuccessful campaign for the Illinois General Assembly, as a member of the Whig Party. He ran eighth in a field of 13 candidates.\n",
      "Neighbor 41: Distance 1.047712802886963, Documents: Lincoln won the Republican Party nomination in 1860 and was elected president later that year. During his term, he helped preserve the United States by leading the defeat of the secessionist Confederate States of America in the American Civil War.\n",
      "Neighbor 42: Distance 1.0508575439453125, Documents: 251-254 After Willie’s death, in the summer or early fall of 1862, Lincoln attempted to put on paper his private musings on why, from a divine standpoint, the severity of the war was necessary: Lincoln’s religious skepticism was fueled by his exposure to the ideas of the Lockean Enlightenment and classical liberalism, especially economic liberalism. Guelzo pg.\n",
      "Neighbor 43: Distance 1.0511572360992432, Documents: Guelzo pg. 18-19 There were few people who strongly or directly influenced Lincoln’s moral and intellectual development and perspectives.\n",
      "Neighbor 44: Distance 1.0556113719940186, Documents: Virginia, which had repeatedly warned Lincoln that it would not allow an invasion of its territory or join an attack on another state, responded by seceding, along with North Carolina, Tennessee, and Arkansas. The slave states of Missouri, Kentucky, Maryland, and Delaware did not secede, and Lincoln urgently negotiated with state leaders there, promising not to interfere with slavery.\n",
      "Neighbor 45: Distance 1.0584931373596191, Documents: Lincoln's formal education consisted of about 18 months of schooling. Largely self-educated, he read every book he could get his hands on, once walking.\n",
      "Neighbor 46: Distance 1.0632152557373047, Documents: The goal was to emphasize the superior power of \"free labor,\" whereby a common farm boy could work his way to the top by his own efforts. Thomas (1952) p 216; Reinhard H. Luthin, The First Lincoln Campaign (1944); Nevins vol 4; On November 6, 1860, Lincoln was elected as the 16th President of the United States, beating Democrat Stephen A. Douglas, John C. Breckinridge of the Southern Democrats, and John Bell of the new Constitutional Union Party.\n",
      "Neighbor 47: Distance 1.066199779510498, Documents: One, Clement Vallandigham, was exiled; but all of the remainder were released, usually after two or three months (see: Ex parte Merryman). Lincoln met with his cabinet for the first reading of the Emancipation Proclamation draft on July 22, 1862.\n",
      "Neighbor 48: Distance 1.067710041999817, Documents: During the Spanish Civil War the American faction of the International Brigades named themselves the Abraham Lincoln Brigade after Lincoln. Lincoln has been memorialized in many city names, notably the capital of Nebraska.\n",
      "Neighbor 49: Distance 1.068596363067627, Documents: Lincoln returned to politics in response to the Kansas-Nebraska Act (1854), which expressly repealed the limits on slavery's extent as determined by the Missouri Compromise (1820). Illinois Democrat Stephen A. Douglas, the most powerful man in the Senate, proposed popular sovereignty as the solution to the slavery impasse, and incorporated it into the Kansas-Nebraska Act.\n",
      "Neighbor 50: Distance 1.0717636346817017, Documents: Lincoln's second inauguration on March 4, 1865. In the photo, Lincoln's assassin, John Wilkes Booth, can be seen in the crowd at the top and accomplices David Herold, Lewis Powell, George Atzerodt, John Surratt and Edmund Spangler in the bottom crowd In his Gettysburg Address Lincoln redefined the American nation, arguing that it was born not in 1789 but in 1776, \"conceived in Liberty, and dedicated to the proposition that all men are created equal.\"\n"
     ]
    }
   ],
   "source": [
    "query = \"Did Abraham Lincoln live in the Frontier?\"\n",
    "k = 50\n",
    "print_results(query, k)"
   ]
  },
  {
   "cell_type": "code",
   "execution_count": 12,
   "metadata": {},
   "outputs": [
    {
     "name": "stdout",
     "output_type": "stream",
     "text": [
      "query embeddings: [[-1.8177690e-02 -3.0143693e-02  4.8248188e-05  2.7104199e-02\n",
      "  -5.7132028e-02]]\n",
      "\n",
      "None\n",
      "NEAREST NEIGHBORS RESULTS:\n",
      "Neighbor 1: Distance 1.0926092863082886, Documents: All agree that he began \"Now he belongs to the...\" with some stating he said \"ages\" while others believe he said \"angels.\" After Lincoln's body was returned to the White House, his body was prepared for his lying in repose in the East Room.\n",
      "Neighbor 2: Distance 1.10675048828125, Documents: The goal was to emphasize the superior power of \"free labor,\" whereby a common farm boy could work his way to the top by his own efforts. Thomas (1952) p 216; Reinhard H. Luthin, The First Lincoln Campaign (1944); Nevins vol 4; On November 6, 1860, Lincoln was elected as the 16th President of the United States, beating Democrat Stephen A. Douglas, John C. Breckinridge of the Southern Democrats, and John Bell of the new Constitutional Union Party.\n",
      "Neighbor 3: Distance 1.1138380765914917, Documents: He was the first Republican president, winning entirely on the strength of his support in the North: he was not even on the ballot in nine states in the South, and won only 2 of 996 counties in the other Southern states. Lincoln gained 1,865,908 votes (39.9% of the total), for 180 electoral votes; Douglas, 1,380,202 (29.5%) for 12 electoral votes; Breckenridge, 848,019 (18.1%) for 72 electoral votes; and Bell, 590,901 (12.5%) for 39 electoral votes.\n",
      "Neighbor 4: Distance 1.1163520812988281, Documents: Under his leadership, the Union took control of the border slave states at the start of the war. Additionally, he managed his own reelection in the 1864 presidential election.\n",
      "Neighbor 5: Distance 1.12648344039917, Documents: As a freshman House member, he was not a particularly powerful or influential figure. He spoke out against the Mexican-American War, which he attributed to President Polk's desire for \"military glory — that attractive rainbow, that rises in showers of blood.\"\n"
     ]
    }
   ],
   "source": [
    "query =\"How did Fillmore ascend to the presidency?\"\n",
    "print_results(query, k = 5)"
   ]
  },
  {
   "cell_type": "code",
   "execution_count": 13,
   "metadata": {},
   "outputs": [
    {
     "name": "stdout",
     "output_type": "stream",
     "text": [
      "query embeddings: [[ 0.08204814  0.0360555  -0.00389289 -0.00488104  0.02565111]]\n",
      "\n",
      "None\n",
      "NEAREST NEIGHBORS RESULTS:\n",
      "Neighbor 1: Distance 1.537360429763794, Documents: The state nickname for Illinois is Land of Lincoln. Counties in 19 U.S. states (Arkansas, Colorado, Idaho, Kansas, Maine, Minnesota, Mississippi, Montana, Nebraska, Nevada, New Mexico, Oklahoma, Oregon, South Dakota, Tennessee, West Virginia, Washington, Wisconsin, and Wyoming) are named after Lincoln.\n",
      "Neighbor 2: Distance 1.658069372177124, Documents: The other rebel armies surrendered soon after, and there was no subsequent guerrilla warfare. Lincoln went to Richmond to make a public gesture of sitting at Jefferson Davis's own desk, symbolically saying to the nation that the President of the United States held authority over the entire land.\n",
      "Neighbor 3: Distance 1.70918869972229, Documents: During this time, he made many trips on horseback between various counties' courthouses. Beveridge, (1928) 1: 428-33; Donald (1995) p. 140-43.\n",
      "Neighbor 4: Distance 1.7198591232299805, Documents: Lincoln, Illinois, is the only city to be named for Abraham Lincoln before he became President. Lincoln's name and image appear in numerous places.\n",
      "Neighbor 5: Distance 1.7486417293548584, Documents: Donald, (1995) pp. 28, 152.\n"
     ]
    }
   ],
   "source": [
    "query = \"What is the capital of France?\"\n",
    "print_results(query, k = 5)"
   ]
  },
  {
   "cell_type": "markdown",
   "metadata": {},
   "source": [
    "## Observations ##"
   ]
  },
  {
   "cell_type": "markdown",
   "metadata": {},
   "source": []
  }
 ],
 "metadata": {
  "kernelspec": {
   "display_name": "text_env",
   "language": "python",
   "name": "python3"
  },
  "language_info": {
   "codemirror_mode": {
    "name": "ipython",
    "version": 3
   },
   "file_extension": ".py",
   "mimetype": "text/x-python",
   "name": "python",
   "nbconvert_exporter": "python",
   "pygments_lexer": "ipython3",
   "version": "3.8.10"
  }
 },
 "nbformat": 4,
 "nbformat_minor": 2
}
