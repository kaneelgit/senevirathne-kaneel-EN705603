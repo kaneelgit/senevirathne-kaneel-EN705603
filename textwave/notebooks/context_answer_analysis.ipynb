{
 "cells": [
  {
   "cell_type": "code",
   "execution_count": 1,
   "metadata": {},
   "outputs": [
    {
     "name": "stderr",
     "output_type": "stream",
     "text": [
      "/mnt/c/Users/wsenevi1/Desktop/Classes/AI MASTERS/senevirathne-kaneel/textwave/text_env/lib/python3.8/site-packages/sentence_transformers/cross_encoder/CrossEncoder.py:13: TqdmWarning: IProgress not found. Please update jupyter and ipywidgets. See https://ipywidgets.readthedocs.io/en/stable/user_install.html\n",
      "  from tqdm.autonotebook import tqdm, trange\n"
     ]
    }
   ],
   "source": [
    "import os, sys\n",
    "\n",
    "parent_dir = os.path.abspath(os.path.join(os.getcwd(), os.pardir))\n",
    "sys.path.insert(0, parent_dir)\n",
    "\n",
    "from pipeline import Pipeline"
   ]
  },
  {
   "cell_type": "markdown",
   "metadata": {},
   "source": [
    "## Task 1: Search nearest neighbors ##"
   ]
  },
  {
   "cell_type": "code",
   "execution_count": 10,
   "metadata": {},
   "outputs": [],
   "source": [
    "#intiate pipeline class\n",
    "pline = Pipeline()"
   ]
  },
  {
   "cell_type": "code",
   "execution_count": 11,
   "metadata": {},
   "outputs": [],
   "source": [
    "def print_results(query, k):\n",
    "    query_embedding = pline._encode(query)\n",
    "    print(print(f\"query embeddings: {query_embedding[:, :5]}\\n\"))\n",
    "    distances_ivf, metadata_ivf = pline.search_neighbors(query_embedding, k)\n",
    "    print(\"NEAREST NEIGHBORS RESULTS:\")\n",
    "    for i in range(k):\n",
    "        print(f\"Neighbor {i+1}: Distance {distances_ivf[0][i]}, Documents: {metadata_ivf[i]}\")"
   ]
  },
  {
   "cell_type": "code",
   "execution_count": 12,
   "metadata": {},
   "outputs": [
    {
     "name": "stdout",
     "output_type": "stream",
     "text": [
      "query embeddings: [[-0.05902293  0.05634832 -0.07364389  0.03047846 -0.03882773]]\n",
      "\n",
      "None\n",
      "NEAREST NEIGHBORS RESULTS:\n",
      "Neighbor 1: Distance 0.6898783445358276, Documents: Abraham Lincoln Abraham Lincoln (February 12, 1809 – April 15, 1865) was the sixteenth President of the United States, serving from March 4, 1861 until his assassination. As an outspoken opponent of the expansion of slavery in the United States, \"[I]n his short autobiography written for the 1860 presidential campaign,\n",
      "Neighbor 2: Distance 0.7714514136314392, Documents: Lincoln The Abraham Lincoln Papers at the Library of Congress. Retrieved April 28, 2007. and the Union Party, which combined both Republicans and War Democrats. He refused to announce his political affiliation until 1868, when he finally declared himself a Republican. Hesseltine, chapter 6. . The home of President Grant\n",
      "Neighbor 3: Distance 0.8169573545455933, Documents: — both now being dead that Abe was the best boy I ever saw or ever expect to see.\" Lincoln was affectionate toward his stepmother, whom he would call \"Mother\" for the rest of his life, but he was distant from his father. Donald, (1995) pp. 28, 152. In 1830,\n",
      "Neighbor 4: Distance 0.8275092840194702, Documents: named to honor his mother. During the Spanish Civil War the American faction of the International Brigades named themselves the Abraham Lincoln Brigade after Lincoln. Lincoln has been memorialized in many city names, notably the capital of Nebraska. Lincoln, Illinois, is the only city to be named for Abraham Lincoln\n",
      "Neighbor 5: Distance 0.8516902923583984, Documents: emergence of Southern nationalism. Throughout the 1850s he denied that there would ever be a civil war, and his supporters repeatedly rejected claims that his election would incite secession. Gabor S. Boritt, \"'And the War Came'? Abraham Lincoln and the Question of Individual Responsibility,\" Why the Civil War Came ed\n",
      "Neighbor 6: Distance 0.8547937870025635, Documents: so much time reading that some neighbors suspected he must be doing it to avoid strenuous manual labor. Young Abraham Lincoln Lincoln began his political career in 1832, at age 23, with an unsuccessful campaign for the Illinois General Assembly, as a member of the Whig Party. He ran eighth\n",
      "Neighbor 7: Distance 0.8583272695541382, Documents: be examined \"seriously as a man of ideas.\" Lincoln was a strong supporter of the American Whig version of liberal capitalism who, more than most politicians of the time, was able to express his ideas within the context of Nineteenth Century religious beliefs. Guelzo pg. 18-19 There were few people\n",
      "Neighbor 8: Distance 0.8662970066070557, Documents: by Mathew Brady, the day of his famous Cooper Union speech. Entering the presidential nomination process as a distinct underdog, Lincoln was eventually chosen as the Republican candidate for the 1860 election for several reasons. His expressed views on slavery were seen as more moderate than those of rivals William\n",
      "Neighbor 9: Distance 0.8737895488739014, Documents: (1970) p. 215 noted that, \"Lincoln stressed the moral basis of Republicanism.\" Jaffa (2000) p. 399, stresses Lincoln's emphasis on the Declaration of Independence as what Lincoln called the \"sheet anchor\" of republicanism. See also McPherson (1992) pp.61-64. Abraham Lincoln was born on February 12, 1809, to Thomas Lincoln and\n",
      "Neighbor 10: Distance 0.8776209950447083, Documents: as his running mate in order to form a broader coalition. They ran on the new Union Party ticket uniting Republicans and War Democrats. Lincoln, in top hat, with Allan Pinkerton and Gen. John Alexander McClernand at Antietam. Nevertheless, Republicans across the country feared that Lincoln would be defeated. Acknowledging\n",
      "Neighbor 11: Distance 0.8813925981521606, Documents: the Confederacy, with one wounded and another killed in action. Lieutenant David H. Todd, a half-brother of Mary Todd Lincoln, served as commandant of the Libby Prison camp during the war. The first photograph ever taken of Abraham Lincoln, a daguerreotype taken by Shepherd in 1846. A Whig and an\n",
      "Neighbor 12: Distance 0.886222243309021, Documents: not know him, which would place me at a disadvantage.\" Lincoln returned to politics in response to the Kansas-Nebraska Act (1854), which expressly repealed the limits on slavery's extent as determined by the Missouri Compromise (1820). Illinois Democrat Stephen A. Douglas, the most powerful man in the Senate, proposed popular\n",
      "Neighbor 13: Distance 0.8908023834228516, Documents: law was implemented with Lincoln's \"Emancipation Proclamation.\" Lincoln is well known for ending slavery in the United States. In 1861 – 1862, however, he made it clear that the North was fighting the war to preserve the Union, not to abolish slavery. Freeing the slaves became, in late 1862, a\n",
      "Neighbor 14: Distance 0.8939327001571655, Documents: Shepherd in 1846. On November 4 1842 Lincoln married Mary Todd, daughter of a prominent slave-owning family from Kentucky. The couple had four sons. Robert Todd Lincoln was born in Springfield, Illinois on 1 August, 1843. Their only child to survive into adulthood, young Robert attended Phillips Exeter Academy and\n",
      "Neighbor 15: Distance 0.894326388835907, Documents: expressed. Doris Kearns Goodwin, Team of Rivals: The Political Genius of Abraham Lincoln (2005) p. 91. Holzer pg. 232. Writing of the Cooper Union speech, Holzer notes, \"Cooper Union proved a unique confluence of political culture, rhetorical opportunity, technological innovation, and human genius, and it brought Abraham Lincoln to the\n"
     ]
    }
   ],
   "source": [
    "#try different queries\n",
    "query = \"Who was Abraham Lincoln?\"\n",
    "k = 15\n",
    "print_results(query, k)"
   ]
  },
  {
   "cell_type": "code",
   "execution_count": 13,
   "metadata": {},
   "outputs": [
    {
     "name": "stdout",
     "output_type": "stream",
     "text": [
      "query embeddings: [[-0.05400143  0.08334267 -0.03166865  0.01629506 -0.01593856]]\n",
      "\n",
      "None\n",
      "NEAREST NEIGHBORS RESULTS:\n",
      "Neighbor 1: Distance 0.7856848239898682, Documents: and his dedication to the principles of republicanism. Adams often found his inborn contentiousness to be a restraint in his political career. Adams wanted to secure approval from the people, and he saw his chance in the British/colonial conflict. He became well known for his essays and energetic resolutions against\n",
      "Neighbor 2: Distance 0.825097918510437, Documents: resolutions against British taxation and regulation. In 1774 Massachusetts sent him to the Continental Congress. In 1775 war broke out between the colonies and Great Britain. Adams was one of the first few delegates to recognize that a compromise with the British was pointless. In 1776 he worked hard to\n",
      "Neighbor 3: Distance 0.8647240400314331, Documents: to employ slave labor. Littlefield, Daniel C. \"John Jay, the Revolutionary Generation, and Slavery.\" New York History 2000 81(1): p 91-132. ISSN 0146-437X Abigail Adams opposed slavery and employed free blacks in preference to her father's two domestic slaves. He spoke out against a bill to emancipate slaves in Massachusetts,\n",
      "Neighbor 4: Distance 0.8755778074264526, Documents: The Works of John Adams (1854), vol III, p 421, diary entry for July 26, 1796. The Unitarian Universalist Historical Society sheds some light on Adams’s religious beliefs. They point out that Adams was clearly no atheist by quoting from his letter to Benjamin Rush, an early promoter of Universalist\n",
      "Neighbor 5: Distance 0.9081502556800842, Documents: B. Everett, \"The Mature Religious Thought of John Adams,\" Proceedings of the South Carolina Historical Association (1966), p 49-57; [ISSN 0361-6207]. Adams often railed against what he saw as overclaiming of authority by the Catholic church. See TeachingAmericanHistory.org: \" A Dissertation on the Canon and Feudal Law\", John Adams, 1765\n",
      "Neighbor 6: Distance 0.9330624341964722, Documents: as an alcoholic in 1800. His son Thomas and his family lived with Adams and Louisa Smith (Abigail's niece by her brother William) to the end of Adams's life. Ferling (1992) ch 20 Tombs of Presidents John Adams (distance) and John Quincy Adams (foreground) and their wives, in a family\n",
      "Neighbor 7: Distance 0.9352676868438721, Documents: to reside in the newly built White House in Washington, D.C., which was completed in 1800. Adams, a sponsor of the American Revolution in Massachusetts, was a driving force for independence in 1776; Jefferson called him the \"Colossus of Independence\". He represented the Continental Congress in Europe. He was a\n",
      "Neighbor 8: Distance 0.9391586780548096, Documents: and Elizabeth (1775) who was stillborn. Adams was not a popular leader like his second cousin, Samuel Adams; instead, his influence emerged through his work as a constitutional lawyer and his intense analysis of historical examples, Ferling (1992) p 117 together with his thorough knowledge of the law and his\n",
      "Neighbor 9: Distance 0.9451693296432495, Documents: Adams and his large personal following. They shortsightedly viewed the Federalist party as their own tool and ignored the need to pull together the entire nation in the face of war with France. Kurtz (1967) yyoaoaoaschwing! p 331 For long stretches, Adams withdrew to his home in Massachusetts. In February\n",
      "Neighbor 10: Distance 0.9774292707443237, Documents: popularity that had caused Washington to be successful, and also feared that Adams was too vain, opinionated, unpredictable, and stubborn to follow their directions. Adams' opponents were former Secretary of State Thomas Jefferson of Virginia, who was joined by Senator Aaron Burr of New York on the Democratic-Republican ticket. As\n",
      "Neighbor 11: Distance 0.9898386001586914, Documents: in checks and balances. \"Power must be opposed to power, and interest to interest,” Adams wrote. Works of John Adams, IV:557 Adams did as much as anyone to put the idea of \"checks and balances\" on the intellectual map. Adams never bought a slave and declined on principle to employ\n",
      "Neighbor 12: Distance 1.0034351348876953, Documents: Adams, IV:279 In the book, Adams suggested that \"the rich, the well-born and the able\" should be set apart from other men in a senate--that would prevent them from dominating the lower house. Wood (2006) has maintained that Adams had become intellectually irrelevant by the time the Federal Constitution was\n",
      "Neighbor 13: Distance 1.0035426616668701, Documents: that fate would bestow influence on some men for reasons other than true wisdom and virtue. That being the way of nature, he thought such \"talents\" were natural. A good government, therefore, had to account for that reality. Sixteen months before his death, his son, John Quincy Adams, became the\n",
      "Neighbor 14: Distance 1.0049159526824951, Documents: with zeal for the cause of the American colonies. Ferling (1992) ch 2 In 1764, Adams married Abigail Smith (1744–1818), the daughter of a Congregational minister,Rev. William Smith, at Weymouth, Massachusetts. Their children were Abigail (1765-1813); future president John Quincy (1767-1848); Susanna (1768–1770); Charles (1770-1800); Thomas Boylston (1772-1832); and Elizabeth\n",
      "Neighbor 15: Distance 1.00941801071167, Documents: Abraham Lincoln Abraham Lincoln (February 12, 1809 – April 15, 1865) was the sixteenth President of the United States, serving from March 4, 1861 until his assassination. As an outspoken opponent of the expansion of slavery in the United States, \"[I]n his short autobiography written for the 1860 presidential campaign,\n"
     ]
    }
   ],
   "source": [
    "#try different queries\n",
    "query = \"Who was Abraham Adams?\"\n",
    "k = 15\n",
    "print_results(query, k)"
   ]
  },
  {
   "cell_type": "code",
   "execution_count": 14,
   "metadata": {},
   "outputs": [
    {
     "name": "stdout",
     "output_type": "stream",
     "text": [
      "query embeddings: [[ 0.02739446  0.00171642 -0.08363354  0.01696337 -0.00477726]]\n",
      "\n",
      "None\n",
      "NEAREST NEIGHBORS RESULTS:\n",
      "Neighbor 1: Distance 0.8270500898361206, Documents: Lincoln and Nancy Hanks, two uneducated farmers. Lincoln was born in a one-room log cabin on the Sinking Spring Farm, in southeast Hardin County, Kentucky (now part of LaRue County). This area was at the time considered the \"frontier.\" The name \"Abraham\" was chosen to commemorate his grandfather, who was\n"
     ]
    }
   ],
   "source": [
    "#try different queries\n",
    "query = \"Did Abraham Lincoln live in the Frontier?\"\n",
    "k = 1\n",
    "print_results(query, k)"
   ]
  },
  {
   "cell_type": "code",
   "execution_count": 18,
   "metadata": {},
   "outputs": [
    {
     "name": "stdout",
     "output_type": "stream",
     "text": [
      "query embeddings: [[ 0.02739446  0.00171642 -0.08363354  0.01696337 -0.00477726]]\n",
      "\n",
      "None\n",
      "NEAREST NEIGHBORS RESULTS:\n",
      "Neighbor 1: Distance 0.8270500898361206, Documents: Lincoln and Nancy Hanks, two uneducated farmers. Lincoln was born in a one-room log cabin on the Sinking Spring Farm, in southeast Hardin County, Kentucky (now part of LaRue County). This area was at the time considered the \"frontier.\" The name \"Abraham\" was chosen to commemorate his grandfather, who was\n",
      "Neighbor 2: Distance 0.8549413084983826, Documents: in December of 1808 for $200 cash and assumption of a debt. The farm site is now preserved as part of Abraham Lincoln Birthplace National Historic Site. The family belonged to a Baptist church that had seceded from a larger church over the issue of slavery. Though Lincoln was exposed\n",
      "Neighbor 3: Distance 0.9140328168869019, Documents: by seceding, along with North Carolina, Tennessee, and Arkansas. The slave states of Missouri, Kentucky, Maryland, and Delaware did not secede, and Lincoln urgently negotiated with state leaders there, promising not to interfere with slavery. After the fighting started, he had rebel leaders arrested in all the border areas (especially\n",
      "Neighbor 4: Distance 0.9250564575195312, Documents: emergence of Southern nationalism. Throughout the 1850s he denied that there would ever be a civil war, and his supporters repeatedly rejected claims that his election would incite secession. Gabor S. Boritt, \"'And the War Came'? Abraham Lincoln and the Question of Individual Responsibility,\" Why the Civil War Came ed\n",
      "Neighbor 5: Distance 0.9351437091827393, Documents: that this freedom required economic advancement, expanded education, territory to grow, and the ability of the nation to absorb the growing immigrant population. Guelzo pg.194-195 It was the Declaration of Independence, rather than the Bible, that Lincoln most relied on in order to oppose any further territorial expansion of slavery.\n",
      "Neighbor 6: Distance 0.9620904326438904, Documents: noted that this move was \"partly on account of slavery,\" and partly because of difficulties with land deeds in Kentucky: Unlike land in the Northwest Territory, Kentucky never had a proper U.S. survey, and farmers often had difficulties proving title to their property. Lincoln was only nine when his mother,\n",
      "Neighbor 7: Distance 0.9623092412948608, Documents: campaign posters and leaflets, and thousands of newspaper editorials. These focused first on the party platform, and second on Lincoln's life story, making the most of his boyhood poverty, his pioneer background, his native genius, and his rise from obscurity. His nicknames, \"Honest Abe\" and \"the Rail-Splitter,\" were exploited to\n",
      "Neighbor 8: Distance 0.9652661681175232, Documents: was exposed to his parents' anti-slavery sentiment from a very young age, he never joined their church, or any other church for that matter. As a youth he had little use for religion. Life of Abraham Lincoln, Colonel Ward H. Lamon, 1872 - portions reprinted in Chapter VIII: Abraham Lincoln,\n",
      "Neighbor 9: Distance 0.969372034072876, Documents: presidential campaign, Lincoln would describe his protest in the Illinois legislature as one that 'briefly defined his position on the slavery question, and so far as it goes, it was then the same that it is now.\" This was in reference to the anti-expansion sentiments he had then expressed. Doris\n",
      "Neighbor 10: Distance 0.9722410440444946, Documents: and especially brutal, and the family considered moving back to Indiana. The following year, when his father relocated the family to a new homestead in Coles County, Illinois, twenty-two-year-old Lincoln struck out on his own, canoeing down the Sangamon River to the village of New Salem in Sangamon County. Later\n"
     ]
    }
   ],
   "source": [
    "#try different queries\n",
    "query = \"Did Abraham Lincoln live in the Frontier?\"\n",
    "k = 10\n",
    "print_results(query, k)"
   ]
  },
  {
   "cell_type": "code",
   "execution_count": 19,
   "metadata": {},
   "outputs": [
    {
     "name": "stdout",
     "output_type": "stream",
     "text": [
      "query embeddings: [[ 0.02739446  0.00171642 -0.08363354  0.01696337 -0.00477726]]\n",
      "\n",
      "None\n",
      "NEAREST NEIGHBORS RESULTS:\n",
      "Neighbor 1: Distance 0.8270500898361206, Documents: Lincoln and Nancy Hanks, two uneducated farmers. Lincoln was born in a one-room log cabin on the Sinking Spring Farm, in southeast Hardin County, Kentucky (now part of LaRue County). This area was at the time considered the \"frontier.\" The name \"Abraham\" was chosen to commemorate his grandfather, who was\n",
      "Neighbor 2: Distance 0.8549413084983826, Documents: in December of 1808 for $200 cash and assumption of a debt. The farm site is now preserved as part of Abraham Lincoln Birthplace National Historic Site. The family belonged to a Baptist church that had seceded from a larger church over the issue of slavery. Though Lincoln was exposed\n",
      "Neighbor 3: Distance 0.9140328168869019, Documents: by seceding, along with North Carolina, Tennessee, and Arkansas. The slave states of Missouri, Kentucky, Maryland, and Delaware did not secede, and Lincoln urgently negotiated with state leaders there, promising not to interfere with slavery. After the fighting started, he had rebel leaders arrested in all the border areas (especially\n",
      "Neighbor 4: Distance 0.9250564575195312, Documents: emergence of Southern nationalism. Throughout the 1850s he denied that there would ever be a civil war, and his supporters repeatedly rejected claims that his election would incite secession. Gabor S. Boritt, \"'And the War Came'? Abraham Lincoln and the Question of Individual Responsibility,\" Why the Civil War Came ed\n",
      "Neighbor 5: Distance 0.9351437091827393, Documents: that this freedom required economic advancement, expanded education, territory to grow, and the ability of the nation to absorb the growing immigrant population. Guelzo pg.194-195 It was the Declaration of Independence, rather than the Bible, that Lincoln most relied on in order to oppose any further territorial expansion of slavery.\n",
      "Neighbor 6: Distance 0.9620904326438904, Documents: noted that this move was \"partly on account of slavery,\" and partly because of difficulties with land deeds in Kentucky: Unlike land in the Northwest Territory, Kentucky never had a proper U.S. survey, and farmers often had difficulties proving title to their property. Lincoln was only nine when his mother,\n",
      "Neighbor 7: Distance 0.9623092412948608, Documents: campaign posters and leaflets, and thousands of newspaper editorials. These focused first on the party platform, and second on Lincoln's life story, making the most of his boyhood poverty, his pioneer background, his native genius, and his rise from obscurity. His nicknames, \"Honest Abe\" and \"the Rail-Splitter,\" were exploited to\n",
      "Neighbor 8: Distance 0.9652661681175232, Documents: was exposed to his parents' anti-slavery sentiment from a very young age, he never joined their church, or any other church for that matter. As a youth he had little use for religion. Life of Abraham Lincoln, Colonel Ward H. Lamon, 1872 - portions reprinted in Chapter VIII: Abraham Lincoln,\n",
      "Neighbor 9: Distance 0.969372034072876, Documents: presidential campaign, Lincoln would describe his protest in the Illinois legislature as one that 'briefly defined his position on the slavery question, and so far as it goes, it was then the same that it is now.\" This was in reference to the anti-expansion sentiments he had then expressed. Doris\n",
      "Neighbor 10: Distance 0.9722410440444946, Documents: and especially brutal, and the family considered moving back to Indiana. The following year, when his father relocated the family to a new homestead in Coles County, Illinois, twenty-two-year-old Lincoln struck out on his own, canoeing down the Sangamon River to the village of New Salem in Sangamon County. Later\n"
     ]
    }
   ],
   "source": [
    "query = \"Did Abraham Lincoln live in the Frontier?\"\n",
    "k = 10\n",
    "print_results(query, k)"
   ]
  },
  {
   "cell_type": "code",
   "execution_count": 20,
   "metadata": {},
   "outputs": [
    {
     "name": "stdout",
     "output_type": "stream",
     "text": [
      "query embeddings: [[ 0.02739446  0.00171642 -0.08363354  0.01696337 -0.00477726]]\n",
      "\n",
      "None\n",
      "NEAREST NEIGHBORS RESULTS:\n",
      "Neighbor 1: Distance 0.8270500898361206, Documents: Lincoln and Nancy Hanks, two uneducated farmers. Lincoln was born in a one-room log cabin on the Sinking Spring Farm, in southeast Hardin County, Kentucky (now part of LaRue County). This area was at the time considered the \"frontier.\" The name \"Abraham\" was chosen to commemorate his grandfather, who was\n",
      "Neighbor 2: Distance 0.8549413084983826, Documents: in December of 1808 for $200 cash and assumption of a debt. The farm site is now preserved as part of Abraham Lincoln Birthplace National Historic Site. The family belonged to a Baptist church that had seceded from a larger church over the issue of slavery. Though Lincoln was exposed\n",
      "Neighbor 3: Distance 0.9140328168869019, Documents: by seceding, along with North Carolina, Tennessee, and Arkansas. The slave states of Missouri, Kentucky, Maryland, and Delaware did not secede, and Lincoln urgently negotiated with state leaders there, promising not to interfere with slavery. After the fighting started, he had rebel leaders arrested in all the border areas (especially\n",
      "Neighbor 4: Distance 0.9250564575195312, Documents: emergence of Southern nationalism. Throughout the 1850s he denied that there would ever be a civil war, and his supporters repeatedly rejected claims that his election would incite secession. Gabor S. Boritt, \"'And the War Came'? Abraham Lincoln and the Question of Individual Responsibility,\" Why the Civil War Came ed\n",
      "Neighbor 5: Distance 0.9351437091827393, Documents: that this freedom required economic advancement, expanded education, territory to grow, and the ability of the nation to absorb the growing immigrant population. Guelzo pg.194-195 It was the Declaration of Independence, rather than the Bible, that Lincoln most relied on in order to oppose any further territorial expansion of slavery.\n",
      "Neighbor 6: Distance 0.9620904326438904, Documents: noted that this move was \"partly on account of slavery,\" and partly because of difficulties with land deeds in Kentucky: Unlike land in the Northwest Territory, Kentucky never had a proper U.S. survey, and farmers often had difficulties proving title to their property. Lincoln was only nine when his mother,\n",
      "Neighbor 7: Distance 0.9623092412948608, Documents: campaign posters and leaflets, and thousands of newspaper editorials. These focused first on the party platform, and second on Lincoln's life story, making the most of his boyhood poverty, his pioneer background, his native genius, and his rise from obscurity. His nicknames, \"Honest Abe\" and \"the Rail-Splitter,\" were exploited to\n",
      "Neighbor 8: Distance 0.9652661681175232, Documents: was exposed to his parents' anti-slavery sentiment from a very young age, he never joined their church, or any other church for that matter. As a youth he had little use for religion. Life of Abraham Lincoln, Colonel Ward H. Lamon, 1872 - portions reprinted in Chapter VIII: Abraham Lincoln,\n",
      "Neighbor 9: Distance 0.969372034072876, Documents: presidential campaign, Lincoln would describe his protest in the Illinois legislature as one that 'briefly defined his position on the slavery question, and so far as it goes, it was then the same that it is now.\" This was in reference to the anti-expansion sentiments he had then expressed. Doris\n",
      "Neighbor 10: Distance 0.9722410440444946, Documents: and especially brutal, and the family considered moving back to Indiana. The following year, when his father relocated the family to a new homestead in Coles County, Illinois, twenty-two-year-old Lincoln struck out on his own, canoeing down the Sangamon River to the village of New Salem in Sangamon County. Later\n",
      "Neighbor 11: Distance 0.9798630475997925, Documents: Shepherd in 1846. On November 4 1842 Lincoln married Mary Todd, daughter of a prominent slave-owning family from Kentucky. The couple had four sons. Robert Todd Lincoln was born in Springfield, Illinois on 1 August, 1843. Their only child to survive into adulthood, young Robert attended Phillips Exeter Academy and\n",
      "Neighbor 12: Distance 1.0012396574020386, Documents: be examined \"seriously as a man of ideas.\" Lincoln was a strong supporter of the American Whig version of liberal capitalism who, more than most politicians of the time, was able to express his ideas within the context of Nineteenth Century religious beliefs. Guelzo pg. 18-19 There were few people\n",
      "Neighbor 13: Distance 1.002174973487854, Documents: Abraham Lincoln, Deist, and Admirer of Thomas Paine, From the book Religious Beliefs of Our Presidents by Franklin Steiner (1936) Lincoln was just seven years old when, in 1816, the family was forced to make a new start in Perry County (now in Spencer County), Indiana. He later noted that\n",
      "Neighbor 14: Distance 1.0034384727478027, Documents: practice. During this time, he made many trips on horseback between various counties' courthouses. Beveridge, (1928) 1: 428-33; Donald (1995) p. 140-43. In the 1920s historical markers were placed at the county lines along the route Lincoln traveled in the eight judicial district. This example is on the border of\n",
      "Neighbor 15: Distance 1.0037055015563965, Documents: (1970) p. 215 noted that, \"Lincoln stressed the moral basis of Republicanism.\" Jaffa (2000) p. 399, stresses Lincoln's emphasis on the Declaration of Independence as what Lincoln called the \"sheet anchor\" of republicanism. See also McPherson (1992) pp.61-64. Abraham Lincoln was born on February 12, 1809, to Thomas Lincoln and\n",
      "Neighbor 16: Distance 1.0051703453063965, Documents: his mother, then thirty-four years old, died of milk sickness. Soon afterwards, his father remarried to Sarah Bush Johnston. Sarah Lincoln raised young Lincoln like one of her own children. Years later she compared Lincoln to her own son, saying \"Both were good boys, but I must say — both\n",
      "Neighbor 17: Distance 1.0078938007354736, Documents: the Abraham Lincoln Birthplace National Historic Site in Hodgenville, and the Lincoln Home National Historic Site in Springfield, Illinois. The Abraham Lincoln Presidential Library and Museum opened in Springfield in 2005; it is a major tourist attraction, with state-of-the-art exhibits. The Abraham Lincoln National Cemetery is located in Elwood, Illinois.\n",
      "Neighbor 18: Distance 1.01229727268219, Documents: President Grant while he lived in Galena, Illinois. Shortly after Confederate forces fired upon Fort Sumter, President Abraham Lincoln put out a call for 75,000 volunteers. Grant helped recruit a company of volunteers and accompanied it to Springfield, the capital of Illinois. Grant accepted a position offered by Illinois Governor\n",
      "Neighbor 19: Distance 1.0144157409667969, Documents: In 1830, after more economic and land-title difficulties in Indiana, the family settled on public land /ref> in Macon County, Illinois. Some scholars believe that it was his father's repeated land-title difficulties and ensuing financial hardships that led young Lincoln to study law. The following winter was desolate and especially\n",
      "Neighbor 20: Distance 1.0197888612747192, Documents: — both now being dead that Abe was the best boy I ever saw or ever expect to see.\" Lincoln was affectionate toward his stepmother, whom he would call \"Mother\" for the rest of his life, but he was distant from his father. Donald, (1995) pp. 28, 152. In 1830,\n"
     ]
    }
   ],
   "source": [
    "query = \"Did Abraham Lincoln live in the Frontier?\"\n",
    "k = 20\n",
    "print_results(query, k)"
   ]
  },
  {
   "cell_type": "code",
   "execution_count": 21,
   "metadata": {},
   "outputs": [
    {
     "name": "stdout",
     "output_type": "stream",
     "text": [
      "query embeddings: [[ 0.02739446  0.00171642 -0.08363354  0.01696337 -0.00477726]]\n",
      "\n",
      "None\n",
      "NEAREST NEIGHBORS RESULTS:\n",
      "Neighbor 1: Distance 0.8270500898361206, Documents: Lincoln and Nancy Hanks, two uneducated farmers. Lincoln was born in a one-room log cabin on the Sinking Spring Farm, in southeast Hardin County, Kentucky (now part of LaRue County). This area was at the time considered the \"frontier.\" The name \"Abraham\" was chosen to commemorate his grandfather, who was\n",
      "Neighbor 2: Distance 0.8549413084983826, Documents: in December of 1808 for $200 cash and assumption of a debt. The farm site is now preserved as part of Abraham Lincoln Birthplace National Historic Site. The family belonged to a Baptist church that had seceded from a larger church over the issue of slavery. Though Lincoln was exposed\n",
      "Neighbor 3: Distance 0.9140328168869019, Documents: by seceding, along with North Carolina, Tennessee, and Arkansas. The slave states of Missouri, Kentucky, Maryland, and Delaware did not secede, and Lincoln urgently negotiated with state leaders there, promising not to interfere with slavery. After the fighting started, he had rebel leaders arrested in all the border areas (especially\n",
      "Neighbor 4: Distance 0.9250564575195312, Documents: emergence of Southern nationalism. Throughout the 1850s he denied that there would ever be a civil war, and his supporters repeatedly rejected claims that his election would incite secession. Gabor S. Boritt, \"'And the War Came'? Abraham Lincoln and the Question of Individual Responsibility,\" Why the Civil War Came ed\n",
      "Neighbor 5: Distance 0.9351437091827393, Documents: that this freedom required economic advancement, expanded education, territory to grow, and the ability of the nation to absorb the growing immigrant population. Guelzo pg.194-195 It was the Declaration of Independence, rather than the Bible, that Lincoln most relied on in order to oppose any further territorial expansion of slavery.\n",
      "Neighbor 6: Distance 0.9620904326438904, Documents: noted that this move was \"partly on account of slavery,\" and partly because of difficulties with land deeds in Kentucky: Unlike land in the Northwest Territory, Kentucky never had a proper U.S. survey, and farmers often had difficulties proving title to their property. Lincoln was only nine when his mother,\n",
      "Neighbor 7: Distance 0.9623092412948608, Documents: campaign posters and leaflets, and thousands of newspaper editorials. These focused first on the party platform, and second on Lincoln's life story, making the most of his boyhood poverty, his pioneer background, his native genius, and his rise from obscurity. His nicknames, \"Honest Abe\" and \"the Rail-Splitter,\" were exploited to\n",
      "Neighbor 8: Distance 0.9652661681175232, Documents: was exposed to his parents' anti-slavery sentiment from a very young age, he never joined their church, or any other church for that matter. As a youth he had little use for religion. Life of Abraham Lincoln, Colonel Ward H. Lamon, 1872 - portions reprinted in Chapter VIII: Abraham Lincoln,\n",
      "Neighbor 9: Distance 0.969372034072876, Documents: presidential campaign, Lincoln would describe his protest in the Illinois legislature as one that 'briefly defined his position on the slavery question, and so far as it goes, it was then the same that it is now.\" This was in reference to the anti-expansion sentiments he had then expressed. Doris\n",
      "Neighbor 10: Distance 0.9722410440444946, Documents: and especially brutal, and the family considered moving back to Indiana. The following year, when his father relocated the family to a new homestead in Coles County, Illinois, twenty-two-year-old Lincoln struck out on his own, canoeing down the Sangamon River to the village of New Salem in Sangamon County. Later\n",
      "Neighbor 11: Distance 0.9798630475997925, Documents: Shepherd in 1846. On November 4 1842 Lincoln married Mary Todd, daughter of a prominent slave-owning family from Kentucky. The couple had four sons. Robert Todd Lincoln was born in Springfield, Illinois on 1 August, 1843. Their only child to survive into adulthood, young Robert attended Phillips Exeter Academy and\n",
      "Neighbor 12: Distance 1.0012396574020386, Documents: be examined \"seriously as a man of ideas.\" Lincoln was a strong supporter of the American Whig version of liberal capitalism who, more than most politicians of the time, was able to express his ideas within the context of Nineteenth Century religious beliefs. Guelzo pg. 18-19 There were few people\n",
      "Neighbor 13: Distance 1.002174973487854, Documents: Abraham Lincoln, Deist, and Admirer of Thomas Paine, From the book Religious Beliefs of Our Presidents by Franklin Steiner (1936) Lincoln was just seven years old when, in 1816, the family was forced to make a new start in Perry County (now in Spencer County), Indiana. He later noted that\n",
      "Neighbor 14: Distance 1.0034384727478027, Documents: practice. During this time, he made many trips on horseback between various counties' courthouses. Beveridge, (1928) 1: 428-33; Donald (1995) p. 140-43. In the 1920s historical markers were placed at the county lines along the route Lincoln traveled in the eight judicial district. This example is on the border of\n",
      "Neighbor 15: Distance 1.0037055015563965, Documents: (1970) p. 215 noted that, \"Lincoln stressed the moral basis of Republicanism.\" Jaffa (2000) p. 399, stresses Lincoln's emphasis on the Declaration of Independence as what Lincoln called the \"sheet anchor\" of republicanism. See also McPherson (1992) pp.61-64. Abraham Lincoln was born on February 12, 1809, to Thomas Lincoln and\n",
      "Neighbor 16: Distance 1.0051703453063965, Documents: his mother, then thirty-four years old, died of milk sickness. Soon afterwards, his father remarried to Sarah Bush Johnston. Sarah Lincoln raised young Lincoln like one of her own children. Years later she compared Lincoln to her own son, saying \"Both were good boys, but I must say — both\n",
      "Neighbor 17: Distance 1.0078938007354736, Documents: the Abraham Lincoln Birthplace National Historic Site in Hodgenville, and the Lincoln Home National Historic Site in Springfield, Illinois. The Abraham Lincoln Presidential Library and Museum opened in Springfield in 2005; it is a major tourist attraction, with state-of-the-art exhibits. The Abraham Lincoln National Cemetery is located in Elwood, Illinois.\n",
      "Neighbor 18: Distance 1.01229727268219, Documents: President Grant while he lived in Galena, Illinois. Shortly after Confederate forces fired upon Fort Sumter, President Abraham Lincoln put out a call for 75,000 volunteers. Grant helped recruit a company of volunteers and accompanied it to Springfield, the capital of Illinois. Grant accepted a position offered by Illinois Governor\n",
      "Neighbor 19: Distance 1.0144157409667969, Documents: In 1830, after more economic and land-title difficulties in Indiana, the family settled on public land /ref> in Macon County, Illinois. Some scholars believe that it was his father's repeated land-title difficulties and ensuing financial hardships that led young Lincoln to study law. The following winter was desolate and especially\n",
      "Neighbor 20: Distance 1.0197888612747192, Documents: — both now being dead that Abe was the best boy I ever saw or ever expect to see.\" Lincoln was affectionate toward his stepmother, whom he would call \"Mother\" for the rest of his life, but he was distant from his father. Donald, (1995) pp. 28, 152. In 1830,\n",
      "Neighbor 21: Distance 1.0209214687347412, Documents: so much time reading that some neighbors suspected he must be doing it to avoid strenuous manual labor. Young Abraham Lincoln Lincoln began his political career in 1832, at age 23, with an unsuccessful campaign for the Illinois General Assembly, as a member of the Whig Party. He ran eighth\n",
      "Neighbor 22: Distance 1.0242153406143188, Documents: states on its way back to Illinois. While much of the nation mourned him as the savior of the United States, Copperheads celebrated the death of a man they considered an unconstitutional tyrant. The Lincoln Tomb in Oak Ridge Cemetery in Springfield, is 177 feet (54 m) tall and, by\n",
      "Neighbor 23: Distance 1.0255298614501953, Documents: the Confederacy, with one wounded and another killed in action. Lieutenant David H. Todd, a half-brother of Mary Todd Lincoln, served as commandant of the Libby Prison camp during the war. The first photograph ever taken of Abraham Lincoln, a daguerreotype taken by Shepherd in 1846. A Whig and an\n",
      "Neighbor 24: Distance 1.0272102355957031, Documents: exploited to the full. The goal was to emphasize the superior power of \"free labor,\" whereby a common farm boy could work his way to the top by his own efforts. Thomas (1952) p 216; Reinhard H. Luthin, The First Lincoln Campaign (1944); Nevins vol 4; On November 6, 1860,\n",
      "Neighbor 25: Distance 1.0273946523666382, Documents: pursue a series of coordinated offensives in multiple theaters. Throughout the war, Lincoln showed a keen curiosity with the military campaigns. He spent hours at the War Department telegraph office, reading dispatches from his generals. He visited battle sites frequently, and seemed fascinated by watching scenes of war. During Jubal\n",
      "Neighbor 26: Distance 1.0284578800201416, Documents: allegedly split in his youth were exhibited at the 1860 Republican National Convention, as the party celebrated the poor-boy-made-good theme. Lincoln avoided hunting and fishing because he did not like killing animals, even for food. Though he was unusually tall at , 4 inches and strong, Lincoln spent so much\n",
      "Neighbor 27: Distance 1.0336061716079712, Documents: of an Illinois militia company drawn from New Salem during the Black Hawk War, and later wrote that he had not had \"any such success in life which gave him so much satisfaction.\" Thomas (1952) 32-34; Basler (1946) p. 551 Though he never saw combat, Lincoln did assist in burying\n",
      "Neighbor 28: Distance 1.0351084470748901, Documents: favorably on colonization in the Emancipation Proclamation, but all attempts at such a massive undertaking failed. As Frederick Douglass observed, Lincoln was, \"The first great man that I talked with in the United States freely who in no single instance reminded me of the difference between himself and myself, of\n",
      "Neighbor 29: Distance 1.0375239849090576, Documents: various positions in the remote Oregon Territory, primarily the governorship. Acceptance of this offer would have ended his career in the rapidly growing state of Illinois, so Lincoln declined the position. Returning to Springfield, Lincoln gave up politics for several years and turned his energies to his law practice. During\n",
      "Neighbor 30: Distance 1.0438618659973145, Documents: allowed them to purchase a big house in Buffalo, New York. The house became the center of hospitality for visitors, until her health began to decline in the 1860s. Throughout the Civil War, Fillmore opposed President Lincoln and during Reconstruction supported President Johnson. He commanded the Union Continentals, a corps\n",
      "Neighbor 31: Distance 1.0446116924285889, Documents: to the center stage of American politics at precisely the right time and place, and with precisely the right message: that slavery was wrong, and ought to be confined to the areas where it already existed, and placed on the 'course of ultimate extinction... .'\" Lincoln won the Republican Party\n",
      "Neighbor 32: Distance 1.0463204383850098, Documents: Abraham Lincoln Abraham Lincoln (February 12, 1809 – April 15, 1865) was the sixteenth President of the United States, serving from March 4, 1861 until his assassination. As an outspoken opponent of the expansion of slavery in the United States, \"[I]n his short autobiography written for the 1860 presidential campaign,\n",
      "Neighbor 33: Distance 1.0479586124420166, Documents: to slavery, “Whenever this question shall be settled, it must be settled on some philosophical basis. No policy that does not rest upon some philosophical public opinion can be permanently maintained.\" The philosophical basis for Lincoln’s beliefs regarding slavery and other issues of the day require that Lincoln be examined\n",
      "Neighbor 34: Distance 1.0490647554397583, Documents: in burying the dead from the Battle of Stillman's Run the day after Major Isaiah Stillman's troops fled the field of battle. Abraham Lincoln Online Retrieved on March 11, 2007 For several months, Lincoln ran a small store in New Salem, selling tea, coffee, sugar, salt, blue calico, brown muslin,\n",
      "Neighbor 35: Distance 1.049096703529358, Documents: to recapture forts, protect the capital, and \"preserve the Union,\" which in his view still existed intact despite the actions of the seceding states. Virginia, which had repeatedly warned Lincoln that it would not allow an invasion of its territory or join an attack on another state, responded by seceding,\n",
      "Neighbor 36: Distance 1.0503449440002441, Documents: marked \"a new founding of the nation.\" Wills (1992) p. 39. During the Civil War, Lincoln appropriated powers no previous President had wielded: he used his war powers to proclaim a blockade, suspended the writ of habeas corpus, spent money without congressional authorization, and imprisoned 18,000 suspected Confederate sympathizers without\n",
      "Neighbor 37: Distance 1.0529178380966187, Documents: had to agree), and then in terms of the national duty to guarantee a \"republican form of government\" in every state. Jaffa (2000) p. 263 That duty was also the principle underlying federal intervention in Reconstruction. Lincoln's second inauguration on March 4, 1865. In the photo, Lincoln's assassin, John Wilkes\n",
      "Neighbor 38: Distance 1.0532710552215576, Documents: Another uncle Irvine Bulloch was a midshipman on the Confederate raider, CSS Alabama; both remained in England after the war. . Pringle (1931) p. 11 From his grandparents' home, a young Roosevelt witnessed Abraham Lincoln's funeral procession in New York. Sickly and asthmatic as a youngster, Roosevelt had to sleep\n",
      "Neighbor 39: Distance 1.0563691854476929, Documents: named to honor his mother. During the Spanish Civil War the American faction of the International Brigades named themselves the Abraham Lincoln Brigade after Lincoln. Lincoln has been memorialized in many city names, notably the capital of Nebraska. Lincoln, Illinois, is the only city to be named for Abraham Lincoln\n",
      "Neighbor 40: Distance 1.057579755783081, Documents: the north. The 1858 campaign featured the Lincoln-Douglas debates, a nationally famous contest on slavery. Lincoln warned that the \"Slave Power\" was threatening the values of republicanism, while Douglas emphasized the supremacy of democracy, as set forth in his Freeport Doctrine, which said that local settlers should be free to\n",
      "Neighbor 41: Distance 1.0581231117248535, Documents: win the West. Most Republicans agreed with Lincoln that the North was the aggrieved party as the Slave Power tightened its grasp on the national government. Yet despite his Southern connections (his in-laws owned slaves), Lincoln misunderstood the depth of the revolution underway in the South and the emergence of\n",
      "Neighbor 42: Distance 1.0616607666015625, Documents: the people, by the people, for the people, shall not perish from the earth.\" By emphasizing the centrality of the nation, he rebuffed the claims of state sovereignty. While some critics say Lincoln moved too far and too fast, H.L. Mencken said \"It is difficult to imagine anything more untrue.\n",
      "Neighbor 43: Distance 1.0619847774505615, Documents: addition, New Salem, Illinois (a reconstruction of Lincoln's early adult hometown), Ford's Theatre, and Petersen House (where he died) are all preserved as museums. The Lincoln Shrine in Redlands, California, is located behind the A.K. Smiley Public Library. The state nickname for Illinois is Land of Lincoln. Counties in 19\n",
      "Neighbor 44: Distance 1.0623748302459717, Documents: Lincoln The Abraham Lincoln Papers at the Library of Congress. Retrieved April 28, 2007. and the Union Party, which combined both Republicans and War Democrats. He refused to announce his political affiliation until 1868, when he finally declared himself a Republican. Hesseltine, chapter 6. . The home of President Grant\n",
      "Neighbor 45: Distance 1.0627164840698242, Documents: in the North: he was not even on the ballot in nine states in the South, and won only 2 of 996 counties in the other Southern states. Lincoln gained 1,865,908 votes (39.9% of the total), for 180 electoral votes; Douglas, 1,380,202 (29.5%) for 12 electoral votes; Breckenridge, 848,019 (18.1%)\n",
      "Neighbor 46: Distance 1.0674145221710205, Documents: The United States: The History of a Republic, Prentice-Hall, 1967, p. 446. Lincoln had a star-crossed record as a military leader, possessing a keen understanding of strategic points (such as the Mississippi River and the fortress city of Vicksburg) and the importance of defeating the enemy's army, rather than simply\n",
      "Neighbor 47: Distance 1.0687146186828613, Documents: favorite book was The Life of George Washington, Lincoln mastered the Bible, Shakespeare, and English and American history, and developed a plain writing style that puzzled audiences more used to grandiose rhetoric. He was also a talented local wrestler and skilled with an ax; some rails he had allegedly split\n",
      "Neighbor 48: Distance 1.0696802139282227, Documents: Lincoln's skull and the ball lodged 6 inches (15 cm) inside his brain. Lincoln never regained consciousness and was officially pronounced dead at 7:22:10 a.m. April 15, 1865 at the age of 56. There is some disagreement among historians as to Stanton's words after Lincoln died. All agree that he\n",
      "Neighbor 49: Distance 1.0701919794082642, Documents: war against every people, tribe, and state owning a foot of land between here and Tierra del Fuego.\" By the time Lincoln took office, the Confederacy was an established fact, and no leaders of the insurrection proposed rejoining the Union on any terms. No compromise was found because a compromise\n",
      "Neighbor 50: Distance 1.070504903793335, Documents: as his running mate in order to form a broader coalition. They ran on the new Union Party ticket uniting Republicans and War Democrats. Lincoln, in top hat, with Allan Pinkerton and Gen. John Alexander McClernand at Antietam. Nevertheless, Republicans across the country feared that Lincoln would be defeated. Acknowledging\n"
     ]
    }
   ],
   "source": [
    "query = \"Did Abraham Lincoln live in the Frontier?\"\n",
    "k = 50\n",
    "print_results(query, k)"
   ]
  },
  {
   "cell_type": "code",
   "execution_count": 22,
   "metadata": {},
   "outputs": [
    {
     "name": "stdout",
     "output_type": "stream",
     "text": [
      "query embeddings: [[-1.8177690e-02 -3.0143693e-02  4.8248188e-05  2.7104199e-02\n",
      "  -5.7132028e-02]]\n",
      "\n",
      "None\n",
      "NEAREST NEIGHBORS RESULTS:\n",
      "Neighbor 1: Distance 0.7430679202079773, Documents: there be a tie vote on Henry Clay's bill, he would vote in favor of the North. Official White House portrait of Millard FillmoreFillmore ascended to the presidency upon the sudden and unexpected death of President Taylor in July 1850. The change in leadership also signaled an abrupt political shift\n",
      "Neighbor 2: Distance 0.7672604322433472, Documents: party harmony became one of his primary objectives. He tried to unite the party by pointing out the differences between the Whigs and the Democrats (by proposing tariff reforms that negatively reflected on the Democratic Party). Another primary objective of Fillmore was to preserve the Union from the intensifying slavery\n",
      "Neighbor 3: Distance 0.7704712152481079, Documents: of a sitting President, succeeding Zachary Taylor who died of acute gastroenteritis. Fillmore was never elected President; after serving out Taylor's term, he failed to gain the nomination for the Presidency of the Whigs in the 1852 presidential election, and, four years later, in the 1856 presidential election, he again\n",
      "Neighbor 4: Distance 0.7801567912101746, Documents: office of President, but the first to win election in his own right. (Millard Fillmore ran and lost on a third-party ticket four years after leaving office and Chester Arthur was denied nomination by his party in 1884). After Senator Mark Hanna, McKinley's old campaign manager, died in February 1904,\n",
      "Neighbor 5: Distance 0.7955065965652466, Documents: he again failed to win election as President as the Know Nothing Party and Whig candidate. Fillmore was born in a log cabin in Summerhill, New York, to Nathaniel and Phoebe Millard Fillmore, as the second of nine children and the eldest son. Though a Unitarian in later life, Fillmore\n"
     ]
    }
   ],
   "source": [
    "query =\"How did Fillmore ascend to the presidency?\"\n",
    "print_results(query, k = 5)"
   ]
  },
  {
   "cell_type": "code",
   "execution_count": 23,
   "metadata": {},
   "outputs": [
    {
     "name": "stdout",
     "output_type": "stream",
     "text": [
      "query embeddings: [[ 0.08204814  0.0360555  -0.00389289 -0.00488104  0.02565111]]\n",
      "\n",
      "None\n",
      "NEAREST NEIGHBORS RESULTS:\n",
      "Neighbor 1: Distance 1.3075151443481445, Documents: This means, on the north, Palestine must include the Litani River and the watersheds of the Hermon, and on the east it must include the plains of the Jaulon and the Hauran. Narrower than this is a mutilation...I need not remind you that neither in this country nor in Paris\n",
      "Neighbor 2: Distance 1.370737910270691, Documents: national self-determination) Russia to be assured independent development and international withdrawal from occupied Russian territory Restoration of Belgium to antebellum national status Alsace-Lorraine returned to France from Germany Italian borders redrawn on lines of nationality Autonomous development of Austria-Hungary as a nation, as the Austro-Hungarian Empire dissolved Romania, Serbia, Montenegro,\n",
      "Neighbor 3: Distance 1.4305980205535889, Documents: the first Dutch province to recognize the United States, while France had been the first European country to grant diplomatic recognition, in 1778). During this visit, he also negotiated a loan of five million guilders. It was floated by Nicolaas van Staphorst and Wilhelm Willink. Up till 1794 a total\n",
      "Neighbor 4: Distance 1.4982030391693115, Documents: agriculture, industry, and lives had been so demolished by the war, and Britain, as the great naval power, did not want freedom of the seas. Wilson compromised with Clemenceau, Lloyd George, and many other European leaders during the Paris Peace talks to ensure that the fourteenth point, the League of\n",
      "Neighbor 5: Distance 1.5038414001464844, Documents: achieving an equitable peace for all the nations. He spent six months at Paris for the 1919 Paris Peace Conference (making him the first U.S. president to travel to Europe while in office). He worked tirelessly to promote his plan. The charter of the proposed League of Nations was incorporated\n"
     ]
    }
   ],
   "source": [
    "query = \"What is the capital of France?\"\n",
    "print_results(query, k = 5)"
   ]
  },
  {
   "cell_type": "markdown",
   "metadata": {},
   "source": [
    "## Observations ##"
   ]
  },
  {
   "cell_type": "markdown",
   "metadata": {},
   "source": [
    "I used a fixed-length chunking strategy with a length of 50 and an overlap of 3 to create a FAISS index using brute-force indexing. This approach allows the content to be retrieved effectively for simple queries like \"Who is Abraham Lincoln?\" However, for more complex queries, such as ones containing only \"Adams,\" the model retrieves results with \"Adams\" but not necessarily the intended context. The embedding strategy does, however, provide relevant context. With k=1, the retrieved chunk closely matches the keywords, often containing the answer (e.g., for \"Did Abraham Lincoln live in the frontier?\" it retrieves a chunk mentioning the frontier and includes the answer). As k increases, more context is revealed, but with higher values of k, irrelevant content begins to appear."
   ]
  },
  {
   "cell_type": "markdown",
   "metadata": {},
   "source": [
    "## TASK 2: Generate Answers ##"
   ]
  },
  {
   "cell_type": "code",
   "execution_count": 42,
   "metadata": {},
   "outputs": [],
   "source": [
    "\n",
    "def print_results(query, k, rerank):\n",
    "    query_embedding = pline._encode(query)\n",
    "    distances_ivf, metadata_ivf = pline.search_neighbors(query_embedding, k)\n",
    "    query, answer, context = pline.generate_answer(query, metadata_ivf, rerank = rerank, rerank_type = \"hybrid\")\n",
    "\n",
    "    print(f\"Query: {query}\")\n",
    "    print(f\"Answer: {answer}\")\n",
    "    print(f\"Context - {'reranked' if rerank else 'not reranked'}: {context[:5]}\")"
   ]
  },
  {
   "cell_type": "code",
   "execution_count": 34,
   "metadata": {},
   "outputs": [
    {
     "name": "stdout",
     "output_type": "stream",
     "text": [
      "[ChatCompletionChoice(index=0, message=AssistantMessage(content='Abraham Lincoln was the sixteenth President of the United States, serving from March 4, 1861, until his assassination on April 15, 1865. He was an outspoken opponent of the expansion of slavery in the United States and is well known for ending slavery in the country. Lincoln was born on February 12, 1809, to Thomas Lincoln and was named to honor his mother. He began his political career in 1832 and eventually became the Republican candidate for the 1860 presidential election.', tool_calls=None, prefix=False, role='assistant'), finish_reason='stop')]\n",
      "Query: Who was Abraham Lincoln?\n",
      "Answer: Abraham Lincoln was the sixteenth President of the United States, serving from March 4, 1861, until his assassination on April 15, 1865. He was an outspoken opponent of the expansion of slavery in the United States and is well known for ending slavery in the country. Lincoln was born on February 12, 1809, to Thomas Lincoln and was named to honor his mother. He began his political career in 1832 and eventually became the Republican candidate for the 1860 presidential election.\n",
      "Context - reranked: ['Abraham Lincoln Abraham Lincoln (February 12, 1809 – April 15, 1865) was the sixteenth President of the United States, serving from March 4, 1861 until his assassination. As an outspoken opponent of the expansion of slavery in the United States, \"[I]n his short autobiography written for the 1860 presidential campaign,', 'be examined \"seriously as a man of ideas.\" Lincoln was a strong supporter of the American Whig version of liberal capitalism who, more than most politicians of the time, was able to express his ideas within the context of Nineteenth Century religious beliefs. Guelzo pg. 18-19 There were few people', 'so much time reading that some neighbors suspected he must be doing it to avoid strenuous manual labor. Young Abraham Lincoln Lincoln began his political career in 1832, at age 23, with an unsuccessful campaign for the Illinois General Assembly, as a member of the Whig Party. He ran eighth', 'Lincoln The Abraham Lincoln Papers at the Library of Congress. Retrieved April 28, 2007. and the Union Party, which combined both Republicans and War Democrats. He refused to announce his political affiliation until 1868, when he finally declared himself a Republican. Hesseltine, chapter 6. . The home of President Grant', '(1970) p. 215 noted that, \"Lincoln stressed the moral basis of Republicanism.\" Jaffa (2000) p. 399, stresses Lincoln\\'s emphasis on the Declaration of Independence as what Lincoln called the \"sheet anchor\" of republicanism. See also McPherson (1992) pp.61-64. Abraham Lincoln was born on February 12, 1809, to Thomas Lincoln and']\n"
     ]
    }
   ],
   "source": [
    "query = \"Who was Abraham Lincoln?\"\n",
    "k = 15\n",
    "rerank = True\n",
    "print_results(query, k, rerank)"
   ]
  },
  {
   "cell_type": "code",
   "execution_count": 35,
   "metadata": {},
   "outputs": [
    {
     "name": "stdout",
     "output_type": "stream",
     "text": [
      "[ChatCompletionChoice(index=0, message=AssistantMessage(content='Abraham Lincoln was the sixteenth President of the United States, serving from March 4, 1861 until his assassination on April 15, 1865.', tool_calls=None, prefix=False, role='assistant'), finish_reason='stop')]\n",
      "Query: Who was Abraham Lincoln?\n",
      "Answer: Abraham Lincoln was the sixteenth President of the United States, serving from March 4, 1861 until his assassination on April 15, 1865.\n",
      "Context - not reranked: ['Abraham Lincoln Abraham Lincoln (February 12, 1809 – April 15, 1865) was the sixteenth President of the United States, serving from March 4, 1861 until his assassination. As an outspoken opponent of the expansion of slavery in the United States, \"[I]n his short autobiography written for the 1860 presidential campaign,', 'Lincoln The Abraham Lincoln Papers at the Library of Congress. Retrieved April 28, 2007. and the Union Party, which combined both Republicans and War Democrats. He refused to announce his political affiliation until 1868, when he finally declared himself a Republican. Hesseltine, chapter 6. . The home of President Grant', '— both now being dead that Abe was the best boy I ever saw or ever expect to see.\" Lincoln was affectionate toward his stepmother, whom he would call \"Mother\" for the rest of his life, but he was distant from his father. Donald, (1995) pp. 28, 152. In 1830,', 'named to honor his mother. During the Spanish Civil War the American faction of the International Brigades named themselves the Abraham Lincoln Brigade after Lincoln. Lincoln has been memorialized in many city names, notably the capital of Nebraska. Lincoln, Illinois, is the only city to be named for Abraham Lincoln', 'emergence of Southern nationalism. Throughout the 1850s he denied that there would ever be a civil war, and his supporters repeatedly rejected claims that his election would incite secession. Gabor S. Boritt, \"\\'And the War Came\\'? Abraham Lincoln and the Question of Individual Responsibility,\" Why the Civil War Came ed']\n"
     ]
    }
   ],
   "source": [
    "query = \"Who was Abraham Lincoln?\"\n",
    "k = 15\n",
    "rerank = False\n",
    "print_results(query, k, rerank)"
   ]
  },
  {
   "cell_type": "code",
   "execution_count": 36,
   "metadata": {},
   "outputs": [
    {
     "name": "stdout",
     "output_type": "stream",
     "text": [
      "[ChatCompletionChoice(index=0, message=AssistantMessage(content=\"Abraham Adams is not mentioned in the provided context. Therefore, the answer is 'No context'.\", tool_calls=None, prefix=False, role='assistant'), finish_reason='stop')]\n",
      "Query: Who was Abraham Adams?\n",
      "Answer: Abraham Adams is not mentioned in the provided context. Therefore, the answer is 'No context'.\n",
      "Context - reranked: ['to reside in the newly built White House in Washington, D.C., which was completed in 1800. Adams, a sponsor of the American Revolution in Massachusetts, was a driving force for independence in 1776; Jefferson called him the \"Colossus of Independence\". He represented the Continental Congress in Europe. He was a', 'and Elizabeth (1775) who was stillborn. Adams was not a popular leader like his second cousin, Samuel Adams; instead, his influence emerged through his work as a constitutional lawyer and his intense analysis of historical examples, Ferling (1992) p 117 together with his thorough knowledge of the law and his', 'resolutions against British taxation and regulation. In 1774 Massachusetts sent him to the Continental Congress. In 1775 war broke out between the colonies and Great Britain. Adams was one of the first few delegates to recognize that a compromise with the British was pointless. In 1776 he worked hard to', 'and his dedication to the principles of republicanism. Adams often found his inborn contentiousness to be a restraint in his political career. Adams wanted to secure approval from the people, and he saw his chance in the British/colonial conflict. He became well known for his essays and energetic resolutions against', 'Abraham Lincoln Abraham Lincoln (February 12, 1809 – April 15, 1865) was the sixteenth President of the United States, serving from March 4, 1861 until his assassination. As an outspoken opponent of the expansion of slavery in the United States, \"[I]n his short autobiography written for the 1860 presidential campaign,']\n"
     ]
    }
   ],
   "source": [
    "query = \"Who was Abraham Adams?\"\n",
    "k = 15\n",
    "rerank = True\n",
    "print_results(query, k, rerank)"
   ]
  },
  {
   "cell_type": "code",
   "execution_count": 44,
   "metadata": {},
   "outputs": [
    {
     "name": "stdout",
     "output_type": "stream",
     "text": [
      "[ChatCompletionChoice(index=0, message=AssistantMessage(content='No context. The provided context does not mention anyone named Abraham Adams.', tool_calls=None, prefix=False, role='assistant'), finish_reason='stop')]\n",
      "Query: Who was Abraham Adams?\n",
      "Answer: No context. The provided context does not mention anyone named Abraham Adams.\n",
      "Context - not reranked: ['and his dedication to the principles of republicanism. Adams often found his inborn contentiousness to be a restraint in his political career. Adams wanted to secure approval from the people, and he saw his chance in the British/colonial conflict. He became well known for his essays and energetic resolutions against', 'resolutions against British taxation and regulation. In 1774 Massachusetts sent him to the Continental Congress. In 1775 war broke out between the colonies and Great Britain. Adams was one of the first few delegates to recognize that a compromise with the British was pointless. In 1776 he worked hard to', 'to employ slave labor. Littlefield, Daniel C. \"John Jay, the Revolutionary Generation, and Slavery.\" New York History 2000 81(1): p 91-132. ISSN 0146-437X Abigail Adams opposed slavery and employed free blacks in preference to her father\\'s two domestic slaves. He spoke out against a bill to emancipate slaves in Massachusetts,', 'The Works of John Adams (1854), vol III, p 421, diary entry for July 26, 1796. The Unitarian Universalist Historical Society sheds some light on Adams’s religious beliefs. They point out that Adams was clearly no atheist by quoting from his letter to Benjamin Rush, an early promoter of Universalist', 'B. Everett, \"The Mature Religious Thought of John Adams,\" Proceedings of the South Carolina Historical Association (1966), p 49-57; [ISSN 0361-6207]. Adams often railed against what he saw as overclaiming of authority by the Catholic church. See TeachingAmericanHistory.org: \" A Dissertation on the Canon and Feudal Law\", John Adams, 1765']\n"
     ]
    }
   ],
   "source": [
    "query = \"Who was Abraham Adams?\"\n",
    "k = 15\n",
    "rerank = False\n",
    "print_results(query, k, rerank)"
   ]
  },
  {
   "cell_type": "code",
   "execution_count": 49,
   "metadata": {},
   "outputs": [
    {
     "name": "stdout",
     "output_type": "stream",
     "text": [
      "k: 1\n",
      "[ChatCompletionChoice(index=0, message=AssistantMessage(content='Fillmore ascended to the presidency upon the sudden and unexpected death of President Taylor in July 1850.', tool_calls=None, prefix=False, role='assistant'), finish_reason='stop')]\n",
      "Query: How did Fillmore ascend to the presidency?\n",
      "Answer: Fillmore ascended to the presidency upon the sudden and unexpected death of President Taylor in July 1850.\n",
      "Context - not reranked: [\"there be a tie vote on Henry Clay's bill, he would vote in favor of the North. Official White House portrait of Millard FillmoreFillmore ascended to the presidency upon the sudden and unexpected death of President Taylor in July 1850. The change in leadership also signaled an abrupt political shift\"]\n",
      "k: 5\n",
      "[ChatCompletionChoice(index=0, message=AssistantMessage(content='Fillmore ascended to the presidency upon the sudden and unexpected death of President Taylor in July 1850.', tool_calls=None, prefix=False, role='assistant'), finish_reason='stop')]\n",
      "Query: How did Fillmore ascend to the presidency?\n",
      "Answer: Fillmore ascended to the presidency upon the sudden and unexpected death of President Taylor in July 1850.\n",
      "Context - not reranked: [\"there be a tie vote on Henry Clay's bill, he would vote in favor of the North. Official White House portrait of Millard FillmoreFillmore ascended to the presidency upon the sudden and unexpected death of President Taylor in July 1850. The change in leadership also signaled an abrupt political shift\", 'party harmony became one of his primary objectives. He tried to unite the party by pointing out the differences between the Whigs and the Democrats (by proposing tariff reforms that negatively reflected on the Democratic Party). Another primary objective of Fillmore was to preserve the Union from the intensifying slavery', \"of a sitting President, succeeding Zachary Taylor who died of acute gastroenteritis. Fillmore was never elected President; after serving out Taylor's term, he failed to gain the nomination for the Presidency of the Whigs in the 1852 presidential election, and, four years later, in the 1856 presidential election, he again\", \"office of President, but the first to win election in his own right. (Millard Fillmore ran and lost on a third-party ticket four years after leaving office and Chester Arthur was denied nomination by his party in 1884). After Senator Mark Hanna, McKinley's old campaign manager, died in February 1904,\", 'he again failed to win election as President as the Know Nothing Party and Whig candidate. Fillmore was born in a log cabin in Summerhill, New York, to Nathaniel and Phoebe Millard Fillmore, as the second of nine children and the eldest son. Though a Unitarian in later life, Fillmore']\n",
      "k: 10\n",
      "[ChatCompletionChoice(index=0, message=AssistantMessage(content='Fillmore ascended to the presidency upon the sudden and unexpected death of President Taylor in July 1850.', tool_calls=None, prefix=False, role='assistant'), finish_reason='stop')]\n",
      "Query: How did Fillmore ascend to the presidency?\n",
      "Answer: Fillmore ascended to the presidency upon the sudden and unexpected death of President Taylor in July 1850.\n",
      "Context - not reranked: [\"there be a tie vote on Henry Clay's bill, he would vote in favor of the North. Official White House portrait of Millard FillmoreFillmore ascended to the presidency upon the sudden and unexpected death of President Taylor in July 1850. The change in leadership also signaled an abrupt political shift\", 'party harmony became one of his primary objectives. He tried to unite the party by pointing out the differences between the Whigs and the Democrats (by proposing tariff reforms that negatively reflected on the Democratic Party). Another primary objective of Fillmore was to preserve the Union from the intensifying slavery', \"of a sitting President, succeeding Zachary Taylor who died of acute gastroenteritis. Fillmore was never elected President; after serving out Taylor's term, he failed to gain the nomination for the Presidency of the Whigs in the 1852 presidential election, and, four years later, in the 1856 presidential election, he again\", \"office of President, but the first to win election in his own right. (Millard Fillmore ran and lost on a third-party ticket four years after leaving office and Chester Arthur was denied nomination by his party in 1884). After Senator Mark Hanna, McKinley's old campaign manager, died in February 1904,\", 'he again failed to win election as President as the Know Nothing Party and Whig candidate. Fillmore was born in a log cabin in Summerhill, New York, to Nathaniel and Phoebe Millard Fillmore, as the second of nine children and the eldest son. Though a Unitarian in later life, Fillmore']\n",
      "k: 20\n",
      "[ChatCompletionChoice(index=0, message=AssistantMessage(content='Fillmore ascended to the presidency upon the sudden and unexpected death of President Taylor in July 1850.', tool_calls=None, prefix=False, role='assistant'), finish_reason='stop')]\n",
      "Query: How did Fillmore ascend to the presidency?\n",
      "Answer: Fillmore ascended to the presidency upon the sudden and unexpected death of President Taylor in July 1850.\n",
      "Context - not reranked: [\"there be a tie vote on Henry Clay's bill, he would vote in favor of the North. Official White House portrait of Millard FillmoreFillmore ascended to the presidency upon the sudden and unexpected death of President Taylor in July 1850. The change in leadership also signaled an abrupt political shift\", 'party harmony became one of his primary objectives. He tried to unite the party by pointing out the differences between the Whigs and the Democrats (by proposing tariff reforms that negatively reflected on the Democratic Party). Another primary objective of Fillmore was to preserve the Union from the intensifying slavery', \"of a sitting President, succeeding Zachary Taylor who died of acute gastroenteritis. Fillmore was never elected President; after serving out Taylor's term, he failed to gain the nomination for the Presidency of the Whigs in the 1852 presidential election, and, four years later, in the 1856 presidential election, he again\", \"office of President, but the first to win election in his own right. (Millard Fillmore ran and lost on a third-party ticket four years after leaving office and Chester Arthur was denied nomination by his party in 1884). After Senator Mark Hanna, McKinley's old campaign manager, died in February 1904,\", 'he again failed to win election as President as the Know Nothing Party and Whig candidate. Fillmore was born in a log cabin in Summerhill, New York, to Nathaniel and Phoebe Millard Fillmore, as the second of nine children and the eldest son. Though a Unitarian in later life, Fillmore']\n"
     ]
    }
   ],
   "source": [
    "query = \"How did Fillmore ascend to the presidency?\"\n",
    "ks = [1, 5, 10, 20]\n",
    "rerank = False\n",
    "for k in ks:\n",
    "    print(f\"k: {k}\")\n",
    "    print_results(query, k, rerank)"
   ]
  },
  {
   "cell_type": "code",
   "execution_count": 51,
   "metadata": {},
   "outputs": [
    {
     "name": "stdout",
     "output_type": "stream",
     "text": [
      "k: 5\n",
      "[ChatCompletionChoice(index=0, message=AssistantMessage(content='Fillmore ascended to the presidency upon the sudden and unexpected death of President Taylor in July 1850.', tool_calls=None, prefix=False, role='assistant'), finish_reason='stop')]\n",
      "Query: How did Fillmore ascend to the presidency?\n",
      "Answer: Fillmore ascended to the presidency upon the sudden and unexpected death of President Taylor in July 1850.\n",
      "Context - reranked: [\"there be a tie vote on Henry Clay's bill, he would vote in favor of the North. Official White House portrait of Millard FillmoreFillmore ascended to the presidency upon the sudden and unexpected death of President Taylor in July 1850. The change in leadership also signaled an abrupt political shift\", \"of a sitting President, succeeding Zachary Taylor who died of acute gastroenteritis. Fillmore was never elected President; after serving out Taylor's term, he failed to gain the nomination for the Presidency of the Whigs in the 1852 presidential election, and, four years later, in the 1856 presidential election, he again\", 'he again failed to win election as President as the Know Nothing Party and Whig candidate. Fillmore was born in a log cabin in Summerhill, New York, to Nathaniel and Phoebe Millard Fillmore, as the second of nine children and the eldest son. Though a Unitarian in later life, Fillmore', \"office of President, but the first to win election in his own right. (Millard Fillmore ran and lost on a third-party ticket four years after leaving office and Chester Arthur was denied nomination by his party in 1884). After Senator Mark Hanna, McKinley's old campaign manager, died in February 1904,\", 'party harmony became one of his primary objectives. He tried to unite the party by pointing out the differences between the Whigs and the Democrats (by proposing tariff reforms that negatively reflected on the Democratic Party). Another primary objective of Fillmore was to preserve the Union from the intensifying slavery']\n",
      "k: 10\n",
      "[ChatCompletionChoice(index=0, message=AssistantMessage(content='Fillmore ascended to the presidency upon the sudden and unexpected death of President Taylor in July 1850.', tool_calls=None, prefix=False, role='assistant'), finish_reason='stop')]\n",
      "Query: How did Fillmore ascend to the presidency?\n",
      "Answer: Fillmore ascended to the presidency upon the sudden and unexpected death of President Taylor in July 1850.\n",
      "Context - reranked: [\"there be a tie vote on Henry Clay's bill, he would vote in favor of the North. Official White House portrait of Millard FillmoreFillmore ascended to the presidency upon the sudden and unexpected death of President Taylor in July 1850. The change in leadership also signaled an abrupt political shift\", 'Millard Fillmore Millard Fillmore (January 7, 1800 March 8, 1874) was the thirteenth President of the United States, serving from 1850 until 1853, and the last member of the Whig Party to hold that office. He was the second Vice President to assume the Presidency upon the death of a', \"of a sitting President, succeeding Zachary Taylor who died of acute gastroenteritis. Fillmore was never elected President; after serving out Taylor's term, he failed to gain the nomination for the Presidency of the Whigs in the 1852 presidential election, and, four years later, in the 1856 presidential election, he again\", \"political shift in the administration, as Fillmore removed Taylor's entire cabinet, replacing them with individuals known to be favorable to the Compromise efforts. Fillmore signaled this shift by appointing Daniel Webster as his Secretary of State. As president, Fillmore dealt with increasing party divisions within the Whig party; party harmony\", 'he again failed to win election as President as the Know Nothing Party and Whig candidate. Fillmore was born in a log cabin in Summerhill, New York, to Nathaniel and Phoebe Millard Fillmore, as the second of nine children and the eldest son. Though a Unitarian in later life, Fillmore']\n",
      "k: 20\n",
      "[ChatCompletionChoice(index=0, message=AssistantMessage(content='Fillmore ascended to the presidency upon the sudden and unexpected death of President Taylor in July 1850.', tool_calls=None, prefix=False, role='assistant'), finish_reason='stop')]\n",
      "Query: How did Fillmore ascend to the presidency?\n",
      "Answer: Fillmore ascended to the presidency upon the sudden and unexpected death of President Taylor in July 1850.\n",
      "Context - reranked: [\"there be a tie vote on Henry Clay's bill, he would vote in favor of the North. Official White House portrait of Millard FillmoreFillmore ascended to the presidency upon the sudden and unexpected death of President Taylor in July 1850. The change in leadership also signaled an abrupt political shift\", 'first was only a medical school. Fillmore was the first Chancellor, a position he maintained while both Vice President and President. Upon completing his presidency, Fillmore returned to Buffalo, where he continued to serve as chancellor. After the death of his daughter Mary, Fillmore went abroad. While touring Europe in', 'Millard Fillmore Millard Fillmore (January 7, 1800 March 8, 1874) was the thirteenth President of the United States, serving from 1850 until 1853, and the last member of the Whig Party to hold that office. He was the second Vice President to assume the Presidency upon the death of a', \"of a sitting President, succeeding Zachary Taylor who died of acute gastroenteritis. Fillmore was never elected President; after serving out Taylor's term, he failed to gain the nomination for the Presidency of the Whigs in the 1852 presidential election, and, four years later, in the 1856 presidential election, he again\", \"political shift in the administration, as Fillmore removed Taylor's entire cabinet, replacing them with individuals known to be favorable to the Compromise efforts. Fillmore signaled this shift by appointing Daniel Webster as his Secretary of State. As president, Fillmore dealt with increasing party divisions within the Whig party; party harmony\"]\n"
     ]
    }
   ],
   "source": [
    "query = \"How did Fillmore ascend to the presidency?\"\n",
    "ks = [5, 10, 20]\n",
    "rerank = True\n",
    "for k in ks:\n",
    "    print(f\"k: {k}\")\n",
    "    print_results(query, k, rerank)"
   ]
  },
  {
   "cell_type": "code",
   "execution_count": 53,
   "metadata": {},
   "outputs": [
    {
     "name": "stdout",
     "output_type": "stream",
     "text": [
      "k: 5\n",
      "[ChatCompletionChoice(index=0, message=AssistantMessage(content=\"No context. The provided context does not mention any trail where Lincoln used a Farmers' Almanac.\", tool_calls=None, prefix=False, role='assistant'), finish_reason='stop')]\n",
      "Query: What trail did Lincoln use a Farmers' Almanac in?\n",
      "Answer: No context. The provided context does not mention any trail where Lincoln used a Farmers' Almanac.\n",
      "Context - reranked: [\"time--to show that an eyewitness had lied on the stand. After the witness testified to having seen the crime by moonlight, Lincoln produced a Farmers' Almanac to show that the moon on that date was at such a low angle that it could not have provided enough illumination to see\", 'Lincoln and Nancy Hanks, two uneducated farmers. Lincoln was born in a one-room log cabin on the Sinking Spring Farm, in southeast Hardin County, Kentucky (now part of LaRue County). This area was at the time considered the \"frontier.\" The name \"Abraham\" was chosen to commemorate his grandfather, who was', \"practice. During this time, he made many trips on horseback between various counties' courthouses. Beveridge, (1928) 1: 428-33; Donald (1995) p. 140-43. In the 1920s historical markers were placed at the county lines along the route Lincoln traveled in the eight judicial district. This example is on the border of\", 'in December of 1808 for $200 cash and assumption of a debt. The farm site is now preserved as part of Abraham Lincoln Birthplace National Historic Site. The family belonged to a Baptist church that had seceded from a larger church over the issue of slavery. Though Lincoln was exposed', \"in burying the dead from the Battle of Stillman's Run the day after Major Isaiah Stillman's troops fled the field of battle. Abraham Lincoln Online Retrieved on March 11, 2007 For several months, Lincoln ran a small store in New Salem, selling tea, coffee, sugar, salt, blue calico, brown muslin,\"]\n",
      "k: 10\n",
      "[ChatCompletionChoice(index=0, message=AssistantMessage(content=\"No context. The provided text does not mention any trail where Lincoln used a Farmers' Almanac.\", tool_calls=None, prefix=False, role='assistant'), finish_reason='stop')]\n",
      "Query: What trail did Lincoln use a Farmers' Almanac in?\n",
      "Answer: No context. The provided text does not mention any trail where Lincoln used a Farmers' Almanac.\n",
      "Context - reranked: [\"time--to show that an eyewitness had lied on the stand. After the witness testified to having seen the crime by moonlight, Lincoln produced a Farmers' Almanac to show that the moon on that date was at such a low angle that it could not have provided enough illumination to see\", 'Lincoln and Nancy Hanks, two uneducated farmers. Lincoln was born in a one-room log cabin on the Sinking Spring Farm, in southeast Hardin County, Kentucky (now part of LaRue County). This area was at the time considered the \"frontier.\" The name \"Abraham\" was chosen to commemorate his grandfather, who was', 'exploited to the full. The goal was to emphasize the superior power of \"free labor,\" whereby a common farm boy could work his way to the top by his own efforts. Thomas (1952) p 216; Reinhard H. Luthin, The First Lincoln Campaign (1944); Nevins vol 4; On November 6, 1860,', \"practice. During this time, he made many trips on horseback between various counties' courthouses. Beveridge, (1928) 1: 428-33; Donald (1995) p. 140-43. In the 1920s historical markers were placed at the county lines along the route Lincoln traveled in the eight judicial district. This example is on the border of\", 'in December of 1808 for $200 cash and assumption of a debt. The farm site is now preserved as part of Abraham Lincoln Birthplace National Historic Site. The family belonged to a Baptist church that had seceded from a larger church over the issue of slavery. Though Lincoln was exposed']\n",
      "k: 20\n",
      "[ChatCompletionChoice(index=0, message=AssistantMessage(content=\"No context. The provided context does not mention any trail where Lincoln used a Farmers' Almanac.\", tool_calls=None, prefix=False, role='assistant'), finish_reason='stop')]\n",
      "Query: What trail did Lincoln use a Farmers' Almanac in?\n",
      "Answer: No context. The provided context does not mention any trail where Lincoln used a Farmers' Almanac.\n",
      "Context - reranked: [\"time--to show that an eyewitness had lied on the stand. After the witness testified to having seen the crime by moonlight, Lincoln produced a Farmers' Almanac to show that the moon on that date was at such a low angle that it could not have provided enough illumination to see\", 'Lincoln and Nancy Hanks, two uneducated farmers. Lincoln was born in a one-room log cabin on the Sinking Spring Farm, in southeast Hardin County, Kentucky (now part of LaRue County). This area was at the time considered the \"frontier.\" The name \"Abraham\" was chosen to commemorate his grandfather, who was', 'exploited to the full. The goal was to emphasize the superior power of \"free labor,\" whereby a common farm boy could work his way to the top by his own efforts. Thomas (1952) p 216; Reinhard H. Luthin, The First Lincoln Campaign (1944); Nevins vol 4; On November 6, 1860,', \"practice. During this time, he made many trips on horseback between various counties' courthouses. Beveridge, (1928) 1: 428-33; Donald (1995) p. 140-43. In the 1920s historical markers were placed at the county lines along the route Lincoln traveled in the eight judicial district. This example is on the border of\", 'in December of 1808 for $200 cash and assumption of a debt. The farm site is now preserved as part of Abraham Lincoln Birthplace National Historic Site. The family belonged to a Baptist church that had seceded from a larger church over the issue of slavery. Though Lincoln was exposed']\n",
      "k: 50\n",
      "[ChatCompletionChoice(index=0, message=AssistantMessage(content=\"No context. The provided context does not mention any trail where Lincoln used a Farmers' Almanac.\", tool_calls=None, prefix=False, role='assistant'), finish_reason='stop')]\n",
      "Query: What trail did Lincoln use a Farmers' Almanac in?\n",
      "Answer: No context. The provided context does not mention any trail where Lincoln used a Farmers' Almanac.\n",
      "Context - reranked: [\"time--to show that an eyewitness had lied on the stand. After the witness testified to having seen the crime by moonlight, Lincoln produced a Farmers' Almanac to show that the moon on that date was at such a low angle that it could not have provided enough illumination to see\", 'Lincoln and Nancy Hanks, two uneducated farmers. Lincoln was born in a one-room log cabin on the Sinking Spring Farm, in southeast Hardin County, Kentucky (now part of LaRue County). This area was at the time considered the \"frontier.\" The name \"Abraham\" was chosen to commemorate his grandfather, who was', 'exploited to the full. The goal was to emphasize the superior power of \"free labor,\" whereby a common farm boy could work his way to the top by his own efforts. Thomas (1952) p 216; Reinhard H. Luthin, The First Lincoln Campaign (1944); Nevins vol 4; On November 6, 1860,', \"practice. During this time, he made many trips on horseback between various counties' courthouses. Beveridge, (1928) 1: 428-33; Donald (1995) p. 140-43. In the 1920s historical markers were placed at the county lines along the route Lincoln traveled in the eight judicial district. This example is on the border of\", 'noted that this move was \"partly on account of slavery,\" and partly because of difficulties with land deeds in Kentucky: Unlike land in the Northwest Territory, Kentucky never had a proper U.S. survey, and farmers often had difficulties proving title to their property. Lincoln was only nine when his mother,']\n"
     ]
    }
   ],
   "source": [
    "query = \"What trail did Lincoln use a Farmers' Almanac in?\"\n",
    "ks = [5, 10, 20, 50]\n",
    "rerank = True\n",
    "for k in ks:\n",
    "    print(f\"k: {k}\")\n",
    "    print_results(query, k, rerank)"
   ]
  },
  {
   "cell_type": "code",
   "execution_count": 54,
   "metadata": {},
   "outputs": [
    {
     "name": "stdout",
     "output_type": "stream",
     "text": [
      "k: 5\n",
      "[ChatCompletionChoice(index=0, message=AssistantMessage(content=\"No context. The provided context does not mention any trail where Lincoln used a Farmers' Almanac.\", tool_calls=None, prefix=False, role='assistant'), finish_reason='stop')]\n",
      "Query: What trail did Lincoln use a Farmers' Almanac in?\n",
      "Answer: No context. The provided context does not mention any trail where Lincoln used a Farmers' Almanac.\n",
      "Context - not reranked: [\"time--to show that an eyewitness had lied on the stand. After the witness testified to having seen the crime by moonlight, Lincoln produced a Farmers' Almanac to show that the moon on that date was at such a low angle that it could not have provided enough illumination to see\", 'in December of 1808 for $200 cash and assumption of a debt. The farm site is now preserved as part of Abraham Lincoln Birthplace National Historic Site. The family belonged to a Baptist church that had seceded from a larger church over the issue of slavery. Though Lincoln was exposed', \"practice. During this time, he made many trips on horseback between various counties' courthouses. Beveridge, (1928) 1: 428-33; Donald (1995) p. 140-43. In the 1920s historical markers were placed at the county lines along the route Lincoln traveled in the eight judicial district. This example is on the border of\", \"in burying the dead from the Battle of Stillman's Run the day after Major Isaiah Stillman's troops fled the field of battle. Abraham Lincoln Online Retrieved on March 11, 2007 For several months, Lincoln ran a small store in New Salem, selling tea, coffee, sugar, salt, blue calico, brown muslin,\", 'Lincoln and Nancy Hanks, two uneducated farmers. Lincoln was born in a one-room log cabin on the Sinking Spring Farm, in southeast Hardin County, Kentucky (now part of LaRue County). This area was at the time considered the \"frontier.\" The name \"Abraham\" was chosen to commemorate his grandfather, who was']\n",
      "k: 10\n",
      "[ChatCompletionChoice(index=0, message=AssistantMessage(content=\"No context. The provided context does not mention any trail where Lincoln used a Farmers' Almanac.\", tool_calls=None, prefix=False, role='assistant'), finish_reason='stop')]\n",
      "Query: What trail did Lincoln use a Farmers' Almanac in?\n",
      "Answer: No context. The provided context does not mention any trail where Lincoln used a Farmers' Almanac.\n",
      "Context - not reranked: [\"time--to show that an eyewitness had lied on the stand. After the witness testified to having seen the crime by moonlight, Lincoln produced a Farmers' Almanac to show that the moon on that date was at such a low angle that it could not have provided enough illumination to see\", 'in December of 1808 for $200 cash and assumption of a debt. The farm site is now preserved as part of Abraham Lincoln Birthplace National Historic Site. The family belonged to a Baptist church that had seceded from a larger church over the issue of slavery. Though Lincoln was exposed', \"practice. During this time, he made many trips on horseback between various counties' courthouses. Beveridge, (1928) 1: 428-33; Donald (1995) p. 140-43. In the 1920s historical markers were placed at the county lines along the route Lincoln traveled in the eight judicial district. This example is on the border of\", \"in burying the dead from the Battle of Stillman's Run the day after Major Isaiah Stillman's troops fled the field of battle. Abraham Lincoln Online Retrieved on March 11, 2007 For several months, Lincoln ran a small store in New Salem, selling tea, coffee, sugar, salt, blue calico, brown muslin,\", 'Lincoln and Nancy Hanks, two uneducated farmers. Lincoln was born in a one-room log cabin on the Sinking Spring Farm, in southeast Hardin County, Kentucky (now part of LaRue County). This area was at the time considered the \"frontier.\" The name \"Abraham\" was chosen to commemorate his grandfather, who was']\n",
      "k: 20\n",
      "[ChatCompletionChoice(index=0, message=AssistantMessage(content=\"No context. The provided context does not mention any trail where Lincoln used a Farmers' Almanac.\", tool_calls=None, prefix=False, role='assistant'), finish_reason='stop')]\n",
      "Query: What trail did Lincoln use a Farmers' Almanac in?\n",
      "Answer: No context. The provided context does not mention any trail where Lincoln used a Farmers' Almanac.\n",
      "Context - not reranked: [\"time--to show that an eyewitness had lied on the stand. After the witness testified to having seen the crime by moonlight, Lincoln produced a Farmers' Almanac to show that the moon on that date was at such a low angle that it could not have provided enough illumination to see\", 'in December of 1808 for $200 cash and assumption of a debt. The farm site is now preserved as part of Abraham Lincoln Birthplace National Historic Site. The family belonged to a Baptist church that had seceded from a larger church over the issue of slavery. Though Lincoln was exposed', \"practice. During this time, he made many trips on horseback between various counties' courthouses. Beveridge, (1928) 1: 428-33; Donald (1995) p. 140-43. In the 1920s historical markers were placed at the county lines along the route Lincoln traveled in the eight judicial district. This example is on the border of\", \"in burying the dead from the Battle of Stillman's Run the day after Major Isaiah Stillman's troops fled the field of battle. Abraham Lincoln Online Retrieved on March 11, 2007 For several months, Lincoln ran a small store in New Salem, selling tea, coffee, sugar, salt, blue calico, brown muslin,\", 'Lincoln and Nancy Hanks, two uneducated farmers. Lincoln was born in a one-room log cabin on the Sinking Spring Farm, in southeast Hardin County, Kentucky (now part of LaRue County). This area was at the time considered the \"frontier.\" The name \"Abraham\" was chosen to commemorate his grandfather, who was']\n",
      "k: 50\n",
      "[ChatCompletionChoice(index=0, message=AssistantMessage(content=\"No context. The provided context does not mention any trail where Lincoln used a Farmers' Almanac.\", tool_calls=None, prefix=False, role='assistant'), finish_reason='stop')]\n",
      "Query: What trail did Lincoln use a Farmers' Almanac in?\n",
      "Answer: No context. The provided context does not mention any trail where Lincoln used a Farmers' Almanac.\n",
      "Context - not reranked: [\"time--to show that an eyewitness had lied on the stand. After the witness testified to having seen the crime by moonlight, Lincoln produced a Farmers' Almanac to show that the moon on that date was at such a low angle that it could not have provided enough illumination to see\", 'in December of 1808 for $200 cash and assumption of a debt. The farm site is now preserved as part of Abraham Lincoln Birthplace National Historic Site. The family belonged to a Baptist church that had seceded from a larger church over the issue of slavery. Though Lincoln was exposed', \"practice. During this time, he made many trips on horseback between various counties' courthouses. Beveridge, (1928) 1: 428-33; Donald (1995) p. 140-43. In the 1920s historical markers were placed at the county lines along the route Lincoln traveled in the eight judicial district. This example is on the border of\", \"in burying the dead from the Battle of Stillman's Run the day after Major Isaiah Stillman's troops fled the field of battle. Abraham Lincoln Online Retrieved on March 11, 2007 For several months, Lincoln ran a small store in New Salem, selling tea, coffee, sugar, salt, blue calico, brown muslin,\", 'Lincoln and Nancy Hanks, two uneducated farmers. Lincoln was born in a one-room log cabin on the Sinking Spring Farm, in southeast Hardin County, Kentucky (now part of LaRue County). This area was at the time considered the \"frontier.\" The name \"Abraham\" was chosen to commemorate his grandfather, who was']\n"
     ]
    }
   ],
   "source": [
    "query = \"What trail did Lincoln use a Farmers' Almanac in?\"\n",
    "ks = [5, 10, 20, 50]\n",
    "rerank = False\n",
    "for k in ks:\n",
    "    print(f\"k: {k}\")\n",
    "    print_results(query, k, rerank)"
   ]
  },
  {
   "cell_type": "code",
   "execution_count": 55,
   "metadata": {},
   "outputs": [
    {
     "name": "stdout",
     "output_type": "stream",
     "text": [
      "[ChatCompletionChoice(index=0, message=AssistantMessage(content='No context.', tool_calls=None, prefix=False, role='assistant'), finish_reason='stop')]\n",
      "Query: What is the capital of France?\n",
      "Answer: No context.\n",
      "Context - reranked: ['the first Dutch province to recognize the United States, while France had been the first European country to grant diplomatic recognition, in 1778). During this visit, he also negotiated a loan of five million guilders. It was floated by Nicolaas van Staphorst and Wilhelm Willink. Up till 1794 a total', 'national self-determination) Russia to be assured independent development and international withdrawal from occupied Russian territory Restoration of Belgium to antebellum national status Alsace-Lorraine returned to France from Germany Italian borders redrawn on lines of nationality Autonomous development of Austria-Hungary as a nation, as the Austro-Hungarian Empire dissolved Romania, Serbia, Montenegro,', \"to France from 1794 to 1796. His appointment there was made difficult as he had strong sympathies for the French Revolution, but dutifully maintained President Washington's strict policy of neutrality between Britiain and France. Out of office, Monroe returned to practicing law in Virginia until elected governor there, serving from\", 'an independent Poland with access to the sea General association of the nations – a multilateral international association of nations to enforce the peace (League of Nations) The speech was controversial in America, and even more so with their Allies. France wanted high reparations from Germany as French agriculture, industry,', 'In February 1799, Adams stunned the country by sending diplomat William Vans Murray on a peace mission to France. Napoleon, realizing the animosity of the United States was doing no good, signaled his readiness for friendly relations. The Treaty of Alliance of 1778 was superseded and the United States could']\n"
     ]
    }
   ],
   "source": [
    "query = \"What is the capital of France?\"\n",
    "k = 15\n",
    "rerank = True\n",
    "print_results(query, k, rerank)"
   ]
  },
  {
   "cell_type": "markdown",
   "metadata": {},
   "source": [
    "## Observations ##"
   ]
  },
  {
   "cell_type": "markdown",
   "metadata": {},
   "source": [
    "When k is increased in the model’s answer generation, the answers tend to be clearer and more descriptive. For example, for the question \"Who was Abraham Lincoln?\" the model responds accurately because the increased k brings in enough context to fully answer the question, making reranking less necessary. However, if the full name of the person isn’t included in the query (e.g., asking \"Who was Abraham Adams?\"), the model struggles to respond correctly. This is because the context retrieved may include only \"Adams\" rather than \"Abraham Adams,\" leading to incomplete answers. As with the Lincoln query, reranking also had minimal impact when k was high, as sufficient context was already provided"
   ]
  }
 ],
 "metadata": {
  "kernelspec": {
   "display_name": "text_env",
   "language": "python",
   "name": "python3"
  },
  "language_info": {
   "codemirror_mode": {
    "name": "ipython",
    "version": 3
   },
   "file_extension": ".py",
   "mimetype": "text/x-python",
   "name": "python",
   "nbconvert_exporter": "python",
   "pygments_lexer": "ipython3",
   "version": "3.8.10"
  }
 },
 "nbformat": 4,
 "nbformat_minor": 2
}
