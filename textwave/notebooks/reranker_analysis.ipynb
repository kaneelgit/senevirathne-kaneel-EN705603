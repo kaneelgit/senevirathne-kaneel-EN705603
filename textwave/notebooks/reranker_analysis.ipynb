{
 "cells": [
  {
   "cell_type": "code",
   "execution_count": 1,
   "metadata": {},
   "outputs": [
    {
     "name": "stderr",
     "output_type": "stream",
     "text": [
      "/mnt/c/Users/wsenevi1/Desktop/Classes/AI MASTERS/senevirathne-kaneel/textwave/text_env/lib/python3.8/site-packages/sentence_transformers/cross_encoder/CrossEncoder.py:13: TqdmWarning: IProgress not found. Please update jupyter and ipywidgets. See https://ipywidgets.readthedocs.io/en/stable/user_install.html\n",
      "  from tqdm.autonotebook import tqdm, trange\n"
     ]
    }
   ],
   "source": [
    "import os, sys\n",
    "\n",
    "parent_dir = os.path.abspath(os.path.join(os.getcwd(), os.pardir))\n",
    "sys.path.insert(0, parent_dir)\n",
    "\n",
    "from pipeline import preprocess_corpus\n",
    "from modules.retrieval import indexing"
   ]
  },
  {
   "cell_type": "markdown",
   "metadata": {},
   "source": [
    "### Running a test Corpus to see check chunking stratergy ###\n",
    "\n",
    "```\n",
    "John_Adams\n",
    "\n",
    "\n",
    "\n",
    "John Adams, Jr. (October 30,1735   July 4, 1826)  was the second President of the United States (1797 1801). He also served as America's first Vice President (1789 1797). He was defeated for re-election in the \"Revolution of 1800\" by Thomas Jefferson. Adams was also the first President to reside in the newly built White House in Washington, D.C., which was completed in 1800.\n",
    "\n",
    "Adams, a sponsor of the American Revolution in Massachusetts, was a driving force for independence in 1776; Jefferson called him the \"Colossus of Independence\". He represented the Continental Congress in Europe. He was a major negotiator of the eventual peace treaty with Great Britain, and chiefly responsible for obtaining the loans from the Amsterdam money market necessary for the conduct of the Revolution. His prestige secured his two elections as Washington's Vice President and his election to succeed him.   As President, he was frustrated by battles inside his own Federalist party against a faction led by Alexander Hamilton, but he broke with them to avert a major conflict with France in 1798, during the Quasi-War crisis. He became the founder of an important family of politicians, diplomats and historians, and in recent years his reputation has improved.\n",
    "\n",
    "\n",
    "\n",
    "Birthplace of John Adams, Quincy, Massachusetts.\n",
    "John Adams was the oldest of three brothers, born on October 30, 1735 (October 19, 1735 by the Old Style, Julian calendar), in Braintree, Massachusetts, though in an area which became part of Quincy, Massachusetts in 1792. His birthplace is now part of Adams National Historical Park. His father, a farmer and a Deacon, also named John (1690-1761), was a fourth-generation descendant of Henry Adams, who immigrated from Barton St David, Somerset, England, to Massachusetts Bay Colony in about 1636, from a Welsh male line called Ap Adam.  /ref> His mother was Susanna Boylston Adams. Ferling (1992) ch 1  Who is a descendant of the Boylstons of Brookline, one of the colony's most vigorous and successful families.\n",
    "\n",
    "```\n",
    "\n",
    "For simplicity a smaller file is created with a small paragraph. Only printing first 5 embeddings."
   ]
  },
  {
   "cell_type": "code",
   "execution_count": 3,
   "metadata": {},
   "outputs": [],
   "source": [
    "#test corpus directory\n",
    "corpus_directory = '../storage/corpus_test'"
   ]
  },
  {
   "cell_type": "code",
   "execution_count": 4,
   "metadata": {},
   "outputs": [
    {
     "name": "stdout",
     "output_type": "stream",
     "text": [
      "index 0\n",
      "chunk: John_Adams John Adams, Jr. (October 30,1735 July 4, 1826) was the second President of the United States (1797 1801). He also served as America's first Vice President (1789 1797).\n",
      "Embedding: [-0.03940695 -0.00807811  0.05257349 -0.02148088 -0.0443    ]\n",
      "index 1\n",
      "chunk: He was defeated for re-election in the \"Revolution of 1800\" by Thomas Jefferson. Adams was also the first President to reside in the newly built White House in Washington, D.C., which was completed in 1800.\n",
      "Embedding: [-0.01570599  0.02180837  0.10028849 -0.0111638  -0.03596629]\n",
      "index 2\n",
      "chunk: Adams, a sponsor of the American Revolution in Massachusetts, was a driving force for independence in 1776; Jefferson called him the \"Colossus of Independence\". He represented the Continental Congress in Europe.\n",
      "Embedding: [-0.06091342 -0.00299258  0.03134836 -0.00079028  0.04232774]\n",
      "index 3\n",
      "chunk: He was a major negotiator of the eventual peace treaty with Great Britain, and chiefly responsible for obtaining the loans from the Amsterdam money market necessary for the conduct of the Revolution. His prestige secured his two elections as Washington's Vice President and his election to succeed him.\n",
      "Embedding: [ 0.05615174  0.09881541  0.0495874  -0.07805753 -0.05562429]\n",
      "index 4\n",
      "chunk: As President, he was frustrated by battles inside his own Federalist party against a faction led by Alexander Hamilton, but he broke with them to avert a major conflict with France in 1798, during the Quasi-War crisis. He became the founder of an important family of politicians, diplomats and historians, and in recent years his reputation has improved.\n",
      "Embedding: [-0.02417151 -0.01513822  0.05338457 -0.03014376  0.00408164]\n"
     ]
    }
   ],
   "source": [
    "\n",
    "chunks, embeddings = preprocess_corpus(corpus_directory, 'sentence', overlap_size = 2)\n",
    "\n",
    "for i, chunk in enumerate(chunks[:5]):\n",
    "    print(f\"index {i}\")\n",
    "    print(f\"chunk: {chunk}\")\n",
    "    print(f\"Embedding: {embeddings[i][:5]}\")\n",
    "    "
   ]
  },
  {
   "cell_type": "code",
   "execution_count": 5,
   "metadata": {},
   "outputs": [
    {
     "name": "stdout",
     "output_type": "stream",
     "text": [
      "index 0\n",
      "chunk: John_Adams John Adams, Jr. (October 30,1735 July 4, 1826) was the second President of the United States (1797 1801). He also served as America's first Vice President (1789 1797). He was defeated for re-election in the \"Revolution of 1800\" by Thomas Jefferson. Adams was also the first President to reside in the newly built White House in Washington, D.C., which was completed in 1800.\n",
      "Embedding: [-0.03373963 -0.00164346  0.06931225 -0.02650399 -0.04892938]\n",
      "index 1\n",
      "chunk: Adams, a sponsor of the American Revolution in Massachusetts, was a driving force for independence in 1776; Jefferson called him the \"Colossus of Independence\". He represented the Continental Congress in Europe. He was a major negotiator of the eventual peace treaty with Great Britain, and chiefly responsible for obtaining the loans from the Amsterdam money market necessary for the conduct of the Revolution. His prestige secured his two elections as Washington's Vice President and his election to succeed him.\n",
      "Embedding: [-0.03293295  0.01204256  0.05153134 -0.03256011  0.01574124]\n",
      "index 2\n",
      "chunk: As President, he was frustrated by battles inside his own Federalist party against a faction led by Alexander Hamilton, but he broke with them to avert a major conflict with France in 1798, during the Quasi-War crisis. He became the founder of an important family of politicians, diplomats and historians, and in recent years his reputation has improved. Birthplace of John Adams, Quincy, Massachusetts. John Adams was the oldest of three brothers, born on October 30, 1735 (October 19, 1735 by the Old Style, Julian calendar), in Braintree, Massachusetts, though in an area which became part of Quincy, Massachusetts in 1792.\n",
      "Embedding: [-0.06440989 -0.00191239  0.01963879 -0.0289409  -0.01703633]\n",
      "index 3\n",
      "chunk: His birthplace is now part of Adams National Historical Park. His father, a farmer and a Deacon, also named John (1690-1761), was a fourth-generation descendant of Henry Adams, who immigrated from Barton St David, Somerset, England, to Massachusetts Bay Colony in about 1636, from a Welsh male line called Ap Adam. /ref> His mother was Susanna Boylston Adams. Ferling (1992) ch 1 Who is a descendant of the Boylstons of Brookline, one of the colony's most vigorous and successful families.\n",
      "Embedding: [-0.0099592   0.06318295  0.0306482  -0.03579827 -0.00149398]\n"
     ]
    }
   ],
   "source": [
    "chunks, embeddings = preprocess_corpus(corpus_directory, 'sentence', overlap_size = 4)\n",
    "\n",
    "for i, chunk in enumerate(chunks[:5]):\n",
    "    print(f\"index {i}\")\n",
    "    print(f\"chunk: {chunk}\")\n",
    "    print(f\"Embedding: {embeddings[i][:5]}\")"
   ]
  },
  {
   "cell_type": "code",
   "execution_count": 6,
   "metadata": {},
   "outputs": [
    {
     "name": "stdout",
     "output_type": "stream",
     "text": [
      "index 0\n",
      "chunk: John_Adams John Adams, Jr. (October 30,1735 July 4, 1826) was the second President of the United States (1797 1801). He also served as America's first Vice President (1789 1797). He was defeated for re-election in the \"Revolution of 1800\" by Thomas Jefferson. Adams was also the first President to reside\n",
      "Embedding: [-0.04312722 -0.02390901  0.0486779  -0.03950552 -0.05426732]\n",
      "index 1\n",
      "chunk: to reside in the newly built White House in Washington, D.C., which was completed in 1800. Adams, a sponsor of the American Revolution in Massachusetts, was a driving force for independence in 1776; Jefferson called him the \"Colossus of Independence\". He represented the Continental Congress in Europe. He was a\n",
      "Embedding: [-0.05122147  0.00507464  0.07524404  0.01296466  0.02073887]\n",
      "index 2\n",
      "chunk: was a major negotiator of the eventual peace treaty with Great Britain, and chiefly responsible for obtaining the loans from the Amsterdam money market necessary for the conduct of the Revolution. His prestige secured his two elections as Washington's Vice President and his election to succeed him. As President, he\n",
      "Embedding: [ 0.05803295  0.10641907  0.05351292 -0.09012476 -0.05396485]\n",
      "index 3\n",
      "chunk: President, he was frustrated by battles inside his own Federalist party against a faction led by Alexander Hamilton, but he broke with them to avert a major conflict with France in 1798, during the Quasi-War crisis. He became the founder of an important family of politicians, diplomats and historians, and\n",
      "Embedding: [-0.03254208 -0.00787878  0.05077742 -0.02381927  0.01394789]\n",
      "index 4\n",
      "chunk: historians, and in recent years his reputation has improved. Birthplace of John Adams, Quincy, Massachusetts. John Adams was the oldest of three brothers, born on October 30, 1735 (October 19, 1735 by the Old Style, Julian calendar), in Braintree, Massachusetts, though in an area which became part of Quincy, Massachusetts\n",
      "Embedding: [-0.05037925  0.02580532 -0.00157302 -0.00134723 -0.02623508]\n"
     ]
    }
   ],
   "source": [
    "chunks, embeddings = preprocess_corpus(corpus_directory, 'fixed-length', fixed_length = 50, overlap_size = 3)\n",
    "\n",
    "for i, chunk in enumerate(chunks[:5]):\n",
    "    print(f\"index {i}\")\n",
    "    print(f\"chunk: {chunk}\")\n",
    "    print(f\"Embedding: {embeddings[i][:5]}\")"
   ]
  },
  {
   "cell_type": "code",
   "execution_count": 7,
   "metadata": {},
   "outputs": [
    {
     "name": "stdout",
     "output_type": "stream",
     "text": [
      "index 0\n",
      "chunk: John_Adams John Adams, Jr. (October 30,1735 July 4, 1826) was the second President of the United States (1797 1801). He also served as America's first Vice President (1789 1797). He was defeated for re-election in the \"Revolution of 1800\" by Thomas Jefferson. Adams was also the first President to reside in the newly built White House in Washington, D.C., which was completed in 1800. Adams, a sponsor of the American Revolution in Massachusetts, was a driving force for independence in 1776; Jefferson called him the \"Colossus of Independence\". He represented the Continental Congress in Europe. He was a major negotiator\n",
      "Embedding: [-0.04931711 -0.01893659  0.06587866 -0.02098601 -0.03540759]\n",
      "index 1\n",
      "chunk: major negotiator of the eventual peace treaty with Great Britain, and chiefly responsible for obtaining the loans from the Amsterdam money market necessary for the conduct of the Revolution. His prestige secured his two elections as Washington's Vice President and his election to succeed him. As President, he was frustrated by battles inside his own Federalist party against a faction led by Alexander Hamilton, but he broke with them to avert a major conflict with France in 1798, during the Quasi-War crisis. He became the founder of an important family of politicians, diplomats and historians, and in recent years his\n",
      "Embedding: [ 0.03662967  0.06002058  0.08703536 -0.08554132 -0.04125639]\n",
      "index 2\n",
      "chunk: years his reputation has improved. Birthplace of John Adams, Quincy, Massachusetts. John Adams was the oldest of three brothers, born on October 30, 1735 (October 19, 1735 by the Old Style, Julian calendar), in Braintree, Massachusetts, though in an area which became part of Quincy, Massachusetts in 1792. His birthplace is now part of Adams National Historical Park. His father, a farmer and a Deacon, also named John (1690-1761), was a fourth-generation descendant of Henry Adams, who immigrated from Barton St David, Somerset, England, to Massachusetts Bay Colony in about 1636, from a Welsh male line called Ap Adam. /ref>\n",
      "Embedding: [-0.04384502  0.01180764  0.00687256 -0.00959256 -0.00561155]\n",
      "index 3\n",
      "chunk: the Old Style, Julian calendar), in Braintree, Massachusetts, though in an area which became part of Quincy, Massachusetts in 1792. His birthplace is now part of Adams National Historical Park. His father, a farmer and a Deacon, also named John (1690-1761), was a fourth-generation descendant of Henry Adams, who immigrated from Barton St David, Somerset, England, to Massachusetts Bay Colony in about 1636, from a Welsh male line called Ap Adam. /ref> His mother was Susanna Boylston Adams. Ferling (1992) ch 1 Who is a descendant of the Boylstons of Brookline, one of the colony's most vigorous and successful families.\n",
      "Embedding: [-0.01358395  0.05254     0.07673107 -0.02663801 -0.00055003]\n"
     ]
    }
   ],
   "source": [
    "chunks, embeddings = preprocess_corpus(corpus_directory, 'fixed-length', fixed_length = 100, overlap_size = 2)\n",
    "\n",
    "for i, chunk in enumerate(chunks[:5]):\n",
    "    print(f\"index {i}\")\n",
    "    print(f\"chunk: {chunk}\")\n",
    "    print(f\"Embedding: {embeddings[i][:5]}\")"
   ]
  },
  {
   "cell_type": "code",
   "execution_count": 8,
   "metadata": {},
   "outputs": [
    {
     "name": "stdout",
     "output_type": "stream",
     "text": [
      "index 0\n",
      "chunk: John_Adams John Adams, Jr. (October 30,1735 July 4, 1826) was the second President of the United States (1797 1801). He also served as America's first Vice President (1789 1797). He was defeated for re-election in the \"Revolution of 1800\" by Thomas Jefferson. Adams was also the first President to reside in the newly built White House in Washington, D.C., which was completed in 1800. Adams, a sponsor of the American Revolution in Massachusetts, was a driving force for independence in 1776; Jefferson called him the \"Colossus of Independence\". He represented the Continental Congress in Europe. He was a major negotiator of the eventual peace treaty with Great Britain, and chiefly responsible for obtaining the loans from the Amsterdam money market necessary for the conduct of the Revolution. His prestige secured his two elections as Washington's Vice President and his election to succeed him. As President, he was frustrated by battles\n",
      "Embedding: [-0.04669134 -0.01158107  0.08799667 -0.0369159  -0.04535264]\n",
      "index 1\n",
      "chunk: by battles inside his own Federalist party against a faction led by Alexander Hamilton, but he broke with them to avert a major conflict with France in 1798, during the Quasi-War crisis. He became the founder of an important family of politicians, diplomats and historians, and in recent years his reputation has improved. Birthplace of John Adams, Quincy, Massachusetts. John Adams was the oldest of three brothers, born on October 30, 1735 (October 19, 1735 by the Old Style, Julian calendar), in Braintree, Massachusetts, though in an area which became part of Quincy, Massachusetts in 1792. His birthplace is now part of Adams National Historical Park. His father, a farmer and a Deacon, also named John (1690-1761), was a fourth-generation descendant of Henry Adams, who immigrated from Barton St David, Somerset, England, to Massachusetts Bay Colony in about 1636, from a Welsh male line called Ap Adam. /ref> His mother\n",
      "Embedding: [-0.05444896  0.00870675  0.01059953 -0.02247507 -0.00142474]\n",
      "index 2\n",
      "chunk: in 1798, during the Quasi-War crisis. He became the founder of an important family of politicians, diplomats and historians, and in recent years his reputation has improved. Birthplace of John Adams, Quincy, Massachusetts. John Adams was the oldest of three brothers, born on October 30, 1735 (October 19, 1735 by the Old Style, Julian calendar), in Braintree, Massachusetts, though in an area which became part of Quincy, Massachusetts in 1792. His birthplace is now part of Adams National Historical Park. His father, a farmer and a Deacon, also named John (1690-1761), was a fourth-generation descendant of Henry Adams, who immigrated from Barton St David, Somerset, England, to Massachusetts Bay Colony in about 1636, from a Welsh male line called Ap Adam. /ref> His mother was Susanna Boylston Adams. Ferling (1992) ch 1 Who is a descendant of the Boylstons of Brookline, one of the colony's most vigorous and successful families.\n",
      "Embedding: [-0.06363734  0.02756752  0.00510485 -0.01719896 -0.02772376]\n"
     ]
    }
   ],
   "source": [
    "chunks, embeddings = preprocess_corpus(corpus_directory, 'fixed-length', fixed_length = 150, overlap_size = 1)\n",
    "\n",
    "for i, chunk in enumerate(chunks[:5]):\n",
    "    print(f\"index {i}\")\n",
    "    print(f\"chunk: {chunk}\")\n",
    "    print(f\"Embedding: {embeddings[i][:5]}\")"
   ]
  },
  {
   "cell_type": "markdown",
   "metadata": {},
   "source": [
    "### Preprocess the corpus directory and create Faiss Index ###\n",
    "\n",
    "Create an index with 'Abraham Lincoln' content."
   ]
  },
  {
   "cell_type": "code",
   "execution_count": 42,
   "metadata": {},
   "outputs": [],
   "source": [
    "# Instantiate the FaissIndex class\n",
    "corpus_directory = \"../storage/corpus_al\"\n",
    "faiss_index = indexing.FaissIndex(index_type='brute_force')  \n",
    "chunks, embeddings = preprocess_corpus(corpus_directory, 'sentence', overlap_size = 2, faiss_index = faiss_index, index_dir = \"../storage/catalog/faiss.index\", \\\n",
    "                                       metadata_dir = \"../storage/catalog/metadata.pkl\")"
   ]
  },
  {
   "cell_type": "code",
   "execution_count": 43,
   "metadata": {},
   "outputs": [
    {
     "data": {
      "text/plain": [
       "['Abraham Lincoln Abraham Lincoln (February 12, 1809 – April 15, 1865) was the sixteenth President of the United States, serving from March 4, 1861 until his assassination. As an outspoken opponent of the expansion of slavery in the United States, \"[I]n his short autobiography written for the 1860 presidential campaign, Lincoln would describe his protest in the Illinois legislature as one that \\'briefly defined his position on the slavery question, and so far as it goes, it was then the same that it is now.\"',\n",
       " 'This was in reference to the anti-expansion sentiments he had then expressed. Doris Kearns Goodwin, Team of Rivals: The Political Genius of Abraham Lincoln (2005) p. 91.',\n",
       " 'Holzer pg. 232.',\n",
       " 'Writing of the Cooper Union speech, Holzer notes, \"Cooper Union proved a unique confluence of political culture, rhetorical opportunity, technological innovation, and human genius, and it brought Abraham Lincoln to the center stage of American politics at precisely the right time and place, and with precisely the right message: that slavery was wrong, and ought to be confined to the areas where it already existed, and placed on the \\'course of ultimate extinction... .\\'\"',\n",
       " 'Lincoln won the Republican Party nomination in 1860 and was elected president later that year. During his term, he helped preserve the United States by leading the defeat of the secessionist Confederate States of America in the American Civil War.']"
      ]
     },
     "execution_count": 43,
     "metadata": {},
     "output_type": "execute_result"
    }
   ],
   "source": [
    "chunks[:5]"
   ]
  },
  {
   "cell_type": "markdown",
   "metadata": {},
   "source": [
    "### Reranking analysis ###\n",
    "\n",
    "Here we will use 3 questions from 'Abraham Lincoln'.\n",
    "\n",
    "Easy - Was Abraham Lincoln the sixteenth President of the United States?\n",
    "\n",
    "Medium - When did Lincoln begin his political career?\n",
    "\n",
    "Hard - When did the Gettysburg address argue that America was born?\n"
   ]
  },
  {
   "cell_type": "code",
   "execution_count": 38,
   "metadata": {},
   "outputs": [],
   "source": [
    "from modules.retrieval.search import FaissSearch\n",
    "from modules.extraction import embedding\n",
    "from modules.retrieval.reranking import Reranker"
   ]
  },
  {
   "cell_type": "code",
   "execution_count": 39,
   "metadata": {},
   "outputs": [],
   "source": [
    "#load faiss index\n",
    "faiss_index = indexing.FaissIndex()\n",
    "faiss_index.load(faiss_path = \"../storage/catalog/faiss.index\", metadata_path = \"../storage/catalog/metadata.pkl\")\n",
    "faiss_index_bf = FaissSearch(faiss_index, metric='euclidean')"
   ]
  },
  {
   "cell_type": "code",
   "execution_count": 37,
   "metadata": {},
   "outputs": [],
   "source": [
    "#initialize embedding model\n",
    "embedding_model_name = 'all-MiniLM-L6-v2'\n",
    "embedding_model = embedding.Embedding(embedding_model_name)"
   ]
  },
  {
   "cell_type": "code",
   "execution_count": 44,
   "metadata": {},
   "outputs": [],
   "source": [
    "#easy medium and hard queries\n",
    "easy_query = \"Was Abraham Lincoln the sixteenth President of the United States?\"\n",
    "med_query = \"When did Lincoln begin his political career?\"\n",
    "hard_query = \"When did the Gettysburg address argue that America was born?\""
   ]
  },
  {
   "cell_type": "code",
   "execution_count": 20,
   "metadata": {},
   "outputs": [
    {
     "name": "stdout",
     "output_type": "stream",
     "text": [
      "QUERY: Was John Adams the second president of the united states?\n",
      "NEAREST NEIGHBORS RESULTS:\n",
      "Neighbor 1: Index 0, Distance 0.5333116054534912, Documents: John_Adams John Adams, Jr. (October 30,1735 July 4, 1826) was the second President of the United States (1797 1801). He also served as America's first Vice President (1789 1797).\n",
      "Neighbor 2: Index 2, Distance 0.806967556476593, Documents: Adams, a sponsor of the American Revolution in Massachusetts, was a driving force for independence in 1776; Jefferson called him the \"Colossus of Independence\". He represented the Continental Congress in Europe.\n",
      "Neighbor 3: Index 1, Distance 0.8147862553596497, Documents: He was defeated for re-election in the \"Revolution of 1800\" by Thomas Jefferson. Adams was also the first President to reside in the newly built White House in Washington, D.C., which was completed in 1800.\n",
      "Neighbor 4: Index 6, Distance 0.8380649089813232, Documents: His birthplace is now part of Adams National Historical Park. His father, a farmer and a Deacon, also named John (1690-1761), was a fourth-generation descendant of Henry Adams, who immigrated from Barton St David, Somerset, England, to Massachusetts Bay Colony in about 1636, from a Welsh male line called Ap Adam.\n",
      "Neighbor 5: Index 5, Distance 0.9649316668510437, Documents: Birthplace of John Adams, Quincy, Massachusetts. John Adams was the oldest of three brothers, born on October 30, 1735 (October 19, 1735 by the Old Style, Julian calendar), in Braintree, Massachusetts, though in an area which became part of Quincy, Massachusetts in 1792.\n"
     ]
    }
   ],
   "source": [
    "#query\n",
    "query = \"Was John Adams the second president of the united states?\"\n",
    "print(\"QUERY:\", query)\n",
    "query_embedding = embedding_model.encode([query])\n",
    "distances_ivf, indices_ivf, metadata_ivf = faiss_index_bf.search(query_embedding, k=5)\n",
    "print(\"NEAREST NEIGHBORS RESULTS:\")\n",
    "for i in range(5):\n",
    "    print(f\"Neighbor {i+1}: Index {indices_ivf[0][i]}, Distance {distances_ivf[0][i]}, Documents: {metadata_ivf[i]}\")"
   ]
  },
  {
   "cell_type": "code",
   "execution_count": 22,
   "metadata": {},
   "outputs": [
    {
     "name": "stdout",
     "output_type": "stream",
     "text": [
      "RERANKED RESULTS:\n",
      "Rerank Document 1: Scores 8.091378193221031, Documents: John_Adams John Adams, Jr. (October 30,1735 July 4, 1826) was the second President of the United States (1797 1801). He also served as America's first Vice President (1789 1797).\n",
      "Rerank Document 2: Scores 2.0629563133869206, Documents: He was defeated for re-election in the \"Revolution of 1800\" by Thomas Jefferson. Adams was also the first President to reside in the newly built White House in Washington, D.C., which was completed in 1800.\n",
      "Rerank Document 3: Scores 0.8592605816942595, Documents: Adams, a sponsor of the American Revolution in Massachusetts, was a driving force for independence in 1776; Jefferson called him the \"Colossus of Independence\". He represented the Continental Congress in Europe.\n",
      "Rerank Document 4: Scores -2.1770772264721643, Documents: His birthplace is now part of Adams National Historical Park. His father, a farmer and a Deacon, also named John (1690-1761), was a fourth-generation descendant of Henry Adams, who immigrated from Barton St David, Somerset, England, to Massachusetts Bay Colony in about 1636, from a Welsh male line called Ap Adam.\n",
      "Rerank Document 5: Scores -2.3326287195429214, Documents: Birthplace of John Adams, Quincy, Massachusetts. John Adams was the oldest of three brothers, born on October 30, 1735 (October 19, 1735 by the Old Style, Julian calendar), in Braintree, Massachusetts, though in an area which became part of Quincy, Massachusetts in 1792.\n"
     ]
    }
   ],
   "source": [
    "reranker = Reranker(type=\"hybrid\")\n",
    "\n",
    "print(\"RERANKED RESULTS:\")\n",
    "ranked_documents, ranked_indices, scores = reranker.rerank(query, context=metadata_ivf)\n",
    "for i in range(5):\n",
    "    print(f\"Rerank Document {i+1}: Scores {scores[i]}, Documents: {ranked_documents[i]}\")"
   ]
  },
  {
   "cell_type": "code",
   "execution_count": null,
   "metadata": {},
   "outputs": [],
   "source": []
  }
 ],
 "metadata": {
  "kernelspec": {
   "display_name": "text_env",
   "language": "python",
   "name": "python3"
  },
  "language_info": {
   "codemirror_mode": {
    "name": "ipython",
    "version": 3
   },
   "file_extension": ".py",
   "mimetype": "text/x-python",
   "name": "python",
   "nbconvert_exporter": "python",
   "pygments_lexer": "ipython3",
   "version": "3.8.10"
  }
 },
 "nbformat": 4,
 "nbformat_minor": 2
}
