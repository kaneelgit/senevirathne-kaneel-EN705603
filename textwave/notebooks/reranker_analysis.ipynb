{
 "cells": [
  {
   "cell_type": "code",
   "execution_count": 2,
   "metadata": {},
   "outputs": [],
   "source": [
    "import os, sys\n",
    "\n",
    "parent_dir = os.path.abspath(os.path.join(os.getcwd(), os.pardir))\n",
    "sys.path.insert(0, parent_dir)\n"
   ]
  },
  {
   "cell_type": "code",
   "execution_count": 3,
   "metadata": {},
   "outputs": [
    {
     "name": "stderr",
     "output_type": "stream",
     "text": [
      "/mnt/c/Users/wsenevi1/Desktop/Classes/AI MASTERS/senevirathne-kaneel/textwave/text_env/lib/python3.8/site-packages/sentence_transformers/cross_encoder/CrossEncoder.py:13: TqdmWarning: IProgress not found. Please update jupyter and ipywidgets. See https://ipywidgets.readthedocs.io/en/stable/user_install.html\n",
      "  from tqdm.autonotebook import tqdm, trange\n"
     ]
    }
   ],
   "source": [
    "from pipeline import preprocess_corpus"
   ]
  },
  {
   "cell_type": "code",
   "execution_count": 4,
   "metadata": {},
   "outputs": [],
   "source": [
    "corpus_directory = '../storage/corpus_test'"
   ]
  },
  {
   "cell_type": "markdown",
   "metadata": {},
   "source": [
    "For simplicity a smaller file is created with a small paragraph. Only printing first 5 embeddings."
   ]
  },
  {
   "cell_type": "code",
   "execution_count": 5,
   "metadata": {},
   "outputs": [],
   "source": [
    "chunks, embeddings = preprocess_corpus(corpus_directory, 'sentence', overlap_size = 2)"
   ]
  },
  {
   "cell_type": "code",
   "execution_count": 6,
   "metadata": {},
   "outputs": [
    {
     "name": "stdout",
     "output_type": "stream",
     "text": [
      "index 0\n",
      "chunk: John_Adams John Adams, Jr. (October 30,1735 July 4, 1826) was the second President of the United States (1797 1801). He also served as America's first Vice President (1789 1797).\n",
      "Embedding: [-0.03940695 -0.00807813  0.0525735  -0.02148082 -0.0443    ]\n",
      "index 1\n",
      "chunk: He was defeated for re-election in the \"Revolution of 1800\" by Thomas Jefferson. Adams was also the first President to reside in the newly built White House in Washington, D.C., which was completed in 1800.\n",
      "Embedding: [-0.01570598  0.02180839  0.10028849 -0.01116382 -0.03596629]\n",
      "index 2\n",
      "chunk: Adams, a sponsor of the American Revolution in Massachusetts, was a driving force for independence in 1776; Jefferson called him the \"Colossus of Independence\". He represented the Continental Congress in Europe.\n",
      "Embedding: [-0.06091343 -0.0029926   0.03134836 -0.00079027  0.0423277 ]\n",
      "index 3\n",
      "chunk: He was a major negotiator of the eventual peace treaty with Great Britain, and chiefly responsible for obtaining the loans from the Amsterdam money market necessary for the conduct of the Revolution. His prestige secured his two elections as Washington's Vice President and his election to succeed him.\n",
      "Embedding: [ 0.0561517   0.09881543  0.04958737 -0.07805753 -0.05562429]\n",
      "index 4\n",
      "chunk: As President, he was frustrated by battles inside his own Federalist party against a faction led by Alexander Hamilton, but he broke with them to avert a major conflict with France in 1798, during the Quasi-War crisis. He became the founder of an important family of politicians, diplomats and historians, and in recent years his reputation has improved.\n",
      "Embedding: [-0.02417154 -0.01513819  0.05338457 -0.03014377  0.00408162]\n",
      "index 5\n",
      "chunk: Birthplace of John Adams, Quincy, Massachusetts. John Adams was the oldest of three brothers, born on October 30, 1735 (October 19, 1735 by the Old Style, Julian calendar), in Braintree, Massachusetts, though in an area which became part of Quincy, Massachusetts in 1792.\n",
      "Embedding: [-0.04880377  0.03534536 -0.00077171 -0.00689027 -0.02469559]\n",
      "index 6\n",
      "chunk: His birthplace is now part of Adams National Historical Park. His father, a farmer and a Deacon, also named John (1690-1761), was a fourth-generation descendant of Henry Adams, who immigrated from Barton St David, Somerset, England, to Massachusetts Bay Colony in about 1636, from a Welsh male line called Ap Adam.\n",
      "Embedding: [-0.00438311  0.04050028  0.02407059 -0.01062931  0.02065705]\n",
      "index 7\n",
      "chunk: /ref> His mother was Susanna Boylston Adams. Ferling (1992) ch 1 Who is a descendant of the Boylstons of Brookline, one of the colony's most vigorous and successful families.\n",
      "Embedding: [-0.01187665  0.06311841  0.01212211 -0.02500255 -0.04547819]\n"
     ]
    }
   ],
   "source": [
    "for i, chunk in enumerate(chunks[:10]):\n",
    "    print(f\"index {i}\")\n",
    "    print(f\"chunk: {chunk}\")\n",
    "    print(f\"Embedding: {embeddings[i][:5]}\")\n",
    "    "
   ]
  },
  {
   "cell_type": "code",
   "execution_count": 7,
   "metadata": {},
   "outputs": [
    {
     "name": "stdout",
     "output_type": "stream",
     "text": [
      "index 0\n",
      "chunk: John_Adams John Adams, Jr. (October 30,1735 July 4, 1826) was the second President of the United States (1797 1801). He also served as America's first Vice President (1789 1797). He was defeated for re-election in the \"Revolution of 1800\" by Thomas Jefferson. Adams was also the first President to reside in the newly built White House in Washington, D.C., which was completed in 1800.\n",
      "Embedding: [-0.03373962 -0.00164344  0.06931232 -0.02650396 -0.04892938]\n",
      "index 1\n",
      "chunk: Adams, a sponsor of the American Revolution in Massachusetts, was a driving force for independence in 1776; Jefferson called him the \"Colossus of Independence\". He represented the Continental Congress in Europe. He was a major negotiator of the eventual peace treaty with Great Britain, and chiefly responsible for obtaining the loans from the Amsterdam money market necessary for the conduct of the Revolution. His prestige secured his two elections as Washington's Vice President and his election to succeed him.\n",
      "Embedding: [-0.03293299  0.01204254  0.05153137 -0.03256004  0.01574125]\n",
      "index 2\n",
      "chunk: As President, he was frustrated by battles inside his own Federalist party against a faction led by Alexander Hamilton, but he broke with them to avert a major conflict with France in 1798, during the Quasi-War crisis. He became the founder of an important family of politicians, diplomats and historians, and in recent years his reputation has improved. Birthplace of John Adams, Quincy, Massachusetts. John Adams was the oldest of three brothers, born on October 30, 1735 (October 19, 1735 by the Old Style, Julian calendar), in Braintree, Massachusetts, though in an area which became part of Quincy, Massachusetts in 1792.\n",
      "Embedding: [-0.06440984 -0.00191239  0.01963871 -0.02894089 -0.01703631]\n",
      "index 3\n",
      "chunk: His birthplace is now part of Adams National Historical Park. His father, a farmer and a Deacon, also named John (1690-1761), was a fourth-generation descendant of Henry Adams, who immigrated from Barton St David, Somerset, England, to Massachusetts Bay Colony in about 1636, from a Welsh male line called Ap Adam. /ref> His mother was Susanna Boylston Adams. Ferling (1992) ch 1 Who is a descendant of the Boylstons of Brookline, one of the colony's most vigorous and successful families.\n",
      "Embedding: [-0.00995914  0.06318292  0.03064814 -0.03579831 -0.00149397]\n"
     ]
    }
   ],
   "source": [
    "chunks, embeddings = preprocess_corpus(corpus_directory, 'sentence', overlap_size = 4)\n",
    "\n",
    "for i, chunk in enumerate(chunks[:10]):\n",
    "    print(f\"index {i}\")\n",
    "    print(f\"chunk: {chunk}\")\n",
    "    print(f\"Embedding: {embeddings[i][:5]}\")"
   ]
  },
  {
   "cell_type": "code",
   "execution_count": 8,
   "metadata": {},
   "outputs": [
    {
     "name": "stdout",
     "output_type": "stream",
     "text": [
      "index 0\n",
      "chunk: John_Adams John Adams, Jr. (October 30,1735 July 4\n",
      "Embedding: [-0.04780705  0.1031953   0.01618626  0.02246794 -0.04901537]\n",
      "index 1\n",
      "chunk: ohn_Adams John Adams, Jr. (October 30,1735 July 4,\n",
      "Embedding: [-0.05823069  0.12462113  0.02388253  0.01936229 -0.04872508]\n",
      "index 2\n",
      "chunk: hn_Adams John Adams, Jr. (October 30,1735 July 4, \n",
      "Embedding: [-0.05329129  0.12709019  0.00995283  0.01356957 -0.05319816]\n",
      "index 3\n",
      "chunk: n_Adams John Adams, Jr. (October 30,1735 July 4, 1\n",
      "Embedding: [-0.04620202  0.11066259  0.01034221  0.02888938 -0.0588345 ]\n",
      "index 4\n",
      "chunk: _Adams John Adams, Jr. (October 30,1735 July 4, 18\n",
      "Embedding: [-0.03768923  0.11442713  0.01393658  0.02584029 -0.05812985]\n",
      "index 5\n",
      "chunk: Adams John Adams, Jr. (October 30,1735 July 4, 182\n",
      "Embedding: [-0.02174694  0.09334301  0.00026233  0.00790445 -0.04377374]\n",
      "index 6\n",
      "chunk: dams John Adams, Jr. (October 30,1735 July 4, 1826\n",
      "Embedding: [-0.0769107   0.0690028   0.01604145  0.00313352 -0.01902836]\n",
      "index 7\n",
      "chunk: ams John Adams, Jr. (October 30,1735 July 4, 1826)\n",
      "Embedding: [-0.03449722  0.0807463   0.02010955 -0.00480469 -0.02430497]\n",
      "index 8\n",
      "chunk: ms John Adams, Jr. (October 30,1735 July 4, 1826) \n",
      "Embedding: [-0.02458329  0.05106367  0.01644448 -0.00790516 -0.03001009]\n",
      "index 9\n",
      "chunk: s John Adams, Jr. (October 30,1735 July 4, 1826) w\n",
      "Embedding: [-0.03366766  0.06340551 -0.01040138 -0.01831244 -0.01868468]\n"
     ]
    }
   ],
   "source": [
    "chunks, embeddings = preprocess_corpus(corpus_directory, 'fixed-length', fixed_length = 50, overlap_size = 3)\n",
    "\n",
    "for i, chunk in enumerate(chunks[:10]):\n",
    "    print(f\"index {i}\")\n",
    "    print(f\"chunk: {chunk}\")\n",
    "    print(f\"Embedding: {embeddings[i][:5]}\")"
   ]
  },
  {
   "cell_type": "code",
   "execution_count": 9,
   "metadata": {},
   "outputs": [
    {
     "name": "stdout",
     "output_type": "stream",
     "text": [
      "index 0\n",
      "chunk: John_Adams John Adams, Jr. (October 30,1735 July 4, 1826) was the second President of the United Sta\n",
      "Embedding: [-0.00611376  0.00496855 -0.03073756 -0.02309641 -0.04853464]\n",
      "index 1\n",
      "chunk: ohn_Adams John Adams, Jr. (October 30,1735 July 4, 1826) was the second President of the United Stat\n",
      "Embedding: [-0.02835706 -0.00235212  0.00947785 -0.01716451 -0.007868  ]\n",
      "index 2\n",
      "chunk: hn_Adams John Adams, Jr. (October 30,1735 July 4, 1826) was the second President of the United State\n",
      "Embedding: [-0.02711246  0.00208601  0.02732459 -0.0112735  -0.02512116]\n",
      "index 3\n",
      "chunk: n_Adams John Adams, Jr. (October 30,1735 July 4, 1826) was the second President of the United States\n",
      "Embedding: [-0.01657647 -0.00233363  0.01388311 -0.01201337 -0.01783698]\n",
      "index 4\n",
      "chunk: _Adams John Adams, Jr. (October 30,1735 July 4, 1826) was the second President of the United States \n",
      "Embedding: [-0.00698053  0.00487198  0.01121237 -0.00312935 -0.02576392]\n",
      "index 5\n",
      "chunk: Adams John Adams, Jr. (October 30,1735 July 4, 1826) was the second President of the United States (\n",
      "Embedding: [-0.0158865  -0.01117162  0.01359599 -0.00993582 -0.00389952]\n",
      "index 6\n",
      "chunk: dams John Adams, Jr. (October 30,1735 July 4, 1826) was the second President of the United States (1\n",
      "Embedding: [-0.07574595  0.00542443  0.0332281   0.01624195 -0.00226054]\n",
      "index 7\n",
      "chunk: ams John Adams, Jr. (October 30,1735 July 4, 1826) was the second President of the United States (17\n",
      "Embedding: [-0.02263638  0.0206511   0.03523573 -0.01718885  0.0083782 ]\n",
      "index 8\n",
      "chunk: ms John Adams, Jr. (October 30,1735 July 4, 1826) was the second President of the United States (179\n",
      "Embedding: [-0.0264433  -0.01955665  0.016702   -0.00681987 -0.01137702]\n",
      "index 9\n",
      "chunk: s John Adams, Jr. (October 30,1735 July 4, 1826) was the second President of the United States (1797\n",
      "Embedding: [-0.04179356 -0.01003972  0.03186667 -0.03169142  0.02636985]\n"
     ]
    }
   ],
   "source": [
    "chunks, embeddings = preprocess_corpus(corpus_directory, 'fixed-length', fixed_length = 100, overlap_size = 2)\n",
    "\n",
    "for i, chunk in enumerate(chunks[:10]):\n",
    "    print(f\"index {i}\")\n",
    "    print(f\"chunk: {chunk}\")\n",
    "    print(f\"Embedding: {embeddings[i][:5]}\")"
   ]
  },
  {
   "cell_type": "code",
   "execution_count": 10,
   "metadata": {},
   "outputs": [
    {
     "name": "stdout",
     "output_type": "stream",
     "text": [
      "index 0\n",
      "chunk: John_Adams John Adams, Jr. (October 30,1735 July 4, 1826) was the second President of the United States (1797 1801). He also served as America's first\n",
      "Embedding: [-0.04868199 -0.02732719  0.06526751 -0.01662814 -0.03604062]\n",
      "index 1\n",
      "chunk: ohn_Adams John Adams, Jr. (October 30,1735 July 4, 1826) was the second President of the United States (1797 1801). He also served as America's first \n",
      "Embedding: [-0.04170668 -0.01945106  0.06359339 -0.01347483 -0.03234691]\n",
      "index 2\n",
      "chunk: hn_Adams John Adams, Jr. (October 30,1735 July 4, 1826) was the second President of the United States (1797 1801). He also served as America's first V\n",
      "Embedding: [-0.03855065  0.00633041  0.0539169  -0.02650061 -0.02461977]\n",
      "index 3\n",
      "chunk: n_Adams John Adams, Jr. (October 30,1735 July 4, 1826) was the second President of the United States (1797 1801). He also served as America's first Vi\n",
      "Embedding: [-0.0438858  -0.01269847  0.05126706 -0.01723963 -0.04417981]\n",
      "index 4\n",
      "chunk: _Adams John Adams, Jr. (October 30,1735 July 4, 1826) was the second President of the United States (1797 1801). He also served as America's first Vic\n",
      "Embedding: [-0.03119197 -0.01283872  0.05217836 -0.01583185 -0.05217947]\n",
      "index 5\n",
      "chunk: Adams John Adams, Jr. (October 30,1735 July 4, 1826) was the second President of the United States (1797 1801). He also served as America's first Vice\n",
      "Embedding: [-0.04292148 -0.00542921  0.0454658  -0.02868864 -0.03482485]\n",
      "index 6\n",
      "chunk: dams John Adams, Jr. (October 30,1735 July 4, 1826) was the second President of the United States (1797 1801). He also served as America's first Vice \n",
      "Embedding: [-0.08682396  0.01381122  0.04996541  0.00037184 -0.02667697]\n",
      "index 7\n",
      "chunk: ams John Adams, Jr. (October 30,1735 July 4, 1826) was the second President of the United States (1797 1801). He also served as America's first Vice P\n",
      "Embedding: [-0.05087723  0.016277    0.06003525 -0.02183614 -0.02238023]\n",
      "index 8\n",
      "chunk: ms John Adams, Jr. (October 30,1735 July 4, 1826) was the second President of the United States (1797 1801). He also served as America's first Vice Pr\n",
      "Embedding: [-0.05384004 -0.00267526  0.03772613 -0.02661601 -0.02836208]\n",
      "index 9\n",
      "chunk: s John Adams, Jr. (October 30,1735 July 4, 1826) was the second President of the United States (1797 1801). He also served as America's first Vice Pre\n",
      "Embedding: [-0.04892344 -0.0041572   0.04321601 -0.03604112 -0.02573113]\n"
     ]
    }
   ],
   "source": [
    "chunks, embeddings = preprocess_corpus(corpus_directory, 'fixed-length', fixed_length = 150, overlap_size = 1)\n",
    "\n",
    "for i, chunk in enumerate(chunks[:10]):\n",
    "    print(f\"index {i}\")\n",
    "    print(f\"chunk: {chunk}\")\n",
    "    print(f\"Embedding: {embeddings[i][:5]}\")"
   ]
  },
  {
   "cell_type": "code",
   "execution_count": null,
   "metadata": {},
   "outputs": [],
   "source": []
  }
 ],
 "metadata": {
  "kernelspec": {
   "display_name": "text_env",
   "language": "python",
   "name": "python3"
  },
  "language_info": {
   "codemirror_mode": {
    "name": "ipython",
    "version": 3
   },
   "file_extension": ".py",
   "mimetype": "text/x-python",
   "name": "python",
   "nbconvert_exporter": "python",
   "pygments_lexer": "ipython3",
   "version": "3.8.10"
  }
 },
 "nbformat": 4,
 "nbformat_minor": 2
}
