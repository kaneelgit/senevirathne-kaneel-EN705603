{
 "cells": [
  {
   "cell_type": "code",
   "execution_count": 1,
   "metadata": {},
   "outputs": [
    {
     "name": "stderr",
     "output_type": "stream",
     "text": [
      "/mnt/c/Users/wsenevi1/Desktop/Classes/AI MASTERS/senevirathne-kaneel/textwave/text_env/lib/python3.8/site-packages/sentence_transformers/cross_encoder/CrossEncoder.py:13: TqdmWarning: IProgress not found. Please update jupyter and ipywidgets. See https://ipywidgets.readthedocs.io/en/stable/user_install.html\n",
      "  from tqdm.autonotebook import tqdm, trange\n"
     ]
    }
   ],
   "source": [
    "import os, sys\n",
    "\n",
    "parent_dir = os.path.abspath(os.path.join(os.getcwd(), os.pardir))\n",
    "sys.path.insert(0, parent_dir)\n",
    "\n",
    "from pipeline import preprocess_corpus\n",
    "from modules.retrieval import indexing"
   ]
  },
  {
   "cell_type": "markdown",
   "metadata": {},
   "source": [
    "### Running a test Corpus to see check chunking stratergy ###\n",
    "\n",
    "```\n",
    "John_Adams\n",
    "\n",
    "\n",
    "\n",
    "John Adams, Jr. (October 30,1735   July 4, 1826)  was the second President of the United States (1797 1801). He also served as America's first Vice President (1789 1797). He was defeated for re-election in the \"Revolution of 1800\" by Thomas Jefferson. Adams was also the first President to reside in the newly built White House in Washington, D.C., which was completed in 1800.\n",
    "\n",
    "Adams, a sponsor of the American Revolution in Massachusetts, was a driving force for independence in 1776; Jefferson called him the \"Colossus of Independence\". He represented the Continental Congress in Europe. He was a major negotiator of the eventual peace treaty with Great Britain, and chiefly responsible for obtaining the loans from the Amsterdam money market necessary for the conduct of the Revolution. His prestige secured his two elections as Washington's Vice President and his election to succeed him.   As President, he was frustrated by battles inside his own Federalist party against a faction led by Alexander Hamilton, but he broke with them to avert a major conflict with France in 1798, during the Quasi-War crisis. He became the founder of an important family of politicians, diplomats and historians, and in recent years his reputation has improved.\n",
    "\n",
    "\n",
    "\n",
    "Birthplace of John Adams, Quincy, Massachusetts.\n",
    "John Adams was the oldest of three brothers, born on October 30, 1735 (October 19, 1735 by the Old Style, Julian calendar), in Braintree, Massachusetts, though in an area which became part of Quincy, Massachusetts in 1792. His birthplace is now part of Adams National Historical Park. His father, a farmer and a Deacon, also named John (1690-1761), was a fourth-generation descendant of Henry Adams, who immigrated from Barton St David, Somerset, England, to Massachusetts Bay Colony in about 1636, from a Welsh male line called Ap Adam.  /ref> His mother was Susanna Boylston Adams. Ferling (1992) ch 1  Who is a descendant of the Boylstons of Brookline, one of the colony's most vigorous and successful families.\n",
    "\n",
    "```\n",
    "\n",
    "For simplicity a smaller file is created with a small paragraph. Only printing first 5 embeddings."
   ]
  },
  {
   "cell_type": "code",
   "execution_count": 3,
   "metadata": {},
   "outputs": [],
   "source": [
    "#test corpus directory\n",
    "corpus_directory = '../storage/corpus_test'"
   ]
  },
  {
   "cell_type": "code",
   "execution_count": 4,
   "metadata": {},
   "outputs": [
    {
     "name": "stdout",
     "output_type": "stream",
     "text": [
      "index 0\n",
      "chunk: John_Adams John Adams, Jr. (October 30,1735 July 4, 1826) was the second President of the United States (1797 1801). He also served as America's first Vice President (1789 1797).\n",
      "Embedding: [-0.03940695 -0.00807811  0.05257349 -0.02148088 -0.0443    ]\n",
      "index 1\n",
      "chunk: He was defeated for re-election in the \"Revolution of 1800\" by Thomas Jefferson. Adams was also the first President to reside in the newly built White House in Washington, D.C., which was completed in 1800.\n",
      "Embedding: [-0.01570599  0.02180837  0.10028849 -0.0111638  -0.03596629]\n",
      "index 2\n",
      "chunk: Adams, a sponsor of the American Revolution in Massachusetts, was a driving force for independence in 1776; Jefferson called him the \"Colossus of Independence\". He represented the Continental Congress in Europe.\n",
      "Embedding: [-0.06091342 -0.00299258  0.03134836 -0.00079028  0.04232774]\n",
      "index 3\n",
      "chunk: He was a major negotiator of the eventual peace treaty with Great Britain, and chiefly responsible for obtaining the loans from the Amsterdam money market necessary for the conduct of the Revolution. His prestige secured his two elections as Washington's Vice President and his election to succeed him.\n",
      "Embedding: [ 0.05615174  0.09881541  0.0495874  -0.07805753 -0.05562429]\n",
      "index 4\n",
      "chunk: As President, he was frustrated by battles inside his own Federalist party against a faction led by Alexander Hamilton, but he broke with them to avert a major conflict with France in 1798, during the Quasi-War crisis. He became the founder of an important family of politicians, diplomats and historians, and in recent years his reputation has improved.\n",
      "Embedding: [-0.02417151 -0.01513822  0.05338457 -0.03014376  0.00408164]\n"
     ]
    }
   ],
   "source": [
    "\n",
    "chunks, embeddings = preprocess_corpus(corpus_directory, 'sentence', overlap_size = 2)\n",
    "\n",
    "for i, chunk in enumerate(chunks[:5]):\n",
    "    print(f\"index {i}\")\n",
    "    print(f\"chunk: {chunk}\")\n",
    "    print(f\"Embedding: {embeddings[i][:5]}\")\n",
    "    "
   ]
  },
  {
   "cell_type": "code",
   "execution_count": 5,
   "metadata": {},
   "outputs": [
    {
     "name": "stdout",
     "output_type": "stream",
     "text": [
      "index 0\n",
      "chunk: John_Adams John Adams, Jr. (October 30,1735 July 4, 1826) was the second President of the United States (1797 1801). He also served as America's first Vice President (1789 1797). He was defeated for re-election in the \"Revolution of 1800\" by Thomas Jefferson. Adams was also the first President to reside in the newly built White House in Washington, D.C., which was completed in 1800.\n",
      "Embedding: [-0.03373963 -0.00164346  0.06931225 -0.02650399 -0.04892938]\n",
      "index 1\n",
      "chunk: Adams, a sponsor of the American Revolution in Massachusetts, was a driving force for independence in 1776; Jefferson called him the \"Colossus of Independence\". He represented the Continental Congress in Europe. He was a major negotiator of the eventual peace treaty with Great Britain, and chiefly responsible for obtaining the loans from the Amsterdam money market necessary for the conduct of the Revolution. His prestige secured his two elections as Washington's Vice President and his election to succeed him.\n",
      "Embedding: [-0.03293295  0.01204256  0.05153134 -0.03256011  0.01574124]\n",
      "index 2\n",
      "chunk: As President, he was frustrated by battles inside his own Federalist party against a faction led by Alexander Hamilton, but he broke with them to avert a major conflict with France in 1798, during the Quasi-War crisis. He became the founder of an important family of politicians, diplomats and historians, and in recent years his reputation has improved. Birthplace of John Adams, Quincy, Massachusetts. John Adams was the oldest of three brothers, born on October 30, 1735 (October 19, 1735 by the Old Style, Julian calendar), in Braintree, Massachusetts, though in an area which became part of Quincy, Massachusetts in 1792.\n",
      "Embedding: [-0.06440989 -0.00191239  0.01963879 -0.0289409  -0.01703633]\n",
      "index 3\n",
      "chunk: His birthplace is now part of Adams National Historical Park. His father, a farmer and a Deacon, also named John (1690-1761), was a fourth-generation descendant of Henry Adams, who immigrated from Barton St David, Somerset, England, to Massachusetts Bay Colony in about 1636, from a Welsh male line called Ap Adam. /ref> His mother was Susanna Boylston Adams. Ferling (1992) ch 1 Who is a descendant of the Boylstons of Brookline, one of the colony's most vigorous and successful families.\n",
      "Embedding: [-0.0099592   0.06318295  0.0306482  -0.03579827 -0.00149398]\n"
     ]
    }
   ],
   "source": [
    "chunks, embeddings = preprocess_corpus(corpus_directory, 'sentence', overlap_size = 4)\n",
    "\n",
    "for i, chunk in enumerate(chunks[:5]):\n",
    "    print(f\"index {i}\")\n",
    "    print(f\"chunk: {chunk}\")\n",
    "    print(f\"Embedding: {embeddings[i][:5]}\")"
   ]
  },
  {
   "cell_type": "code",
   "execution_count": 6,
   "metadata": {},
   "outputs": [
    {
     "name": "stdout",
     "output_type": "stream",
     "text": [
      "index 0\n",
      "chunk: John_Adams John Adams, Jr. (October 30,1735 July 4, 1826) was the second President of the United States (1797 1801). He also served as America's first Vice President (1789 1797). He was defeated for re-election in the \"Revolution of 1800\" by Thomas Jefferson. Adams was also the first President to reside\n",
      "Embedding: [-0.04312722 -0.02390901  0.0486779  -0.03950552 -0.05426732]\n",
      "index 1\n",
      "chunk: to reside in the newly built White House in Washington, D.C., which was completed in 1800. Adams, a sponsor of the American Revolution in Massachusetts, was a driving force for independence in 1776; Jefferson called him the \"Colossus of Independence\". He represented the Continental Congress in Europe. He was a\n",
      "Embedding: [-0.05122147  0.00507464  0.07524404  0.01296466  0.02073887]\n",
      "index 2\n",
      "chunk: was a major negotiator of the eventual peace treaty with Great Britain, and chiefly responsible for obtaining the loans from the Amsterdam money market necessary for the conduct of the Revolution. His prestige secured his two elections as Washington's Vice President and his election to succeed him. As President, he\n",
      "Embedding: [ 0.05803295  0.10641907  0.05351292 -0.09012476 -0.05396485]\n",
      "index 3\n",
      "chunk: President, he was frustrated by battles inside his own Federalist party against a faction led by Alexander Hamilton, but he broke with them to avert a major conflict with France in 1798, during the Quasi-War crisis. He became the founder of an important family of politicians, diplomats and historians, and\n",
      "Embedding: [-0.03254208 -0.00787878  0.05077742 -0.02381927  0.01394789]\n",
      "index 4\n",
      "chunk: historians, and in recent years his reputation has improved. Birthplace of John Adams, Quincy, Massachusetts. John Adams was the oldest of three brothers, born on October 30, 1735 (October 19, 1735 by the Old Style, Julian calendar), in Braintree, Massachusetts, though in an area which became part of Quincy, Massachusetts\n",
      "Embedding: [-0.05037925  0.02580532 -0.00157302 -0.00134723 -0.02623508]\n"
     ]
    }
   ],
   "source": [
    "chunks, embeddings = preprocess_corpus(corpus_directory, 'fixed-length', fixed_length = 50, overlap_size = 3)\n",
    "\n",
    "for i, chunk in enumerate(chunks[:5]):\n",
    "    print(f\"index {i}\")\n",
    "    print(f\"chunk: {chunk}\")\n",
    "    print(f\"Embedding: {embeddings[i][:5]}\")"
   ]
  },
  {
   "cell_type": "code",
   "execution_count": 7,
   "metadata": {},
   "outputs": [
    {
     "name": "stdout",
     "output_type": "stream",
     "text": [
      "index 0\n",
      "chunk: John_Adams John Adams, Jr. (October 30,1735 July 4, 1826) was the second President of the United States (1797 1801). He also served as America's first Vice President (1789 1797). He was defeated for re-election in the \"Revolution of 1800\" by Thomas Jefferson. Adams was also the first President to reside in the newly built White House in Washington, D.C., which was completed in 1800. Adams, a sponsor of the American Revolution in Massachusetts, was a driving force for independence in 1776; Jefferson called him the \"Colossus of Independence\". He represented the Continental Congress in Europe. He was a major negotiator\n",
      "Embedding: [-0.04931711 -0.01893659  0.06587866 -0.02098601 -0.03540759]\n",
      "index 1\n",
      "chunk: major negotiator of the eventual peace treaty with Great Britain, and chiefly responsible for obtaining the loans from the Amsterdam money market necessary for the conduct of the Revolution. His prestige secured his two elections as Washington's Vice President and his election to succeed him. As President, he was frustrated by battles inside his own Federalist party against a faction led by Alexander Hamilton, but he broke with them to avert a major conflict with France in 1798, during the Quasi-War crisis. He became the founder of an important family of politicians, diplomats and historians, and in recent years his\n",
      "Embedding: [ 0.03662967  0.06002058  0.08703536 -0.08554132 -0.04125639]\n",
      "index 2\n",
      "chunk: years his reputation has improved. Birthplace of John Adams, Quincy, Massachusetts. John Adams was the oldest of three brothers, born on October 30, 1735 (October 19, 1735 by the Old Style, Julian calendar), in Braintree, Massachusetts, though in an area which became part of Quincy, Massachusetts in 1792. His birthplace is now part of Adams National Historical Park. His father, a farmer and a Deacon, also named John (1690-1761), was a fourth-generation descendant of Henry Adams, who immigrated from Barton St David, Somerset, England, to Massachusetts Bay Colony in about 1636, from a Welsh male line called Ap Adam. /ref>\n",
      "Embedding: [-0.04384502  0.01180764  0.00687256 -0.00959256 -0.00561155]\n",
      "index 3\n",
      "chunk: the Old Style, Julian calendar), in Braintree, Massachusetts, though in an area which became part of Quincy, Massachusetts in 1792. His birthplace is now part of Adams National Historical Park. His father, a farmer and a Deacon, also named John (1690-1761), was a fourth-generation descendant of Henry Adams, who immigrated from Barton St David, Somerset, England, to Massachusetts Bay Colony in about 1636, from a Welsh male line called Ap Adam. /ref> His mother was Susanna Boylston Adams. Ferling (1992) ch 1 Who is a descendant of the Boylstons of Brookline, one of the colony's most vigorous and successful families.\n",
      "Embedding: [-0.01358395  0.05254     0.07673107 -0.02663801 -0.00055003]\n"
     ]
    }
   ],
   "source": [
    "chunks, embeddings = preprocess_corpus(corpus_directory, 'fixed-length', fixed_length = 100, overlap_size = 2)\n",
    "\n",
    "for i, chunk in enumerate(chunks[:5]):\n",
    "    print(f\"index {i}\")\n",
    "    print(f\"chunk: {chunk}\")\n",
    "    print(f\"Embedding: {embeddings[i][:5]}\")"
   ]
  },
  {
   "cell_type": "code",
   "execution_count": 8,
   "metadata": {},
   "outputs": [
    {
     "name": "stdout",
     "output_type": "stream",
     "text": [
      "index 0\n",
      "chunk: John_Adams John Adams, Jr. (October 30,1735 July 4, 1826) was the second President of the United States (1797 1801). He also served as America's first Vice President (1789 1797). He was defeated for re-election in the \"Revolution of 1800\" by Thomas Jefferson. Adams was also the first President to reside in the newly built White House in Washington, D.C., which was completed in 1800. Adams, a sponsor of the American Revolution in Massachusetts, was a driving force for independence in 1776; Jefferson called him the \"Colossus of Independence\". He represented the Continental Congress in Europe. He was a major negotiator of the eventual peace treaty with Great Britain, and chiefly responsible for obtaining the loans from the Amsterdam money market necessary for the conduct of the Revolution. His prestige secured his two elections as Washington's Vice President and his election to succeed him. As President, he was frustrated by battles\n",
      "Embedding: [-0.04669134 -0.01158107  0.08799667 -0.0369159  -0.04535264]\n",
      "index 1\n",
      "chunk: by battles inside his own Federalist party against a faction led by Alexander Hamilton, but he broke with them to avert a major conflict with France in 1798, during the Quasi-War crisis. He became the founder of an important family of politicians, diplomats and historians, and in recent years his reputation has improved. Birthplace of John Adams, Quincy, Massachusetts. John Adams was the oldest of three brothers, born on October 30, 1735 (October 19, 1735 by the Old Style, Julian calendar), in Braintree, Massachusetts, though in an area which became part of Quincy, Massachusetts in 1792. His birthplace is now part of Adams National Historical Park. His father, a farmer and a Deacon, also named John (1690-1761), was a fourth-generation descendant of Henry Adams, who immigrated from Barton St David, Somerset, England, to Massachusetts Bay Colony in about 1636, from a Welsh male line called Ap Adam. /ref> His mother\n",
      "Embedding: [-0.05444896  0.00870675  0.01059953 -0.02247507 -0.00142474]\n",
      "index 2\n",
      "chunk: in 1798, during the Quasi-War crisis. He became the founder of an important family of politicians, diplomats and historians, and in recent years his reputation has improved. Birthplace of John Adams, Quincy, Massachusetts. John Adams was the oldest of three brothers, born on October 30, 1735 (October 19, 1735 by the Old Style, Julian calendar), in Braintree, Massachusetts, though in an area which became part of Quincy, Massachusetts in 1792. His birthplace is now part of Adams National Historical Park. His father, a farmer and a Deacon, also named John (1690-1761), was a fourth-generation descendant of Henry Adams, who immigrated from Barton St David, Somerset, England, to Massachusetts Bay Colony in about 1636, from a Welsh male line called Ap Adam. /ref> His mother was Susanna Boylston Adams. Ferling (1992) ch 1 Who is a descendant of the Boylstons of Brookline, one of the colony's most vigorous and successful families.\n",
      "Embedding: [-0.06363734  0.02756752  0.00510485 -0.01719896 -0.02772376]\n"
     ]
    }
   ],
   "source": [
    "chunks, embeddings = preprocess_corpus(corpus_directory, 'fixed-length', fixed_length = 150, overlap_size = 1)\n",
    "\n",
    "for i, chunk in enumerate(chunks[:5]):\n",
    "    print(f\"index {i}\")\n",
    "    print(f\"chunk: {chunk}\")\n",
    "    print(f\"Embedding: {embeddings[i][:5]}\")"
   ]
  },
  {
   "cell_type": "markdown",
   "metadata": {},
   "source": [
    "### Preprocess the corpus directory and create Faiss Index ###\n",
    "\n",
    "Create an index with 'Abraham Lincoln' content."
   ]
  },
  {
   "cell_type": "code",
   "execution_count": 42,
   "metadata": {},
   "outputs": [],
   "source": [
    "# Instantiate the FaissIndex class\n",
    "corpus_directory = \"../storage/corpus_al\"\n",
    "faiss_index = indexing.FaissIndex(index_type='brute_force')  \n",
    "chunks, embeddings = preprocess_corpus(corpus_directory, 'sentence', overlap_size = 2, faiss_index = faiss_index, index_dir = \"../storage/catalog/faiss.index\", \\\n",
    "                                       metadata_dir = \"../storage/catalog/metadata.pkl\")"
   ]
  },
  {
   "cell_type": "code",
   "execution_count": 43,
   "metadata": {},
   "outputs": [
    {
     "data": {
      "text/plain": [
       "['Abraham Lincoln Abraham Lincoln (February 12, 1809 – April 15, 1865) was the sixteenth President of the United States, serving from March 4, 1861 until his assassination. As an outspoken opponent of the expansion of slavery in the United States, \"[I]n his short autobiography written for the 1860 presidential campaign, Lincoln would describe his protest in the Illinois legislature as one that \\'briefly defined his position on the slavery question, and so far as it goes, it was then the same that it is now.\"',\n",
       " 'This was in reference to the anti-expansion sentiments he had then expressed. Doris Kearns Goodwin, Team of Rivals: The Political Genius of Abraham Lincoln (2005) p. 91.',\n",
       " 'Holzer pg. 232.',\n",
       " 'Writing of the Cooper Union speech, Holzer notes, \"Cooper Union proved a unique confluence of political culture, rhetorical opportunity, technological innovation, and human genius, and it brought Abraham Lincoln to the center stage of American politics at precisely the right time and place, and with precisely the right message: that slavery was wrong, and ought to be confined to the areas where it already existed, and placed on the \\'course of ultimate extinction... .\\'\"',\n",
       " 'Lincoln won the Republican Party nomination in 1860 and was elected president later that year. During his term, he helped preserve the United States by leading the defeat of the secessionist Confederate States of America in the American Civil War.']"
      ]
     },
     "execution_count": 43,
     "metadata": {},
     "output_type": "execute_result"
    }
   ],
   "source": [
    "chunks[:5]"
   ]
  },
  {
   "cell_type": "markdown",
   "metadata": {},
   "source": [
    "### Reranking analysis ###\n",
    "\n",
    "Here we will use 3 questions from 'Abraham Lincoln'.\n",
    "\n",
    "Easy - Was Abraham Lincoln the sixteenth President of the United States?\n",
    "\n",
    "Medium - When did Lincoln begin his political career?\n",
    "\n",
    "Hard - When did the Gettysburg address argue that America was born?\n"
   ]
  },
  {
   "cell_type": "code",
   "execution_count": 2,
   "metadata": {},
   "outputs": [],
   "source": [
    "from modules.retrieval.search import FaissSearch\n",
    "from modules.extraction import embedding\n",
    "from modules.retrieval.reranking import Reranker"
   ]
  },
  {
   "cell_type": "code",
   "execution_count": 3,
   "metadata": {},
   "outputs": [],
   "source": [
    "#load faiss index\n",
    "faiss_index = indexing.FaissIndex()\n",
    "faiss_index.load(faiss_path = \"../storage/catalog/faiss.index\", metadata_path = \"../storage/catalog/metadata.pkl\")\n",
    "faiss_index_bf = FaissSearch(faiss_index, metric='euclidean')"
   ]
  },
  {
   "cell_type": "code",
   "execution_count": 4,
   "metadata": {},
   "outputs": [],
   "source": [
    "#initialize embedding model\n",
    "embedding_model_name = 'all-MiniLM-L6-v2'\n",
    "embedding_model = embedding.Embedding(embedding_model_name)"
   ]
  },
  {
   "cell_type": "code",
   "execution_count": 5,
   "metadata": {},
   "outputs": [],
   "source": [
    "#easy medium and hard queries\n",
    "easy_query = \"Was Abraham Lincoln the sixteenth President of the United States?\"\n",
    "med_query = \"When did Lincoln begin his political career?\"\n",
    "hard_query = \"When did the Gettysburg address argue that America was born?\""
   ]
  },
  {
   "cell_type": "code",
   "execution_count": 7,
   "metadata": {},
   "outputs": [],
   "source": [
    "def query_and_rerank(query, reranker):\n",
    "    print(\"QUERY:\", query)\n",
    "    query_embedding = embedding_model.encode([query])\n",
    "    distances_ivf, indices_ivf, metadata_ivf = faiss_index_bf.search(query_embedding, k=5)\n",
    "    print(\"NEAREST NEIGHBORS RESULTS:\")\n",
    "    for i in range(5):\n",
    "        print(f\"Neighbor {i+1}: Index {indices_ivf[0][i]}, Distance {distances_ivf[0][i]}, Documents: {metadata_ivf[i]}\")\n",
    "    print(\"\\n\")\n",
    "    print(\"RERANKED RESULTS:\")\n",
    "    ranked_documents, ranked_indices, scores = reranker.rerank(query, context=metadata_ivf)\n",
    "    for i in range(5):\n",
    "        print(f\"Rerank Document {i+1}: Scores {scores[i]}, Documents: {ranked_documents[i]}\")"
   ]
  },
  {
   "cell_type": "markdown",
   "metadata": {},
   "source": [
    "### Cross Encorder Rerank ###\n",
    "#### Easy Qeury ####"
   ]
  },
  {
   "cell_type": "code",
   "execution_count": null,
   "metadata": {},
   "outputs": [
    {
     "name": "stdout",
     "output_type": "stream",
     "text": [
      "QUERY: Was Abraham Lincoln the sixteenth President of the United States?\n",
      "NEAREST NEIGHBORS RESULTS:\n",
      "Neighbor 1: Index 0, Distance 0.614966094493866, Documents: Abraham Lincoln Abraham Lincoln (February 12, 1809 – April 15, 1865) was the sixteenth President of the United States, serving from March 4, 1861 until his assassination. As an outspoken opponent of the expansion of slavery in the United States, \"[I]n his short autobiography written for the 1860 presidential campaign, Lincoln would describe his protest in the Illinois legislature as one that 'briefly defined his position on the slavery question, and so far as it goes, it was then the same that it is now.\"\n",
      "Neighbor 2: Index 91, Distance 0.7187897562980652, Documents: The goal was to emphasize the superior power of \"free labor,\" whereby a common farm boy could work his way to the top by his own efforts. Thomas (1952) p 216; Reinhard H. Luthin, The First Lincoln Campaign (1944); Nevins vol 4; On November 6, 1860, Lincoln was elected as the 16th President of the United States, beating Democrat Stephen A. Douglas, John C. Breckinridge of the Southern Democrats, and John Bell of the new Constitutional Union Party.\n",
      "Neighbor 3: Index 32, Distance 0.8143948316574097, Documents: Young Abraham Lincoln Lincoln began his political career in 1832, at age 23, with an unsuccessful campaign for the Illinois General Assembly, as a member of the Whig Party. He ran eighth in a field of 13 candidates.\n",
      "Neighbor 4: Index 4, Distance 0.8214978575706482, Documents: Lincoln won the Republican Party nomination in 1860 and was elected president later that year. During his term, he helped preserve the United States by leading the defeat of the secessionist Confederate States of America in the American Civil War.\n",
      "Neighbor 5: Index 10, Distance 0.8242824077606201, Documents: His assassination in 1865 was the first presidential assassination in U.S. history and made him a martyr for the ideal of national unity. Scholars now rank Lincoln among the top three U.S. Presidents, with the majority of those surveyed placing him first.\n",
      "\n",
      "\n",
      "RERANKED RESULTS:\n",
      "Rerank Document 1: Scores 10.466607093811035, Documents: Abraham Lincoln Abraham Lincoln (February 12, 1809 – April 15, 1865) was the sixteenth President of the United States, serving from March 4, 1861 until his assassination. As an outspoken opponent of the expansion of slavery in the United States, \"[I]n his short autobiography written for the 1860 presidential campaign, Lincoln would describe his protest in the Illinois legislature as one that 'briefly defined his position on the slavery question, and so far as it goes, it was then the same that it is now.\"\n",
      "Rerank Document 2: Scores 5.672313213348389, Documents: The goal was to emphasize the superior power of \"free labor,\" whereby a common farm boy could work his way to the top by his own efforts. Thomas (1952) p 216; Reinhard H. Luthin, The First Lincoln Campaign (1944); Nevins vol 4; On November 6, 1860, Lincoln was elected as the 16th President of the United States, beating Democrat Stephen A. Douglas, John C. Breckinridge of the Southern Democrats, and John Bell of the new Constitutional Union Party.\n",
      "Rerank Document 3: Scores 2.4597890377044678, Documents: Lincoln won the Republican Party nomination in 1860 and was elected president later that year. During his term, he helped preserve the United States by leading the defeat of the secessionist Confederate States of America in the American Civil War.\n",
      "Rerank Document 4: Scores 0.4911730885505676, Documents: His assassination in 1865 was the first presidential assassination in U.S. history and made him a martyr for the ideal of national unity. Scholars now rank Lincoln among the top three U.S. Presidents, with the majority of those surveyed placing him first.\n",
      "Rerank Document 5: Scores -2.6485273838043213, Documents: Young Abraham Lincoln Lincoln began his political career in 1832, at age 23, with an unsuccessful campaign for the Illinois General Assembly, as a member of the Whig Party. He ran eighth in a field of 13 candidates.\n"
     ]
    }
   ],
   "source": [
    "cross_encorder_rr = Reranker(type=\"cross_encoder\")\n",
    "query_and_rerank(easy_query, cross_encorder_rr)"
   ]
  },
  {
   "cell_type": "markdown",
   "metadata": {},
   "source": [
    "#### Medium Qeury ####"
   ]
  },
  {
   "cell_type": "code",
   "execution_count": 14,
   "metadata": {},
   "outputs": [
    {
     "name": "stdout",
     "output_type": "stream",
     "text": [
      "QUERY: When did Lincoln begin his political career?\n",
      "NEAREST NEIGHBORS RESULTS:\n",
      "Neighbor 1: Index 32, Distance 0.5964539647102356, Documents: Young Abraham Lincoln Lincoln began his political career in 1832, at age 23, with an unsuccessful campaign for the Illinois General Assembly, as a member of the Whig Party. He ran eighth in a field of 13 candidates.\n",
      "Neighbor 2: Index 4, Distance 0.687463641166687, Documents: Lincoln won the Republican Party nomination in 1860 and was elected president later that year. During his term, he helped preserve the United States by leading the defeat of the secessionist Confederate States of America in the American Civil War.\n",
      "Neighbor 3: Index 156, Distance 0.6882932186126709, Documents: Foner (1970) p. 215 says, \"Lincoln stressed the moral basis of republicanism.\" See also McPherson (1992) pp.61-64.\n",
      "Neighbor 4: Index 91, Distance 0.7263302803039551, Documents: The goal was to emphasize the superior power of \"free labor,\" whereby a common farm boy could work his way to the top by his own efforts. Thomas (1952) p 216; Reinhard H. Luthin, The First Lincoln Campaign (1944); Nevins vol 4; On November 6, 1860, Lincoln was elected as the 16th President of the United States, beating Democrat Stephen A. Douglas, John C. Breckinridge of the Southern Democrats, and John Bell of the new Constitutional Union Party.\n",
      "Neighbor 5: Index 6, Distance 0.7330083250999451, Documents: Historians have concluded that he handled the factions of the Republican Party well, bringing leaders of each faction into his cabinet and forcing them to cooperate. Lincoln successfully defused a war scare with the United Kingdom in 1861.\n",
      "\n",
      "\n",
      "RERANKED RESULTS:\n",
      "Rerank Document 1: Scores 10.578441619873047, Documents: Young Abraham Lincoln Lincoln began his political career in 1832, at age 23, with an unsuccessful campaign for the Illinois General Assembly, as a member of the Whig Party. He ran eighth in a field of 13 candidates.\n",
      "Rerank Document 2: Scores 5.707779407501221, Documents: Lincoln won the Republican Party nomination in 1860 and was elected president later that year. During his term, he helped preserve the United States by leading the defeat of the secessionist Confederate States of America in the American Civil War.\n",
      "Rerank Document 3: Scores 3.099620819091797, Documents: The goal was to emphasize the superior power of \"free labor,\" whereby a common farm boy could work his way to the top by his own efforts. Thomas (1952) p 216; Reinhard H. Luthin, The First Lincoln Campaign (1944); Nevins vol 4; On November 6, 1860, Lincoln was elected as the 16th President of the United States, beating Democrat Stephen A. Douglas, John C. Breckinridge of the Southern Democrats, and John Bell of the new Constitutional Union Party.\n",
      "Rerank Document 4: Scores 2.1908769607543945, Documents: Historians have concluded that he handled the factions of the Republican Party well, bringing leaders of each faction into his cabinet and forcing them to cooperate. Lincoln successfully defused a war scare with the United Kingdom in 1861.\n",
      "Rerank Document 5: Scores -1.153191328048706, Documents: Foner (1970) p. 215 says, \"Lincoln stressed the moral basis of republicanism.\" See also McPherson (1992) pp.61-64.\n"
     ]
    }
   ],
   "source": [
    "query_and_rerank(med_query, cross_encorder_rr)"
   ]
  },
  {
   "cell_type": "markdown",
   "metadata": {},
   "source": [
    "#### Hard Qeury ####"
   ]
  },
  {
   "cell_type": "code",
   "execution_count": 15,
   "metadata": {},
   "outputs": [
    {
     "name": "stdout",
     "output_type": "stream",
     "text": [
      "QUERY: When did the Gettysburg address argue that America was born?\n",
      "NEAREST NEIGHBORS RESULTS:\n",
      "Neighbor 1: Index 158, Distance 0.8181768655776978, Documents: Lincoln's second inauguration on March 4, 1865. In the photo, Lincoln's assassin, John Wilkes Booth, can be seen in the crowd at the top and accomplices David Herold, Lewis Powell, George Atzerodt, John Surratt and Edmund Spangler in the bottom crowd In his Gettysburg Address Lincoln redefined the American nation, arguing that it was born not in 1789 but in 1776, \"conceived in Liberty, and dedicated to the proposition that all men are created equal.\"\n",
      "Neighbor 2: Index 151, Distance 0.87743079662323, Documents: His extraordinary command of the English language was evidenced in the Gettysburg Address, a speech dedicating the cemetery at Gettysburg that he delivered on November 19, 1863. The speech defied Lincoln's own prediction that \"the world will little note, nor long remember what we say here.\"\n",
      "Neighbor 3: Index 87, Distance 0.9404837489128113, Documents: Gabor S. Boritt, \"'And the War Came'? Abraham Lincoln and the Question of Individual Responsibility,\" Why the Civil War Came ed by Boritt (1996), pp 3-30.\n",
      "Neighbor 4: Index 154, Distance 1.0027390718460083, Documents: Jaffa (2000) p. 399 The Declaration's emphasis on freedom and equality for all, rather than the Constitution's tolerance of slavers, shifted the debate. As Diggins concludes regarding the highly influential Cooper Union speech, \"Lincoln presented Americans a theory of history that offers a profound contribution to the theory and destiny of republicanism itself.\"\n",
      "Neighbor 5: Index 125, Distance 1.0484099388122559, Documents: On March 4 1865, Lincoln delivered his second inaugural address, his favorite of all his speeches. At this time, a victory over the rebels was at hand, slavery was dead, and Lincoln was looking to the future.\n",
      "\n",
      "\n",
      "RERANKED RESULTS:\n",
      "Rerank Document 1: Scores 4.8185648918151855, Documents: Lincoln's second inauguration on March 4, 1865. In the photo, Lincoln's assassin, John Wilkes Booth, can be seen in the crowd at the top and accomplices David Herold, Lewis Powell, George Atzerodt, John Surratt and Edmund Spangler in the bottom crowd In his Gettysburg Address Lincoln redefined the American nation, arguing that it was born not in 1789 but in 1776, \"conceived in Liberty, and dedicated to the proposition that all men are created equal.\"\n",
      "Rerank Document 2: Scores 0.34117552638053894, Documents: His extraordinary command of the English language was evidenced in the Gettysburg Address, a speech dedicating the cemetery at Gettysburg that he delivered on November 19, 1863. The speech defied Lincoln's own prediction that \"the world will little note, nor long remember what we say here.\"\n",
      "Rerank Document 3: Scores -4.5867838859558105, Documents: On March 4 1865, Lincoln delivered his second inaugural address, his favorite of all his speeches. At this time, a victory over the rebels was at hand, slavery was dead, and Lincoln was looking to the future.\n",
      "Rerank Document 4: Scores -9.364089012145996, Documents: Jaffa (2000) p. 399 The Declaration's emphasis on freedom and equality for all, rather than the Constitution's tolerance of slavers, shifted the debate. As Diggins concludes regarding the highly influential Cooper Union speech, \"Lincoln presented Americans a theory of history that offers a profound contribution to the theory and destiny of republicanism itself.\"\n",
      "Rerank Document 5: Scores -10.628128051757812, Documents: Gabor S. Boritt, \"'And the War Came'? Abraham Lincoln and the Question of Individual Responsibility,\" Why the Civil War Came ed by Boritt (1996), pp 3-30.\n"
     ]
    }
   ],
   "source": [
    "query_and_rerank(hard_query, cross_encorder_rr)"
   ]
  },
  {
   "cell_type": "markdown",
   "metadata": {},
   "source": [
    "The analysis of these query results across different difficulty levels indicates the cross encorder reranking method's ability to prioritize highly relevant documents effectively. For straightforward queries such as Lincoln's presidency, the reranking successfully elevated documents with direct answers, scoring them higher than those only contextually related. For medium-difficulty queries, like Lincoln's political career, relevant documents were ranked higher but with a slightly more dispersed range of scores, reflecting the challenge of synthesizing detailed historical context. Harder queries, such as those involving nuanced arguments in the Gettysburg Address, displayed a drop in precision, with more varied and sometimes less relevant documents appearing in the top results. While the highest-scoring document still contained the answer, other results included tangential information, indicating that the method effectively leverages TF-IDF and cross-encoder scores but may need further tuning to handle complex historical interpretations consistently."
   ]
  },
  {
   "cell_type": "markdown",
   "metadata": {},
   "source": [
    "### Hybrid Stratergy ###\n",
    "\n",
    "#### Easy Query ####"
   ]
  },
  {
   "cell_type": "code",
   "execution_count": 16,
   "metadata": {},
   "outputs": [
    {
     "name": "stdout",
     "output_type": "stream",
     "text": [
      "QUERY: Was Abraham Lincoln the sixteenth President of the United States?\n",
      "NEAREST NEIGHBORS RESULTS:\n",
      "Neighbor 1: Index 0, Distance 0.614966094493866, Documents: Abraham Lincoln Abraham Lincoln (February 12, 1809 – April 15, 1865) was the sixteenth President of the United States, serving from March 4, 1861 until his assassination. As an outspoken opponent of the expansion of slavery in the United States, \"[I]n his short autobiography written for the 1860 presidential campaign, Lincoln would describe his protest in the Illinois legislature as one that 'briefly defined his position on the slavery question, and so far as it goes, it was then the same that it is now.\"\n",
      "Neighbor 2: Index 91, Distance 0.7187897562980652, Documents: The goal was to emphasize the superior power of \"free labor,\" whereby a common farm boy could work his way to the top by his own efforts. Thomas (1952) p 216; Reinhard H. Luthin, The First Lincoln Campaign (1944); Nevins vol 4; On November 6, 1860, Lincoln was elected as the 16th President of the United States, beating Democrat Stephen A. Douglas, John C. Breckinridge of the Southern Democrats, and John Bell of the new Constitutional Union Party.\n",
      "Neighbor 3: Index 32, Distance 0.8143948316574097, Documents: Young Abraham Lincoln Lincoln began his political career in 1832, at age 23, with an unsuccessful campaign for the Illinois General Assembly, as a member of the Whig Party. He ran eighth in a field of 13 candidates.\n",
      "Neighbor 4: Index 4, Distance 0.8214978575706482, Documents: Lincoln won the Republican Party nomination in 1860 and was elected president later that year. During his term, he helped preserve the United States by leading the defeat of the secessionist Confederate States of America in the American Civil War.\n",
      "Neighbor 5: Index 10, Distance 0.8242824077606201, Documents: His assassination in 1865 was the first presidential assassination in U.S. history and made him a martyr for the ideal of national unity. Scholars now rank Lincoln among the top three U.S. Presidents, with the majority of those surveyed placing him first.\n",
      "\n",
      "\n",
      "RERANKED RESULTS:\n",
      "Rerank Document 1: Scores 7.500284425582127, Documents: Abraham Lincoln Abraham Lincoln (February 12, 1809 – April 15, 1865) was the sixteenth President of the United States, serving from March 4, 1861 until his assassination. As an outspoken opponent of the expansion of slavery in the United States, \"[I]n his short autobiography written for the 1860 presidential campaign, Lincoln would describe his protest in the Illinois legislature as one that 'briefly defined his position on the slavery question, and so far as it goes, it was then the same that it is now.\"\n",
      "Rerank Document 2: Scores 4.2327405967666865, Documents: The goal was to emphasize the superior power of \"free labor,\" whereby a common farm boy could work his way to the top by his own efforts. Thomas (1952) p 216; Reinhard H. Luthin, The First Lincoln Campaign (1944); Nevins vol 4; On November 6, 1860, Lincoln was elected as the 16th President of the United States, beating Democrat Stephen A. Douglas, John C. Breckinridge of the Southern Democrats, and John Bell of the new Constitutional Union Party.\n",
      "Rerank Document 3: Scores 1.9523216170286366, Documents: Lincoln won the Republican Party nomination in 1860 and was elected president later that year. During his term, he helped preserve the United States by leading the defeat of the secessionist Confederate States of America in the American Civil War.\n",
      "Rerank Document 4: Scores 0.5999879545944223, Documents: His assassination in 1865 was the first presidential assassination in U.S. history and made him a martyr for the ideal of national unity. Scholars now rank Lincoln among the top three U.S. Presidents, with the majority of those surveyed placing him first.\n",
      "Rerank Document 5: Scores -1.5637368845348179, Documents: Young Abraham Lincoln Lincoln began his political career in 1832, at age 23, with an unsuccessful campaign for the Illinois General Assembly, as a member of the Whig Party. He ran eighth in a field of 13 candidates.\n"
     ]
    }
   ],
   "source": [
    "hybrid_rr = Reranker(type=\"hybrid\")\n",
    "\n",
    "query_and_rerank(easy_query, hybrid_rr)"
   ]
  },
  {
   "cell_type": "markdown",
   "metadata": {},
   "source": [
    "#### Medium Qeury ####"
   ]
  },
  {
   "cell_type": "code",
   "execution_count": 17,
   "metadata": {},
   "outputs": [
    {
     "name": "stdout",
     "output_type": "stream",
     "text": [
      "QUERY: When did Lincoln begin his political career?\n",
      "NEAREST NEIGHBORS RESULTS:\n",
      "Neighbor 1: Index 32, Distance 0.5964539647102356, Documents: Young Abraham Lincoln Lincoln began his political career in 1832, at age 23, with an unsuccessful campaign for the Illinois General Assembly, as a member of the Whig Party. He ran eighth in a field of 13 candidates.\n",
      "Neighbor 2: Index 4, Distance 0.687463641166687, Documents: Lincoln won the Republican Party nomination in 1860 and was elected president later that year. During his term, he helped preserve the United States by leading the defeat of the secessionist Confederate States of America in the American Civil War.\n",
      "Neighbor 3: Index 156, Distance 0.6882932186126709, Documents: Foner (1970) p. 215 says, \"Lincoln stressed the moral basis of republicanism.\" See also McPherson (1992) pp.61-64.\n",
      "Neighbor 4: Index 91, Distance 0.7263302803039551, Documents: The goal was to emphasize the superior power of \"free labor,\" whereby a common farm boy could work his way to the top by his own efforts. Thomas (1952) p 216; Reinhard H. Luthin, The First Lincoln Campaign (1944); Nevins vol 4; On November 6, 1860, Lincoln was elected as the 16th President of the United States, beating Democrat Stephen A. Douglas, John C. Breckinridge of the Southern Democrats, and John Bell of the new Constitutional Union Party.\n",
      "Neighbor 5: Index 6, Distance 0.7330083250999451, Documents: Historians have concluded that he handled the factions of the Republican Party well, bringing leaders of each faction into his cabinet and forcing them to cooperate. Lincoln successfully defused a war scare with the United Kingdom in 1861.\n",
      "\n",
      "\n",
      "RERANKED RESULTS:\n",
      "Rerank Document 1: Scores 7.643168548486525, Documents: Young Abraham Lincoln Lincoln began his political career in 1832, at age 23, with an unsuccessful campaign for the Illinois General Assembly, as a member of the Whig Party. He ran eighth in a field of 13 candidates.\n",
      "Rerank Document 2: Scores 4.287909717551817, Documents: Lincoln won the Republican Party nomination in 1860 and was elected president later that year. During his term, he helped preserve the United States by leading the defeat of the secessionist Confederate States of America in the American Civil War.\n",
      "Rerank Document 3: Scores 2.4610881971136247, Documents: The goal was to emphasize the superior power of \"free labor,\" whereby a common farm boy could work his way to the top by his own efforts. Thomas (1952) p 216; Reinhard H. Luthin, The First Lincoln Campaign (1944); Nevins vol 4; On November 6, 1860, Lincoln was elected as the 16th President of the United States, beating Democrat Stephen A. Douglas, John C. Breckinridge of the Southern Democrats, and John Bell of the new Constitutional Union Party.\n",
      "Rerank Document 4: Scores 1.8267726130586839, Documents: Historians have concluded that he handled the factions of the Republican Party well, bringing leaders of each faction into his cabinet and forcing them to cooperate. Lincoln successfully defused a war scare with the United Kingdom in 1861.\n",
      "Rerank Document 5: Scores -0.5169294970849, Documents: Foner (1970) p. 215 says, \"Lincoln stressed the moral basis of republicanism.\" See also McPherson (1992) pp.61-64.\n"
     ]
    }
   ],
   "source": [
    "query_and_rerank(med_query, hybrid_rr)"
   ]
  },
  {
   "cell_type": "markdown",
   "metadata": {},
   "source": [
    "#### Hard Qeury ####"
   ]
  },
  {
   "cell_type": "code",
   "execution_count": 18,
   "metadata": {},
   "outputs": [
    {
     "name": "stdout",
     "output_type": "stream",
     "text": [
      "QUERY: When did the Gettysburg address argue that America was born?\n",
      "NEAREST NEIGHBORS RESULTS:\n",
      "Neighbor 1: Index 158, Distance 0.8181768655776978, Documents: Lincoln's second inauguration on March 4, 1865. In the photo, Lincoln's assassin, John Wilkes Booth, can be seen in the crowd at the top and accomplices David Herold, Lewis Powell, George Atzerodt, John Surratt and Edmund Spangler in the bottom crowd In his Gettysburg Address Lincoln redefined the American nation, arguing that it was born not in 1789 but in 1776, \"conceived in Liberty, and dedicated to the proposition that all men are created equal.\"\n",
      "Neighbor 2: Index 151, Distance 0.87743079662323, Documents: His extraordinary command of the English language was evidenced in the Gettysburg Address, a speech dedicating the cemetery at Gettysburg that he delivered on November 19, 1863. The speech defied Lincoln's own prediction that \"the world will little note, nor long remember what we say here.\"\n",
      "Neighbor 3: Index 87, Distance 0.9404837489128113, Documents: Gabor S. Boritt, \"'And the War Came'? Abraham Lincoln and the Question of Individual Responsibility,\" Why the Civil War Came ed by Boritt (1996), pp 3-30.\n",
      "Neighbor 4: Index 154, Distance 1.0027390718460083, Documents: Jaffa (2000) p. 399 The Declaration's emphasis on freedom and equality for all, rather than the Constitution's tolerance of slavers, shifted the debate. As Diggins concludes regarding the highly influential Cooper Union speech, \"Lincoln presented Americans a theory of history that offers a profound contribution to the theory and destiny of republicanism itself.\"\n",
      "Neighbor 5: Index 125, Distance 1.0484099388122559, Documents: On March 4 1865, Lincoln delivered his second inaugural address, his favorite of all his speeches. At this time, a victory over the rebels was at hand, slavery was dead, and Lincoln was looking to the future.\n",
      "\n",
      "\n",
      "RERANKED RESULTS:\n",
      "Rerank Document 1: Scores 3.6405354500292253, Documents: Lincoln's second inauguration on March 4, 1865. In the photo, Lincoln's assassin, John Wilkes Booth, can be seen in the crowd at the top and accomplices David Herold, Lewis Powell, George Atzerodt, John Surratt and Edmund Spangler in the bottom crowd In his Gettysburg Address Lincoln redefined the American nation, arguing that it was born not in 1789 but in 1776, \"conceived in Liberty, and dedicated to the proposition that all men are created equal.\"\n",
      "Rerank Document 2: Scores 0.5009220132181116, Documents: His extraordinary command of the English language was evidenced in the Gettysburg Address, a speech dedicating the cemetery at Gettysburg that he delivered on November 19, 1863. The speech defied Lincoln's own prediction that \"the world will little note, nor long remember what we say here.\"\n",
      "Rerank Document 3: Scores -2.9107487201690674, Documents: On March 4 1865, Lincoln delivered his second inaugural address, his favorite of all his speeches. At this time, a victory over the rebels was at hand, slavery was dead, and Lincoln was looking to the future.\n",
      "Rerank Document 4: Scores -6.267669662520012, Documents: Jaffa (2000) p. 399 The Declaration's emphasis on freedom and equality for all, rather than the Constitution's tolerance of slavers, shifted the debate. As Diggins concludes regarding the highly influential Cooper Union speech, \"Lincoln presented Americans a theory of history that offers a profound contribution to the theory and destiny of republicanism itself.\"\n",
      "Rerank Document 5: Scores -7.139689636230468, Documents: Gabor S. Boritt, \"'And the War Came'? Abraham Lincoln and the Question of Individual Responsibility,\" Why the Civil War Came ed by Boritt (1996), pp 3-30.\n"
     ]
    }
   ],
   "source": [
    "query_and_rerank(hard_query, hybrid_rr)"
   ]
  },
  {
   "cell_type": "markdown",
   "metadata": {},
   "source": [
    "The hybrid reranking strategy demonstrates effective prioritization of relevant documents for answering queries, as seen with examples such as confirming Abraham Lincoln's role as the 16th President and identifying the start of his political career. The reranked results successfully elevate the most contextually pertinent documents, showing strong alignment with the queries' intent. However, while the approach ensures accurate top matches, there is a noticeable drop in relevance as it moves to lower-ranked results. Enhancing the strategy to capture more nuanced context and include varied supporting documents could further improve performance, especially for multifaceted queries. Overall, the strategy effectively surfaces key information but would benefit from refined scoring for broader context inclusion."
   ]
  },
  {
   "cell_type": "markdown",
   "metadata": {},
   "source": [
    "### tfidf ###\n",
    "\n",
    "#### Easy Qeury ###"
   ]
  },
  {
   "cell_type": "code",
   "execution_count": 19,
   "metadata": {},
   "outputs": [
    {
     "name": "stdout",
     "output_type": "stream",
     "text": [
      "QUERY: Was Abraham Lincoln the sixteenth President of the United States?\n",
      "NEAREST NEIGHBORS RESULTS:\n",
      "Neighbor 1: Index 0, Distance 0.614966094493866, Documents: Abraham Lincoln Abraham Lincoln (February 12, 1809 – April 15, 1865) was the sixteenth President of the United States, serving from March 4, 1861 until his assassination. As an outspoken opponent of the expansion of slavery in the United States, \"[I]n his short autobiography written for the 1860 presidential campaign, Lincoln would describe his protest in the Illinois legislature as one that 'briefly defined his position on the slavery question, and so far as it goes, it was then the same that it is now.\"\n",
      "Neighbor 2: Index 91, Distance 0.7187897562980652, Documents: The goal was to emphasize the superior power of \"free labor,\" whereby a common farm boy could work his way to the top by his own efforts. Thomas (1952) p 216; Reinhard H. Luthin, The First Lincoln Campaign (1944); Nevins vol 4; On November 6, 1860, Lincoln was elected as the 16th President of the United States, beating Democrat Stephen A. Douglas, John C. Breckinridge of the Southern Democrats, and John Bell of the new Constitutional Union Party.\n",
      "Neighbor 3: Index 32, Distance 0.8143948316574097, Documents: Young Abraham Lincoln Lincoln began his political career in 1832, at age 23, with an unsuccessful campaign for the Illinois General Assembly, as a member of the Whig Party. He ran eighth in a field of 13 candidates.\n",
      "Neighbor 4: Index 4, Distance 0.8214978575706482, Documents: Lincoln won the Republican Party nomination in 1860 and was elected president later that year. During his term, he helped preserve the United States by leading the defeat of the secessionist Confederate States of America in the American Civil War.\n",
      "Neighbor 5: Index 10, Distance 0.8242824077606201, Documents: His assassination in 1865 was the first presidential assassination in U.S. history and made him a martyr for the ideal of national unity. Scholars now rank Lincoln among the top three U.S. Presidents, with the majority of those surveyed placing him first.\n",
      "\n",
      "\n",
      "RERANKED RESULTS:\n",
      "Rerank Document 1: Scores 0.57886486638134, Documents: Abraham Lincoln Abraham Lincoln (February 12, 1809 – April 15, 1865) was the sixteenth President of the United States, serving from March 4, 1861 until his assassination. As an outspoken opponent of the expansion of slavery in the United States, \"[I]n his short autobiography written for the 1860 presidential campaign, Lincoln would describe his protest in the Illinois legislature as one that 'briefly defined his position on the slavery question, and so far as it goes, it was then the same that it is now.\"\n",
      "Rerank Document 2: Scores 0.7682309687850307, Documents: Lincoln won the Republican Party nomination in 1860 and was elected president later that year. During his term, he helped preserve the United States by leading the defeat of the secessionist Confederate States of America in the American Civil War.\n",
      "Rerank Document 3: Scores 0.8538893086967501, Documents: The goal was to emphasize the superior power of \"free labor,\" whereby a common farm boy could work his way to the top by his own efforts. Thomas (1952) p 216; Reinhard H. Luthin, The First Lincoln Campaign (1944); Nevins vol 4; On November 6, 1860, Lincoln was elected as the 16th President of the United States, beating Democrat Stephen A. Douglas, John C. Breckinridge of the Southern Democrats, and John Bell of the new Constitutional Union Party.\n",
      "Rerank Document 4: Scores 0.8737378247427153, Documents: Young Abraham Lincoln Lincoln began his political career in 1832, at age 23, with an unsuccessful campaign for the Illinois General Assembly, as a member of the Whig Party. He ran eighth in a field of 13 candidates.\n",
      "Rerank Document 5: Scores 0.9674409470940233, Documents: His assassination in 1865 was the first presidential assassination in U.S. history and made him a martyr for the ideal of national unity. Scholars now rank Lincoln among the top three U.S. Presidents, with the majority of those surveyed placing him first.\n"
     ]
    }
   ],
   "source": [
    "tfidf_rr = Reranker(type=\"tfidf\")\n",
    "\n",
    "query_and_rerank(easy_query, tfidf_rr)"
   ]
  },
  {
   "cell_type": "markdown",
   "metadata": {},
   "source": [
    "#### Medium Qeury ####"
   ]
  },
  {
   "cell_type": "code",
   "execution_count": 20,
   "metadata": {},
   "outputs": [
    {
     "name": "stdout",
     "output_type": "stream",
     "text": [
      "QUERY: When did Lincoln begin his political career?\n",
      "NEAREST NEIGHBORS RESULTS:\n",
      "Neighbor 1: Index 32, Distance 0.5964539647102356, Documents: Young Abraham Lincoln Lincoln began his political career in 1832, at age 23, with an unsuccessful campaign for the Illinois General Assembly, as a member of the Whig Party. He ran eighth in a field of 13 candidates.\n",
      "Neighbor 2: Index 4, Distance 0.687463641166687, Documents: Lincoln won the Republican Party nomination in 1860 and was elected president later that year. During his term, he helped preserve the United States by leading the defeat of the secessionist Confederate States of America in the American Civil War.\n",
      "Neighbor 3: Index 156, Distance 0.6882932186126709, Documents: Foner (1970) p. 215 says, \"Lincoln stressed the moral basis of republicanism.\" See also McPherson (1992) pp.61-64.\n",
      "Neighbor 4: Index 91, Distance 0.7263302803039551, Documents: The goal was to emphasize the superior power of \"free labor,\" whereby a common farm boy could work his way to the top by his own efforts. Thomas (1952) p 216; Reinhard H. Luthin, The First Lincoln Campaign (1944); Nevins vol 4; On November 6, 1860, Lincoln was elected as the 16th President of the United States, beating Democrat Stephen A. Douglas, John C. Breckinridge of the Southern Democrats, and John Bell of the new Constitutional Union Party.\n",
      "Neighbor 5: Index 6, Distance 0.7330083250999451, Documents: Historians have concluded that he handled the factions of the Republican Party well, bringing leaders of each faction into his cabinet and forcing them to cooperate. Lincoln successfully defused a war scare with the United Kingdom in 1861.\n",
      "\n",
      "\n",
      "RERANKED RESULTS:\n",
      "Rerank Document 1: Scores 0.7941980485846438, Documents: Young Abraham Lincoln Lincoln began his political career in 1832, at age 23, with an unsuccessful campaign for the Illinois General Assembly, as a member of the Whig Party. He ran eighth in a field of 13 candidates.\n",
      "Rerank Document 2: Scores 0.9676814418306475, Documents: The goal was to emphasize the superior power of \"free labor,\" whereby a common farm boy could work his way to the top by his own efforts. Thomas (1952) p 216; Reinhard H. Luthin, The First Lincoln Campaign (1944); Nevins vol 4; On November 6, 1860, Lincoln was elected as the 16th President of the United States, beating Democrat Stephen A. Douglas, John C. Breckinridge of the Southern Democrats, and John Bell of the new Constitutional Union Party.\n",
      "Rerank Document 3: Scores 0.971178745831224, Documents: Foner (1970) p. 215 says, \"Lincoln stressed the moral basis of republicanism.\" See also McPherson (1992) pp.61-64.\n",
      "Rerank Document 4: Scores 0.9748804410032093, Documents: Historians have concluded that he handled the factions of the Republican Party well, bringing leaders of each faction into his cabinet and forcing them to cooperate. Lincoln successfully defused a war scare with the United Kingdom in 1861.\n",
      "Rerank Document 5: Scores 0.9771958017686928, Documents: Lincoln won the Republican Party nomination in 1860 and was elected president later that year. During his term, he helped preserve the United States by leading the defeat of the secessionist Confederate States of America in the American Civil War.\n"
     ]
    }
   ],
   "source": [
    "query_and_rerank(med_query, tfidf_rr)"
   ]
  },
  {
   "cell_type": "markdown",
   "metadata": {},
   "source": [
    "#### Hard Query ####"
   ]
  },
  {
   "cell_type": "code",
   "execution_count": 21,
   "metadata": {},
   "outputs": [
    {
     "name": "stdout",
     "output_type": "stream",
     "text": [
      "QUERY: When did the Gettysburg address argue that America was born?\n",
      "NEAREST NEIGHBORS RESULTS:\n",
      "Neighbor 1: Index 158, Distance 0.8181768655776978, Documents: Lincoln's second inauguration on March 4, 1865. In the photo, Lincoln's assassin, John Wilkes Booth, can be seen in the crowd at the top and accomplices David Herold, Lewis Powell, George Atzerodt, John Surratt and Edmund Spangler in the bottom crowd In his Gettysburg Address Lincoln redefined the American nation, arguing that it was born not in 1789 but in 1776, \"conceived in Liberty, and dedicated to the proposition that all men are created equal.\"\n",
      "Neighbor 2: Index 151, Distance 0.87743079662323, Documents: His extraordinary command of the English language was evidenced in the Gettysburg Address, a speech dedicating the cemetery at Gettysburg that he delivered on November 19, 1863. The speech defied Lincoln's own prediction that \"the world will little note, nor long remember what we say here.\"\n",
      "Neighbor 3: Index 87, Distance 0.9404837489128113, Documents: Gabor S. Boritt, \"'And the War Came'? Abraham Lincoln and the Question of Individual Responsibility,\" Why the Civil War Came ed by Boritt (1996), pp 3-30.\n",
      "Neighbor 4: Index 154, Distance 1.0027390718460083, Documents: Jaffa (2000) p. 399 The Declaration's emphasis on freedom and equality for all, rather than the Constitution's tolerance of slavers, shifted the debate. As Diggins concludes regarding the highly influential Cooper Union speech, \"Lincoln presented Americans a theory of history that offers a profound contribution to the theory and destiny of republicanism itself.\"\n",
      "Neighbor 5: Index 125, Distance 1.0484099388122559, Documents: On March 4 1865, Lincoln delivered his second inaugural address, his favorite of all his speeches. At this time, a victory over the rebels was at hand, slavery was dead, and Lincoln was looking to the future.\n",
      "\n",
      "\n",
      "RERANKED RESULTS:\n",
      "Rerank Document 1: Scores 0.8736638158391145, Documents: His extraordinary command of the English language was evidenced in the Gettysburg Address, a speech dedicating the cemetery at Gettysburg that he delivered on November 19, 1863. The speech defied Lincoln's own prediction that \"the world will little note, nor long remember what we say here.\"\n",
      "Rerank Document 2: Scores 0.8918000858619849, Documents: Lincoln's second inauguration on March 4, 1865. In the photo, Lincoln's assassin, John Wilkes Booth, can be seen in the crowd at the top and accomplices David Herold, Lewis Powell, George Atzerodt, John Surratt and Edmund Spangler in the bottom crowd In his Gettysburg Address Lincoln redefined the American nation, arguing that it was born not in 1789 but in 1776, \"conceived in Liberty, and dedicated to the proposition that all men are created equal.\"\n",
      "Rerank Document 3: Scores 0.9573088199406182, Documents: On March 4 1865, Lincoln delivered his second inaugural address, his favorite of all his speeches. At this time, a victory over the rebels was at hand, slavery was dead, and Lincoln was looking to the future.\n",
      "Rerank Document 4: Scores 1.0, Documents: Gabor S. Boritt, \"'And the War Came'? Abraham Lincoln and the Question of Individual Responsibility,\" Why the Civil War Came ed by Boritt (1996), pp 3-30.\n",
      "Rerank Document 5: Scores 1.0, Documents: Jaffa (2000) p. 399 The Declaration's emphasis on freedom and equality for all, rather than the Constitution's tolerance of slavers, shifted the debate. As Diggins concludes regarding the highly influential Cooper Union speech, \"Lincoln presented Americans a theory of history that offers a profound contribution to the theory and destiny of republicanism itself.\"\n"
     ]
    }
   ],
   "source": [
    "query_and_rerank(hard_query, tfidf_rr)"
   ]
  },
  {
   "cell_type": "markdown",
   "metadata": {},
   "source": [
    "The TF-IDF strategy for answering the queries demonstrates a reasonable ability to identify relevant documents, effectively emphasizing information with higher contextual similarity. For the query confirming Lincoln as the sixteenth President, the top-ranked documents provide direct and detailed evidence, indicating that TF-IDF accurately prioritizes clear, relevant text. Similarly, in the query about Lincoln's political beginnings, the strategy performs well, surfacing documents that trace his career to its roots. However, some reranked results appear less directly relevant to the query, suggesting that while TF-IDF captures essential keyword matches, it might struggle to weigh nuanced contextual meaning adequately. This issue is especially evident in the Gettysburg Address query, where documents with tangential references are sometimes elevated above more precise matches. Overall, while TF-IDF performs strongly in keyword-based retrieval, it could be complemented by semantic understanding techniques for improved accuracy in queries requiring deeper context comprehension."
   ]
  },
  {
   "cell_type": "markdown",
   "metadata": {},
   "source": [
    "### TFIDF Then cross-encorder strategy ###\n",
    "\n",
    "#### Easy Qeury ###"
   ]
  },
  {
   "cell_type": "code",
   "execution_count": 22,
   "metadata": {},
   "outputs": [
    {
     "name": "stdout",
     "output_type": "stream",
     "text": [
      "QUERY: Was Abraham Lincoln the sixteenth President of the United States?\n",
      "NEAREST NEIGHBORS RESULTS:\n",
      "Neighbor 1: Index 0, Distance 0.614966094493866, Documents: Abraham Lincoln Abraham Lincoln (February 12, 1809 – April 15, 1865) was the sixteenth President of the United States, serving from March 4, 1861 until his assassination. As an outspoken opponent of the expansion of slavery in the United States, \"[I]n his short autobiography written for the 1860 presidential campaign, Lincoln would describe his protest in the Illinois legislature as one that 'briefly defined his position on the slavery question, and so far as it goes, it was then the same that it is now.\"\n",
      "Neighbor 2: Index 91, Distance 0.7187897562980652, Documents: The goal was to emphasize the superior power of \"free labor,\" whereby a common farm boy could work his way to the top by his own efforts. Thomas (1952) p 216; Reinhard H. Luthin, The First Lincoln Campaign (1944); Nevins vol 4; On November 6, 1860, Lincoln was elected as the 16th President of the United States, beating Democrat Stephen A. Douglas, John C. Breckinridge of the Southern Democrats, and John Bell of the new Constitutional Union Party.\n",
      "Neighbor 3: Index 32, Distance 0.8143948316574097, Documents: Young Abraham Lincoln Lincoln began his political career in 1832, at age 23, with an unsuccessful campaign for the Illinois General Assembly, as a member of the Whig Party. He ran eighth in a field of 13 candidates.\n",
      "Neighbor 4: Index 4, Distance 0.8214978575706482, Documents: Lincoln won the Republican Party nomination in 1860 and was elected president later that year. During his term, he helped preserve the United States by leading the defeat of the secessionist Confederate States of America in the American Civil War.\n",
      "Neighbor 5: Index 10, Distance 0.8242824077606201, Documents: His assassination in 1865 was the first presidential assassination in U.S. history and made him a martyr for the ideal of national unity. Scholars now rank Lincoln among the top three U.S. Presidents, with the majority of those surveyed placing him first.\n",
      "\n",
      "\n",
      "RERANKED RESULTS:\n",
      "Rerank Document 1: Scores 10.466607093811035, Documents: Abraham Lincoln Abraham Lincoln (February 12, 1809 – April 15, 1865) was the sixteenth President of the United States, serving from March 4, 1861 until his assassination. As an outspoken opponent of the expansion of slavery in the United States, \"[I]n his short autobiography written for the 1860 presidential campaign, Lincoln would describe his protest in the Illinois legislature as one that 'briefly defined his position on the slavery question, and so far as it goes, it was then the same that it is now.\"\n",
      "Rerank Document 2: Scores 5.672313213348389, Documents: The goal was to emphasize the superior power of \"free labor,\" whereby a common farm boy could work his way to the top by his own efforts. Thomas (1952) p 216; Reinhard H. Luthin, The First Lincoln Campaign (1944); Nevins vol 4; On November 6, 1860, Lincoln was elected as the 16th President of the United States, beating Democrat Stephen A. Douglas, John C. Breckinridge of the Southern Democrats, and John Bell of the new Constitutional Union Party.\n",
      "Rerank Document 3: Scores 2.4597890377044678, Documents: Lincoln won the Republican Party nomination in 1860 and was elected president later that year. During his term, he helped preserve the United States by leading the defeat of the secessionist Confederate States of America in the American Civil War.\n",
      "Rerank Document 4: Scores 0.4911730885505676, Documents: His assassination in 1865 was the first presidential assassination in U.S. history and made him a martyr for the ideal of national unity. Scholars now rank Lincoln among the top three U.S. Presidents, with the majority of those surveyed placing him first.\n",
      "Rerank Document 5: Scores -2.6485273838043213, Documents: Young Abraham Lincoln Lincoln began his political career in 1832, at age 23, with an unsuccessful campaign for the Illinois General Assembly, as a member of the Whig Party. He ran eighth in a field of 13 candidates.\n"
     ]
    }
   ],
   "source": [
    "hybrid2_rr = Reranker(type=\"hybrid2\")\n",
    "\n",
    "query_and_rerank(easy_query, hybrid2_rr)"
   ]
  },
  {
   "cell_type": "markdown",
   "metadata": {},
   "source": [
    "#### Medium Query ####"
   ]
  },
  {
   "cell_type": "code",
   "execution_count": 23,
   "metadata": {},
   "outputs": [
    {
     "name": "stdout",
     "output_type": "stream",
     "text": [
      "QUERY: When did Lincoln begin his political career?\n",
      "NEAREST NEIGHBORS RESULTS:\n",
      "Neighbor 1: Index 32, Distance 0.5964539647102356, Documents: Young Abraham Lincoln Lincoln began his political career in 1832, at age 23, with an unsuccessful campaign for the Illinois General Assembly, as a member of the Whig Party. He ran eighth in a field of 13 candidates.\n",
      "Neighbor 2: Index 4, Distance 0.687463641166687, Documents: Lincoln won the Republican Party nomination in 1860 and was elected president later that year. During his term, he helped preserve the United States by leading the defeat of the secessionist Confederate States of America in the American Civil War.\n",
      "Neighbor 3: Index 156, Distance 0.6882932186126709, Documents: Foner (1970) p. 215 says, \"Lincoln stressed the moral basis of republicanism.\" See also McPherson (1992) pp.61-64.\n",
      "Neighbor 4: Index 91, Distance 0.7263302803039551, Documents: The goal was to emphasize the superior power of \"free labor,\" whereby a common farm boy could work his way to the top by his own efforts. Thomas (1952) p 216; Reinhard H. Luthin, The First Lincoln Campaign (1944); Nevins vol 4; On November 6, 1860, Lincoln was elected as the 16th President of the United States, beating Democrat Stephen A. Douglas, John C. Breckinridge of the Southern Democrats, and John Bell of the new Constitutional Union Party.\n",
      "Neighbor 5: Index 6, Distance 0.7330083250999451, Documents: Historians have concluded that he handled the factions of the Republican Party well, bringing leaders of each faction into his cabinet and forcing them to cooperate. Lincoln successfully defused a war scare with the United Kingdom in 1861.\n",
      "\n",
      "\n",
      "RERANKED RESULTS:\n",
      "Rerank Document 1: Scores 10.578441619873047, Documents: Young Abraham Lincoln Lincoln began his political career in 1832, at age 23, with an unsuccessful campaign for the Illinois General Assembly, as a member of the Whig Party. He ran eighth in a field of 13 candidates.\n",
      "Rerank Document 2: Scores 5.707779407501221, Documents: Lincoln won the Republican Party nomination in 1860 and was elected president later that year. During his term, he helped preserve the United States by leading the defeat of the secessionist Confederate States of America in the American Civil War.\n",
      "Rerank Document 3: Scores 3.099620819091797, Documents: The goal was to emphasize the superior power of \"free labor,\" whereby a common farm boy could work his way to the top by his own efforts. Thomas (1952) p 216; Reinhard H. Luthin, The First Lincoln Campaign (1944); Nevins vol 4; On November 6, 1860, Lincoln was elected as the 16th President of the United States, beating Democrat Stephen A. Douglas, John C. Breckinridge of the Southern Democrats, and John Bell of the new Constitutional Union Party.\n",
      "Rerank Document 4: Scores 2.1908769607543945, Documents: Historians have concluded that he handled the factions of the Republican Party well, bringing leaders of each faction into his cabinet and forcing them to cooperate. Lincoln successfully defused a war scare with the United Kingdom in 1861.\n",
      "Rerank Document 5: Scores -1.153191328048706, Documents: Foner (1970) p. 215 says, \"Lincoln stressed the moral basis of republicanism.\" See also McPherson (1992) pp.61-64.\n"
     ]
    }
   ],
   "source": [
    "query_and_rerank(med_query, hybrid2_rr)"
   ]
  },
  {
   "cell_type": "markdown",
   "metadata": {},
   "source": [
    "#### Hard Qeury ####"
   ]
  },
  {
   "cell_type": "code",
   "execution_count": 24,
   "metadata": {},
   "outputs": [
    {
     "name": "stdout",
     "output_type": "stream",
     "text": [
      "QUERY: When did the Gettysburg address argue that America was born?\n",
      "NEAREST NEIGHBORS RESULTS:\n",
      "Neighbor 1: Index 158, Distance 0.8181768655776978, Documents: Lincoln's second inauguration on March 4, 1865. In the photo, Lincoln's assassin, John Wilkes Booth, can be seen in the crowd at the top and accomplices David Herold, Lewis Powell, George Atzerodt, John Surratt and Edmund Spangler in the bottom crowd In his Gettysburg Address Lincoln redefined the American nation, arguing that it was born not in 1789 but in 1776, \"conceived in Liberty, and dedicated to the proposition that all men are created equal.\"\n",
      "Neighbor 2: Index 151, Distance 0.87743079662323, Documents: His extraordinary command of the English language was evidenced in the Gettysburg Address, a speech dedicating the cemetery at Gettysburg that he delivered on November 19, 1863. The speech defied Lincoln's own prediction that \"the world will little note, nor long remember what we say here.\"\n",
      "Neighbor 3: Index 87, Distance 0.9404837489128113, Documents: Gabor S. Boritt, \"'And the War Came'? Abraham Lincoln and the Question of Individual Responsibility,\" Why the Civil War Came ed by Boritt (1996), pp 3-30.\n",
      "Neighbor 4: Index 154, Distance 1.0027390718460083, Documents: Jaffa (2000) p. 399 The Declaration's emphasis on freedom and equality for all, rather than the Constitution's tolerance of slavers, shifted the debate. As Diggins concludes regarding the highly influential Cooper Union speech, \"Lincoln presented Americans a theory of history that offers a profound contribution to the theory and destiny of republicanism itself.\"\n",
      "Neighbor 5: Index 125, Distance 1.0484099388122559, Documents: On March 4 1865, Lincoln delivered his second inaugural address, his favorite of all his speeches. At this time, a victory over the rebels was at hand, slavery was dead, and Lincoln was looking to the future.\n",
      "\n",
      "\n",
      "RERANKED RESULTS:\n",
      "Rerank Document 1: Scores 4.8185648918151855, Documents: Lincoln's second inauguration on March 4, 1865. In the photo, Lincoln's assassin, John Wilkes Booth, can be seen in the crowd at the top and accomplices David Herold, Lewis Powell, George Atzerodt, John Surratt and Edmund Spangler in the bottom crowd In his Gettysburg Address Lincoln redefined the American nation, arguing that it was born not in 1789 but in 1776, \"conceived in Liberty, and dedicated to the proposition that all men are created equal.\"\n",
      "Rerank Document 2: Scores 0.34117552638053894, Documents: His extraordinary command of the English language was evidenced in the Gettysburg Address, a speech dedicating the cemetery at Gettysburg that he delivered on November 19, 1863. The speech defied Lincoln's own prediction that \"the world will little note, nor long remember what we say here.\"\n",
      "Rerank Document 3: Scores -4.5867838859558105, Documents: On March 4 1865, Lincoln delivered his second inaugural address, his favorite of all his speeches. At this time, a victory over the rebels was at hand, slavery was dead, and Lincoln was looking to the future.\n",
      "Rerank Document 4: Scores -9.364089012145996, Documents: Jaffa (2000) p. 399 The Declaration's emphasis on freedom and equality for all, rather than the Constitution's tolerance of slavers, shifted the debate. As Diggins concludes regarding the highly influential Cooper Union speech, \"Lincoln presented Americans a theory of history that offers a profound contribution to the theory and destiny of republicanism itself.\"\n",
      "Rerank Document 5: Scores -10.628128051757812, Documents: Gabor S. Boritt, \"'And the War Came'? Abraham Lincoln and the Question of Individual Responsibility,\" Why the Civil War Came ed by Boritt (1996), pp 3-30.\n"
     ]
    }
   ],
   "source": [
    "query_and_rerank(hard_query, hybrid2_rr)"
   ]
  },
  {
   "cell_type": "markdown",
   "metadata": {},
   "source": [
    "The above results demonstrates a hybrid retrieval strategy where TF-IDF is initially used then followed by re-ranking these documents using a cross-encoder for enhanced contextual understanding. The results illustrate that while the TF-IDF-based nearest neighbors stage effectively narrows down relevant documents, the cross-encoder re-ranking significantly boosts precision by better assessing semantic relevance. For example, the query \"Was Abraham Lincoln the sixteenth President of the United States?\" finds a top document with the direct answer, showing high relevance in both stages. The cross-encoder scores indicate better alignment to the query's context, such as emphasizing Lincoln's presidency and the historical framing of the Gettysburg Address. Overall, this method capitalizes on the broad initial search of TF-IDF and the detailed evaluation capabilities of cross-encoders for accurate, context-aware retrieval."
   ]
  },
  {
   "cell_type": "markdown",
   "metadata": {},
   "source": [
    "#### Analysis ####\n",
    "\n",
    "The analysis highlights the strengths and limitations of the two retrieval strategies—TF-IDF and the hybrid approach utilizing cross-encoders. The TF-IDF method excels in keyword-based retrieval, effectively identifying documents with high contextual relevance for straightforward queries like Lincoln's presidency. Its ability to prioritize documents with direct answers is commendable; however, it may falter with more nuanced queries, where it occasionally elevates tangentially related documents over precise matches, as seen with the Gettysburg Address. On the other hand, the hybrid reranking strategy demonstrates a more sophisticated approach to document relevance by integrating the strengths of both TF-IDF and cross-encoders. This strategy successfully prioritizes documents that align closely with the query intent, effectively re-ranking based on semantic understanding. While it showcases improved precision, particularly for straightforward and moderately complex queries, the strategy still encounters challenges with multifaceted historical interpretations, where relevance may decrease for lower-ranked documents. Given these observations, the hybrid reranking method is recommended for our work. It not only retains the efficiency of TF-IDF in narrowing down relevant documents but also leverages the nuanced understanding provided by cross-encoders for more accurate semantic retrieval. This combination allows for a robust approach that can handle both simple and complex queries, ensuring high-quality results across various levels of difficulty."
   ]
  },
  {
   "cell_type": "markdown",
   "metadata": {},
   "source": [
    "#"
   ]
  }
 ],
 "metadata": {
  "kernelspec": {
   "display_name": "text_env",
   "language": "python",
   "name": "python3"
  },
  "language_info": {
   "codemirror_mode": {
    "name": "ipython",
    "version": 3
   },
   "file_extension": ".py",
   "mimetype": "text/x-python",
   "name": "python",
   "nbconvert_exporter": "python",
   "pygments_lexer": "ipython3",
   "version": "3.8.10"
  }
 },
 "nbformat": 4,
 "nbformat_minor": 2
}
