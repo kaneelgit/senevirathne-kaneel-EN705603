{
 "cells": [
  {
   "cell_type": "code",
   "execution_count": 1,
   "metadata": {},
   "outputs": [
    {
     "name": "stderr",
     "output_type": "stream",
     "text": [
      "/mnt/c/Users/wsenevi1/Desktop/Classes/AI MASTERS/senevirathne-kaneel/textwave/text_env/lib/python3.8/site-packages/sentence_transformers/cross_encoder/CrossEncoder.py:13: TqdmWarning: IProgress not found. Please update jupyter and ipywidgets. See https://ipywidgets.readthedocs.io/en/stable/user_install.html\n",
      "  from tqdm.autonotebook import tqdm, trange\n"
     ]
    }
   ],
   "source": [
    "import os, sys\n",
    "\n",
    "parent_dir = os.path.abspath(os.path.join(os.getcwd(), os.pardir))\n",
    "sys.path.insert(0, parent_dir)\n",
    "\n",
    "from pipeline import preprocess_corpus\n",
    "from modules.retrieval import indexing"
   ]
  },
  {
   "cell_type": "markdown",
   "metadata": {},
   "source": [
    "### Running a test Corpus to see check chunking stratergy ###\n",
    "\n",
    "For simplicity a smaller file is created with a small paragraph. Only printing first 5 embeddings."
   ]
  },
  {
   "cell_type": "code",
   "execution_count": 3,
   "metadata": {},
   "outputs": [],
   "source": [
    "#test corpus directory\n",
    "corpus_directory = '../storage/corpus_test'"
   ]
  },
  {
   "cell_type": "code",
   "execution_count": 4,
   "metadata": {},
   "outputs": [
    {
     "name": "stdout",
     "output_type": "stream",
     "text": [
      "index 0\n",
      "chunk: John_Adams John Adams, Jr. (October 30,1735 July 4, 1826) was the second President of the United States (1797 1801). He also served as America's first Vice President (1789 1797).\n",
      "Embedding: [-0.03940695 -0.00807811  0.05257349 -0.02148088 -0.0443    ]\n",
      "index 1\n",
      "chunk: He was defeated for re-election in the \"Revolution of 1800\" by Thomas Jefferson. Adams was also the first President to reside in the newly built White House in Washington, D.C., which was completed in 1800.\n",
      "Embedding: [-0.01570599  0.02180837  0.10028849 -0.0111638  -0.03596629]\n",
      "index 2\n",
      "chunk: Adams, a sponsor of the American Revolution in Massachusetts, was a driving force for independence in 1776; Jefferson called him the \"Colossus of Independence\". He represented the Continental Congress in Europe.\n",
      "Embedding: [-0.06091342 -0.00299258  0.03134836 -0.00079028  0.04232774]\n",
      "index 3\n",
      "chunk: He was a major negotiator of the eventual peace treaty with Great Britain, and chiefly responsible for obtaining the loans from the Amsterdam money market necessary for the conduct of the Revolution. His prestige secured his two elections as Washington's Vice President and his election to succeed him.\n",
      "Embedding: [ 0.05615174  0.09881541  0.0495874  -0.07805753 -0.05562429]\n",
      "index 4\n",
      "chunk: As President, he was frustrated by battles inside his own Federalist party against a faction led by Alexander Hamilton, but he broke with them to avert a major conflict with France in 1798, during the Quasi-War crisis. He became the founder of an important family of politicians, diplomats and historians, and in recent years his reputation has improved.\n",
      "Embedding: [-0.02417151 -0.01513822  0.05338457 -0.03014376  0.00408164]\n"
     ]
    }
   ],
   "source": [
    "\n",
    "chunks, embeddings = preprocess_corpus(corpus_directory, 'sentence', overlap_size = 2)\n",
    "\n",
    "for i, chunk in enumerate(chunks[:5]):\n",
    "    print(f\"index {i}\")\n",
    "    print(f\"chunk: {chunk}\")\n",
    "    print(f\"Embedding: {embeddings[i][:5]}\")\n",
    "    "
   ]
  },
  {
   "cell_type": "code",
   "execution_count": 5,
   "metadata": {},
   "outputs": [
    {
     "name": "stdout",
     "output_type": "stream",
     "text": [
      "index 0\n",
      "chunk: John_Adams John Adams, Jr. (October 30,1735 July 4, 1826) was the second President of the United States (1797 1801). He also served as America's first Vice President (1789 1797). He was defeated for re-election in the \"Revolution of 1800\" by Thomas Jefferson. Adams was also the first President to reside in the newly built White House in Washington, D.C., which was completed in 1800.\n",
      "Embedding: [-0.03373963 -0.00164346  0.06931225 -0.02650399 -0.04892938]\n",
      "index 1\n",
      "chunk: Adams, a sponsor of the American Revolution in Massachusetts, was a driving force for independence in 1776; Jefferson called him the \"Colossus of Independence\". He represented the Continental Congress in Europe. He was a major negotiator of the eventual peace treaty with Great Britain, and chiefly responsible for obtaining the loans from the Amsterdam money market necessary for the conduct of the Revolution. His prestige secured his two elections as Washington's Vice President and his election to succeed him.\n",
      "Embedding: [-0.03293295  0.01204256  0.05153134 -0.03256011  0.01574124]\n",
      "index 2\n",
      "chunk: As President, he was frustrated by battles inside his own Federalist party against a faction led by Alexander Hamilton, but he broke with them to avert a major conflict with France in 1798, during the Quasi-War crisis. He became the founder of an important family of politicians, diplomats and historians, and in recent years his reputation has improved. Birthplace of John Adams, Quincy, Massachusetts. John Adams was the oldest of three brothers, born on October 30, 1735 (October 19, 1735 by the Old Style, Julian calendar), in Braintree, Massachusetts, though in an area which became part of Quincy, Massachusetts in 1792.\n",
      "Embedding: [-0.06440989 -0.00191239  0.01963879 -0.0289409  -0.01703633]\n",
      "index 3\n",
      "chunk: His birthplace is now part of Adams National Historical Park. His father, a farmer and a Deacon, also named John (1690-1761), was a fourth-generation descendant of Henry Adams, who immigrated from Barton St David, Somerset, England, to Massachusetts Bay Colony in about 1636, from a Welsh male line called Ap Adam. /ref> His mother was Susanna Boylston Adams. Ferling (1992) ch 1 Who is a descendant of the Boylstons of Brookline, one of the colony's most vigorous and successful families.\n",
      "Embedding: [-0.0099592   0.06318295  0.0306482  -0.03579827 -0.00149398]\n"
     ]
    }
   ],
   "source": [
    "chunks, embeddings = preprocess_corpus(corpus_directory, 'sentence', overlap_size = 4)\n",
    "\n",
    "for i, chunk in enumerate(chunks[:5]):\n",
    "    print(f\"index {i}\")\n",
    "    print(f\"chunk: {chunk}\")\n",
    "    print(f\"Embedding: {embeddings[i][:5]}\")"
   ]
  },
  {
   "cell_type": "code",
   "execution_count": 6,
   "metadata": {},
   "outputs": [
    {
     "name": "stdout",
     "output_type": "stream",
     "text": [
      "index 0\n",
      "chunk: John_Adams John Adams, Jr. (October 30,1735 July 4, 1826) was the second President of the United States (1797 1801). He also served as America's first Vice President (1789 1797). He was defeated for re-election in the \"Revolution of 1800\" by Thomas Jefferson. Adams was also the first President to reside\n",
      "Embedding: [-0.04312722 -0.02390901  0.0486779  -0.03950552 -0.05426732]\n",
      "index 1\n",
      "chunk: to reside in the newly built White House in Washington, D.C., which was completed in 1800. Adams, a sponsor of the American Revolution in Massachusetts, was a driving force for independence in 1776; Jefferson called him the \"Colossus of Independence\". He represented the Continental Congress in Europe. He was a\n",
      "Embedding: [-0.05122147  0.00507464  0.07524404  0.01296466  0.02073887]\n",
      "index 2\n",
      "chunk: was a major negotiator of the eventual peace treaty with Great Britain, and chiefly responsible for obtaining the loans from the Amsterdam money market necessary for the conduct of the Revolution. His prestige secured his two elections as Washington's Vice President and his election to succeed him. As President, he\n",
      "Embedding: [ 0.05803295  0.10641907  0.05351292 -0.09012476 -0.05396485]\n",
      "index 3\n",
      "chunk: President, he was frustrated by battles inside his own Federalist party against a faction led by Alexander Hamilton, but he broke with them to avert a major conflict with France in 1798, during the Quasi-War crisis. He became the founder of an important family of politicians, diplomats and historians, and\n",
      "Embedding: [-0.03254208 -0.00787878  0.05077742 -0.02381927  0.01394789]\n",
      "index 4\n",
      "chunk: historians, and in recent years his reputation has improved. Birthplace of John Adams, Quincy, Massachusetts. John Adams was the oldest of three brothers, born on October 30, 1735 (October 19, 1735 by the Old Style, Julian calendar), in Braintree, Massachusetts, though in an area which became part of Quincy, Massachusetts\n",
      "Embedding: [-0.05037925  0.02580532 -0.00157302 -0.00134723 -0.02623508]\n"
     ]
    }
   ],
   "source": [
    "chunks, embeddings = preprocess_corpus(corpus_directory, 'fixed-length', fixed_length = 50, overlap_size = 3)\n",
    "\n",
    "for i, chunk in enumerate(chunks[:5]):\n",
    "    print(f\"index {i}\")\n",
    "    print(f\"chunk: {chunk}\")\n",
    "    print(f\"Embedding: {embeddings[i][:5]}\")"
   ]
  },
  {
   "cell_type": "code",
   "execution_count": 7,
   "metadata": {},
   "outputs": [
    {
     "name": "stdout",
     "output_type": "stream",
     "text": [
      "index 0\n",
      "chunk: John_Adams John Adams, Jr. (October 30,1735 July 4, 1826) was the second President of the United States (1797 1801). He also served as America's first Vice President (1789 1797). He was defeated for re-election in the \"Revolution of 1800\" by Thomas Jefferson. Adams was also the first President to reside in the newly built White House in Washington, D.C., which was completed in 1800. Adams, a sponsor of the American Revolution in Massachusetts, was a driving force for independence in 1776; Jefferson called him the \"Colossus of Independence\". He represented the Continental Congress in Europe. He was a major negotiator\n",
      "Embedding: [-0.04931711 -0.01893659  0.06587866 -0.02098601 -0.03540759]\n",
      "index 1\n",
      "chunk: major negotiator of the eventual peace treaty with Great Britain, and chiefly responsible for obtaining the loans from the Amsterdam money market necessary for the conduct of the Revolution. His prestige secured his two elections as Washington's Vice President and his election to succeed him. As President, he was frustrated by battles inside his own Federalist party against a faction led by Alexander Hamilton, but he broke with them to avert a major conflict with France in 1798, during the Quasi-War crisis. He became the founder of an important family of politicians, diplomats and historians, and in recent years his\n",
      "Embedding: [ 0.03662967  0.06002058  0.08703536 -0.08554132 -0.04125639]\n",
      "index 2\n",
      "chunk: years his reputation has improved. Birthplace of John Adams, Quincy, Massachusetts. John Adams was the oldest of three brothers, born on October 30, 1735 (October 19, 1735 by the Old Style, Julian calendar), in Braintree, Massachusetts, though in an area which became part of Quincy, Massachusetts in 1792. His birthplace is now part of Adams National Historical Park. His father, a farmer and a Deacon, also named John (1690-1761), was a fourth-generation descendant of Henry Adams, who immigrated from Barton St David, Somerset, England, to Massachusetts Bay Colony in about 1636, from a Welsh male line called Ap Adam. /ref>\n",
      "Embedding: [-0.04384502  0.01180764  0.00687256 -0.00959256 -0.00561155]\n",
      "index 3\n",
      "chunk: the Old Style, Julian calendar), in Braintree, Massachusetts, though in an area which became part of Quincy, Massachusetts in 1792. His birthplace is now part of Adams National Historical Park. His father, a farmer and a Deacon, also named John (1690-1761), was a fourth-generation descendant of Henry Adams, who immigrated from Barton St David, Somerset, England, to Massachusetts Bay Colony in about 1636, from a Welsh male line called Ap Adam. /ref> His mother was Susanna Boylston Adams. Ferling (1992) ch 1 Who is a descendant of the Boylstons of Brookline, one of the colony's most vigorous and successful families.\n",
      "Embedding: [-0.01358395  0.05254     0.07673107 -0.02663801 -0.00055003]\n"
     ]
    }
   ],
   "source": [
    "chunks, embeddings = preprocess_corpus(corpus_directory, 'fixed-length', fixed_length = 100, overlap_size = 2)\n",
    "\n",
    "for i, chunk in enumerate(chunks[:5]):\n",
    "    print(f\"index {i}\")\n",
    "    print(f\"chunk: {chunk}\")\n",
    "    print(f\"Embedding: {embeddings[i][:5]}\")"
   ]
  },
  {
   "cell_type": "code",
   "execution_count": 8,
   "metadata": {},
   "outputs": [
    {
     "name": "stdout",
     "output_type": "stream",
     "text": [
      "index 0\n",
      "chunk: John_Adams John Adams, Jr. (October 30,1735 July 4, 1826) was the second President of the United States (1797 1801). He also served as America's first Vice President (1789 1797). He was defeated for re-election in the \"Revolution of 1800\" by Thomas Jefferson. Adams was also the first President to reside in the newly built White House in Washington, D.C., which was completed in 1800. Adams, a sponsor of the American Revolution in Massachusetts, was a driving force for independence in 1776; Jefferson called him the \"Colossus of Independence\". He represented the Continental Congress in Europe. He was a major negotiator of the eventual peace treaty with Great Britain, and chiefly responsible for obtaining the loans from the Amsterdam money market necessary for the conduct of the Revolution. His prestige secured his two elections as Washington's Vice President and his election to succeed him. As President, he was frustrated by battles\n",
      "Embedding: [-0.04669134 -0.01158107  0.08799667 -0.0369159  -0.04535264]\n",
      "index 1\n",
      "chunk: by battles inside his own Federalist party against a faction led by Alexander Hamilton, but he broke with them to avert a major conflict with France in 1798, during the Quasi-War crisis. He became the founder of an important family of politicians, diplomats and historians, and in recent years his reputation has improved. Birthplace of John Adams, Quincy, Massachusetts. John Adams was the oldest of three brothers, born on October 30, 1735 (October 19, 1735 by the Old Style, Julian calendar), in Braintree, Massachusetts, though in an area which became part of Quincy, Massachusetts in 1792. His birthplace is now part of Adams National Historical Park. His father, a farmer and a Deacon, also named John (1690-1761), was a fourth-generation descendant of Henry Adams, who immigrated from Barton St David, Somerset, England, to Massachusetts Bay Colony in about 1636, from a Welsh male line called Ap Adam. /ref> His mother\n",
      "Embedding: [-0.05444896  0.00870675  0.01059953 -0.02247507 -0.00142474]\n",
      "index 2\n",
      "chunk: in 1798, during the Quasi-War crisis. He became the founder of an important family of politicians, diplomats and historians, and in recent years his reputation has improved. Birthplace of John Adams, Quincy, Massachusetts. John Adams was the oldest of three brothers, born on October 30, 1735 (October 19, 1735 by the Old Style, Julian calendar), in Braintree, Massachusetts, though in an area which became part of Quincy, Massachusetts in 1792. His birthplace is now part of Adams National Historical Park. His father, a farmer and a Deacon, also named John (1690-1761), was a fourth-generation descendant of Henry Adams, who immigrated from Barton St David, Somerset, England, to Massachusetts Bay Colony in about 1636, from a Welsh male line called Ap Adam. /ref> His mother was Susanna Boylston Adams. Ferling (1992) ch 1 Who is a descendant of the Boylstons of Brookline, one of the colony's most vigorous and successful families.\n",
      "Embedding: [-0.06363734  0.02756752  0.00510485 -0.01719896 -0.02772376]\n"
     ]
    }
   ],
   "source": [
    "chunks, embeddings = preprocess_corpus(corpus_directory, 'fixed-length', fixed_length = 150, overlap_size = 1)\n",
    "\n",
    "for i, chunk in enumerate(chunks[:5]):\n",
    "    print(f\"index {i}\")\n",
    "    print(f\"chunk: {chunk}\")\n",
    "    print(f\"Embedding: {embeddings[i][:5]}\")"
   ]
  },
  {
   "cell_type": "markdown",
   "metadata": {},
   "source": [
    "### Preprocess the corpus directory and create Faiss Index ###"
   ]
  },
  {
   "cell_type": "code",
   "execution_count": null,
   "metadata": {},
   "outputs": [
    {
     "ename": "AttributeError",
     "evalue": "'list' object has no attribute 'shape'",
     "output_type": "error",
     "traceback": [
      "\u001b[0;31m---------------------------------------------------------------------------\u001b[0m",
      "\u001b[0;31mAttributeError\u001b[0m                            Traceback (most recent call last)",
      "Cell \u001b[0;32mIn[6], line 3\u001b[0m\n\u001b[1;32m      1\u001b[0m \u001b[38;5;66;03m# Instantiate the FaissIndex class\u001b[39;00m\n\u001b[1;32m      2\u001b[0m faiss_index \u001b[38;5;241m=\u001b[39m indexing\u001b[38;5;241m.\u001b[39mFaissIndex(index_type\u001b[38;5;241m=\u001b[39m\u001b[38;5;124m'\u001b[39m\u001b[38;5;124mFlat\u001b[39m\u001b[38;5;124m'\u001b[39m)  \u001b[38;5;66;03m# Choose the index type you prefer\u001b[39;00m\n\u001b[0;32m----> 3\u001b[0m chunks, embeddings \u001b[38;5;241m=\u001b[39m \u001b[43mpreprocess_corpus\u001b[49m\u001b[43m(\u001b[49m\u001b[43mcorpus_directory\u001b[49m\u001b[43m,\u001b[49m\u001b[43m \u001b[49m\u001b[38;5;124;43m'\u001b[39;49m\u001b[38;5;124;43msentence\u001b[39;49m\u001b[38;5;124;43m'\u001b[39;49m\u001b[43m,\u001b[49m\u001b[43m \u001b[49m\u001b[43moverlap_size\u001b[49m\u001b[43m \u001b[49m\u001b[38;5;241;43m=\u001b[39;49m\u001b[43m \u001b[49m\u001b[38;5;241;43m2\u001b[39;49m\u001b[43m,\u001b[49m\u001b[43m \u001b[49m\u001b[43mfaiss_index\u001b[49m\u001b[43m \u001b[49m\u001b[38;5;241;43m=\u001b[39;49m\u001b[43m \u001b[49m\u001b[43mfaiss_index\u001b[49m\u001b[43m)\u001b[49m\n",
      "File \u001b[0;32m/mnt/c/Users/wsenevi1/Desktop/Classes/AI MASTERS/senevirathne-kaneel/textwave/pipeline.py:33\u001b[0m, in \u001b[0;36mpreprocess_corpus\u001b[0;34m(corpus_directory, chunking_stratergy, fixed_length, overlap_size, faiss_index)\u001b[0m\n\u001b[1;32m     30\u001b[0m     embeddings\u001b[38;5;241m.\u001b[39mappend(emb)\n\u001b[1;32m     32\u001b[0m \u001b[38;5;28;01mif\u001b[39;00m faiss_index:\n\u001b[0;32m---> 33\u001b[0m     \u001b[43mfaiss_index\u001b[49m\u001b[38;5;241;43m.\u001b[39;49m\u001b[43madd_embeddings\u001b[49m\u001b[43m(\u001b[49m\u001b[43membeddings\u001b[49m\u001b[43m,\u001b[49m\u001b[43m \u001b[49m\u001b[43mchunks\u001b[49m\u001b[43m)\u001b[49m\n\u001b[1;32m     34\u001b[0m     faiss_index\u001b[38;5;241m.\u001b[39msave(\u001b[38;5;124m\"\u001b[39m\u001b[38;5;124mstorage/catalog/faiss.index\u001b[39m\u001b[38;5;124m\"\u001b[39m, \u001b[38;5;124m\"\u001b[39m\u001b[38;5;124mstorage/catalog/metadata.pkl\u001b[39m\u001b[38;5;124m\"\u001b[39m)\n\u001b[1;32m     36\u001b[0m \u001b[38;5;28;01mreturn\u001b[39;00m chunks, embeddings\n",
      "File \u001b[0;32m/mnt/c/Users/wsenevi1/Desktop/Classes/AI MASTERS/senevirathne-kaneel/textwave/modules/retrieval/indexing.py:79\u001b[0m, in \u001b[0;36mFaissIndex.add_embeddings\u001b[0;34m(self, new_vector, metadata)\u001b[0m\n\u001b[1;32m     72\u001b[0m \u001b[38;5;250m\u001b[39m\u001b[38;5;124;03m\"\"\"\u001b[39;00m\n\u001b[1;32m     73\u001b[0m \u001b[38;5;124;03mAdd a single new vector to the FAISS index.\u001b[39;00m\n\u001b[1;32m     74\u001b[0m \u001b[38;5;124;03m\u001b[39;00m\n\u001b[1;32m     75\u001b[0m \u001b[38;5;124;03m:param new_vector: The new vector to add (numpy array).\u001b[39;00m\n\u001b[1;32m     76\u001b[0m \u001b[38;5;124;03m\"\"\"\u001b[39;00m\n\u001b[1;32m     78\u001b[0m \u001b[38;5;28;01mif\u001b[39;00m \u001b[38;5;28mself\u001b[39m\u001b[38;5;241m.\u001b[39mindex \u001b[38;5;129;01mis\u001b[39;00m \u001b[38;5;28;01mNone\u001b[39;00m:\n\u001b[0;32m---> 79\u001b[0m     \u001b[38;5;28mself\u001b[39m\u001b[38;5;241m.\u001b[39mvector_dimension \u001b[38;5;241m=\u001b[39m \u001b[43mnew_vector\u001b[49m\u001b[38;5;241;43m.\u001b[39;49m\u001b[43mshape\u001b[49m[\u001b[38;5;241m1\u001b[39m]\n\u001b[1;32m     80\u001b[0m     \u001b[38;5;28mself\u001b[39m\u001b[38;5;241m.\u001b[39mindex \u001b[38;5;241m=\u001b[39m \u001b[38;5;28mself\u001b[39m\u001b[38;5;241m.\u001b[39m_create_index()  \u001b[38;5;66;03m# Create index on first addition\u001b[39;00m\n\u001b[1;32m     82\u001b[0m \u001b[38;5;28;01mif\u001b[39;00m new_vector\u001b[38;5;241m.\u001b[39mshape[\u001b[38;5;241m1\u001b[39m] \u001b[38;5;241m!=\u001b[39m \u001b[38;5;28mself\u001b[39m\u001b[38;5;241m.\u001b[39mvector_dimension:\n",
      "\u001b[0;31mAttributeError\u001b[0m: 'list' object has no attribute 'shape'"
     ]
    }
   ],
   "source": [
    "# Instantiate the FaissIndex class\n",
    "faiss_index = indexing.FaissIndex(index_type='brute_force', nlist=50)  \n",
    "chunks, embeddings = preprocess_corpus(corpus_directory, 'sentence', overlap_size = 2, faiss_index = faiss_index)"
   ]
  },
  {
   "cell_type": "code",
   "execution_count": null,
   "metadata": {},
   "outputs": [],
   "source": []
  }
 ],
 "metadata": {
  "kernelspec": {
   "display_name": "text_env",
   "language": "python",
   "name": "python3"
  },
  "language_info": {
   "codemirror_mode": {
    "name": "ipython",
    "version": 3
   },
   "file_extension": ".py",
   "mimetype": "text/x-python",
   "name": "python",
   "nbconvert_exporter": "python",
   "pygments_lexer": "ipython3",
   "version": "3.8.10"
  }
 },
 "nbformat": 4,
 "nbformat_minor": 2
}
