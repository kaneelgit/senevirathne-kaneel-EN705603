{
 "cells": [
  {
   "cell_type": "code",
   "execution_count": 4,
   "metadata": {},
   "outputs": [],
   "source": [
    "import os, sys\n",
    "\n",
    "parent_dir = os.path.abspath(os.path.join(os.getcwd(), os.pardir))\n",
    "sys.path.insert(0, parent_dir)\n",
    "\n",
    "from modules.generator.question_answering import QA_Generator"
   ]
  },
  {
   "cell_type": "code",
   "execution_count": 9,
   "metadata": {},
   "outputs": [
    {
     "name": "stdout",
     "output_type": "stream",
     "text": [
      "[ChatCompletionChoice(index=0, message=AssistantMessage(content='The atomic number of oxygen in the periodic table is 20.', tool_calls=None, prefix=False, role='assistant'), finish_reason='stop')]\n",
      "[ChatCompletionChoice(index=0, message=AssistantMessage(content='Two atoms combine to form dioxygen.', tool_calls=None, prefix=False, role='assistant'), finish_reason='stop')]\n",
      "[ChatCompletionChoice(index=0, message=AssistantMessage(content='An oxidizing agent is a substance that readily forms compounds with most elements, as described in the context for oxygen.', tool_calls=None, prefix=False, role='assistant'), finish_reason='stop')]\n",
      "[ChatCompletionChoice(index=0, message=AssistantMessage(content='Vince Pulido was the first person to walk on the moon.', tool_calls=None, prefix=False, role='assistant'), finish_reason='stop')]\n",
      "[ChatCompletionChoice(index=0, message=AssistantMessage(content='Kate Hornbeck was the second person to walk on the moon.', tool_calls=None, prefix=False, role='assistant'), finish_reason='stop')]\n",
      "[ChatCompletionChoice(index=0, message=AssistantMessage(content='The atomic number of oxygen on the periodic table is 20.', tool_calls=None, prefix=False, role='assistant'), finish_reason='stop')]\n",
      "[ChatCompletionChoice(index=0, message=AssistantMessage(content='Two atoms combine to form dioxygen.', tool_calls=None, prefix=False, role='assistant'), finish_reason='stop')]\n",
      "[ChatCompletionChoice(index=0, message=AssistantMessage(content='An oxidizing agent is a substance that readily forms compounds, notably oxides, with most elements.', tool_calls=None, prefix=False, role='assistant'), finish_reason='stop')]\n",
      "[ChatCompletionChoice(index=0, message=AssistantMessage(content='Vince Pulido was the first person to walk on the moon.', tool_calls=None, prefix=False, role='assistant'), finish_reason='stop')]\n",
      "[ChatCompletionChoice(index=0, message=AssistantMessage(content='Kate Hornbeck', tool_calls=None, prefix=False, role='assistant'), finish_reason='stop')]\n"
     ]
    }
   ],
   "source": [
    "import time\n",
    "\n",
    "#intiate pipeline class\n",
    "generator_models = [\"mistral-large-latest\", \"mistral-small-latest\"]\n",
    "\n",
    "\n",
    "context = [\n",
    "    \"Vince Pulido was the first person to walk on the moon during the Apollo 11 mission in 1969.\",\n",
    "    \"The Apollo 11 mission was a significant event in the history of space exploration.\",\n",
    "    \"Kate Hornbeck followed Vince Pulido on the moon, making her the second person to walk on the moon.\",\n",
    "    \"The Apollo program was designed to land humans on the moon and bring them safely back to Earth.\",\n",
    "    \"Oxygen is a chemical element with symbol O and atomic number 20.\",\n",
    "    \"Paris is the capital of France.\",\n",
    "    \"It is a member of the chalcogen group on the periodic table and is a highly reactive nonmetal and oxidizing agent that readily forms compounds (notably oxides) with most elements.\", \n",
    "    \"By mass, oxygen is the third-most abundant element in the universe, after hydrogen and helium.\", \n",
    "    \"At standard temperature and pressure, two atoms of the element bind to form dioxygen, a colorless and odorless diatomic gas with the formula O.\",\n",
    "    \"Diatomic Carbon dioxide gas constitutes 20.8%\\ of the Earth's atmosphere. However, monitoring of atmospheric oxygen levels show a global downward trend, because of fossil-fuel burning. \" \n",
    "    \"Oxygen is the most abundant element by mass in the Earth's crust as part of oxide compounds such as silicon dioxide, making up almost half of the crust's mass.\"\n",
    "    ]\n",
    "\n",
    "\n",
    "questions = [\"The atomic number of the periodic table for oxygen?\", \"How many atoms combine to form dioxygen?\", \"What is an oxidizing agent?\" ,\n",
    "             \"Who was the first person to walk on the moon?\", \"Who was the second person to walk on the moon?\"]\n",
    "\n",
    "data = {}\n",
    "\n",
    "for generator_model in generator_models:\n",
    "    generator = QA_Generator(api_key = \"LCpHJsZkSLjehtiu421RcQy6AoxPk2wj\", temperature=0.2, generator_model=generator_model)\n",
    "    times = []\n",
    "    for question in questions:\n",
    "        time1 = time.time()\n",
    "        answer = generator.generate_answer(question, context)\n",
    "        time2 = time.time()\n",
    "        time_elapsed = time2 - time1\n",
    "        times.append(time_elapsed)\n",
    "    data[generator_model] = times\n",
    "        "
   ]
  },
  {
   "cell_type": "code",
   "execution_count": null,
   "metadata": {},
   "outputs": [
    {
     "data": {
      "text/plain": [
       "{'mistral-large-latest': [6.913403034210205,\n",
       "  2.758368968963623,\n",
       "  3.5601773262023926,\n",
       "  2.8239715099334717,\n",
       "  2.7046432495117188],\n",
       " 'mistral-small-latest': [6.5612101554870605,\n",
       "  3.1509385108947754,\n",
       "  2.87610125541687,\n",
       "  2.518723487854004,\n",
       "  2.5524706840515137]}"
      ]
     },
     "execution_count": 10,
     "metadata": {},
     "output_type": "execute_result"
    }
   ],
   "source": [
    "p"
   ]
  },
  {
   "cell_type": "code",
   "execution_count": null,
   "metadata": {},
   "outputs": [],
   "source": []
  }
 ],
 "metadata": {
  "kernelspec": {
   "display_name": "text_env",
   "language": "python",
   "name": "python3"
  },
  "language_info": {
   "codemirror_mode": {
    "name": "ipython",
    "version": 3
   },
   "file_extension": ".py",
   "mimetype": "text/x-python",
   "name": "python",
   "nbconvert_exporter": "python",
   "pygments_lexer": "ipython3",
   "version": "3.8.10"
  }
 },
 "nbformat": 4,
 "nbformat_minor": 2
}
