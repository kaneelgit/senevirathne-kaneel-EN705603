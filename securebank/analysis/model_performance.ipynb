{
 "cells": [
  {
   "cell_type": "code",
   "execution_count": 1,
   "metadata": {},
   "outputs": [],
   "source": [
    "import sys\n",
    "import os\n",
    "import joblib\n",
    "\n",
    "# Add the parent directory (one level up) to the Python path\n",
    "parent_dir = os.path.abspath(os.path.join(os.getcwd(), os.pardir))\n",
    "sys.path.insert(0, parent_dir)\n",
    "\n",
    "from modules import model, dataset_design, feature_extractor\n",
    "\n",
    "import pandas as pd\n",
    "import numpy as np\n",
    "from sklearn.model_selection import train_test_split, GridSearchCV\n",
    "from sklearn.preprocessing import StandardScaler, OneHotEncoder\n",
    "from sklearn.compose import ColumnTransformer\n",
    "from sklearn.pipeline import Pipeline\n",
    "from sklearn.linear_model import LogisticRegression\n",
    "from sklearn.ensemble import RandomForestClassifier\n",
    "from sklearn.discriminant_analysis import LinearDiscriminantAnalysis\n",
    "from sklearn.linear_model import SGDClassifier\n",
    "\n",
    "from sklearn.svm import SVC\n",
    "# from xgboost import XGBClassifier\n",
    "from sklearn.metrics import classification_report, confusion_matrix, ConfusionMatrixDisplay, accuracy_score\n",
    "from imblearn.over_sampling import SMOTE\n",
    "from sklearn.utils.class_weight import compute_class_weight\n",
    "import joblib\n",
    "import os\n",
    "\n",
    "import matplotlib.pyplot as plt\n",
    "import seaborn as sns\n",
    "\n",
    "import warnings\n",
    "# Suppress all warnings\n",
    "warnings.filterwarnings(\"ignore\")\n"
   ]
  },
  {
   "cell_type": "code",
   "execution_count": 2,
   "metadata": {},
   "outputs": [
    {
     "name": "stdout",
     "output_type": "stream",
     "text": [
      "{'version': 'v1.0', 'Train default storage': '../data_sources/train_data_v1.0.parquet', 'Test default storage': '../data_sources/test_data_v1.0.parquet', 'description': {'No. Train Samples': 1343799, 'Train set fraud/no fraud split': '5876 / 1337923', 'No. Test Samples': 139073, 'fraud/no fraud split': '620 / 138453'}}\n",
      "Train data saved to ../data_sources/train_data_v1.0.parquet\n",
      "Test data saved to ../data_sources/test_data_v1.0.parquet\n"
     ]
    }
   ],
   "source": [
    "#load data and design train test sets using module\n",
    "dd = dataset_design.Dataset_designer()\n",
    "raw_data = dd.extract('../data_sources/raw_data_v1.0.parquet')\n",
    "data = dd.sample(raw_data, random_state = 50)\n",
    "desc = dd.describe()\n",
    "print(desc)\n",
    "dd.load(data, desc['Train default storage'], desc['Test default storage'])"
   ]
  },
  {
   "cell_type": "code",
   "execution_count": 3,
   "metadata": {},
   "outputs": [
    {
     "name": "stdout",
     "output_type": "stream",
     "text": [
      "Columns with high correlations:\n"
     ]
    }
   ],
   "source": [
    "#use feature extractor to extract features\n",
    "fe = feature_extractor.Feature_Extractor()\n",
    "data_train_test, _ = fe.transform(data[0], data[1])\n",
    "desc = fe.describe()"
   ]
  },
  {
   "cell_type": "code",
   "execution_count": 4,
   "metadata": {},
   "outputs": [],
   "source": [
    "#extract data from\n",
    "X_train, y_train, X_test, y_test = data_train_test"
   ]
  },
  {
   "cell_type": "code",
   "execution_count": 6,
   "metadata": {},
   "outputs": [
    {
     "name": "stdout",
     "output_type": "stream",
     "text": [
      "X train shape: (1343124, 18)\n",
      "y train shape: (1343124,)\n",
      "X test shape: (138998, 18)\n",
      "y test shape: (138998,)\n",
      "Feature Names: Index(['trans_diff', 'day_of_trans', 'hour_of_trans', 'month_of_trans', 'age',\n",
      "       'state', 'merchant', 'category', 'sex', 'city', 'zip', 'job', 'amt',\n",
      "       'lat', 'long', 'city_pop', 'merch_lat', 'merch_long'],\n",
      "      dtype='object')\n"
     ]
    }
   ],
   "source": [
    "#print out data information\n",
    "print(f\"X train shape: {X_train.shape}\")\n",
    "print(f\"y train shape: {y_train.shape}\")\n",
    "print(f\"X test shape: {X_test.shape}\")\n",
    "print(f\"y test shape: {y_test.shape}\")\n",
    "\n",
    "#column names\n",
    "print(f\"Feature Names: {X_train.columns}\")"
   ]
  },
  {
   "cell_type": "markdown",
   "metadata": {},
   "source": [
    "# Preprocessing steps #\n",
    "\n",
    "1. Scale numerical columns using sklearn standard scaler.\n",
    "\n",
    "2. Use SMOTE for oversampling the minority class.  \n"
   ]
  },
  {
   "cell_type": "code",
   "execution_count": 7,
   "metadata": {},
   "outputs": [],
   "source": [
    "# Define categorical and numerical columns\n",
    "categorical_cols = ['state', 'merchant', 'category', 'sex', 'city', 'zip', 'job']\n",
    "numerical_cols = ['trans_diff', 'day_of_trans', 'hour_of_trans', 'month_of_trans', 'age', 'amt', 'lat', 'long', 'city_pop', 'merch_lat', 'merch_long']\n",
    "\n",
    "#preprocessor that scales the numerical columns\n",
    "preprocessor = ColumnTransformer(\n",
    "    transformers=[\n",
    "        ('num', StandardScaler(), numerical_cols)\n",
    "    ])\n",
    "\n",
    "#smote method for oversampling fraud transaction class\n",
    "smote = SMOTE(random_state = 42)\n",
    "X_train_resampled, y_train_resampled = smote.fit_resample(X_train, y_train)"
   ]
  },
  {
   "cell_type": "markdown",
   "metadata": {},
   "source": [
    "# Models #\n",
    "\n",
    "1. Logistic Regression with balanced class weight.\n",
    "2. Random Forest\n",
    "3. Linear Discriminant Analysis\n",
    "4. SGD classifier"
   ]
  },
  {
   "cell_type": "code",
   "execution_count": 8,
   "metadata": {},
   "outputs": [],
   "source": [
    "# Define models\n",
    "logistic_regression = LogisticRegression(class_weight='balanced', random_state=42)\n",
    "random_forest = RandomForestClassifier(class_weight='balanced', random_state=42)\n",
    "lda = LinearDiscriminantAnalysis()\n",
    "sgd_classifier = SGDClassifier(loss='log_loss',class_weight='balanced', random_state=42)\n",
    "\n",
    "# Create pipelines for each model\n",
    "lr_pipeline = Pipeline(steps=[\n",
    "    ('preprocessor', preprocessor),\n",
    "    ('model', logistic_regression)\n",
    "])\n",
    "\n",
    "rf_pipeline = Pipeline(steps=[\n",
    "    ('preprocessor', preprocessor),\n",
    "    ('model', random_forest)\n",
    "])\n",
    "\n",
    "lda_pipeline = Pipeline(steps=[\n",
    "    ('preprocessor', preprocessor),\n",
    "    ('model', lda)\n",
    "])\n",
    "\n",
    "sgd_pipeline = Pipeline(steps=[\n",
    "    ('preprocessor', preprocessor),\n",
    "    ('model', sgd_classifier)\n",
    "])"
   ]
  },
  {
   "cell_type": "markdown",
   "metadata": {},
   "source": [
    "# Train and fit models #\n",
    "\n",
    "### Logistic Regression ###"
   ]
  },
  {
   "cell_type": "code",
   "execution_count": 13,
   "metadata": {},
   "outputs": [
    {
     "name": "stdout",
     "output_type": "stream",
     "text": [
      "Model: Logistic Regression\n",
      "              precision    recall  f1-score   support\n",
      "\n",
      "         0.0       1.00      0.95      0.97    138378\n",
      "         1.0       0.06      0.73      0.11       620\n",
      "\n",
      "    accuracy                           0.95    138998\n",
      "   macro avg       0.53      0.84      0.54    138998\n",
      "weighted avg       0.99      0.95      0.97    138998\n",
      "\n",
      "[[131158   7220]\n",
      " [   167    453]]\n"
     ]
    },
    {
     "data": {
      "text/plain": [
       "<sklearn.metrics._plot.confusion_matrix.ConfusionMatrixDisplay at 0x7faa2903eb50>"
      ]
     },
     "execution_count": 13,
     "metadata": {},
     "output_type": "execute_result"
    },
    {
     "data": {
      "image/png": "[encoded data removed]",
      "text/plain": [
       "<Figure size 432x288 with 2 Axes>"
      ]
     },
     "metadata": {
      "needs_background": "light"
     },
     "output_type": "display_data"
    }
   ],
   "source": [
    "# Train the model\n",
    "lr_pipeline.fit(X_train_resampled, y_train_resampled)\n",
    "\n",
    "# Predict on test set\n",
    "y_pred = lr_pipeline.predict(X_test)\n",
    "    \n",
    "# Evaluation metrics\n",
    "print(f\"Model: Logistic Regression\")\n",
    "print(classification_report(y_test, y_pred))\n",
    "print(confusion_matrix(y_test, y_pred))\n",
    "\n",
    "disp = ConfusionMatrixDisplay(confusion_matrix(y_test, y_pred))\n",
    "disp.plot()\n"
   ]
  },
  {
   "cell_type": "code",
   "execution_count": 14,
   "metadata": {},
   "outputs": [
    {
     "data": {
      "text/plain": [
       "['../storage/models/artifacts/logistic_regression_v1.pkl']"
      ]
     },
     "execution_count": 14,
     "metadata": {},
     "output_type": "execute_result"
    }
   ],
   "source": [
    "#save model\n",
    "model_name = 'logistic_regression'  # Example model name\n",
    "model_version = 'v1'\n",
    "model_path = f'../storage/models/artifacts/{model_name}_{model_version}.pkl'\n",
    "joblib.dump(lr_pipeline, model_path)"
   ]
  },
  {
   "cell_type": "code",
   "execution_count": 15,
   "metadata": {},
   "outputs": [],
   "source": [
    "#save history of the model\n",
    "# Predict on test set\n",
    "y_pred = lr_pipeline.predict(X_test)\n",
    "report = classification_report(y_test, y_pred, output_dict = True)\n",
    "ac = accuracy_score(y_test, y_pred)\n",
    "\n",
    "# Example of an existing DataFrame (you can replace this with your actual DataFrame)\n",
    "model_history_df = pd.DataFrame(columns=['Model', 'Version', 'Precision', 'Recall', \"Accuracy\"])\n",
    "model_data = {\n",
    "    'Model': model_name,\n",
    "    'Version': model_version,\n",
    "    'Precision': report['1.0']['precision'],\n",
    "    'Recall': report['1.0']['recall'],\n",
    "    'Accuracy': ac\n",
    "}\n",
    "\n",
    "#append data to history data frame\n",
    "logistic_df = pd.DataFrame(model_data, index = [0])\n",
    "model_history_df = pd.concat([model_history_df, logistic_df], ignore_index = True)\n",
    "\n",
    "#save dataframe\n",
    "model_history_df.to_csv(\"../storage/models/model_history.csv\", index = False)"
   ]
  },
  {
   "cell_type": "markdown",
   "metadata": {},
   "source": [
    "### Random Forest ###"
   ]
  },
  {
   "cell_type": "code",
   "execution_count": 16,
   "metadata": {},
   "outputs": [
    {
     "name": "stdout",
     "output_type": "stream",
     "text": [
      "Model: Random Forests\n",
      "              precision    recall  f1-score   support\n",
      "\n",
      "         0.0       1.00      0.98      0.99    138378\n",
      "         1.0       0.12      0.63      0.20       620\n",
      "\n",
      "    accuracy                           0.98    138998\n",
      "   macro avg       0.56      0.80      0.60    138998\n",
      "weighted avg       0.99      0.98      0.99    138998\n",
      "\n",
      "[[135583   2795]\n",
      " [   232    388]]\n"
     ]
    },
    {
     "data": {
      "text/plain": [
       "<sklearn.metrics._plot.confusion_matrix.ConfusionMatrixDisplay at 0x7faa29a5c6a0>"
      ]
     },
     "execution_count": 16,
     "metadata": {},
     "output_type": "execute_result"
    },
    {
     "data": {
      "image/png": "[encoded data removed]",
      "text/plain": [
       "<Figure size 432x288 with 2 Axes>"
      ]
     },
     "metadata": {
      "needs_background": "light"
     },
     "output_type": "display_data"
    }
   ],
   "source": [
    "# Train the model\n",
    "rf_pipeline.fit(X_train_resampled, y_train_resampled)\n",
    "\n",
    "# Predict on test set\n",
    "y_pred = rf_pipeline.predict(X_test)\n",
    "    \n",
    "# Evaluation metrics\n",
    "print(f\"Model: Random Forests\")\n",
    "print(classification_report(y_test, y_pred))\n",
    "print(confusion_matrix(y_test, y_pred))\n",
    "\n",
    "disp = ConfusionMatrixDisplay(confusion_matrix(y_test, y_pred))\n",
    "disp.plot()"
   ]
  },
  {
   "cell_type": "code",
   "execution_count": 17,
   "metadata": {},
   "outputs": [
    {
     "data": {
      "text/plain": [
       "['../storage/models/artifacts/random forest_v1.pkl']"
      ]
     },
     "execution_count": 17,
     "metadata": {},
     "output_type": "execute_result"
    }
   ],
   "source": [
    "#save model\n",
    "model_name = 'random forest'  # Example model name\n",
    "model_version = 'v1'\n",
    "model_path = f'../storage/models/artifacts/{model_name}_{model_version}.pkl'\n",
    "joblib.dump(rf_pipeline, model_path)"
   ]
  },
  {
   "cell_type": "code",
   "execution_count": 18,
   "metadata": {},
   "outputs": [],
   "source": [
    "#save history of the model\n",
    "# Predict on test set\n",
    "y_pred = rf_pipeline.predict(X_test)\n",
    "report = classification_report(y_test, y_pred, output_dict = True)\n",
    "ac = accuracy_score(y_test, y_pred)\n",
    "\n",
    "# Example of an existing DataFrame (you can replace this with your actual DataFrame)\n",
    "model_data = {\n",
    "    'Model': model_name,\n",
    "    'Version': model_version,\n",
    "    'Precision': report['1.0']['precision'],\n",
    "    'Recall': report['1.0']['recall'],\n",
    "    'Accuracy': ac\n",
    "}\n",
    "\n",
    "#append data to history data frame\n",
    "random_forest_df = pd.DataFrame(model_data, index = [0])\n",
    "model_history_df = pd.concat([model_history_df, random_forest_df], ignore_index = True)\n",
    "\n",
    "#save dataframe\n",
    "model_history_df.to_csv(\"../storage/models/model_history.csv\", index = False)"
   ]
  },
  {
   "cell_type": "markdown",
   "metadata": {},
   "source": [
    "### Linear Discriminant Analysis ###"
   ]
  },
  {
   "cell_type": "code",
   "execution_count": 19,
   "metadata": {},
   "outputs": [
    {
     "name": "stdout",
     "output_type": "stream",
     "text": [
      "Model: Linear Discriminant Analysis\n",
      "              precision    recall  f1-score   support\n",
      "\n",
      "         0.0       1.00      0.98      0.99    138378\n",
      "         1.0       0.10      0.65      0.18       620\n",
      "\n",
      "    accuracy                           0.97    138998\n",
      "   macro avg       0.55      0.81      0.58    138998\n",
      "weighted avg       0.99      0.97      0.98    138998\n",
      "\n",
      "[[134937   3441]\n",
      " [   217    403]]\n"
     ]
    },
    {
     "data": {
      "text/plain": [
       "<sklearn.metrics._plot.confusion_matrix.ConfusionMatrixDisplay at 0x7fab0fa12c10>"
      ]
     },
     "execution_count": 19,
     "metadata": {},
     "output_type": "execute_result"
    },
    {
     "data": {
      "image/png": "[encoded data removed]",
      "text/plain": [
       "<Figure size 432x288 with 2 Axes>"
      ]
     },
     "metadata": {
      "needs_background": "light"
     },
     "output_type": "display_data"
    }
   ],
   "source": [
    "# Train the model\n",
    "lda_pipeline.fit(X_train_resampled, y_train_resampled)\n",
    "\n",
    "# Predict on test set\n",
    "y_pred = lda_pipeline.predict(X_test)\n",
    "    \n",
    "# Evaluation metrics\n",
    "print(f\"Model: Linear Discriminant Analysis\")\n",
    "print(classification_report(y_test, y_pred))\n",
    "print(confusion_matrix(y_test, y_pred))\n",
    "\n",
    "disp = ConfusionMatrixDisplay(confusion_matrix(y_test, y_pred))\n",
    "disp.plot()\n"
   ]
  },
  {
   "cell_type": "code",
   "execution_count": 20,
   "metadata": {},
   "outputs": [
    {
     "data": {
      "text/plain": [
       "['../storage/models/artifacts/lda_v1.pkl']"
      ]
     },
     "execution_count": 20,
     "metadata": {},
     "output_type": "execute_result"
    }
   ],
   "source": [
    "#save model\n",
    "model_name = 'lda'  # Example model name\n",
    "model_version = 'v1'\n",
    "model_path = f'../storage/models/artifacts/{model_name}_{model_version}.pkl'\n",
    "joblib.dump(lda_pipeline, model_path)"
   ]
  },
  {
   "cell_type": "code",
   "execution_count": 21,
   "metadata": {},
   "outputs": [],
   "source": [
    "#save history of the model\n",
    "# Predict on test set\n",
    "y_pred = lda_pipeline.predict(X_test)\n",
    "report = classification_report(y_test, y_pred, output_dict = True)\n",
    "ac = accuracy_score(y_test, y_pred)\n",
    "\n",
    "# Example of an existing DataFrame (you can replace this with your actual DataFrame)\n",
    "model_data = {\n",
    "    'Model': model_name,\n",
    "    'Version': model_version,\n",
    "    'Precision': report['1.0']['precision'],\n",
    "    'Recall': report['1.0']['recall'],\n",
    "    'Accuracy': ac\n",
    "}\n",
    "\n",
    "model_history_df = pd.read_csv(\"../storage/models/model_history.csv\")\n",
    "\n",
    "#append data to history data frame\n",
    "lda_df = pd.DataFrame(model_data, index = [0])\n",
    "model_history_df = pd.concat([model_history_df, lda_df], ignore_index = True)\n",
    "\n",
    "#save dataframe\n",
    "model_history_df.to_csv(\"../storage/models/model_history.csv\", index = False)"
   ]
  },
  {
   "cell_type": "markdown",
   "metadata": {},
   "source": [
    "### SGD Classifier ###"
   ]
  },
  {
   "cell_type": "code",
   "execution_count": 9,
   "metadata": {},
   "outputs": [
    {
     "name": "stdout",
     "output_type": "stream",
     "text": [
      "Model: Linear Discriminant Analysis\n",
      "              precision    recall  f1-score   support\n",
      "\n",
      "         0.0       1.00      0.95      0.97    138378\n",
      "         1.0       0.06      0.73      0.11       620\n",
      "\n",
      "    accuracy                           0.95    138998\n",
      "   macro avg       0.53      0.84      0.54    138998\n",
      "weighted avg       0.99      0.95      0.97    138998\n",
      "\n",
      "[[131308   7070]\n",
      " [   166    454]]\n"
     ]
    },
    {
     "data": {
      "text/plain": [
       "<sklearn.metrics._plot.confusion_matrix.ConfusionMatrixDisplay at 0x7f46e4ec5e20>"
      ]
     },
     "execution_count": 9,
     "metadata": {},
     "output_type": "execute_result"
    },
    {
     "data": {
      "image/png": "[encoded data removed]",
      "text/plain": [
       "<Figure size 432x288 with 2 Axes>"
      ]
     },
     "metadata": {
      "needs_background": "light"
     },
     "output_type": "display_data"
    }
   ],
   "source": [
    "# Train the model\n",
    "sgd_pipeline.fit(X_train_resampled, y_train_resampled)\n",
    "\n",
    "# Predict on test set\n",
    "y_pred = sgd_pipeline.predict(X_test)\n",
    "    \n",
    "# Evaluation metrics\n",
    "print(f\"Model: Linear Discriminant Analysis\")\n",
    "print(classification_report(y_test, y_pred))\n",
    "print(confusion_matrix(y_test, y_pred))\n",
    "\n",
    "disp = ConfusionMatrixDisplay(confusion_matrix(y_test, y_pred))\n",
    "disp.plot()\n"
   ]
  },
  {
   "cell_type": "code",
   "execution_count": 10,
   "metadata": {},
   "outputs": [
    {
     "data": {
      "text/plain": [
       "['../storage/models/artifacts/sgd_classifier_v1.pkl']"
      ]
     },
     "execution_count": 10,
     "metadata": {},
     "output_type": "execute_result"
    }
   ],
   "source": [
    "#save model\n",
    "model_name = 'sgd_classifier'  # Example model name\n",
    "model_version = 'v1'\n",
    "model_path = f'../storage/models/artifacts/{model_name}_{model_version}.pkl'\n",
    "joblib.dump(sgd_pipeline, model_path)"
   ]
  },
  {
   "cell_type": "code",
   "execution_count": 11,
   "metadata": {},
   "outputs": [],
   "source": [
    "#save history of the model\n",
    "# Predict on test set\n",
    "y_pred = sgd_pipeline.predict(X_test)\n",
    "report = classification_report(y_test, y_pred, output_dict = True)\n",
    "ac = accuracy_score(y_test, y_pred)\n",
    "\n",
    "# Example of an existing DataFrame (you can replace this with your actual DataFrame)\n",
    "model_data = {\n",
    "    'Model': model_name,\n",
    "    'Version': model_version,\n",
    "    'Precision': report['1.0']['precision'],\n",
    "    'Recall': report['1.0']['recall'],\n",
    "    'Accuracy': ac\n",
    "}\n",
    "\n",
    "model_history_df = pd.read_csv(\"../storage/models/model_history.csv\")\n",
    "\n",
    "#append data to history data frame\n",
    "sgd_df = pd.DataFrame(model_data, index = [0])\n",
    "model_history_df = pd.concat([model_history_df, sgd_df], ignore_index = True)\n",
    "\n",
    "#save dataframe\n",
    "model_history_df.to_csv(\"../storage/models/model_history.csv\", index = False)"
   ]
  },
  {
   "cell_type": "markdown",
   "metadata": {},
   "source": [
    "### Random Forest Pretrained model with variable threshold ###\n",
    "\n",
    "One method of increasing the precision would be by using a variable threshold."
   ]
  },
  {
   "cell_type": "code",
   "execution_count": 129,
   "metadata": {},
   "outputs": [
    {
     "data": {
      "image/png": "[encoded data removed]",
      "text/plain": [
       "<Figure size 1080x360 with 1 Axes>"
      ]
     },
     "metadata": {
      "needs_background": "light"
     },
     "output_type": "display_data"
    }
   ],
   "source": [
    "#checking out the training data\n",
    "train_data = X_train.copy()\n",
    "train_data['is_fraud'] = y_train\n",
    "\n",
    "hour_count_df = train_data.groupby(['hour_of_trans', 'is_fraud'])['is_fraud'].count().unstack(fill_value=0)\n",
    "hour_count_df['fraud_rate'] = hour_count_df[1] / hour_count_df[0] * 100\n",
    "\n",
    "#plot the data\n",
    "plt.figure(figsize = (15, 5))\n",
    "plt.title('Hour of day vs Fraud Rate (Training Data)')\n",
    "plt.plot(hour_count_df.index, hour_count_df['fraud_rate'])\n",
    "plt.scatter(hour_count_df.index, hour_count_df['fraud_rate'])\n",
    "plt.xticks(hour_count_df.index)\n",
    "plt.xlabel('Hour of Day')\n",
    "plt.ylabel('Fraud Rate (%)')\n",
    "plt.show()"
   ]
  },
  {
   "cell_type": "markdown",
   "metadata": {},
   "source": [
    "Looking at the training fraud rate, we can see that between 21 and 4 hours there is a high fraud rate. So we will use a lower threshold for predicting a fraud ratio if the transaction is during this time frame in order to make sure we catch more fraudulent transactions. \n",
    "\n",
    "Now let's run this on the testing data and calculate the precision and recall. "
   ]
  },
  {
   "cell_type": "code",
   "execution_count": 172,
   "metadata": {},
   "outputs": [
    {
     "data": {
      "text/html": [
       "<style>#sk-container-id-5 {color: black;}#sk-container-id-5 pre{padding: 0;}#sk-container-id-5 div.sk-toggleable {background-color: white;}#sk-container-id-5 label.sk-toggleable__label {cursor: pointer;display: block;width: 100%;margin-bottom: 0;padding: 0.3em;box-sizing: border-box;text-align: center;}#sk-container-id-5 label.sk-toggleable__label-arrow:before {content: \"▸\";float: left;margin-right: 0.25em;color: #696969;}#sk-container-id-5 label.sk-toggleable__label-arrow:hover:before {color: black;}#sk-container-id-5 div.sk-estimator:hover label.sk-toggleable__label-arrow:before {color: black;}#sk-container-id-5 div.sk-toggleable__content {max-height: 0;max-width: 0;overflow: hidden;text-align: left;background-color: #f0f8ff;}#sk-container-id-5 div.sk-toggleable__content pre {margin: 0.2em;color: black;border-radius: 0.25em;background-color: #f0f8ff;}#sk-container-id-5 input.sk-toggleable__control:checked~div.sk-toggleable__content {max-height: 200px;max-width: 100%;overflow: auto;}#sk-container-id-5 input.sk-toggleable__control:checked~label.sk-toggleable__label-arrow:before {content: \"▾\";}#sk-container-id-5 div.sk-estimator input.sk-toggleable__control:checked~label.sk-toggleable__label {background-color: #d4ebff;}#sk-container-id-5 div.sk-label input.sk-toggleable__control:checked~label.sk-toggleable__label {background-color: #d4ebff;}#sk-container-id-5 input.sk-hidden--visually {border: 0;clip: rect(1px 1px 1px 1px);clip: rect(1px, 1px, 1px, 1px);height: 1px;margin: -1px;overflow: hidden;padding: 0;position: absolute;width: 1px;}#sk-container-id-5 div.sk-estimator {font-family: monospace;background-color: #f0f8ff;border: 1px dotted black;border-radius: 0.25em;box-sizing: border-box;margin-bottom: 0.5em;}#sk-container-id-5 div.sk-estimator:hover {background-color: #d4ebff;}#sk-container-id-5 div.sk-parallel-item::after {content: \"\";width: 100%;border-bottom: 1px solid gray;flex-grow: 1;}#sk-container-id-5 div.sk-label:hover label.sk-toggleable__label {background-color: #d4ebff;}#sk-container-id-5 div.sk-serial::before {content: \"\";position: absolute;border-left: 1px solid gray;box-sizing: border-box;top: 0;bottom: 0;left: 50%;z-index: 0;}#sk-container-id-5 div.sk-serial {display: flex;flex-direction: column;align-items: center;background-color: white;padding-right: 0.2em;padding-left: 0.2em;position: relative;}#sk-container-id-5 div.sk-item {position: relative;z-index: 1;}#sk-container-id-5 div.sk-parallel {display: flex;align-items: stretch;justify-content: center;background-color: white;position: relative;}#sk-container-id-5 div.sk-item::before, #sk-container-id-5 div.sk-parallel-item::before {content: \"\";position: absolute;border-left: 1px solid gray;box-sizing: border-box;top: 0;bottom: 0;left: 50%;z-index: -1;}#sk-container-id-5 div.sk-parallel-item {display: flex;flex-direction: column;z-index: 1;position: relative;background-color: white;}#sk-container-id-5 div.sk-parallel-item:first-child::after {align-self: flex-end;width: 50%;}#sk-container-id-5 div.sk-parallel-item:last-child::after {align-self: flex-start;width: 50%;}#sk-container-id-5 div.sk-parallel-item:only-child::after {width: 0;}#sk-container-id-5 div.sk-dashed-wrapped {border: 1px dashed gray;margin: 0 0.4em 0.5em 0.4em;box-sizing: border-box;padding-bottom: 0.4em;background-color: white;}#sk-container-id-5 div.sk-label label {font-family: monospace;font-weight: bold;display: inline-block;line-height: 1.2em;}#sk-container-id-5 div.sk-label-container {text-align: center;}#sk-container-id-5 div.sk-container {/* jupyter's `normalize.less` sets `[hidden] { display: none; }` but bootstrap.min.css set `[hidden] { display: none !important; }` so we also need the `!important` here to be able to override the default hidden behavior on the sphinx rendered scikit-learn.org. See: https://github.com/scikit-learn/scikit-learn/issues/21755 */display: inline-block !important;position: relative;}#sk-container-id-5 div.sk-text-repr-fallback {display: none;}</style><div id=\"sk-container-id-5\" class=\"sk-top-container\"><div class=\"sk-text-repr-fallback\"><pre>Pipeline(steps=[(&#x27;preprocessor&#x27;,\n",
       "                 ColumnTransformer(transformers=[(&#x27;num&#x27;, StandardScaler(),\n",
       "                                                  [&#x27;trans_diff&#x27;, &#x27;day_of_trans&#x27;,\n",
       "                                                   &#x27;hour_of_trans&#x27;,\n",
       "                                                   &#x27;month_of_trans&#x27;, &#x27;age&#x27;,\n",
       "                                                   &#x27;amt&#x27;, &#x27;lat&#x27;, &#x27;long&#x27;,\n",
       "                                                   &#x27;city_pop&#x27;, &#x27;merch_lat&#x27;,\n",
       "                                                   &#x27;merch_long&#x27;])])),\n",
       "                (&#x27;model&#x27;,\n",
       "                 RandomForestClassifier(class_weight=&#x27;balanced&#x27;,\n",
       "                                        random_state=42))])</pre><b>In a Jupyter environment, please rerun this cell to show the HTML representation or trust the notebook. <br />On GitHub, the HTML representation is unable to render, please try loading this page with nbviewer.org.</b></div><div class=\"sk-container\" hidden><div class=\"sk-item sk-dashed-wrapped\"><div class=\"sk-label-container\"><div class=\"sk-label sk-toggleable\"><input class=\"sk-toggleable__control sk-hidden--visually\" id=\"sk-estimator-id-21\" type=\"checkbox\" ><label for=\"sk-estimator-id-21\" class=\"sk-toggleable__label sk-toggleable__label-arrow\">Pipeline</label><div class=\"sk-toggleable__content\"><pre>Pipeline(steps=[(&#x27;preprocessor&#x27;,\n",
       "                 ColumnTransformer(transformers=[(&#x27;num&#x27;, StandardScaler(),\n",
       "                                                  [&#x27;trans_diff&#x27;, &#x27;day_of_trans&#x27;,\n",
       "                                                   &#x27;hour_of_trans&#x27;,\n",
       "                                                   &#x27;month_of_trans&#x27;, &#x27;age&#x27;,\n",
       "                                                   &#x27;amt&#x27;, &#x27;lat&#x27;, &#x27;long&#x27;,\n",
       "                                                   &#x27;city_pop&#x27;, &#x27;merch_lat&#x27;,\n",
       "                                                   &#x27;merch_long&#x27;])])),\n",
       "                (&#x27;model&#x27;,\n",
       "                 RandomForestClassifier(class_weight=&#x27;balanced&#x27;,\n",
       "                                        random_state=42))])</pre></div></div></div><div class=\"sk-serial\"><div class=\"sk-item sk-dashed-wrapped\"><div class=\"sk-label-container\"><div class=\"sk-label sk-toggleable\"><input class=\"sk-toggleable__control sk-hidden--visually\" id=\"sk-estimator-id-22\" type=\"checkbox\" ><label for=\"sk-estimator-id-22\" class=\"sk-toggleable__label sk-toggleable__label-arrow\">preprocessor: ColumnTransformer</label><div class=\"sk-toggleable__content\"><pre>ColumnTransformer(transformers=[(&#x27;num&#x27;, StandardScaler(),\n",
       "                                 [&#x27;trans_diff&#x27;, &#x27;day_of_trans&#x27;, &#x27;hour_of_trans&#x27;,\n",
       "                                  &#x27;month_of_trans&#x27;, &#x27;age&#x27;, &#x27;amt&#x27;, &#x27;lat&#x27;, &#x27;long&#x27;,\n",
       "                                  &#x27;city_pop&#x27;, &#x27;merch_lat&#x27;, &#x27;merch_long&#x27;])])</pre></div></div></div><div class=\"sk-parallel\"><div class=\"sk-parallel-item\"><div class=\"sk-item\"><div class=\"sk-label-container\"><div class=\"sk-label sk-toggleable\"><input class=\"sk-toggleable__control sk-hidden--visually\" id=\"sk-estimator-id-23\" type=\"checkbox\" ><label for=\"sk-estimator-id-23\" class=\"sk-toggleable__label sk-toggleable__label-arrow\">num</label><div class=\"sk-toggleable__content\"><pre>[&#x27;trans_diff&#x27;, &#x27;day_of_trans&#x27;, &#x27;hour_of_trans&#x27;, &#x27;month_of_trans&#x27;, &#x27;age&#x27;, &#x27;amt&#x27;, &#x27;lat&#x27;, &#x27;long&#x27;, &#x27;city_pop&#x27;, &#x27;merch_lat&#x27;, &#x27;merch_long&#x27;]</pre></div></div></div><div class=\"sk-serial\"><div class=\"sk-item\"><div class=\"sk-estimator sk-toggleable\"><input class=\"sk-toggleable__control sk-hidden--visually\" id=\"sk-estimator-id-24\" type=\"checkbox\" ><label for=\"sk-estimator-id-24\" class=\"sk-toggleable__label sk-toggleable__label-arrow\">StandardScaler</label><div class=\"sk-toggleable__content\"><pre>StandardScaler()</pre></div></div></div></div></div></div></div></div><div class=\"sk-item\"><div class=\"sk-estimator sk-toggleable\"><input class=\"sk-toggleable__control sk-hidden--visually\" id=\"sk-estimator-id-25\" type=\"checkbox\" ><label for=\"sk-estimator-id-25\" class=\"sk-toggleable__label sk-toggleable__label-arrow\">RandomForestClassifier</label><div class=\"sk-toggleable__content\"><pre>RandomForestClassifier(class_weight=&#x27;balanced&#x27;, random_state=42)</pre></div></div></div></div></div></div></div>"
      ],
      "text/plain": [
       "Pipeline(steps=[('preprocessor',\n",
       "                 ColumnTransformer(transformers=[('num', StandardScaler(),\n",
       "                                                  ['trans_diff', 'day_of_trans',\n",
       "                                                   'hour_of_trans',\n",
       "                                                   'month_of_trans', 'age',\n",
       "                                                   'amt', 'lat', 'long',\n",
       "                                                   'city_pop', 'merch_lat',\n",
       "                                                   'merch_long'])])),\n",
       "                ('model',\n",
       "                 RandomForestClassifier(class_weight='balanced',\n",
       "                                        random_state=42))])"
      ]
     },
     "execution_count": 172,
     "metadata": {},
     "output_type": "execute_result"
    }
   ],
   "source": [
    "#load already trained rf pipeline\n",
    "rf_pipeline = joblib.load('../storage/models/artifacts/random forest_v1.pkl')\n",
    "rf_pipeline"
   ]
  },
  {
   "cell_type": "markdown",
   "metadata": {},
   "source": [
    "Next let's get an idea about the relationship between the recall and precision to find the optimal threshold. Let's seperate the test data to validation and a final test set in order to avoid data leakage. "
   ]
  },
  {
   "cell_type": "code",
   "execution_count": 173,
   "metadata": {},
   "outputs": [],
   "source": [
    "#further seperate X_test and y_test in to validation and test set\n",
    "X_valid, X_final_test, y_valid, y_final_test = train_test_split(\n",
    "    X_test, y_test, test_size=0.5, random_state=42\n",
    ")\n",
    "\n",
    "#get fraud probability\n",
    "fraud_probabilities_valid = rf_pipeline.predict_proba(X_valid)[:, 1]\n"
   ]
  },
  {
   "cell_type": "code",
   "execution_count": 174,
   "metadata": {},
   "outputs": [
    {
     "data": {
      "image/png": "[encoded data removed]",
      "text/plain": [
       "<Figure size 432x288 with 1 Axes>"
      ]
     },
     "metadata": {
      "needs_background": "light"
     },
     "output_type": "display_data"
    }
   ],
   "source": [
    "from sklearn.metrics import precision_recall_curve\n",
    "\n",
    "# Calculate precision, recall, and thresholds\n",
    "precision, recall, thresholds = precision_recall_curve(y_valid, fraud_probabilities_valid)\n",
    "\n",
    "# You can visualize the recall and precision curves\n",
    "import matplotlib.pyplot as plt\n",
    "\n",
    "plt.plot(thresholds, recall[:-1], label='Recall')\n",
    "plt.plot(thresholds, precision[:-1], label='Precision')\n",
    "plt.xlabel('Threshold')\n",
    "plt.ylabel('Score')\n",
    "plt.title('Precision-Recall Curve')\n",
    "plt.legend()\n",
    "plt.show()\n"
   ]
  },
  {
   "cell_type": "markdown",
   "metadata": {},
   "source": [
    "Looks like a threshold of 0.7 gives a close precesion and recall for our goal. Let's try close values with different thresholds at night and day to find if the model is able to give good results. Here we are usign validation data do this."
   ]
  },
  {
   "cell_type": "code",
   "execution_count": 175,
   "metadata": {},
   "outputs": [],
   "source": [
    "#threshold to use at night for fraud detection\n",
    "night_threshold = 0.5\n",
    "day_threshold = 0.95\n",
    "\n",
    "X_valid['probabilities'] = fraud_probabilities_valid\n",
    "night_mask = (X_valid['hour_of_trans'] > 21) | (X_valid['hour_of_trans'] < 4)\n",
    "# Step 5: Apply thresholds based on the mask\n",
    "X_valid.loc[night_mask, 'y_pred'] = (fraud_probabilities_valid[night_mask] >= night_threshold).astype(int)\n",
    "X_valid.loc[~night_mask, 'y_pred'] = (fraud_probabilities_valid[~night_mask] >= day_threshold).astype(int)\n",
    "y_pred = X_valid['y_pred'].to_list()"
   ]
  },
  {
   "cell_type": "code",
   "execution_count": 176,
   "metadata": {},
   "outputs": [
    {
     "name": "stdout",
     "output_type": "stream",
     "text": [
      "Model: Random Forests with variable thresholds\n",
      "              precision    recall  f1-score   support\n",
      "\n",
      "         0.0       1.00      0.99      1.00     69193\n",
      "         1.0       0.34      0.60      0.44       306\n",
      "\n",
      "    accuracy                           0.99     69499\n",
      "   macro avg       0.67      0.80      0.72     69499\n",
      "weighted avg       1.00      0.99      0.99     69499\n",
      "\n",
      "[[68835   358]\n",
      " [  121   185]]\n"
     ]
    },
    {
     "data": {
      "text/plain": [
       "<sklearn.metrics._plot.confusion_matrix.ConfusionMatrixDisplay at 0x7faec6f61160>"
      ]
     },
     "execution_count": 176,
     "metadata": {},
     "output_type": "execute_result"
    },
    {
     "data": {
      "image/png": "[encoded data removed]",
      "text/plain": [
       "<Figure size 432x288 with 2 Axes>"
      ]
     },
     "metadata": {
      "needs_background": "light"
     },
     "output_type": "display_data"
    }
   ],
   "source": [
    "# Evaluation metrics\n",
    "print(f\"Model: Random Forests with variable thresholds\")\n",
    "print(classification_report(y_valid, y_pred))\n",
    "print(confusion_matrix(y_valid, y_pred))\n",
    "\n",
    "disp = ConfusionMatrixDisplay(confusion_matrix(y_valid, y_pred))\n",
    "disp.plot()"
   ]
  },
  {
   "cell_type": "markdown",
   "metadata": {},
   "source": [
    "Using the final test dataset to see if the model generalizes. "
   ]
  },
  {
   "cell_type": "code",
   "execution_count": 177,
   "metadata": {},
   "outputs": [],
   "source": [
    "fraud_probabilities_final_test = rf_pipeline.predict_proba(X_final_test)[:, 1]"
   ]
  },
  {
   "cell_type": "code",
   "execution_count": 179,
   "metadata": {},
   "outputs": [],
   "source": [
    "X_final_test['probabilities'] = fraud_probabilities_final_test\n",
    "night_mask = (X_final_test['hour_of_trans'] > 21) | (X_final_test['hour_of_trans'] < 4)\n",
    "# Step 5: Apply thresholds based on the mask\n",
    "X_final_test.loc[night_mask, 'y_pred'] = (fraud_probabilities_valid[night_mask] >= night_threshold).astype(int)\n",
    "X_final_test.loc[~night_mask, 'y_pred'] = (fraud_probabilities_valid[~night_mask] >= day_threshold).astype(int)\n",
    "y_pred_final_test = X_final_test['y_pred'].to_list()"
   ]
  },
  {
   "cell_type": "code",
   "execution_count": 180,
   "metadata": {},
   "outputs": [
    {
     "name": "stdout",
     "output_type": "stream",
     "text": [
      "Model: Random Forests with variable thresholds\n",
      "              precision    recall  f1-score   support\n",
      "\n",
      "         0.0       1.00      0.99      1.00     69193\n",
      "         1.0       0.34      0.60      0.44       306\n",
      "\n",
      "    accuracy                           0.99     69499\n",
      "   macro avg       0.67      0.80      0.72     69499\n",
      "weighted avg       1.00      0.99      0.99     69499\n",
      "\n",
      "[[68835   358]\n",
      " [  121   185]]\n"
     ]
    },
    {
     "data": {
      "text/plain": [
       "<sklearn.metrics._plot.confusion_matrix.ConfusionMatrixDisplay at 0x7faecd2660d0>"
      ]
     },
     "execution_count": 180,
     "metadata": {},
     "output_type": "execute_result"
    },
    {
     "data": {
      "image/png": "[encoded data removed]",
      "text/plain": [
       "<Figure size 432x288 with 2 Axes>"
      ]
     },
     "metadata": {
      "needs_background": "light"
     },
     "output_type": "display_data"
    }
   ],
   "source": [
    "# Evaluation metrics\n",
    "print(f\"Model: Random Forests with variable thresholds\")\n",
    "print(classification_report(y_valid, y_pred))\n",
    "print(confusion_matrix(y_valid, y_pred))\n",
    "\n",
    "disp = ConfusionMatrixDisplay(confusion_matrix(y_valid, y_pred_final_test))\n",
    "disp.plot()"
   ]
  },
  {
   "cell_type": "markdown",
   "metadata": {},
   "source": [
    "The model achieves a slight increase in precision and the same recall as the older model."
   ]
  }
 ],
 "metadata": {
  "kernelspec": {
   "display_name": "Python 3",
   "language": "python",
   "name": "python3"
  },
  "language_info": {
   "codemirror_mode": {
    "name": "ipython",
    "version": 3
   },
   "file_extension": ".py",
   "mimetype": "text/x-python",
   "name": "python",
   "nbconvert_exporter": "python",
   "pygments_lexer": "ipython3",
   "version": "3.8.10"
  }
 },
 "nbformat": 4,
 "nbformat_minor": 2
}
