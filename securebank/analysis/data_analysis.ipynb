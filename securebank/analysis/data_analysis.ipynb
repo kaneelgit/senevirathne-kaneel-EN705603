{
 "cells": [
  {
   "cell_type": "code",
   "execution_count": 1,
   "metadata": {},
   "outputs": [],
   "source": [
    "#install dependencies\n",
    "# ! pip install pandas pyarrow matplotlib"
   ]
  },
  {
   "cell_type": "code",
   "execution_count": 1,
   "metadata": {},
   "outputs": [],
   "source": [
    "import pandas\n",
    "import matplotlib.pyplot as plt\n",
    "import json"
   ]
  },
  {
   "cell_type": "markdown",
   "metadata": {},
   "source": [
    "### Task 1 ###\n",
    "\n",
    "Merging the three datasets to one."
   ]
  },
  {
   "cell_type": "code",
   "execution_count": 2,
   "metadata": {},
   "outputs": [],
   "source": [
    "def open_file(filename: str):\n",
    "    \"\"\"\n",
    "    Helper function to open the file and return a pandas dataframe. Currently accepting files, parquet, json and csv.\n",
    "    \"\"\"\n",
    "\n",
    "    if filename.endswith('.csv'):\n",
    "        return pandas.read_csv(filename)\n",
    "    elif filename.endswith('.parquet'):\n",
    "        return pandas.read_parquet(filename)\n",
    "    elif filename.endswith('.json'):\n",
    "        with open(filename, 'r') as file:\n",
    "            data = json.load(file)\n",
    "        return pandas.DataFrame(list(data.items()))\n",
    "    else:\n",
    "        raise(\"File extension not permitted\")\n",
    "        \n",
    "def __merge(customer_filename: str, transaction_filename: str, fraud_filename: str):\n",
    "    \"\"\"\n",
    "    This file takes input customer_filename, transaction_filename and fruad filename and load data into pandas dataframes.\n",
    "    The function returns a pandas dataframe that merges the data sources indexed by the trans_num and sorted by the `trans_date_trans_time`\n",
    "    \"\"\"\n",
    "\n",
    "    customer_file = open_file(customer_filename)\n",
    "    transaction_file = open_file(transaction_filename)\n",
    "    fraud_file = open_file(fraud_filename)\n",
    "    #rename columns of fraud file\n",
    "    new_cols = {0: 'trans_num', 1: 'is_fraud'}\n",
    "    fraud_file = fraud_file.rename(columns = new_cols)\n",
    "\n",
    "    #first combine transaction details with fraud\n",
    "    transactions_fraud = pandas.merge(transaction_file, fraud_file, on = 'trans_num')\n",
    "\n",
    "    #then combine the customer file with the customer details using credit card number\n",
    "    all_data = pandas.merge(transactions_fraud, customer_file, on = 'cc_num')\n",
    "\n",
    "    #sort all data based on the transaction date and time.`trans_date_trans_time`.\n",
    "    #convert transdate trans time to a time object. \n",
    "    all_data['trans_date_trans_time'] = pandas.to_datetime(all_data['trans_date_trans_time'])\n",
    "\n",
    "    #sort by transdate and trans time\n",
    "    final_data = all_data.sort_values(by='trans_date_trans_time')\n",
    "\n",
    "    return final_data.set_index('trans_num')"
   ]
  },
  {
   "cell_type": "code",
   "execution_count": 3,
   "metadata": {},
   "outputs": [],
   "source": [
    "df = __merge('../data_sources/customer_release.csv', '../data_sources/transactions_release.parquet', '../data_sources/fraud_release.json')"
   ]
  },
  {
   "cell_type": "code",
   "execution_count": 4,
   "metadata": {},
   "outputs": [
    {
     "name": "stdout",
     "output_type": "stream",
     "text": [
      "<class 'pandas.core.frame.DataFrame'>\n",
      "Index: 1647542 entries, 0b242abb623afc578575680df30655b9 to 1765bb45b3aa3224b4cdcb6e7a96cee3\n",
      "Data columns (total 23 columns):\n",
      " #   Column                 Non-Null Count    Dtype         \n",
      "---  ------                 --------------    -----         \n",
      " 0   index_x                1647542 non-null  int64         \n",
      " 1   trans_date_trans_time  1647542 non-null  datetime64[ns]\n",
      " 2   cc_num                 1647542 non-null  int64         \n",
      " 3   unix_time              1482674 non-null  float64       \n",
      " 4   merchant               1482893 non-null  object        \n",
      " 5   category               1482583 non-null  object        \n",
      " 6   amt                    1647542 non-null  float64       \n",
      " 7   merch_lat              1647542 non-null  float64       \n",
      " 8   merch_long             1647542 non-null  float64       \n",
      " 9   is_fraud               1482872 non-null  float64       \n",
      " 10  index_y                1647542 non-null  int64         \n",
      " 11  first                  1647542 non-null  object        \n",
      " 12  last                   1647542 non-null  object        \n",
      " 13  sex                    1647542 non-null  object        \n",
      " 14  street                 1647542 non-null  object        \n",
      " 15  city                   1647542 non-null  object        \n",
      " 16  state                  1647542 non-null  object        \n",
      " 17  zip                    1647542 non-null  float64       \n",
      " 18  lat                    1647542 non-null  float64       \n",
      " 19  long                   1647542 non-null  float64       \n",
      " 20  city_pop               1647542 non-null  float64       \n",
      " 21  job                    1647542 non-null  object        \n",
      " 22  dob                    1647542 non-null  object        \n",
      "dtypes: datetime64[ns](1), float64(9), int64(3), object(10)\n",
      "memory usage: 301.7+ MB\n"
     ]
    }
   ],
   "source": [
    "df.info()"
   ]
  },
  {
   "cell_type": "code",
   "execution_count": 5,
   "metadata": {},
   "outputs": [],
   "source": [
    "#since there are multiple is fraud rows with nan values i will get rid of them\n",
    "df2 = df[~df['is_fraud'].isna()]"
   ]
  },
  {
   "cell_type": "markdown",
   "metadata": {},
   "source": [
    "## Task 2 ##\n",
    "\n",
    "We have four insights from our analysts. \n",
    "\n",
    "- The frequency of fraudulent transactions depends on the hour of the day the transaction occurs\n",
    "- The frequency of fraudulent transactions depends on the day of week the transaction occurs\n",
    "- The frequency of fraudulent transactions depends the month the transaction occurs\n",
    "- Fraudulent transactions are likely to occur in quick succession\n",
    "\n",
    "We will first create new columns with hour, day and month. "
   ]
  },
  {
   "cell_type": "code",
   "execution_count": 6,
   "metadata": {},
   "outputs": [
    {
     "name": "stderr",
     "output_type": "stream",
     "text": [
      "/tmp/ipykernel_665/309709211.py:1: SettingWithCopyWarning: \n",
      "A value is trying to be set on a copy of a slice from a DataFrame.\n",
      "Try using .loc[row_indexer,col_indexer] = value instead\n",
      "\n",
      "See the caveats in the documentation: https://pandas.pydata.org/pandas-docs/stable/user_guide/indexing.html#returning-a-view-versus-a-copy\n",
      "  df2['hour_of_trans'] = [x.hour for x in df2['trans_date_trans_time']]\n",
      "/tmp/ipykernel_665/309709211.py:2: SettingWithCopyWarning: \n",
      "A value is trying to be set on a copy of a slice from a DataFrame.\n",
      "Try using .loc[row_indexer,col_indexer] = value instead\n",
      "\n",
      "See the caveats in the documentation: https://pandas.pydata.org/pandas-docs/stable/user_guide/indexing.html#returning-a-view-versus-a-copy\n",
      "  df2['day_of_trans'] = [x.day_name() for x in df2['trans_date_trans_time']]\n",
      "/tmp/ipykernel_665/309709211.py:3: SettingWithCopyWarning: \n",
      "A value is trying to be set on a copy of a slice from a DataFrame.\n",
      "Try using .loc[row_indexer,col_indexer] = value instead\n",
      "\n",
      "See the caveats in the documentation: https://pandas.pydata.org/pandas-docs/stable/user_guide/indexing.html#returning-a-view-versus-a-copy\n",
      "  df2['month_of_trans'] = [x.month_name() for x in df2['trans_date_trans_time']]\n"
     ]
    }
   ],
   "source": [
    "df2['hour_of_trans'] = [x.hour for x in df2['trans_date_trans_time']]\n",
    "df2['day_of_trans'] = [x.day_name() for x in df2['trans_date_trans_time']]\n",
    "df2['month_of_trans'] = [x.month_name() for x in df2['trans_date_trans_time']]"
   ]
  },
  {
   "cell_type": "markdown",
   "metadata": {},
   "source": [
    "Looking at the hour of transaction and the fradulant rates. "
   ]
  },
  {
   "cell_type": "code",
   "execution_count": 7,
   "metadata": {},
   "outputs": [
    {
     "data": {
      "text/html": [
       "<div>\n",
       "<style scoped>\n",
       "    .dataframe tbody tr th:only-of-type {\n",
       "        vertical-align: middle;\n",
       "    }\n",
       "\n",
       "    .dataframe tbody tr th {\n",
       "        vertical-align: top;\n",
       "    }\n",
       "\n",
       "    .dataframe thead th {\n",
       "        text-align: right;\n",
       "    }\n",
       "</style>\n",
       "<table border=\"1\" class=\"dataframe\">\n",
       "  <thead>\n",
       "    <tr style=\"text-align: right;\">\n",
       "      <th>is_fraud</th>\n",
       "      <th>0.0</th>\n",
       "      <th>1.0</th>\n",
       "      <th>fraud_rate</th>\n",
       "    </tr>\n",
       "    <tr>\n",
       "      <th>hour_of_trans</th>\n",
       "      <th></th>\n",
       "      <th></th>\n",
       "      <th></th>\n",
       "    </tr>\n",
       "  </thead>\n",
       "  <tbody>\n",
       "    <tr>\n",
       "      <th>0</th>\n",
       "      <td>47360</td>\n",
       "      <td>568</td>\n",
       "      <td>1.199324</td>\n",
       "    </tr>\n",
       "    <tr>\n",
       "      <th>1</th>\n",
       "      <td>47894</td>\n",
       "      <td>569</td>\n",
       "      <td>1.188040</td>\n",
       "    </tr>\n",
       "    <tr>\n",
       "      <th>2</th>\n",
       "      <td>47526</td>\n",
       "      <td>566</td>\n",
       "      <td>1.190927</td>\n",
       "    </tr>\n",
       "    <tr>\n",
       "      <th>3</th>\n",
       "      <td>47648</td>\n",
       "      <td>547</td>\n",
       "      <td>1.148002</td>\n",
       "    </tr>\n",
       "    <tr>\n",
       "      <th>4</th>\n",
       "      <td>47337</td>\n",
       "      <td>46</td>\n",
       "      <td>0.097176</td>\n",
       "    </tr>\n",
       "    <tr>\n",
       "      <th>5</th>\n",
       "      <td>47625</td>\n",
       "      <td>58</td>\n",
       "      <td>0.121785</td>\n",
       "    </tr>\n",
       "    <tr>\n",
       "      <th>6</th>\n",
       "      <td>47757</td>\n",
       "      <td>38</td>\n",
       "      <td>0.079569</td>\n",
       "    </tr>\n",
       "    <tr>\n",
       "      <th>7</th>\n",
       "      <td>47664</td>\n",
       "      <td>47</td>\n",
       "      <td>0.098607</td>\n",
       "    </tr>\n",
       "    <tr>\n",
       "      <th>8</th>\n",
       "      <td>48063</td>\n",
       "      <td>43</td>\n",
       "      <td>0.089466</td>\n",
       "    </tr>\n",
       "    <tr>\n",
       "      <th>9</th>\n",
       "      <td>47683</td>\n",
       "      <td>42</td>\n",
       "      <td>0.088082</td>\n",
       "    </tr>\n",
       "    <tr>\n",
       "      <th>10</th>\n",
       "      <td>47800</td>\n",
       "      <td>33</td>\n",
       "      <td>0.069038</td>\n",
       "    </tr>\n",
       "    <tr>\n",
       "      <th>11</th>\n",
       "      <td>47613</td>\n",
       "      <td>42</td>\n",
       "      <td>0.088211</td>\n",
       "    </tr>\n",
       "    <tr>\n",
       "      <th>12</th>\n",
       "      <td>74995</td>\n",
       "      <td>50</td>\n",
       "      <td>0.066671</td>\n",
       "    </tr>\n",
       "    <tr>\n",
       "      <th>13</th>\n",
       "      <td>75119</td>\n",
       "      <td>60</td>\n",
       "      <td>0.079873</td>\n",
       "    </tr>\n",
       "    <tr>\n",
       "      <th>14</th>\n",
       "      <td>75200</td>\n",
       "      <td>60</td>\n",
       "      <td>0.079787</td>\n",
       "    </tr>\n",
       "    <tr>\n",
       "      <th>15</th>\n",
       "      <td>75483</td>\n",
       "      <td>79</td>\n",
       "      <td>0.104659</td>\n",
       "    </tr>\n",
       "    <tr>\n",
       "      <th>16</th>\n",
       "      <td>75962</td>\n",
       "      <td>66</td>\n",
       "      <td>0.086886</td>\n",
       "    </tr>\n",
       "    <tr>\n",
       "      <th>17</th>\n",
       "      <td>75401</td>\n",
       "      <td>64</td>\n",
       "      <td>0.084880</td>\n",
       "    </tr>\n",
       "    <tr>\n",
       "      <th>18</th>\n",
       "      <td>75964</td>\n",
       "      <td>71</td>\n",
       "      <td>0.093465</td>\n",
       "    </tr>\n",
       "    <tr>\n",
       "      <th>19</th>\n",
       "      <td>75210</td>\n",
       "      <td>70</td>\n",
       "      <td>0.093073</td>\n",
       "    </tr>\n",
       "    <tr>\n",
       "      <th>20</th>\n",
       "      <td>75057</td>\n",
       "      <td>63</td>\n",
       "      <td>0.083936</td>\n",
       "    </tr>\n",
       "    <tr>\n",
       "      <th>21</th>\n",
       "      <td>75685</td>\n",
       "      <td>65</td>\n",
       "      <td>0.085882</td>\n",
       "    </tr>\n",
       "    <tr>\n",
       "      <th>22</th>\n",
       "      <td>74783</td>\n",
       "      <td>1639</td>\n",
       "      <td>2.191675</td>\n",
       "    </tr>\n",
       "    <tr>\n",
       "      <th>23</th>\n",
       "      <td>75547</td>\n",
       "      <td>1610</td>\n",
       "      <td>2.131124</td>\n",
       "    </tr>\n",
       "  </tbody>\n",
       "</table>\n",
       "</div>"
      ],
      "text/plain": [
       "is_fraud         0.0   1.0  fraud_rate\n",
       "hour_of_trans                         \n",
       "0              47360   568    1.199324\n",
       "1              47894   569    1.188040\n",
       "2              47526   566    1.190927\n",
       "3              47648   547    1.148002\n",
       "4              47337    46    0.097176\n",
       "5              47625    58    0.121785\n",
       "6              47757    38    0.079569\n",
       "7              47664    47    0.098607\n",
       "8              48063    43    0.089466\n",
       "9              47683    42    0.088082\n",
       "10             47800    33    0.069038\n",
       "11             47613    42    0.088211\n",
       "12             74995    50    0.066671\n",
       "13             75119    60    0.079873\n",
       "14             75200    60    0.079787\n",
       "15             75483    79    0.104659\n",
       "16             75962    66    0.086886\n",
       "17             75401    64    0.084880\n",
       "18             75964    71    0.093465\n",
       "19             75210    70    0.093073\n",
       "20             75057    63    0.083936\n",
       "21             75685    65    0.085882\n",
       "22             74783  1639    2.191675\n",
       "23             75547  1610    2.131124"
      ]
     },
     "execution_count": 7,
     "metadata": {},
     "output_type": "execute_result"
    }
   ],
   "source": [
    "hour_count_df = df2.groupby(['hour_of_trans', 'is_fraud'])['is_fraud'].count().unstack(fill_value=0)\n",
    "hour_count_df['fraud_rate'] = hour_count_df[1] / hour_count_df[0] * 100\n",
    "hour_count_df"
   ]
  },
  {
   "cell_type": "code",
   "execution_count": 8,
   "metadata": {},
   "outputs": [
    {
     "data": {
      "image/png": "[encoded data removed]",
      "text/plain": [
       "<Figure size 1080x360 with 1 Axes>"
      ]
     },
     "metadata": {
      "needs_background": "light"
     },
     "output_type": "display_data"
    }
   ],
   "source": [
    "#plot the data\n",
    "plt.figure(figsize = (15, 5))\n",
    "plt.title('Hour of day vs Fraud Rate')\n",
    "plt.plot(hour_count_df.index, hour_count_df['fraud_rate'])\n",
    "plt.scatter(hour_count_df.index, hour_count_df['fraud_rate'])\n",
    "plt.xticks(hour_count_df.index)\n",
    "plt.xlabel('Hour of Day')\n",
    "plt.ylabel('Fraud Rate (%)')\n",
    "plt.show()"
   ]
  },
  {
   "cell_type": "markdown",
   "metadata": {},
   "source": [
    "Looking at the data you can clearly see that the majority of frauds happen between 9 pm - 3 am. So the analysts are correct about the hour having an impact on the fraud.\n",
    "\n",
    "Next let's look at the day of the week to see if there is a difference in fraud rate. "
   ]
  },
  {
   "cell_type": "code",
   "execution_count": 9,
   "metadata": {},
   "outputs": [
    {
     "data": {
      "text/html": [
       "<div>\n",
       "<style scoped>\n",
       "    .dataframe tbody tr th:only-of-type {\n",
       "        vertical-align: middle;\n",
       "    }\n",
       "\n",
       "    .dataframe tbody tr th {\n",
       "        vertical-align: top;\n",
       "    }\n",
       "\n",
       "    .dataframe thead th {\n",
       "        text-align: right;\n",
       "    }\n",
       "</style>\n",
       "<table border=\"1\" class=\"dataframe\">\n",
       "  <thead>\n",
       "    <tr style=\"text-align: right;\">\n",
       "      <th>is_fraud</th>\n",
       "      <th>0.0</th>\n",
       "      <th>1.0</th>\n",
       "      <th>fraud_rate</th>\n",
       "    </tr>\n",
       "  </thead>\n",
       "  <tbody>\n",
       "    <tr>\n",
       "      <th>Monday</th>\n",
       "      <td>294972</td>\n",
       "      <td>1034</td>\n",
       "      <td>0.350542</td>\n",
       "    </tr>\n",
       "    <tr>\n",
       "      <th>Tuesday</th>\n",
       "      <td>216037</td>\n",
       "      <td>873</td>\n",
       "      <td>0.404097</td>\n",
       "    </tr>\n",
       "    <tr>\n",
       "      <th>Wednesday</th>\n",
       "      <td>146338</td>\n",
       "      <td>778</td>\n",
       "      <td>0.531646</td>\n",
       "    </tr>\n",
       "    <tr>\n",
       "      <th>Thursday</th>\n",
       "      <td>164735</td>\n",
       "      <td>916</td>\n",
       "      <td>0.556045</td>\n",
       "    </tr>\n",
       "    <tr>\n",
       "      <th>Friday</th>\n",
       "      <td>171065</td>\n",
       "      <td>899</td>\n",
       "      <td>0.525531</td>\n",
       "    </tr>\n",
       "    <tr>\n",
       "      <th>Saturday</th>\n",
       "      <td>209660</td>\n",
       "      <td>948</td>\n",
       "      <td>0.452161</td>\n",
       "    </tr>\n",
       "    <tr>\n",
       "      <th>Sunday</th>\n",
       "      <td>273569</td>\n",
       "      <td>1048</td>\n",
       "      <td>0.383084</td>\n",
       "    </tr>\n",
       "  </tbody>\n",
       "</table>\n",
       "</div>"
      ],
      "text/plain": [
       "is_fraud      0.0   1.0  fraud_rate\n",
       "Monday     294972  1034    0.350542\n",
       "Tuesday    216037   873    0.404097\n",
       "Wednesday  146338   778    0.531646\n",
       "Thursday   164735   916    0.556045\n",
       "Friday     171065   899    0.525531\n",
       "Saturday   209660   948    0.452161\n",
       "Sunday     273569  1048    0.383084"
      ]
     },
     "execution_count": 9,
     "metadata": {},
     "output_type": "execute_result"
    }
   ],
   "source": [
    "day_count_df = df2.groupby(['day_of_trans', 'is_fraud'])['is_fraud'].count().unstack(fill_value=0)\n",
    "day_count_df['fraud_rate'] = day_count_df[1] / day_count_df[0] * 100\n",
    "\n",
    "# Define the new order for days of the week\n",
    "ordered_days = ['Monday', 'Tuesday', 'Wednesday', 'Thursday', 'Friday', 'Saturday', 'Sunday']\n",
    "\n",
    "# Convert the index to a categorical type with the specified order\n",
    "day_count_df.index = pandas.Categorical(day_count_df.index, categories=ordered_days, ordered=True)\n",
    "\n",
    "day_count_df = day_count_df.sort_index()\n",
    "\n",
    "day_count_df"
   ]
  },
  {
   "cell_type": "code",
   "execution_count": 10,
   "metadata": {},
   "outputs": [
    {
     "data": {
      "image/png": "[encoded data removed]",
      "text/plain": [
       "<Figure size 1080x360 with 1 Axes>"
      ]
     },
     "metadata": {
      "needs_background": "light"
     },
     "output_type": "display_data"
    }
   ],
   "source": [
    "#plot the data\n",
    "plt.figure(figsize = (15, 5))\n",
    "plt.title('Day of week vs Fraud Rate')\n",
    "plt.plot(day_count_df.index, day_count_df['fraud_rate'])\n",
    "plt.scatter(day_count_df.index, day_count_df['fraud_rate'])\n",
    "plt.xticks(day_count_df.index)\n",
    "plt.xlabel('Day of Week')\n",
    "plt.ylabel('Fraud Rate (%)')\n",
    "plt.show()"
   ]
  },
  {
   "cell_type": "markdown",
   "metadata": {},
   "source": [
    "Looking at the data, the day of the week don't seem to have a huge impact as the hour of the day. However, you could see that there's less fraud at the begining of the week and it increases during the middle of the week and subsides during approaching the weekend. \n",
    "\n",
    "Next let's look at the month and its impact on fraud. "
   ]
  },
  {
   "cell_type": "code",
   "execution_count": 11,
   "metadata": {},
   "outputs": [
    {
     "data": {
      "text/html": [
       "<div>\n",
       "<style scoped>\n",
       "    .dataframe tbody tr th:only-of-type {\n",
       "        vertical-align: middle;\n",
       "    }\n",
       "\n",
       "    .dataframe tbody tr th {\n",
       "        vertical-align: top;\n",
       "    }\n",
       "\n",
       "    .dataframe thead th {\n",
       "        text-align: right;\n",
       "    }\n",
       "</style>\n",
       "<table border=\"1\" class=\"dataframe\">\n",
       "  <thead>\n",
       "    <tr style=\"text-align: right;\">\n",
       "      <th>is_fraud</th>\n",
       "      <th>0.0</th>\n",
       "      <th>1.0</th>\n",
       "      <th>fraud_rate</th>\n",
       "    </tr>\n",
       "  </thead>\n",
       "  <tbody>\n",
       "    <tr>\n",
       "      <th>January</th>\n",
       "      <td>83526</td>\n",
       "      <td>540</td>\n",
       "      <td>0.646505</td>\n",
       "    </tr>\n",
       "    <tr>\n",
       "      <th>February</th>\n",
       "      <td>77682</td>\n",
       "      <td>560</td>\n",
       "      <td>0.720888</td>\n",
       "    </tr>\n",
       "    <tr>\n",
       "      <th>March</th>\n",
       "      <td>114379</td>\n",
       "      <td>581</td>\n",
       "      <td>0.507960</td>\n",
       "    </tr>\n",
       "    <tr>\n",
       "      <th>April</th>\n",
       "      <td>107475</td>\n",
       "      <td>433</td>\n",
       "      <td>0.402884</td>\n",
       "    </tr>\n",
       "    <tr>\n",
       "      <th>May</th>\n",
       "      <td>116771</td>\n",
       "      <td>671</td>\n",
       "      <td>0.574629</td>\n",
       "    </tr>\n",
       "    <tr>\n",
       "      <th>June</th>\n",
       "      <td>138502</td>\n",
       "      <td>549</td>\n",
       "      <td>0.396384</td>\n",
       "    </tr>\n",
       "    <tr>\n",
       "      <th>July</th>\n",
       "      <td>137919</td>\n",
       "      <td>449</td>\n",
       "      <td>0.325553</td>\n",
       "    </tr>\n",
       "    <tr>\n",
       "      <th>August</th>\n",
       "      <td>140388</td>\n",
       "      <td>581</td>\n",
       "      <td>0.413853</td>\n",
       "    </tr>\n",
       "    <tr>\n",
       "      <th>September</th>\n",
       "      <td>111831</td>\n",
       "      <td>501</td>\n",
       "      <td>0.447997</td>\n",
       "    </tr>\n",
       "    <tr>\n",
       "      <th>October</th>\n",
       "      <td>110003</td>\n",
       "      <td>555</td>\n",
       "      <td>0.504532</td>\n",
       "    </tr>\n",
       "    <tr>\n",
       "      <th>November</th>\n",
       "      <td>113890</td>\n",
       "      <td>486</td>\n",
       "      <td>0.426728</td>\n",
       "    </tr>\n",
       "    <tr>\n",
       "      <th>December</th>\n",
       "      <td>224010</td>\n",
       "      <td>590</td>\n",
       "      <td>0.263381</td>\n",
       "    </tr>\n",
       "  </tbody>\n",
       "</table>\n",
       "</div>"
      ],
      "text/plain": [
       "is_fraud      0.0  1.0  fraud_rate\n",
       "January     83526  540    0.646505\n",
       "February    77682  560    0.720888\n",
       "March      114379  581    0.507960\n",
       "April      107475  433    0.402884\n",
       "May        116771  671    0.574629\n",
       "June       138502  549    0.396384\n",
       "July       137919  449    0.325553\n",
       "August     140388  581    0.413853\n",
       "September  111831  501    0.447997\n",
       "October    110003  555    0.504532\n",
       "November   113890  486    0.426728\n",
       "December   224010  590    0.263381"
      ]
     },
     "execution_count": 11,
     "metadata": {},
     "output_type": "execute_result"
    }
   ],
   "source": [
    "month_count_df = df2.groupby(['month_of_trans', 'is_fraud'])['is_fraud'].count().unstack(fill_value=0)\n",
    "month_count_df['fraud_rate'] = month_count_df[1] / month_count_df[0] * 100\n",
    "month_count_df\n",
    "\n",
    "# Define the new order for Months\n",
    "ordered_month = ['January', 'February', 'March', 'April', 'May', 'June', 'July', 'August', 'September', 'October', 'November', 'December']\n",
    "\n",
    "# Convert the index to a categorical type with the specified order\n",
    "month_count_df.index = pandas.Categorical(month_count_df.index, categories=ordered_month, ordered=True)\n",
    "\n",
    "month_count_df = month_count_df.sort_index()\n",
    "\n",
    "month_count_df"
   ]
  },
  {
   "cell_type": "code",
   "execution_count": 12,
   "metadata": {},
   "outputs": [
    {
     "data": {
      "image/png": "[encoded data removed]",
      "text/plain": [
       "<Figure size 1080x360 with 1 Axes>"
      ]
     },
     "metadata": {
      "needs_background": "light"
     },
     "output_type": "display_data"
    }
   ],
   "source": [
    "#plot the data\n",
    "plt.figure(figsize = (15, 5))\n",
    "plt.title('Month vs Fraud Rate')\n",
    "plt.plot(month_count_df.index, month_count_df['fraud_rate'])\n",
    "plt.scatter(month_count_df.index, month_count_df['fraud_rate'])\n",
    "plt.xticks(month_count_df.index)\n",
    "plt.xlabel('Month')\n",
    "plt.ylabel('Fraud Rate (%)')\n",
    "plt.show()"
   ]
  },
  {
   "cell_type": "markdown",
   "metadata": {},
   "source": [
    "Month analysis says there's a higher fraud rate at the begining of the yar and it subsides. January, February seems to have the highest fraud rates. \n",
    "\n",
    "Next let's look at the transaction time to see if the transactions occured in quick succession. In order to do this let's find the difference between the two transactions."
   ]
  },
  {
   "cell_type": "code",
   "execution_count": 13,
   "metadata": {},
   "outputs": [
    {
     "name": "stderr",
     "output_type": "stream",
     "text": [
      "/tmp/ipykernel_665/1574113637.py:1: SettingWithCopyWarning: \n",
      "A value is trying to be set on a copy of a slice from a DataFrame.\n",
      "Try using .loc[row_indexer,col_indexer] = value instead\n",
      "\n",
      "See the caveats in the documentation: https://pandas.pydata.org/pandas-docs/stable/user_guide/indexing.html#returning-a-view-versus-a-copy\n",
      "  df2['trans_diff'] = df2['trans_date_trans_time'].diff().dt.total_seconds()\n"
     ]
    }
   ],
   "source": [
    "df2['trans_diff'] = df2['trans_date_trans_time'].diff().dt.total_seconds()\n",
    "\n",
    "#identify the data that had the previous transacttion and the current transaction false and isolate that data\n",
    "quick_suc = df2[(df2['is_fraud'] == 1) & (df2['is_fraud'].shift(1) == 1)]\n",
    "\n",
    "#get the other data that were not fraud\n",
    "other_suc = df2[(df2['is_fraud'] == 0) & (df2['is_fraud'].shift(1) == 0)]"
   ]
  },
  {
   "cell_type": "code",
   "execution_count": 14,
   "metadata": {},
   "outputs": [
    {
     "name": "stdout",
     "output_type": "stream",
     "text": [
      "No fraud transaction successor times.\n",
      "count    1.470030e+06\n",
      "mean     4.255470e+01\n",
      "std      8.768363e+01\n",
      "min      0.000000e+00\n",
      "25%      1.000000e+01\n",
      "50%      2.600000e+01\n",
      "75%      5.600000e+01\n",
      "max      8.655500e+04\n",
      "Name: trans_diff, dtype: float64\n",
      "Fraud transaction successor times.\n",
      "count    151.000000\n",
      "mean      50.476821\n",
      "std       64.214623\n",
      "min        0.000000\n",
      "25%        9.500000\n",
      "50%       26.000000\n",
      "75%       74.500000\n",
      "max      456.000000\n",
      "Name: trans_diff, dtype: float64\n"
     ]
    }
   ],
   "source": [
    "print(\"No fraud transaction successor times.\")\n",
    "print(other_suc['trans_diff'].describe())\n",
    "\n",
    "print(\"Fraud transaction successor times.\")\n",
    "print(quick_suc['trans_diff'].describe())"
   ]
  },
  {
   "cell_type": "code",
   "execution_count": 18,
   "metadata": {},
   "outputs": [
    {
     "data": {
      "image/png": "[encoded data removed]",
      "text/plain": [
       "<Figure size 432x288 with 1 Axes>"
      ]
     },
     "metadata": {
      "needs_background": "light"
     },
     "output_type": "display_data"
    }
   ],
   "source": [
    "import seaborn as sns\n",
    "\n",
    "sns.boxplot(x = 'is_fraud', y = 'trans_diff', data = df2[df2['trans_diff'] < 20000])\n",
    "plt.show()"
   ]
  },
  {
   "cell_type": "markdown",
   "metadata": {},
   "source": [
    "Looking at the data, on the contrary to what the analyst says, it seems like the no fraud transactions seem to be quicker than the fraud transactions. The Fraud transactions that were close to each other had a mean time greater than the regular transactions. Also the standard deviation of the fraud transactions is higher. So looking at the data summary, the fraud transactions seem to take longer than the regular transactions.\n",
    "\n",
    "Next let's look at the transaction amount to see if there's a significant difference between amount of fraud transactions and regular transactions."
   ]
  },
  {
   "cell_type": "code",
   "execution_count": 15,
   "metadata": {},
   "outputs": [
    {
     "name": "stdout",
     "output_type": "stream",
     "text": [
      "is_fraud\n",
      "0.0     67.637853\n",
      "1.0    516.428608\n",
      "Name: amt, dtype: float64\n"
     ]
    },
    {
     "data": {
      "image/png": "[encoded data removed]",
      "text/plain": [
       "<Figure size 1080x360 with 2 Axes>"
      ]
     },
     "metadata": {
      "needs_background": "light"
     },
     "output_type": "display_data"
    }
   ],
   "source": [
    "#let's look at the amount of transaction and fraud.\n",
    "print(df2.groupby('is_fraud')['amt'].mean())\n",
    "\n",
    "#let's plot them \n",
    "fig, ax = plt.subplots(1, 2, figsize = (15, 5))\n",
    "ax[0].hist(df2[df2['is_fraud'] == 1]['amt'], bins = 100)\n",
    "ax[0].set_title('Fraud Transactions')\n",
    "\n",
    "ax[1].hist(df2[df2['is_fraud'] == 0]['amt'], bins = 100)\n",
    "ax[1].set_title('No Fraud Transactions')\n",
    "\n",
    "# Set a common x-axis label for the entire figure\n",
    "fig.text(0.5, 0.04, 'Amount ($)', ha='center', va='center')\n",
    "plt.show()"
   ]
  },
  {
   "cell_type": "markdown",
   "metadata": {},
   "source": [
    "The fraud transaction amount vary widely. Also the mean transaction amount for fraud is higher (516) than the no fraud transaction amount. Most of the non fraud transaction amounts tend to be very small and there are a couple very large ones. \n",
    "\n",
    "Finally let's look at the fraud rate of different categories to see if we can find any differences. "
   ]
  },
  {
   "cell_type": "code",
   "execution_count": 16,
   "metadata": {},
   "outputs": [
    {
     "data": {
      "text/html": [
       "<div>\n",
       "<style scoped>\n",
       "    .dataframe tbody tr th:only-of-type {\n",
       "        vertical-align: middle;\n",
       "    }\n",
       "\n",
       "    .dataframe tbody tr th {\n",
       "        vertical-align: top;\n",
       "    }\n",
       "\n",
       "    .dataframe thead th {\n",
       "        text-align: right;\n",
       "    }\n",
       "</style>\n",
       "<table border=\"1\" class=\"dataframe\">\n",
       "  <thead>\n",
       "    <tr style=\"text-align: right;\">\n",
       "      <th>is_fraud</th>\n",
       "      <th>0.0</th>\n",
       "      <th>1.0</th>\n",
       "      <th>fraud_rate</th>\n",
       "    </tr>\n",
       "    <tr>\n",
       "      <th>category</th>\n",
       "      <th></th>\n",
       "      <th></th>\n",
       "      <th></th>\n",
       "    </tr>\n",
       "  </thead>\n",
       "  <tbody>\n",
       "    <tr>\n",
       "      <th>ENTERTAINMENT</th>\n",
       "      <td>47724</td>\n",
       "      <td>97</td>\n",
       "      <td>0.203252</td>\n",
       "    </tr>\n",
       "    <tr>\n",
       "      <th>FOOD_DINING</th>\n",
       "      <td>47150</td>\n",
       "      <td>68</td>\n",
       "      <td>0.144221</td>\n",
       "    </tr>\n",
       "    <tr>\n",
       "      <th>GAS_TRANSPORT</th>\n",
       "      <td>67382</td>\n",
       "      <td>229</td>\n",
       "      <td>0.339853</td>\n",
       "    </tr>\n",
       "    <tr>\n",
       "      <th>GROCERY_NET</th>\n",
       "      <td>23475</td>\n",
       "      <td>57</td>\n",
       "      <td>0.242812</td>\n",
       "    </tr>\n",
       "    <tr>\n",
       "      <th>GROCERY_POS</th>\n",
       "      <td>62414</td>\n",
       "      <td>644</td>\n",
       "      <td>1.031820</td>\n",
       "    </tr>\n",
       "    <tr>\n",
       "      <th>HEALTH_FITNESS</th>\n",
       "      <td>43848</td>\n",
       "      <td>65</td>\n",
       "      <td>0.148239</td>\n",
       "    </tr>\n",
       "    <tr>\n",
       "      <th>HOME</th>\n",
       "      <td>63107</td>\n",
       "      <td>106</td>\n",
       "      <td>0.167969</td>\n",
       "    </tr>\n",
       "    <tr>\n",
       "      <th>KIDS_PETS</th>\n",
       "      <td>58463</td>\n",
       "      <td>109</td>\n",
       "      <td>0.186443</td>\n",
       "    </tr>\n",
       "    <tr>\n",
       "      <th>MISC_NET</th>\n",
       "      <td>32240</td>\n",
       "      <td>331</td>\n",
       "      <td>1.026675</td>\n",
       "    </tr>\n",
       "    <tr>\n",
       "      <th>MISC_POS</th>\n",
       "      <td>41019</td>\n",
       "      <td>95</td>\n",
       "      <td>0.231600</td>\n",
       "    </tr>\n",
       "    <tr>\n",
       "      <th>PERSONAL_CARE</th>\n",
       "      <td>46969</td>\n",
       "      <td>81</td>\n",
       "      <td>0.172454</td>\n",
       "    </tr>\n",
       "    <tr>\n",
       "      <th>SHOPPING_NET</th>\n",
       "      <td>49919</td>\n",
       "      <td>640</td>\n",
       "      <td>1.282077</td>\n",
       "    </tr>\n",
       "    <tr>\n",
       "      <th>SHOPPING_POS</th>\n",
       "      <td>59963</td>\n",
       "      <td>320</td>\n",
       "      <td>0.533662</td>\n",
       "    </tr>\n",
       "    <tr>\n",
       "      <th>TRAVEL</th>\n",
       "      <td>20670</td>\n",
       "      <td>50</td>\n",
       "      <td>0.241896</td>\n",
       "    </tr>\n",
       "    <tr>\n",
       "      <th>entertainment</th>\n",
       "      <td>48137</td>\n",
       "      <td>89</td>\n",
       "      <td>0.184889</td>\n",
       "    </tr>\n",
       "    <tr>\n",
       "      <th>food_dining</th>\n",
       "      <td>46557</td>\n",
       "      <td>70</td>\n",
       "      <td>0.150353</td>\n",
       "    </tr>\n",
       "    <tr>\n",
       "      <th>gas_transport</th>\n",
       "      <td>67229</td>\n",
       "      <td>226</td>\n",
       "      <td>0.336164</td>\n",
       "    </tr>\n",
       "    <tr>\n",
       "      <th>grocery_net</th>\n",
       "      <td>23729</td>\n",
       "      <td>56</td>\n",
       "      <td>0.235998</td>\n",
       "    </tr>\n",
       "    <tr>\n",
       "      <th>grocery_pos</th>\n",
       "      <td>62810</td>\n",
       "      <td>665</td>\n",
       "      <td>1.058749</td>\n",
       "    </tr>\n",
       "    <tr>\n",
       "      <th>health_fitness</th>\n",
       "      <td>44053</td>\n",
       "      <td>65</td>\n",
       "      <td>0.147550</td>\n",
       "    </tr>\n",
       "    <tr>\n",
       "      <th>home</th>\n",
       "      <td>62930</td>\n",
       "      <td>92</td>\n",
       "      <td>0.146194</td>\n",
       "    </tr>\n",
       "    <tr>\n",
       "      <th>kids_pets</th>\n",
       "      <td>57971</td>\n",
       "      <td>85</td>\n",
       "      <td>0.146625</td>\n",
       "    </tr>\n",
       "    <tr>\n",
       "      <th>misc_net</th>\n",
       "      <td>32441</td>\n",
       "      <td>350</td>\n",
       "      <td>1.078882</td>\n",
       "    </tr>\n",
       "    <tr>\n",
       "      <th>misc_pos</th>\n",
       "      <td>41104</td>\n",
       "      <td>106</td>\n",
       "      <td>0.257882</td>\n",
       "    </tr>\n",
       "    <tr>\n",
       "      <th>personal_care</th>\n",
       "      <td>46754</td>\n",
       "      <td>113</td>\n",
       "      <td>0.241691</td>\n",
       "    </tr>\n",
       "    <tr>\n",
       "      <th>shopping_net</th>\n",
       "      <td>49843</td>\n",
       "      <td>644</td>\n",
       "      <td>1.292057</td>\n",
       "    </tr>\n",
       "    <tr>\n",
       "      <th>shopping_pos</th>\n",
       "      <td>59977</td>\n",
       "      <td>291</td>\n",
       "      <td>0.485186</td>\n",
       "    </tr>\n",
       "    <tr>\n",
       "      <th>travel</th>\n",
       "      <td>20748</td>\n",
       "      <td>52</td>\n",
       "      <td>0.250627</td>\n",
       "    </tr>\n",
       "  </tbody>\n",
       "</table>\n",
       "</div>"
      ],
      "text/plain": [
       "is_fraud          0.0  1.0  fraud_rate\n",
       "category                              \n",
       "ENTERTAINMENT   47724   97    0.203252\n",
       "FOOD_DINING     47150   68    0.144221\n",
       "GAS_TRANSPORT   67382  229    0.339853\n",
       "GROCERY_NET     23475   57    0.242812\n",
       "GROCERY_POS     62414  644    1.031820\n",
       "HEALTH_FITNESS  43848   65    0.148239\n",
       "HOME            63107  106    0.167969\n",
       "KIDS_PETS       58463  109    0.186443\n",
       "MISC_NET        32240  331    1.026675\n",
       "MISC_POS        41019   95    0.231600\n",
       "PERSONAL_CARE   46969   81    0.172454\n",
       "SHOPPING_NET    49919  640    1.282077\n",
       "SHOPPING_POS    59963  320    0.533662\n",
       "TRAVEL          20670   50    0.241896\n",
       "entertainment   48137   89    0.184889\n",
       "food_dining     46557   70    0.150353\n",
       "gas_transport   67229  226    0.336164\n",
       "grocery_net     23729   56    0.235998\n",
       "grocery_pos     62810  665    1.058749\n",
       "health_fitness  44053   65    0.147550\n",
       "home            62930   92    0.146194\n",
       "kids_pets       57971   85    0.146625\n",
       "misc_net        32441  350    1.078882\n",
       "misc_pos        41104  106    0.257882\n",
       "personal_care   46754  113    0.241691\n",
       "shopping_net    49843  644    1.292057\n",
       "shopping_pos    59977  291    0.485186\n",
       "travel          20748   52    0.250627"
      ]
     },
     "execution_count": 16,
     "metadata": {},
     "output_type": "execute_result"
    }
   ],
   "source": [
    "cat_count_df = df2.groupby(['category', 'is_fraud'])['is_fraud'].count().unstack(fill_value=0)\n",
    "cat_count_df['fraud_rate'] = cat_count_df[1] / cat_count_df[0] * 100\n",
    "\n",
    "cat_count_df"
   ]
  },
  {
   "cell_type": "code",
   "execution_count": 17,
   "metadata": {},
   "outputs": [
    {
     "data": {
      "image/png": "[encoded data removed]",
      "text/plain": [
       "<Figure size 1080x360 with 1 Axes>"
      ]
     },
     "metadata": {
      "needs_background": "light"
     },
     "output_type": "display_data"
    }
   ],
   "source": [
    "plt.figure(figsize = (15, 5))\n",
    "plt.bar(cat_count_df.index, height = cat_count_df['fraud_rate'])\n",
    "plt.xticks(cat_count_df.index, rotation = 90)\n",
    "plt.axhline(y = 1, linestyle = '--', c = 'r')\n",
    "plt.xlabel('Cateogory')\n",
    "plt.ylabel('Fraud Ratio (%)')\n",
    "plt.title(\"Category vs Fraud Ratio\")\n",
    "plt.show()"
   ]
  },
  {
   "cell_type": "markdown",
   "metadata": {},
   "source": [
    "We can see that the categories that are more than 1% of frauds (red dashed line) are all either grocery shopping or internet (NET) purchases. "
   ]
  },
  {
   "cell_type": "markdown",
   "metadata": {},
   "source": []
  },
  {
   "cell_type": "markdown",
   "metadata": {},
   "source": []
  },
  {
   "cell_type": "markdown",
   "metadata": {},
   "source": []
  }
 ],
 "metadata": {
  "kernelspec": {
   "display_name": "Python 3",
   "language": "python",
   "name": "python3"
  },
  "language_info": {
   "codemirror_mode": {
    "name": "ipython",
    "version": 3
   },
   "file_extension": ".py",
   "mimetype": "text/x-python",
   "name": "python",
   "nbconvert_exporter": "python",
   "pygments_lexer": "ipython3",
   "version": "3.8.10"
  }
 },
 "nbformat": 4,
 "nbformat_minor": 2
}
