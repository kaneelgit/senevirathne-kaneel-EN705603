{
 "cells": [
  {
   "cell_type": "code",
   "execution_count": 1,
   "metadata": {},
   "outputs": [],
   "source": [
    "import numpy as np\n",
    "import os, sys\n",
    "import time\n",
    "import pandas as pd\n",
    "import matplotlib.pyplot as plt\n",
    "# Add the parent directory (one level up) to the Python path\n",
    "parent_dir = os.path.abspath(os.path.join(os.getcwd(), os.pardir))\n",
    "sys.path.insert(0, parent_dir)\n",
    "\n",
    "import pipeline\n",
    "from modules.content_based import ContentBasedFiltering\n",
    "from modules.rule_based import RuleBasedFiltering\n",
    "from modules.collaborative_filtering import CollaborativeFiltering\n",
    "from surprise import Dataset, SVD\n",
    "\n",
    "import warnings\n",
    "from sklearn.metrics import mean_squared_error\n",
    "# Suppress RuntimeWarnings for empty slices\n",
    "warnings.filterwarnings(\"ignore\", category=RuntimeWarning, message=\"Mean of empty slice\")\n"
   ]
  },
  {
   "cell_type": "code",
   "execution_count": 2,
   "metadata": {},
   "outputs": [],
   "source": [
    "#load the dataset\n",
    "pline = pipeline.Pipeline()\n",
    "cols = ['user', 'item', 'rating', 'timestamp']\n",
    "df = pline.load_dataset('../storage/u.data', column_names = cols)\n",
    "\n",
    "#show ratings dataset\n",
    "df.head(10)\n",
    "\n",
    "#temporal data partitioning\n",
    "train_data_temp, test_data_temp = pline.partition_data(df, partition_type = 'temporal')\n",
    "\n",
    "#save data to use in the functions\n",
    "train_data_temp.to_csv('../storage/u.data_train_temp', sep='\\t', header=False,index=False)\n",
    "test_data_temp.to_csv('../storage/u.data_test_temp', sep='\\t', header=False,index=False)"
   ]
  },
  {
   "cell_type": "markdown",
   "metadata": {},
   "source": [
    "### Rule Based Filtering ###\n",
    "\n",
    "Temporal test set results using rule based filtering."
   ]
  },
  {
   "cell_type": "code",
   "execution_count": 3,
   "metadata": {},
   "outputs": [],
   "source": [
    "#load model\n",
    "recommender = RuleBasedFiltering(\n",
    "    ratings_file='../storage/u.data_train_temp',\n",
    "    metadata_file='../storage/u.item'\n",
    ")"
   ]
  },
  {
   "cell_type": "code",
   "execution_count": 4,
   "metadata": {},
   "outputs": [],
   "source": [
    "#rule based filtering \n",
    "trs = []\n",
    "prs = []\n",
    "\n",
    "for _, row in test_data_temp.iterrows():\n",
    "    user_id, item_id, true_rating = row['user'], row['item'], row['rating']\n",
    "    try:\n",
    "        predicted_rating = recommender._predict(item_id)\n",
    "        trs.append(true_rating)\n",
    "        prs.append(predicted_rating)\n",
    "    except ValueError:\n",
    "        continue"
   ]
  },
  {
   "cell_type": "code",
   "execution_count": 5,
   "metadata": {},
   "outputs": [],
   "source": [
    "#data dict\n",
    "RMSE_Data = {}\n",
    "RMSE_Data['rule based'] = np.sqrt(mean_squared_error(trs, prs))"
   ]
  },
  {
   "cell_type": "markdown",
   "metadata": {},
   "source": [
    "### Content Based Filtering ###"
   ]
  },
  {
   "cell_type": "code",
   "execution_count": 6,
   "metadata": {},
   "outputs": [],
   "source": [
    "\n",
    "\n",
    "cb_recommender = ContentBasedFiltering(\n",
    "        ratings_file='../storage/u.data_train_temp',\n",
    "        metadata_file='../storage/u.item'\n",
    "    )"
   ]
  },
  {
   "cell_type": "code",
   "execution_count": 7,
   "metadata": {},
   "outputs": [],
   "source": [
    "#evaluate\n",
    "trs = []\n",
    "prs = []\n",
    "\n",
    "for _, row in test_data_temp.iterrows():\n",
    "    user_id, item_id, true_rating = row['user'], row['item'], row['rating']\n",
    "    try:\n",
    "        predicted_rating = 5 * cb_recommender.predict(user_id, item_id)\n",
    "        trs.append(true_rating)\n",
    "        prs.append(predicted_rating)\n",
    "    except:\n",
    "        pass"
   ]
  },
  {
   "cell_type": "code",
   "execution_count": 8,
   "metadata": {},
   "outputs": [],
   "source": [
    "RMSE_Data['content based'] = np.sqrt(mean_squared_error(trs, prs))"
   ]
  },
  {
   "cell_type": "markdown",
   "metadata": {},
   "source": [
    "### Collaborative Filtering ###"
   ]
  },
  {
   "cell_type": "code",
   "execution_count": 9,
   "metadata": {},
   "outputs": [],
   "source": [
    "svd_params = {'n_factors': 200, 'n_epochs': 100, 'lr_all': 0.01, 'reg_all': 0.1}\n",
    "recommender = CollaborativeFiltering(\n",
    "    ratings_file='../storage/u.data_train_temp',\n",
    "    metadata_file='../storage/u.item',\n",
    "    algorithm=SVD(**svd_params)\n",
    ")\n",
    "\n",
    "# Fit the model\n",
    "recommender.fit()"
   ]
  },
  {
   "cell_type": "code",
   "execution_count": 10,
   "metadata": {},
   "outputs": [],
   "source": [
    "#evaluate using the test set\n",
    "trs = []\n",
    "prs = []\n",
    "\n",
    "for _, row in test_data_temp.iterrows():\n",
    "    user_id, item_id, true_rating = row['user'], row['item'], row['rating']\n",
    "    try:\n",
    "        predicted_rating = recommender.predict(user_id, item_id)\n",
    "        trs.append(true_rating)\n",
    "        prs.append(predicted_rating)\n",
    "    except:\n",
    "        pass"
   ]
  },
  {
   "cell_type": "code",
   "execution_count": 11,
   "metadata": {},
   "outputs": [],
   "source": [
    "RMSE_Data['collaborative filtering'] = np.sqrt(mean_squared_error(trs, prs))"
   ]
  },
  {
   "cell_type": "code",
   "execution_count": 17,
   "metadata": {},
   "outputs": [
    {
     "data": {
      "image/png": "[encoded data removed]",
      "text/plain": [
       "<Figure size 800x500 with 1 Axes>"
      ]
     },
     "metadata": {},
     "output_type": "display_data"
    }
   ],
   "source": [
    "plt.figure(figsize = (8, 5))\n",
    "plt.bar(RMSE_Data.keys(), RMSE_Data.values())\n",
    "plt.xlabel('Model')\n",
    "plt.ylabel('RMSE')\n",
    "plt.title('RMSE error for the three models')\n",
    "plt.show()"
   ]
  },
  {
   "cell_type": "markdown",
   "metadata": {},
   "source": [
    "The chart compares the Root Mean Square Error (RMSE) of three recommendation models: rule-based, content-based, and collaborative filtering. Among these, the rule-based model shows moderate performance with a relatively low RMSE. This suggests that the simple rules it employs, such as averaging ratings by genre or overall popularity, can offer decent predictive accuracy. Its reliance on straightforward logic makes it robust in situations where user-specific interaction data is limited, but it may lack the ability to capture nuanced preferences.\n",
    "\n",
    "The content-based model performs the weakest, with the highest RMSE among the three. This indicates significant challenges in accurately predicting user ratings. Content-based filtering often relies heavily on item metadata (e.g., genres, features) and assumes that users will prefer items similar to those they previously interacted with. While this can work for users with rich interaction histories, the lack of personalization and generalization ability for sparse data leads to overfitting or inaccurate predictions, particularly for diverse user tastes.\n",
    "\n",
    "Collaborative filtering outperforms the other methods, with the lowest RMSE. Its strength lies in leveraging patterns in user-item interactions, capturing shared behaviors and preferences effectively, especially when sufficient data is available. This model excels because it incorporates community-level preferences, which allow it to generalize well to unseen items or users with similar habits. Based on these results, collaborative filtering should be the primary recommendation method. However, to further improve accuracy and address weaknesses in content-based and rule-based approaches, a hybrid system combining metadata and user interactions can provide a balanced and effective solution."
   ]
  },
  {
   "cell_type": "markdown",
   "metadata": {},
   "source": []
  }
 ],
 "metadata": {
  "kernelspec": {
   "display_name": "myvenv",
   "language": "python",
   "name": "python3"
  },
  "language_info": {
   "codemirror_mode": {
    "name": "ipython",
    "version": 3
   },
   "file_extension": ".py",
   "mimetype": "text/x-python",
   "name": "python",
   "nbconvert_exporter": "python",
   "pygments_lexer": "ipython3",
   "version": "3.8.10"
  }
 },
 "nbformat": 4,
 "nbformat_minor": 2
}
