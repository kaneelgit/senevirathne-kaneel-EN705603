{
 "cells": [
  {
   "cell_type": "code",
   "execution_count": 1,
   "metadata": {},
   "outputs": [],
   "source": [
    "\n",
    "import matplotlib.pyplot as plt\n",
    "import pandas as pd\n",
    "import numpy as np\n",
    "import random\n",
    "import time\n",
    "\n",
    "import os, sys\n",
    "import time\n",
    "import pandas as pd\n",
    "import matplotlib.pyplot as plt\n",
    "# Add the parent directory (one level up) to the Python path\n",
    "parent_dir = os.path.abspath(os.path.join(os.getcwd(), os.pardir))\n",
    "sys.path.insert(0, parent_dir)\n",
    "\n",
    "import pipeline"
   ]
  },
  {
   "cell_type": "code",
   "execution_count": 7,
   "metadata": {},
   "outputs": [],
   "source": [
    "from modules.adaptive.filters.collaborative import CollaborativeFiltering\n",
    "from modules.personalization.recommender import Recommender\n",
    "from surprise import SVD"
   ]
  },
  {
   "cell_type": "code",
   "execution_count": 8,
   "metadata": {},
   "outputs": [
    {
     "name": "stdout",
     "output_type": "stream",
     "text": [
      "   item     score\n",
      "0  1512  4.666960\n",
      "1   663  4.543419\n",
      "2  1449  4.532096\n",
      "3   483  4.507642\n",
      "4  1639  4.495263\n",
      "5   318  4.492092\n",
      "6   285  4.491241\n",
      "7   197  4.488740\n",
      "8    64  4.479587\n",
      "9   119  4.478748\n"
     ]
    }
   ],
   "source": [
    "svd_params = {\n",
    "    'n_factors': 200,\n",
    "    'n_epochs': 100,\n",
    "    'lr_all': 0.01,\n",
    "    'reg_all': 0.1\n",
    "}\n",
    "model = CollaborativeFiltering(\n",
    "    algorithm=SVD(**svd_params),\n",
    "    ratings_file='../storage/u.data',\n",
    "    metadata_file='../storage/u.item'\n",
    ")\n",
    "model.fit()\n",
    "\n",
    "recommender = Recommender(model=model)\n",
    "rankings = recommender.rank_items(user_id=196, top_n=10)\n",
    "print(rankings)"
   ]
  },
  {
   "cell_type": "code",
   "execution_count": null,
   "metadata": {},
   "outputs": [],
   "source": []
  }
 ],
 "metadata": {
  "kernelspec": {
   "display_name": "moviemateenv",
   "language": "python",
   "name": "myvenv"
  },
  "language_info": {
   "codemirror_mode": {
    "name": "ipython",
    "version": 3
   },
   "file_extension": ".py",
   "mimetype": "text/x-python",
   "name": "python",
   "nbconvert_exporter": "python",
   "pygments_lexer": "ipython3",
   "version": "3.8.10"
  }
 },
 "nbformat": 4,
 "nbformat_minor": 2
}
